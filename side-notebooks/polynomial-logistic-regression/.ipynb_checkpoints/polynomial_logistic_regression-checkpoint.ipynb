{
 "cells": [
  {
   "cell_type": "markdown",
   "id": "937774ca-c035-4735-89e3-24329ca5b036",
   "metadata": {},
   "source": [
    "### **D2APR: Aprendizado de Máquina e Reconhecimento de Padrões** (IFSP, Campinas) <br/>\n",
    "**Prof**: Samuel Martins (Samuka) <br/>\n",
    "\n",
    "\n",
    "<a rel=\"license\" href=\"http://creativecommons.org/licenses/by-nc-sa/4.0/\"><img alt=\"Creative Commons License\" style=\"border-width:0\" src=\"https://i.creativecommons.org/l/by-nc-sa/4.0/88x31.png\" /></a><br />This work is licensed under a <a rel=\"license\" href=\"http://creativecommons.org/licenses/by-nc-sa/4.0/\">Creative Commons Attribution-NonCommercial-ShareAlike 4.0 International License</a>. <br/><br/>"
   ]
  },
  {
   "cell_type": "code",
   "execution_count": null,
   "id": "cc59e9a8-5d31-49ee-b02e-47e3c079e942",
   "metadata": {},
   "outputs": [],
   "source": [
    "import pandas as pd\n",
    "import numpy as np\n",
    "import matplotlib.pyplot as plt\n",
    "import seaborn as sns\n",
    "\n",
    "sns.set_theme(style=\"whitegrid\")\n",
    "\n",
    "params = {'legend.fontsize': 'x-large',\n",
    "          'figure.figsize': (15, 5),\n",
    "         'axes.labelsize': 'x-large',\n",
    "         'axes.titlesize':'x-large',\n",
    "         'xtick.labelsize':'x-large',\n",
    "         'ytick.labelsize':'x-large'}\n",
    "plt.rcParams.update(params)"
   ]
  },
  {
   "cell_type": "code",
   "execution_count": null,
   "id": "c0cecff8-88b1-4902-b7ec-958228452d3a",
   "metadata": {},
   "outputs": [],
   "source": [
    "df = pd.read_csv('circular_data.csv')"
   ]
  },
  {
   "cell_type": "code",
   "execution_count": null,
   "id": "05deb01e-999d-44a6-8f96-2e27e07cf739",
   "metadata": {},
   "outputs": [],
   "source": [
    "df.head()"
   ]
  },
  {
   "cell_type": "code",
   "execution_count": null,
   "id": "79cc1fd4-c409-409c-a828-194f93126319",
   "metadata": {},
   "outputs": [],
   "source": [
    "plt.figure(figsize=(10,10))\n",
    "sns.scatterplot(data=df, x='x1', y='x2', hue='y')"
   ]
  },
  {
   "cell_type": "code",
   "execution_count": null,
   "id": "05a90cb6-f6f7-41a0-802d-ca00e8296f87",
   "metadata": {
    "tags": []
   },
   "outputs": [],
   "source": [
    "X_train = df[['x1', 'x2']].values\n",
    "y_train = df['y'].values"
   ]
  },
  {
   "cell_type": "markdown",
   "id": "ebe4782e-82b4-4d44-a267-eb304d4017d5",
   "metadata": {},
   "source": [
    "# Logistic Regression"
   ]
  },
  {
   "cell_type": "code",
   "execution_count": null,
   "id": "152c168d-997e-47c6-9c41-0c7f64c64725",
   "metadata": {},
   "outputs": [],
   "source": [
    "from sklearn.pipeline import Pipeline\n",
    "from sklearn.preprocessing import StandardScaler\n",
    "from sklearn.linear_model import LogisticRegression\n",
    "\n",
    "log_reg_clf = Pipeline([\n",
    "    (\"std_scaler\", StandardScaler()),\n",
    "    (\"log_reg\", LogisticRegression(random_state=42)),\n",
    "])\n",
    "\n",
    "log_reg_clf.fit(X_train, y_train)"
   ]
  },
  {
   "cell_type": "markdown",
   "id": "fb18a77b-7634-42f4-b9dd-97ec4356cf65",
   "metadata": {},
   "source": [
    "<span style='font-size: 20pt'>\n",
    "$\\theta_0 + \\theta_1 * x_1 + \\theta_2 * x_2 = 0$\n",
    "\n",
    "$\\theta_1 * x_1 + \\theta_2 * x_2 = -\\theta_0$\n",
    "    \n",
    "$x_2 = - (\\theta_0 + \\theta_1 * x_1) / \\theta_2$\n",
    "</span>"
   ]
  },
  {
   "cell_type": "code",
   "execution_count": null,
   "id": "56981e4a-9c38-467b-b433-5dd00b866ba2",
   "metadata": {},
   "outputs": [],
   "source": [
    "theta_0 = log_reg_clf.get_params()['log_reg'].intercept_[0]\n",
    "theta_1, theta_2 = log_reg_clf.get_params()['log_reg'].coef_[0]"
   ]
  },
  {
   "cell_type": "code",
   "execution_count": null,
   "id": "f7c8390e-a529-42e9-aeab-6909a1d9f946",
   "metadata": {},
   "outputs": [],
   "source": [
    "x1_db = np.random.uniform(X_train[:,0].min(), X_train[:,0].max()+0.01, 100)\n",
    "x2_db = -(theta_0 + (theta_1 * x1_db)) / theta_2"
   ]
  },
  {
   "cell_type": "code",
   "execution_count": null,
   "id": "852e04cf-4699-4afd-b0b5-67b4d328a2f8",
   "metadata": {},
   "outputs": [],
   "source": [
    "import plotly.express as px\n",
    "import plotly.graph_objects as go\n",
    "\n",
    "fig = px.scatter(x=X_train[:,0], y=X_train[:,1], color=y_train.astype('str'), color_discrete_sequence=px.colors.qualitative.T10)\n",
    "fig.add_trace(go.Scatter(x=x1_db, y=x2_db, mode='lines', name='Decision Boundary', marker_color='#FF5657'))\n",
    "\n",
    "fig.update_layout(title='Logistic Regression',\n",
    "                  xaxis_title='x1', yaxis_title='x2', width=700, height=600, template='plotly_white')\n",
    "fig.update_xaxes(range=[X_train.min() - 0.5, X_train.max() + 0.5])\n",
    "fig.update_yaxes(range=[X_train.min() - 0.5, X_train.max() + 0.5])\n",
    "\n",
    "fig.show()"
   ]
  },
  {
   "cell_type": "markdown",
   "id": "2db31f3e-3006-4651-b65a-1a1aaa252e65",
   "metadata": {},
   "source": [
    "# Polynomial Logistic Regression"
   ]
  },
  {
   "cell_type": "markdown",
   "id": "8e2435a1-098e-429b-a2ff-095590df50d4",
   "metadata": {},
   "source": [
    "## Degree = 2"
   ]
  },
  {
   "cell_type": "code",
   "execution_count": null,
   "id": "beba0881-6981-4258-811d-c00984e64f51",
   "metadata": {},
   "outputs": [],
   "source": [
    "from sklearn.pipeline import Pipeline\n",
    "from sklearn.preprocessing import PolynomialFeatures\n",
    "from sklearn.preprocessing import StandardScaler\n",
    "from sklearn.linear_model import LogisticRegression\n",
    "\n",
    "pol_log_reg_clf = Pipeline([\n",
    "    ('pol_feats', PolynomialFeatures(degree=2, include_bias=False)),\n",
    "    (\"std_scaler\", StandardScaler()),\n",
    "    (\"log_reg\", LogisticRegression(random_state=42)),\n",
    "])\n",
    "\n",
    "pol_log_reg_clf.fit(X_train, y_train)"
   ]
  },
  {
   "cell_type": "code",
   "execution_count": null,
   "id": "8e73825e-f447-4f82-86cf-1f8f5bacd5a6",
   "metadata": {},
   "outputs": [],
   "source": [
    "theta_0 = pol_log_reg_clf.get_params()['log_reg'].intercept_[0]\n",
    "theta_1, theta_2, theta_3, theta_4, theta_5 = pol_log_reg_clf.get_params()['log_reg'].coef_[0]"
   ]
  },
  {
   "cell_type": "code",
   "execution_count": null,
   "id": "dba0408b-1805-49d4-b55b-cc23ff239d58",
   "metadata": {},
   "outputs": [],
   "source": [
    "x1_model = np.linspace(X_train[:,0].min(), X_train[:,0].max(), 1000)\n",
    "x2_model = np.linspace(X_train[:,1].min(), X_train[:,1].max(), 1000)\n",
    "x1v, x2v = np.meshgrid(x1_model, x2_model)\n",
    "y_model = pol_log_reg_clf.predict_proba(np.array([x1v.ravel(), x2v.ravel()]).T)[:,1].reshape(x1v.shape)"
   ]
  },
  {
   "cell_type": "code",
   "execution_count": null,
   "id": "9d583101-f9ff-4713-bdea-695ace06b341",
   "metadata": {},
   "outputs": [],
   "source": [
    "# https://stackoverflow.com/a/53116010\n",
    "\n",
    "import plotly.graph_objects as go\n",
    "\n",
    "fig = go.Figure(data=[\n",
    "                    go.Scatter3d(x=X_train[:,0], y=X_train[:,1], z=y_train, mode='markers',\n",
    "                                marker=dict(size=6, color=y_train, colorscale=[[0, '#4C78A8'], [1, '#F58518']], opacity=0.8)),\n",
    "                    go.Surface(x=x1_model, y=x2_model, z=y_model),\n",
    "            ])\n",
    "\n",
    "\n",
    "fig.update_layout(title='Polynomial Logistic Regression',\n",
    "                  scene=dict(xaxis_title='x1', yaxis_title='x2', zaxis_title='y'), width=700, height=600, template='plotly_white')\n",
    "fig.update_xaxes(range=[X_train.min() - 0.5, X_train.max() + 0.5])\n",
    "fig.update_yaxes(range=[X_train.min() - 0.5, X_train.max() + 0.5])\n",
    "\n",
    "fig.show()"
   ]
  },
  {
   "cell_type": "code",
   "execution_count": null,
   "id": "24b26b65-f798-49c8-973f-148598dd6685",
   "metadata": {},
   "outputs": [],
   "source": [
    "mask = (y_model >= 0.495) & (y_model <= 0.505)\n",
    "x1_db = x1v[mask].ravel()\n",
    "x2_db = x2v[mask].ravel()"
   ]
  },
  {
   "cell_type": "code",
   "execution_count": null,
   "id": "ae9be469-1d84-42f3-a50b-aaf4ec7db922",
   "metadata": {},
   "outputs": [],
   "source": [
    "import plotly.express as px\n",
    "import plotly.graph_objects as go\n",
    "\n",
    "fig = px.scatter(x=X_train[:,0], y=X_train[:,1], color=y_train.astype('str'), color_discrete_sequence=px.colors.qualitative.T10)\n",
    "fig.add_trace(go.Scatter(x=x1_db, y=x2_db, mode='markers', name='Decision Boundary', marker_color='#FF5657'))\n",
    "\n",
    "fig.update_layout(title='Logistic Regression',\n",
    "                  xaxis_title='x1', yaxis_title='x2', width=700, height=600)\n",
    "fig.update_xaxes(range=[X_train.min() - 0.5, X_train.max() + 0.5])\n",
    "fig.update_yaxes(range=[X_train.min() - 0.5, X_train.max() + 0.5])\n",
    "\n",
    "fig.show()"
   ]
  },
  {
   "cell_type": "markdown",
   "id": "916787f9-0352-4299-8d32-67703a2f0034",
   "metadata": {},
   "source": [
    "## Degree = 50"
   ]
  },
  {
   "cell_type": "code",
   "execution_count": null,
   "id": "7372ec70-dbf8-4ab8-91b8-a8d6238d9444",
   "metadata": {},
   "outputs": [],
   "source": [
    "from sklearn.pipeline import Pipeline\n",
    "from sklearn.preprocessing import PolynomialFeatures\n",
    "from sklearn.preprocessing import StandardScaler\n",
    "from sklearn.linear_model import LogisticRegression\n",
    "\n",
    "pol_log_reg_clf = Pipeline([\n",
    "    ('pol_feats', PolynomialFeatures(degree=50, include_bias=False, interaction_only=False)),\n",
    "    (\"std_scaler\", StandardScaler()),\n",
    "    (\"log_reg\", LogisticRegression(random_state=42)),\n",
    "])\n",
    "\n",
    "pol_log_reg_clf.fit(X_train, y_train)"
   ]
  },
  {
   "cell_type": "code",
   "execution_count": null,
   "id": "656581f2-f909-43e7-b168-21d40e9e2e40",
   "metadata": {},
   "outputs": [],
   "source": [
    "x1_model = np.linspace(X_train[:,0].min(), X_train[:,0].max(), 500)\n",
    "x2_model = np.linspace(X_train[:,1].min(), X_train[:,1].max(), 500)\n",
    "x1v, x2v = np.meshgrid(x1_model, x2_model)\n",
    "y_model = pol_log_reg_clf.predict_proba(np.array([x1v.ravel(), x2v.ravel()]).T)[:,1].reshape(x1v.shape)"
   ]
  },
  {
   "cell_type": "code",
   "execution_count": null,
   "id": "cf8a78a0-7716-473f-a372-8cf9abeb76a1",
   "metadata": {},
   "outputs": [],
   "source": [
    "# https://stackoverflow.com/a/53116010\n",
    "\n",
    "import plotly.graph_objects as go\n",
    "\n",
    "fig = go.Figure(data=[\n",
    "                    go.Scatter3d(x=X_train[:,0], y=X_train[:,1], z=y_train, mode='markers',\n",
    "                                marker=dict(size=6, color=y_train, colorscale=[[0, '#4C78A8'], [1, '#F58518']], opacity=0.8)),\n",
    "                    go.Surface(x=x1_model, y=x2_model, z=y_model),\n",
    "            ])\n",
    "\n",
    "\n",
    "fig.update_layout(title='Polynomial Logistic Regression',\n",
    "                  scene=dict(xaxis_title='x1', yaxis_title='x2', zaxis_title='y'), width=700, height=600)\n",
    "fig.update_xaxes(range=[X_train.min() - 0.5, X_train.max() + 0.5])\n",
    "fig.update_yaxes(range=[X_train.min() - 0.5, X_train.max() + 0.5])\n",
    "\n",
    "fig.show()"
   ]
  },
  {
   "cell_type": "code",
   "execution_count": null,
   "id": "96b7b62f-f305-4481-a86d-1fc21a584a8f",
   "metadata": {},
   "outputs": [],
   "source": [
    "mask = (y_model >= 0.495) & (y_model <= 0.505)\n",
    "x1_db = x1v[mask].ravel()\n",
    "x2_db = x2v[mask].ravel()"
   ]
  },
  {
   "cell_type": "code",
   "execution_count": null,
   "id": "696238be-1255-41dd-b7db-bca484d745f2",
   "metadata": {},
   "outputs": [],
   "source": [
    "# I COULD NOT CORRECTLY PLOT THE DECISION BOUNDARY AS A LINE PLOT\n",
    "import plotly.express as px\n",
    "import plotly.graph_objects as go\n",
    "\n",
    "fig = px.scatter(x=X_train[:,0], y=X_train[:,1], color=y_train.astype('str'), color_discrete_sequence=px.colors.qualitative.T10)\n",
    "fig.add_trace(go.Scatter(x=x1_db, y=x2_db, mode='lines', name='Decision Boundary'))\n",
    "\n",
    "fig.update_layout(title='Logistic Regression',\n",
    "                  xaxis_title='x1', yaxis_title='x2', width=700, height=600)\n",
    "fig.update_xaxes(range=[X_train.min() - 0.5, X_train.max() + 0.5])\n",
    "fig.update_yaxes(range=[X_train.min() - 0.5, X_train.max() + 0.5])\n",
    "\n",
    "fig.show()"
   ]
  },
  {
   "cell_type": "code",
   "execution_count": null,
   "id": "6f8f14e1-08ee-4329-8cc9-a5af117d14c8",
   "metadata": {},
   "outputs": [],
   "source": [
    "# SO I PLOT SOME POINTS OVER THE DECISION BOUNDARY\n",
    "import plotly.express as px\n",
    "import plotly.graph_objects as go\n",
    "\n",
    "fig = px.scatter(x=X_train[:,0], y=X_train[:,1], color=y_train.astype('str'), color_discrete_sequence=px.colors.qualitative.T10)\n",
    "fig.add_trace(go.Scatter(x=x1_db, y=x2_db, mode='markers', name='Decision Boundary'))\n",
    "\n",
    "fig.update_layout(title='Logistic Regression',\n",
    "                  xaxis_title='x1', yaxis_title='x2', width=700, height=600)\n",
    "fig.update_xaxes(range=[X_train.min() - 0.5, X_train.max() + 0.5])\n",
    "fig.update_yaxes(range=[X_train.min() - 0.5, X_train.max() + 0.5])\n",
    "\n",
    "fig.show()"
   ]
  }
 ],
 "metadata": {
  "kernelspec": {
   "display_name": "Python 3",
   "language": "python",
   "name": "python3"
  },
  "language_info": {
   "codemirror_mode": {
    "name": "ipython",
    "version": 3
   },
   "file_extension": ".py",
   "mimetype": "text/x-python",
   "name": "python",
   "nbconvert_exporter": "python",
   "pygments_lexer": "ipython3",
   "version": "3.9.5"
  }
 },
 "nbformat": 4,
 "nbformat_minor": 5
}
