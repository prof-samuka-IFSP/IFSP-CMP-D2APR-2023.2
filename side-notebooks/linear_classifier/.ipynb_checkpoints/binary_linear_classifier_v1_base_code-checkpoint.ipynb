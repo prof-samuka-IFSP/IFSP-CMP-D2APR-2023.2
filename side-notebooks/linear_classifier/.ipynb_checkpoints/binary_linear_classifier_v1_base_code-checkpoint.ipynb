{
 "cells": [
  {
   "cell_type": "markdown",
   "id": "dee11e74-cdb3-437a-a24b-e15c760e1b7c",
   "metadata": {},
   "source": [
    "**D3APL: Aplicações em Ciência de Dados** <br/>\n",
    "IFSP Campinas\n",
    "\n",
    "Prof. Dr. Samuel Martins (Samuka) <br/><br/>\n",
    "\n",
    "<a rel=\"license\" href=\"http://creativecommons.org/licenses/by-nc-sa/4.0/\"><img alt=\"Creative Commons License\" style=\"border-width:0\" src=\"https://i.creativecommons.org/l/by-nc-sa/4.0/88x31.png\" /></a><br />This work is licensed under a <a rel=\"license\" href=\"http://creativecommons.org/licenses/by-nc-sa/4.0/\">Creative Commons Attribution-NonCommercial-ShareAlike 4.0 International License</a>."
   ]
  },
  {
   "cell_type": "markdown",
   "id": "f8ea0759-e8cf-4f80-834f-bd2c5cea6f83",
   "metadata": {},
   "source": [
    "# Implementing a Binary Linear Classifier"
   ]
  },
  {
   "cell_type": "markdown",
   "id": "a19a4d1f-c7a8-4056-a269-8f2b14185160",
   "metadata": {},
   "source": [
    "## Logistic Regression with GD"
   ]
  },
  {
   "cell_type": "markdown",
   "id": "48cb4010-e64a-46df-b3de-7a5b9547c538",
   "metadata": {},
   "source": [
    "PS: use the lecture slides to support your development."
   ]
  },
  {
   "cell_type": "markdown",
   "id": "6f9a910d-98d3-4bfa-8d86-e113e99845a9",
   "metadata": {},
   "source": [
    "## 1. Set up"
   ]
  },
  {
   "cell_type": "markdown",
   "id": "5f513a89-e309-4aae-8c70-5e5b3bf1d229",
   "metadata": {},
   "source": [
    "#### Imports"
   ]
  },
  {
   "cell_type": "code",
   "execution_count": null,
   "id": "4fd679ba-2fc2-4c54-af18-497b054c3342",
   "metadata": {},
   "outputs": [],
   "source": [
    "import numpy as np\n",
    "from sklearn.datasets import make_blobs\n",
    "from sklearn.model_selection import train_test_split\n",
    "import matplotlib.pyplot as plt"
   ]
  },
  {
   "cell_type": "markdown",
   "id": "fdffb2ff-9029-41ba-8489-97e99c5f3844",
   "metadata": {},
   "source": [
    "#### Creating fake data"
   ]
  },
  {
   "cell_type": "code",
   "execution_count": null,
   "id": "3d277432-237a-4e5f-b720-266d7e1d15d3",
   "metadata": {},
   "outputs": [],
   "source": [
    "# fake data for testing\n",
    "X, y = make_blobs(n_samples=1000, n_features=2, centers=2, cluster_std=1.5, random_state=42)\n",
    "\n",
    "print(X.shape)\n",
    "print(y.shape)\n",
    "print(f'Labels: {np.unique(y)}')"
   ]
  },
  {
   "cell_type": "code",
   "execution_count": null,
   "id": "7beb890c-5b31-4fbd-a024-975fbe2cb9cb",
   "metadata": {},
   "outputs": [],
   "source": [
    "# splitting into train and test\n"
   ]
  },
  {
   "cell_type": "code",
   "execution_count": null,
   "id": "4eea8835-0574-4aa7-b789-39e4635f98fc",
   "metadata": {},
   "outputs": [],
   "source": [
    "# feature scaling\n"
   ]
  },
  {
   "cell_type": "code",
   "execution_count": null,
   "id": "dbaa5aeb-c9ea-450c-955f-511de941be9e",
   "metadata": {},
   "outputs": [],
   "source": [
    "import seaborn as sns\n",
    "\n",
    "sns.scatterplot(x=X_train[:, 0], y=X_train[:, 1], hue=y_train)\n",
    "plt.xlabel('x1')\n",
    "plt.xlabel('x2')\n",
    "plt.title('Scatter plot: Training Samples')"
   ]
  },
  {
   "cell_type": "code",
   "execution_count": null,
   "id": "f2c30671-8dce-47c4-a7e1-997aa70f81ff",
   "metadata": {},
   "outputs": [],
   "source": [
    "import seaborn as sns\n",
    "\n",
    "sns.scatterplot(x=X_test[:, 0], y=X_test[:, 1], hue=y_test, marker='s')\n",
    "plt.xlabel('x1')\n",
    "plt.xlabel('x2')\n",
    "plt.title('Scatter plot: Testing Samples')"
   ]
  },
  {
   "cell_type": "markdown",
   "id": "48eaf3a2-0eaf-4e79-ac4c-732072eef097",
   "metadata": {},
   "source": [
    "#### Saving the fake preprocessed data"
   ]
  },
  {
   "cell_type": "code",
   "execution_count": null,
   "id": "df18b8be-9b45-4232-a532-7cd4c54c73c2",
   "metadata": {},
   "outputs": [],
   "source": [
    "np.save('./datasets/fake_train.npy', X_train)\n",
    "np.save('./datasets/fake_train_labels.npy', y_train)\n",
    "\n",
    "np.save('./datasets/fake_test.npy', X_test)\n",
    "np.save('./datasets/fake_test_labels.npy', y_test)"
   ]
  },
  {
   "cell_type": "markdown",
   "id": "c08365a0-6e2c-45e7-9f97-a29390b80829",
   "metadata": {},
   "source": [
    "## 2. Implementation\n",
    "### Plan of Attack\n",
    "- Class\n",
    "- Sklearn TemplateClassifier\n",
    "    - https://scikit-learn.org/stable/developers/develop.html\n",
    "    - https://github.com/scikit-learn-contrib/project-template/blob/a06bc1a701fbb320848e4d5295e4477b596078df/skltemplate/_template.py#L74\n",
    "    - https://scikit-learn.org/stable/modules/classes.html#base-classes\n",
    "- Constructor\n",
    "    - learning_rate, n_epochs\n",
    "- \\_\\_str\\_\\_\n",
    "- fit\n",
    "- sigmoid\n",
    "- log_loss\n",
    "- gradient\n",
    "- coef_, intercept_ (@property)\n",
    "- predict_proba\n",
    "- predict\n",
    "- visualize decision boundary"
   ]
  },
  {
   "cell_type": "code",
   "execution_count": null,
   "id": "5348e2f2-750f-4eaa-a200-56799c66a1f7",
   "metadata": {},
   "outputs": [],
   "source": [
    "from typing import Tuple\n",
    "\n",
    "import numpy as np\n",
    "from numpy import ndarray\n",
    "\n",
    "from sklearn.base import BaseEstimator, ClassifierMixin\n",
    "\n",
    "\n",
    "class LogisticRegression(ClassifierMixin, BaseEstimator):\n",
    "    \"\"\"Our Logistic Regression implemented from scratch.\"\"\"\n",
    "    \n",
    "    def __init__(self, learning_rate : float = 0.001,\n",
    "                 n_epochs : int = 1000, random_state : int = 42):\n",
    "        \"\"\"\n",
    "        Parameters\n",
    "        ----------\n",
    "        learning_rate : float, default=0.001\n",
    "            Learning rate.\n",
    "        n_epochs : int, default=1000\n",
    "            Number of epochs for training (convergence stop).\n",
    "        random_state : int, default=42\n",
    "            Seed used for generating random numbers.\n",
    "        \"\"\"\n",
    "        pass\n",
    "    \n",
    "    \n",
    "    # a special method used to represent a class object as a string, called with print() or str()\n",
    "    def __str__(self):\n",
    "        pass\n",
    "    \n",
    "\n",
    "\n",
    "    def fit(self, X: ndarray, y: ndarray, verbose: int = 0):\n",
    "        '''Train a Logistic Regression classifier.\n",
    "\n",
    "        Parameters\n",
    "        ----------\n",
    "        X: ndarray of shape (n_samples, n_features)\n",
    "            Training data.\n",
    "        y: ndarray of shape (n_samples,).\n",
    "            Target (true) labels.\n",
    "        verbose: int, default=0\n",
    "            Verbose flag. Print training information every `verbose` iterations.\n",
    "            \n",
    "        Returns\n",
    "        -------\n",
    "        self : object\n",
    "            Returns self.\n",
    "        '''\n",
    "        pass\n",
    "    \n",
    "        ### CHECK INPUT ARRAY DIMENSIONS\n",
    "        \n",
    "\n",
    "        ### SETTING SEED\n",
    "\n",
    "        ### PARAMETER INITIALIZATION\n",
    "        # return values from the “standard normal” distribution.\n",
    "\n",
    "        # LEARNING ITERATIONS\n",
    "\n",
    "\n",
    "        ### ASSIGN THE TRAINED PARAMETERS TO THE PRIVATE ATTRIBUTES\n",
    "        \n",
    "    \n",
    "    \n",
    "    def predict_proba(self, X: ndarray) -> ndarray:\n",
    "        '''Estimate the probability for the positive class of input samples.\n",
    "\n",
    "        Parameters\n",
    "        ----------\n",
    "        X: ndarray of shape (n_samples, n_features)\n",
    "            Input samples.\n",
    "            \n",
    "        Returns\n",
    "        -------\n",
    "        ndarray of shape (n_samples,)\n",
    "            The estimated probabilities for the positive class of input samples.\n",
    "        '''\n",
    "        pass\n",
    "\n",
    "    \n",
    "    def predict(self, X: ndarray) -> ndarray:\n",
    "        '''Predict the labels for input samples.\n",
    "        \n",
    "        Thresholding at probability >= 0.5.\n",
    "\n",
    "        Parameters\n",
    "        ----------\n",
    "        X: ndarray of shape (n_samples, n_features)\n",
    "            Input samples.\n",
    "            \n",
    "        Returns\n",
    "        -------\n",
    "        ndarray of shape (n_samples,)\n",
    "            Predicted labels of input samples.\n",
    "        '''\n",
    "        pass\n",
    "    \n",
    "    \n",
    "    "
   ]
  },
  {
   "cell_type": "markdown",
   "id": "ec792e21-85eb-47d9-b4bd-c3e5d2ae11fc",
   "metadata": {},
   "source": [
    "#### **Testing constructor and `__str__`**\n",
    "- evaluate the default hyperparameters\n",
    "- try different valid values for them\n",
    "- try invalid values for them"
   ]
  },
  {
   "cell_type": "code",
   "execution_count": null,
   "id": "36e59964-166c-4c7f-9d8c-66fba6a93eb8",
   "metadata": {},
   "outputs": [],
   "source": [
    "clf = LogisticRegression()\n",
    "\n",
    "print('Printing object by print()')\n",
    "print(clf)"
   ]
  },
  {
   "cell_type": "code",
   "execution_count": null,
   "id": "d3122037-8a2a-48b0-8d3c-024ecd549c60",
   "metadata": {},
   "outputs": [],
   "source": [
    "print('Displaying object')\n",
    "clf"
   ]
  },
  {
   "cell_type": "markdown",
   "id": "d56df44b-20ad-4676-bff4-f178bb4489ac",
   "metadata": {},
   "source": [
    "#### **Testing sigmoid**\n",
    "PS: convert the method to a public static method, by using @staticmethod, and removing the prefix __ and paramater self."
   ]
  },
  {
   "cell_type": "code",
   "execution_count": null,
   "id": "ace0ee81-2550-4b8b-8bcb-ea310b4054da",
   "metadata": {},
   "outputs": [],
   "source": [
    "z = 0.458"
   ]
  },
  {
   "cell_type": "code",
   "execution_count": null,
   "id": "cc7a4b5a-efa8-43bc-b2d7-e581f7b26391",
   "metadata": {},
   "outputs": [],
   "source": [
    "# scipy\n"
   ]
  },
  {
   "cell_type": "code",
   "execution_count": null,
   "id": "bb50391c-75de-4aac-848c-22ec01b3b5e2",
   "metadata": {},
   "outputs": [],
   "source": [
    "# our sigmoid function\n"
   ]
  },
  {
   "cell_type": "markdown",
   "id": "8214739e-7b4b-4143-b689-736de6296c41",
   "metadata": {},
   "source": [
    "#### **Testing log loss**\n",
    "PS: convert the method to a public static method, by using @staticmethod, and removing the prefix __ and paramater self."
   ]
  },
  {
   "cell_type": "code",
   "execution_count": null,
   "id": "4f39aaff-a853-476c-a950-e6ccd3eb4cd4",
   "metadata": {},
   "outputs": [],
   "source": [
    "y_debug = np.array([0, 0, 1, 1])\n",
    "p_hat_debug = np.array([0, 0.25, 0.5, 1])"
   ]
  },
  {
   "cell_type": "code",
   "execution_count": null,
   "id": "74d3cf9e-351a-46ee-9af5-01dc50efa9ca",
   "metadata": {},
   "outputs": [],
   "source": [
    "# sklearn\n"
   ]
  },
  {
   "cell_type": "code",
   "execution_count": null,
   "id": "42611858-df19-47d3-ba9e-f5a6fcb236ee",
   "metadata": {},
   "outputs": [],
   "source": [
    "# our log loss\n"
   ]
  },
  {
   "cell_type": "markdown",
   "id": "44e5d17b-2768-461e-ae77-d7bbde61a660",
   "metadata": {},
   "source": [
    "#### **Testing input conditions in `fit()`**"
   ]
  },
  {
   "cell_type": "code",
   "execution_count": null,
   "id": "793d9d3f-05a1-4c12-90d7-e46f9cf56299",
   "metadata": {},
   "outputs": [],
   "source": [
    "clf = LogisticRegression()"
   ]
  },
  {
   "cell_type": "code",
   "execution_count": null,
   "id": "b44a3939-9908-4fe2-b728-8f6706d23e6d",
   "metadata": {},
   "outputs": [],
   "source": [
    "# invalid ndim for X\n"
   ]
  },
  {
   "cell_type": "code",
   "execution_count": null,
   "id": "c109ad47-aaa0-4cf1-b374-ca989f047a5d",
   "metadata": {},
   "outputs": [],
   "source": [
    "# different n_samples for X and y\n",
    "clf.fit(X_debug, y_debug)"
   ]
  },
  {
   "cell_type": "markdown",
   "id": "f67c9723-b041-4d3f-91d3-d422002267d9",
   "metadata": {},
   "source": [
    "#### **Testing `fit()`**\n",
    "PS: use `pdb.set_trace()` inside the main loop of `fit()` for debugging."
   ]
  },
  {
   "cell_type": "code",
   "execution_count": null,
   "id": "0865c631-e18a-489b-955d-4fe5b385d2ec",
   "metadata": {},
   "outputs": [],
   "source": []
  },
  {
   "cell_type": "code",
   "execution_count": null,
   "id": "583b2fca-fc37-4454-b9cc-776129ddc2eb",
   "metadata": {},
   "outputs": [],
   "source": []
  },
  {
   "cell_type": "markdown",
   "id": "22987d9d-a0f1-4ba7-abdd-a45ccd989348",
   "metadata": {},
   "source": [
    "#### **Visualizing the Decision Boundary**"
   ]
  },
  {
   "cell_type": "markdown",
   "id": "39f99cab-7627-4812-b4f5-5af3f1474262",
   "metadata": {},
   "source": [
    "$w_1x_1 + w_2x_2 + b = 0$\n",
    "\n",
    "$x_2 = -(b + w_1x_1)/w_2$"
   ]
  },
  {
   "cell_type": "code",
   "execution_count": null,
   "id": "af6231a9-13a0-4259-94a8-4587ba8ea809",
   "metadata": {},
   "outputs": [],
   "source": [
    "b = clf.intercept_\n",
    "w1, w2 = clf.coef_"
   ]
  },
  {
   "cell_type": "code",
   "execution_count": null,
   "id": "ea7c89d5-3366-4a67-99f0-44da5d837975",
   "metadata": {},
   "outputs": [],
   "source": [
    "x1_decision_line = np.array([X_train[:,0].min(), X_train[:,0].max()])\n",
    "x2_decision_line = -(b + (w1 * x1_decision_line)) / w2"
   ]
  },
  {
   "cell_type": "code",
   "execution_count": null,
   "id": "bf783982-dc3e-4736-81d5-3561ddd2bb0c",
   "metadata": {},
   "outputs": [],
   "source": [
    "import matplotlib.pyplot as plt\n",
    "import seaborn as sns\n",
    "\n",
    "sns.scatterplot(x=X_train[:, 0], y=X_train[:, 1], hue=y_train)\n",
    "sns.lineplot(x=x1_decision_line, y=x2_decision_line, color='lightseagreen')\n",
    "plt.xlabel('x1')\n",
    "plt.xlabel('x2')\n",
    "plt.title('Decision Boundary on Training Samples')"
   ]
  },
  {
   "cell_type": "code",
   "execution_count": null,
   "id": "7f0ce598-48a0-4d7a-8af6-60740d5ef4f7",
   "metadata": {},
   "outputs": [],
   "source": [
    "import matplotlib.pyplot as plt\n",
    "import seaborn as sns\n",
    "\n",
    "sns.scatterplot(x=X_test[:, 0], y=X_test[:, 1], hue=y_test, marker='s')\n",
    "sns.lineplot(x=x1_decision_line, y=x2_decision_line, color='lightseagreen')\n",
    "plt.xlabel('x1')\n",
    "plt.xlabel('x2')\n",
    "plt.title('Decision Boundary on Testing Samples')"
   ]
  },
  {
   "cell_type": "markdown",
   "id": "ceae544a-d74f-4875-ba9e-d53b91998aad",
   "metadata": {},
   "source": [
    "### Prediction"
   ]
  },
  {
   "cell_type": "code",
   "execution_count": null,
   "id": "45dd4e0a-4bdb-4d13-a3cd-c5eea2fea313",
   "metadata": {},
   "outputs": [],
   "source": []
  },
  {
   "cell_type": "code",
   "execution_count": null,
   "id": "1bbcba3a-872a-4827-9ee8-076337bc2e64",
   "metadata": {},
   "outputs": [],
   "source": []
  },
  {
   "cell_type": "markdown",
   "id": "042ec052-cf14-445b-8b3c-4942df44038b",
   "metadata": {},
   "source": [
    "## Using our model inside Sklearn environment\n",
    "Since we designed our linear classifier by following the sklearn standard, we can use our model with all sklearn environment."
   ]
  },
  {
   "cell_type": "markdown",
   "id": "4675e2e4-2832-46b4-ab11-c1e6bb1614d6",
   "metadata": {},
   "source": [
    "### Fine-tuning our model"
   ]
  },
  {
   "cell_type": "code",
   "execution_count": null,
   "id": "bab0ee0e-4d71-4cec-aa25-6427b5ff06a2",
   "metadata": {},
   "outputs": [],
   "source": []
  },
  {
   "cell_type": "code",
   "execution_count": null,
   "id": "fb09bc19-66d9-4a44-a499-c9c772ef737e",
   "metadata": {},
   "outputs": [],
   "source": []
  },
  {
   "cell_type": "code",
   "execution_count": null,
   "id": "1965a642-58a0-4ee0-a3a0-59f5c3e9b412",
   "metadata": {},
   "outputs": [],
   "source": []
  },
  {
   "cell_type": "code",
   "execution_count": null,
   "id": "21c53a1b-2219-467d-9118-5c58fe2b5be0",
   "metadata": {},
   "outputs": [],
   "source": []
  },
  {
   "cell_type": "code",
   "execution_count": null,
   "id": "3eafc33b-4244-45f4-8d02-aefb0c168d61",
   "metadata": {},
   "outputs": [],
   "source": []
  },
  {
   "cell_type": "markdown",
   "id": "8f2d2b1d-b24f-447b-b2f7-6b68a9c96334",
   "metadata": {},
   "source": [
    "### Using our model within a Pipeline"
   ]
  },
  {
   "cell_type": "code",
   "execution_count": null,
   "id": "e227c08c-da29-4b72-a4bf-1d15a33acc4e",
   "metadata": {},
   "outputs": [],
   "source": [
    "# splitting into train and test\n",
    "X_train, X_test, y_train, y_test = train_test_split(X, y, test_size=0.2, random_state=42)"
   ]
  },
  {
   "cell_type": "code",
   "execution_count": null,
   "id": "f9e18195-b1bb-42f9-bd36-eaaab6f51e91",
   "metadata": {},
   "outputs": [],
   "source": []
  },
  {
   "cell_type": "code",
   "execution_count": null,
   "id": "d40cadd1-2fe6-4973-b424-f8358e5a7409",
   "metadata": {},
   "outputs": [],
   "source": []
  },
  {
   "cell_type": "code",
   "execution_count": null,
   "id": "41d812a2-1ff9-41d9-9337-8e4710db1db4",
   "metadata": {},
   "outputs": [],
   "source": []
  },
  {
   "cell_type": "code",
   "execution_count": null,
   "id": "87cea83b-329c-459a-8eed-6575eaf18af5",
   "metadata": {},
   "outputs": [],
   "source": []
  },
  {
   "cell_type": "code",
   "execution_count": null,
   "id": "d2cf4f90-3ab7-47ef-9554-2729ac0918e7",
   "metadata": {},
   "outputs": [],
   "source": []
  },
  {
   "cell_type": "code",
   "execution_count": null,
   "id": "573722fd-b5b1-40e2-b822-6efbe0d69fde",
   "metadata": {},
   "outputs": [],
   "source": []
  },
  {
   "cell_type": "code",
   "execution_count": null,
   "id": "5e641991-c4f5-467e-b5f9-5c63f43696ae",
   "metadata": {},
   "outputs": [],
   "source": [
    "# automatic pipeline\n"
   ]
  },
  {
   "cell_type": "code",
   "execution_count": null,
   "id": "e218f365-2149-4e65-82c7-4d6dc41a8003",
   "metadata": {},
   "outputs": [],
   "source": [
    "# manual pipeline\n"
   ]
  },
  {
   "cell_type": "markdown",
   "id": "f3a28ce6-8a2b-4483-b318-99747f39ab95",
   "metadata": {},
   "source": [
    "# Exercise\n",
    "Evaluate our classifier with the **Breast Cancer dataset**, [avaible on sklearn](https://scikit-learn.org/stable/modules/generated/sklearn.datasets.load_breast_cancer.html#sklearn.datasets.load_breast_cancer).\n",
    "\n",
    "Suggestion for the experiments:\n",
    "- Fix a given seed (random_state) for reproducibility\n",
    "- Use 80% of the data for training, and 20% for testing - stratified sample\n",
    "- Compared methods:\n",
    "    - Our implementation with default parameters\n",
    "    - Our implementation after fine-tuning the `learning_rate` and `n_epochs`\n",
    "    - [LogisticRegression from sklearn](https://scikit-learn.org/stable/modules/generated/sklearn.linear_model.LogisticRegression.html) (which is not implemented with Grad. Descent)\n",
    "    - [SGDClassifier](https://scikit-learn.org/stable/modules/generated/sklearn.linear_model.SGDClassifier.html#sklearn.linear_model.SGDClassifier.fit) with default parameters\n",
    "- Compute (at least) the F1-scores"
   ]
  },
  {
   "cell_type": "markdown",
   "id": "cb260502-989b-4b7b-9e15-7f63408300aa",
   "metadata": {},
   "source": [
    "**PS:** Only optimize our method against the default (non-optimized) baselines is not a fair comparison. One should also optimize at least the main hyperparameters from the baselines for a more fair comparison. But, this is a simple exercise! Don't worry about that."
   ]
  },
  {
   "cell_type": "code",
   "execution_count": null,
   "id": "18d432f0-5d91-40d9-9de6-d292ea41c070",
   "metadata": {},
   "outputs": [],
   "source": []
  }
 ],
 "metadata": {
  "kernelspec": {
   "display_name": "Python 3",
   "language": "python",
   "name": "python3"
  },
  "language_info": {
   "codemirror_mode": {
    "name": "ipython",
    "version": 3
   },
   "file_extension": ".py",
   "mimetype": "text/x-python",
   "name": "python",
   "nbconvert_exporter": "python",
   "pygments_lexer": "ipython3",
   "version": "3.8.5"
  }
 },
 "nbformat": 4,
 "nbformat_minor": 5
}
