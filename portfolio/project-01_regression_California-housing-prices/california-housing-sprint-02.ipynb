{
 "cells": [
  {
   "cell_type": "markdown",
   "id": "australian-blind",
   "metadata": {},
   "source": [
    "### **D2APR: Aprendizado de Máquina e Reconhecimento de Padrões** (IFSP, Campinas) <br/>\n",
    "**Prof**: Samuel Martins (Samuka) <br/>\n",
    "\n",
    "<a rel=\"license\" href=\"http://creativecommons.org/licenses/by-nc-sa/4.0/\"><img alt=\"Creative Commons License\" style=\"border-width:0\" src=\"https://i.creativecommons.org/l/by-nc-sa/4.0/88x31.png\" /></a><br />This work is licensed under a <a rel=\"license\" href=\"http://creativecommons.org/licenses/by-nc-sa/4.0/\">Creative Commons Attribution-NonCommercial-ShareAlike 4.0 International License</a>. <br/><br/>"
   ]
  },
  {
   "cell_type": "markdown",
   "id": "natural-software",
   "metadata": {},
   "source": [
    "#### Custom CSS style"
   ]
  },
  {
   "cell_type": "code",
   "execution_count": null,
   "id": "appointed-beaver",
   "metadata": {
    "tags": []
   },
   "outputs": [],
   "source": [
    "%%html\n",
    "<style>\n",
    ".dashed-box {\n",
    "    border: 1px dashed black !important;\n",
    "#    font-size: var(--jp-content-font-size1) !important;\n",
    "}\n",
    "\n",
    ".dashed-box table {\n",
    "\n",
    "}\n",
    "\n",
    ".dashed-box tr {\n",
    "    background-color: white !important;\n",
    "}\n",
    "        \n",
    ".alt-tab {\n",
    "    background-color: black;\n",
    "    color: #ffc351;\n",
    "    padding: 4px;\n",
    "    font-size: 1em;\n",
    "    font-weight: bold;\n",
    "    font-family: monospace;\n",
    "}\n",
    "// add your CSS styling here\n",
    "</style>"
   ]
  },
  {
   "cell_type": "markdown",
   "id": "rapid-contract",
   "metadata": {},
   "source": [
    "<span style='font-size: 2.5em'><b>California Housing 🏡</b></span><br/>\n",
    "<span style='font-size: 1.5em'>Predict the median housing price in California districts</span>\n",
    "\n",
    "<span style=\"background-color: #ffc351; padding: 4px; font-size: 1em;\"><b>Sprint #2</b></span>\n",
    "\n",
    "<img src=\"./imgs/california-flag.png\" width=300/>\n",
    "\n",
    "---\n",
    "\n"
   ]
  },
  {
   "cell_type": "markdown",
   "id": "excess-worth",
   "metadata": {},
   "source": [
    "## Before starting this notebook\n",
    "This jupyter notebook is designed for **experimental and teaching purposes**. <br/>\n",
    "Although it is (relatively) well organized, it aims at solving the _target problem_ by evaluating (and documenting) _different solutions_ for somes steps of the **machine learning pipeline** — see the ***Machine Learning Project Checklist by xavecoding***. <br/>\n",
    "We tried to make this notebook as literally a _notebook_. Thus, it contains notes, drafts, comments, etc.<br/>\n",
    "\n",
    "For teaching purposes, some parts of the notebook may be _overcommented_. Moreover, to simulate a real development scenario, we will divide our solution and experiments into **\"sprints\"** in which each sprint has some goals (e.g., perform _feature selection_, train more ML models, ...). <br/>\n",
    "The **sprint goal** will be stated at the beginning of the notebook.\n",
    "\n",
    "A ***final notebook*** (or any other kind of presentation) that compiles and summarizes all sprints — the target problem, solutions, and findings — should be created later.\n",
    "\n",
    "#### Conventions\n",
    "\n",
    "<ul>\n",
    "    <li>💡 indicates a tip. </li>\n",
    "    <li> ⚠️ indicates a warning message. </li>\n",
    "    <li><span class='alt-tab'>alt tab</span> indicates and an extra content (<i>e.g.</i>, slides) to explain a given concept.</li>\n",
    "</ul>\n",
    "\n",
    "---"
   ]
  },
  {
   "cell_type": "markdown",
   "id": "independent-cloud",
   "metadata": {},
   "source": [
    "## 🎯 Sprint Goals\n",
    "- Remove outliers (those with capped values)\n",
    "- Run the remaining steps of Sprint #1\n",
    "---"
   ]
  },
  {
   "cell_type": "markdown",
   "id": "sound-steps",
   "metadata": {},
   "source": [
    "### 0. Imports and default settings for plotting"
   ]
  },
  {
   "cell_type": "code",
   "execution_count": null,
   "id": "antique-territory",
   "metadata": {
    "tags": []
   },
   "outputs": [],
   "source": [
    "import numpy as np\n",
    "import pandas as pd\n",
    "import matplotlib.pyplot as plt\n",
    "import seaborn as sns\n",
    "\n",
    "sns.set_theme(style=\"whitegrid\")\n",
    "\n",
    "params = {'legend.fontsize': 'x-large',\n",
    "          'figure.figsize': (15, 5),\n",
    "         'axes.labelsize': 'x-large',\n",
    "         'axes.titlesize':'x-large',\n",
    "         'xtick.labelsize':'x-large',\n",
    "         'ytick.labelsize':'x-large'}\n",
    "plt.rcParams.update(params)"
   ]
  },
  {
   "cell_type": "markdown",
   "id": "rapid-background",
   "metadata": {},
   "source": [
    "## 💽 2. Get the Data"
   ]
  },
  {
   "cell_type": "markdown",
   "id": "short-harbor",
   "metadata": {},
   "source": [
    "### 2.2. Load the Data"
   ]
  },
  {
   "cell_type": "code",
   "execution_count": null,
   "id": "cordless-parallel",
   "metadata": {
    "tags": []
   },
   "outputs": [],
   "source": [
    "import pandas as pd\n",
    "\n",
    "housing = pd.read_csv('./datasets/housing.csv')"
   ]
  },
  {
   "cell_type": "code",
   "execution_count": null,
   "id": "answering-making",
   "metadata": {
    "tags": []
   },
   "outputs": [],
   "source": [
    "housing.head()"
   ]
  },
  {
   "cell_type": "markdown",
   "id": "hawaiian-heath",
   "metadata": {},
   "source": [
    "### 2.3. Take a quick look at the data structure"
   ]
  },
  {
   "cell_type": "code",
   "execution_count": null,
   "id": "portable-halloween",
   "metadata": {
    "tags": []
   },
   "outputs": [],
   "source": [
    "housing.info()"
   ]
  },
  {
   "cell_type": "code",
   "execution_count": null,
   "id": "spiritual-preference",
   "metadata": {
    "tags": []
   },
   "outputs": [],
   "source": [
    "# plot a histogram for each numeric attibute from the dataframe\n",
    "housing.hist(bins=50, figsize=(20,15))\n",
    "display()  # just to avoid texts in the notebook output"
   ]
  },
  {
   "cell_type": "markdown",
   "id": "floating-aspect",
   "metadata": {},
   "source": [
    "### 2.4. Create a **`Test Set`**"
   ]
  },
  {
   "cell_type": "markdown",
   "id": "norwegian-grave",
   "metadata": {},
   "source": [
    "### Removing outliers with capped values\n",
    "By looking at the charts above, we can see that the `housing_median_age` and the `median_house_value` has many **capped values** located at their maximum."
   ]
  },
  {
   "cell_type": "markdown",
   "id": "seven-enterprise",
   "metadata": {},
   "source": [
    "#### **`housing_median_age`**"
   ]
  },
  {
   "cell_type": "code",
   "execution_count": null,
   "id": "silver-smart",
   "metadata": {
    "tags": []
   },
   "outputs": [],
   "source": [
    "housing['housing_median_age'].describe()"
   ]
  },
  {
   "cell_type": "code",
   "execution_count": null,
   "id": "detected-hopkins",
   "metadata": {
    "tags": []
   },
   "outputs": [],
   "source": [
    "mask = housing['housing_median_age'] > 48\n",
    "housing.loc[mask, 'housing_median_age'].value_counts()"
   ]
  },
  {
   "cell_type": "code",
   "execution_count": null,
   "id": "centered-namibia",
   "metadata": {
    "tags": []
   },
   "outputs": [],
   "source": [
    "sns.histplot(data=housing[mask], x='housing_median_age')"
   ]
  },
  {
   "cell_type": "markdown",
   "id": "empty-wilson",
   "metadata": {},
   "source": [
    "There are many instances with `housing_median_age` equals to **52**."
   ]
  },
  {
   "cell_type": "markdown",
   "id": "established-promotion",
   "metadata": {},
   "source": [
    "#### **`median_house_value`**"
   ]
  },
  {
   "cell_type": "code",
   "execution_count": null,
   "id": "ranking-shelf",
   "metadata": {
    "tags": []
   },
   "outputs": [],
   "source": [
    "housing['median_house_value'].describe()"
   ]
  },
  {
   "cell_type": "code",
   "execution_count": null,
   "id": "relevant-anniversary",
   "metadata": {
    "tags": []
   },
   "outputs": [],
   "source": [
    "mask = housing['median_house_value'] > 480000\n",
    "housing.loc[mask, 'median_house_value'].value_counts()"
   ]
  },
  {
   "cell_type": "code",
   "execution_count": null,
   "id": "agreed-australia",
   "metadata": {
    "tags": []
   },
   "outputs": [],
   "source": [
    "sns.histplot(data=housing[mask], x='median_house_value')"
   ]
  },
  {
   "cell_type": "markdown",
   "id": "specified-sampling",
   "metadata": {},
   "source": [
    "##### **Removing the outliers**"
   ]
  },
  {
   "cell_type": "code",
   "execution_count": null,
   "id": "soviet-enclosure",
   "metadata": {
    "tags": []
   },
   "outputs": [],
   "source": [
    "housing_raw = housing.copy()"
   ]
  },
  {
   "cell_type": "code",
   "execution_count": null,
   "id": "acoustic-commissioner",
   "metadata": {
    "tags": []
   },
   "outputs": [],
   "source": [
    "no_outlier_mask = (housing['housing_median_age'] < 52) & (housing['median_house_value'] < 500001)\n",
    "housing = housing[no_outlier_mask].copy()"
   ]
  },
  {
   "cell_type": "code",
   "execution_count": null,
   "id": "likely-rebate",
   "metadata": {
    "tags": []
   },
   "outputs": [],
   "source": [
    "housing.info()"
   ]
  },
  {
   "cell_type": "markdown",
   "id": "italic-albuquerque",
   "metadata": {},
   "source": [
    "### Segmenting samples by their `median income`"
   ]
  },
  {
   "cell_type": "code",
   "execution_count": null,
   "id": "colonial-youth",
   "metadata": {},
   "outputs": [],
   "source": [
    "housing['median_income_group'] = pd.cut(housing['median_income'], bins=[0., 1.5, 3.0, 4.5, 6., np.inf], labels=[1, 2, 3, 4, 5], include_lowest=True)\n",
    "housing['median_income_group']"
   ]
  },
  {
   "cell_type": "code",
   "execution_count": null,
   "id": "sitting-criterion",
   "metadata": {},
   "outputs": [],
   "source": [
    "housing['median_income_group'].value_counts()"
   ]
  },
  {
   "cell_type": "code",
   "execution_count": null,
   "id": "undefined-think",
   "metadata": {},
   "outputs": [],
   "source": [
    "# proportional of the groups in the entire dataset\n",
    "housing['median_income_group'].value_counts() / len(housing['median_income_group'])"
   ]
  },
  {
   "cell_type": "code",
   "execution_count": null,
   "id": "incredible-galaxy",
   "metadata": {},
   "outputs": [],
   "source": [
    "plt.figure(figsize=(8, 6))\n",
    "sns.histplot(housing['median_income_group'])\n",
    "plt.grid(True)"
   ]
  },
  {
   "cell_type": "markdown",
   "id": "single-cursor",
   "metadata": {},
   "source": [
    "### Stratified Sampling"
   ]
  },
  {
   "cell_type": "code",
   "execution_count": null,
   "id": "historic-valuation",
   "metadata": {},
   "outputs": [],
   "source": [
    "from sklearn.model_selection import train_test_split\n",
    "\n",
    "housing_train, housing_test = train_test_split(housing, test_size=0.2, stratify=housing['median_income_group'], random_state=42)"
   ]
  },
  {
   "cell_type": "code",
   "execution_count": null,
   "id": "laughing-dispute",
   "metadata": {},
   "outputs": [],
   "source": [
    "housing_train.head()"
   ]
  },
  {
   "cell_type": "code",
   "execution_count": null,
   "id": "grave-statement",
   "metadata": {},
   "outputs": [],
   "source": [
    "housing_train.shape"
   ]
  },
  {
   "cell_type": "code",
   "execution_count": null,
   "id": "behind-wayne",
   "metadata": {},
   "outputs": [],
   "source": [
    "# proportion of the groups in the training set\n",
    "housing_train['median_income_group'].value_counts() / len(housing_train['median_income_group'])"
   ]
  },
  {
   "cell_type": "code",
   "execution_count": null,
   "id": "deadly-sally",
   "metadata": {},
   "outputs": [],
   "source": [
    "housing_test.head()"
   ]
  },
  {
   "cell_type": "code",
   "execution_count": null,
   "id": "attempted-sender",
   "metadata": {},
   "outputs": [],
   "source": [
    "housing_test.shape"
   ]
  },
  {
   "cell_type": "code",
   "execution_count": null,
   "id": "superior-intranet",
   "metadata": {},
   "outputs": [],
   "source": [
    "# proportion of the groups in the testing set\n",
    "housing_test['median_income_group'].value_counts() / len(housing_test['median_income_group'])"
   ]
  },
  {
   "cell_type": "code",
   "execution_count": null,
   "id": "involved-three",
   "metadata": {},
   "outputs": [],
   "source": [
    "# removing the attribute 'median_income_group'\n",
    "housing_train = housing_train.drop(columns=['median_income_group'])\n",
    "housing_test = housing_test.drop(columns=['median_income_group'])"
   ]
  },
  {
   "cell_type": "markdown",
   "id": "legislative-greenhouse",
   "metadata": {},
   "source": [
    "#### **Saving datasets**"
   ]
  },
  {
   "cell_type": "code",
   "execution_count": null,
   "id": "distant-lunch",
   "metadata": {},
   "outputs": [],
   "source": [
    "# if you want to keep the reference for the row indices from the original dataset, remove the index=False\n",
    "housing_train.to_csv('./datasets/housing_train_sprint-2.csv', index=False)\n",
    "housing_test.to_csv('./datasets/housing_test_sprint-2.csv', index=False)"
   ]
  },
  {
   "cell_type": "markdown",
   "id": "sacred-interstate",
   "metadata": {},
   "source": [
    "## 🧹 3. Data Cleaning"
   ]
  },
  {
   "cell_type": "markdown",
   "id": "alpha-counter",
   "metadata": {},
   "source": [
    "### 3.1. Missing values"
   ]
  },
  {
   "cell_type": "code",
   "execution_count": null,
   "id": "informational-prototype",
   "metadata": {},
   "outputs": [],
   "source": [
    "housing_train.info()"
   ]
  },
  {
   "cell_type": "code",
   "execution_count": null,
   "id": "alternate-variance",
   "metadata": {},
   "outputs": [],
   "source": [
    "# missing the `total_bedrooms` values with its median\n",
    "\n",
    "housing_train_clean = housing_train.copy()\n",
    "\n",
    "median_total_bedrooms = housing_train_clean['total_bedrooms'].median()\n",
    "housing_train_clean['total_bedrooms'].fillna(median_total_bedrooms, inplace=True)"
   ]
  },
  {
   "cell_type": "code",
   "execution_count": null,
   "id": "musical-wireless",
   "metadata": {},
   "outputs": [],
   "source": [
    "housing_train_clean.info()"
   ]
  },
  {
   "cell_type": "markdown",
   "id": "broke-future",
   "metadata": {},
   "source": [
    "## 📊 4. Explore the Data\n",
    "We next perform a _simple exploratory data analysis (EDA)_ to gain insights about the data. <br/>\n",
    "A more complete EDA with hypotheses about the problem should be further elaborated. "
   ]
  },
  {
   "cell_type": "markdown",
   "id": "correct-personal",
   "metadata": {},
   "source": [
    "### 4.1. Visualizing Geographical Data"
   ]
  },
  {
   "cell_type": "code",
   "execution_count": null,
   "id": "desirable-builder",
   "metadata": {},
   "outputs": [],
   "source": [
    "### To install plotly\n",
    "# pip install plotly\n",
    "# jupyter labextension install jupyterlab-plotly\n",
    "\n",
    "### Plotly Maps\n",
    "# https://plotly.com/python/scattermapbox/\n",
    "# To plot on Mapbox maps with Plotly you may need a Mapbox account and a public Mapbox Access Token - https://www.mapbox.com/studio\n",
    "\n",
    "import plotly.express as px\n",
    "\n",
    "px.set_mapbox_access_token('pk.eyJ1IjoiY2llbmNpYWRlZGFkb3NpZnNwY2FtcGluYXMiLCJhIjoiY2tzcW9sNTRhMGR2bzJ1cGcxNTI1bWppdiJ9.4TJwkUhuLIt-2nH0YudsMg')\n",
    "fig = px.scatter_mapbox(housing_train_clean, lat=\"latitude\", lon=\"longitude\", color=\"median_house_value\", size=\"population\",\n",
    "                        color_continuous_scale=px.colors.sequential.Viridis, size_max=15, zoom=5, width=1000, height=800)\n",
    "fig.show()"
   ]
  },
  {
   "cell_type": "markdown",
   "id": "chicken-intervention",
   "metadata": {},
   "source": [
    "When removing the most expensive houses in the dataset -- those with *capped values* at \\\\$ 500,001.00 -- our map has changed just a little bit, nothing to worry.\n",
    "\n",
    "The (obvious) findings keep the same:\n",
    "- There small and big districts (in term of population) close and far from the coast\n",
    "- The most expensive houses are very close to the coast"
   ]
  },
  {
   "cell_type": "markdown",
   "id": "prompt-video",
   "metadata": {},
   "source": [
    "### 4.2. Looking for Correlations"
   ]
  },
  {
   "cell_type": "code",
   "execution_count": null,
   "id": "spectacular-reviewer",
   "metadata": {},
   "outputs": [],
   "source": [
    "# plotting the correlation coeficients as a heatmap\n",
    "plt.figure(figsize=(16, 6))\n",
    "mask = np.triu(np.ones_like(housing_train_clean.corr(), dtype=np.bool))  # creates a triangular matrix based on the pandas correlation matrix\n",
    "\n",
    "heatmap = sns.heatmap(housing_train_clean.corr(), mask=mask, vmin=-1, vmax=1, annot=True, cmap='BrBG')\n",
    "heatmap.set_title('Triangle Correlation Heatmap', fontdict={'fontsize':18}, pad=16);"
   ]
  },
  {
   "cell_type": "code",
   "execution_count": null,
   "id": "structured-antique",
   "metadata": {},
   "outputs": [],
   "source": [
    "housing_train_clean.corr()[\"median_house_value\"].sort_values(ascending=False)"
   ]
  },
  {
   "cell_type": "markdown",
   "id": "relative-queue",
   "metadata": {},
   "source": [
    "The correlation has slightly changed. The _most promising attribute_ to predict the `median house value` keeps being the **`median income`**."
   ]
  },
  {
   "cell_type": "code",
   "execution_count": null,
   "id": "round-mercy",
   "metadata": {},
   "outputs": [],
   "source": [
    "plt.figure(figsize=(15, 8))\n",
    "sns.lmplot(data=housing_train_clean, x=\"median_income\", y=\"median_house_value\", aspect=2, height=8, scatter_kws={'alpha': 0.3}, line_kws={'color': 'r'})\n",
    "plt.yticks(range(0, 700001, 25000))\n",
    "plt.grid(True)\n",
    "plt.title('Median income vs Median house value')\n",
    "display()"
   ]
  },
  {
   "cell_type": "markdown",
   "id": "grave-movement",
   "metadata": {},
   "source": [
    "This plot is better than that from Sprint #1.\n",
    "\n",
    "Some findings:\n",
    "- The _correlation_ is **strong**: see the regression line and the _upward trend_\n",
    "- There is a horizontal line around \\\\$350,000, another around \\\\$450,000, perhaps a few more.\n",
    "  - You may want to try removing the corresponding districts to prevent your algorithms from learning to reproduce these data quirks.\n",
    "  - For now, we will not remove them."
   ]
  },
  {
   "cell_type": "code",
   "execution_count": null,
   "id": "light-sperm",
   "metadata": {},
   "outputs": [],
   "source": [
    "# Zoom in the stats for the target outcome\n",
    "housing_train_clean['median_house_value'].describe()"
   ]
  },
  {
   "cell_type": "markdown",
   "id": "tamil-german",
   "metadata": {},
   "source": [
    "## 🛠️ 5. Prepare the Data"
   ]
  },
  {
   "cell_type": "code",
   "execution_count": null,
   "id": "scientific-cherry",
   "metadata": {},
   "outputs": [],
   "source": [
    "housing_train_clean.head()"
   ]
  },
  {
   "cell_type": "markdown",
   "id": "collaborative-affiliate",
   "metadata": {},
   "source": [
    "#### **Separating the independent variables (features) and the _dependent variable_ (target outcome)**"
   ]
  },
  {
   "cell_type": "code",
   "execution_count": null,
   "id": "desperate-recommendation",
   "metadata": {},
   "outputs": [],
   "source": [
    "housing_train_pre = housing_train_clean.drop(columns=['median_house_value'])\n",
    "housing_train_target = housing_train_clean['median_house_value'].copy()"
   ]
  },
  {
   "cell_type": "markdown",
   "id": "sublime-contrary",
   "metadata": {},
   "source": [
    "<table align=\"left\" class=\"dashed-box\">\n",
    "<tr>\n",
    "    <td>⚠️</td>\n",
    "    <td>Remember to merge the <i>features</i> and the <i>target outcome</i> into a single dataframe before saving it to disk.</td>\n",
    "</tr>\n",
    "</table><br/><br/>"
   ]
  },
  {
   "cell_type": "markdown",
   "id": "flexible-frontier",
   "metadata": {},
   "source": [
    "### 5.1. Categorical Variabel Encoding"
   ]
  },
  {
   "cell_type": "code",
   "execution_count": null,
   "id": "natural-elder",
   "metadata": {},
   "outputs": [],
   "source": [
    "# one hot encoding by pandas\n",
    "housing_train_pre = pd.get_dummies(data=housing_train_pre, columns=['ocean_proximity'])\n",
    "housing_train_pre.head()"
   ]
  },
  {
   "cell_type": "markdown",
   "id": "creative-standard",
   "metadata": {},
   "source": [
    "#### **Saving the pre-processed training set**"
   ]
  },
  {
   "cell_type": "code",
   "execution_count": null,
   "id": "separate-saturday",
   "metadata": {},
   "outputs": [],
   "source": [
    "housing_train_pre_saving = housing_train_pre.copy()\n",
    "housing_train_pre_saving['median_house_value'] = housing_train_target\n",
    "housing_train_pre_saving.to_csv('./datasets/housing_train_pre_sprint-2.csv', index=False)"
   ]
  },
  {
   "cell_type": "markdown",
   "id": "insured-minority",
   "metadata": {},
   "source": [
    "## 🏋️‍♀️ 6. Train ML Algorithms"
   ]
  },
  {
   "cell_type": "markdown",
   "id": "exotic-firmware",
   "metadata": {},
   "source": [
    "### 6.1. Getting the independent (features) and dependent variables (outcome)"
   ]
  },
  {
   "cell_type": "code",
   "execution_count": null,
   "id": "civic-doctor",
   "metadata": {},
   "outputs": [],
   "source": [
    "X_train = housing_train_pre.values\n",
    "y_train = housing_train_target.values"
   ]
  },
  {
   "cell_type": "markdown",
   "id": "diverse-winner",
   "metadata": {},
   "source": [
    "### 6.1. Training the Models"
   ]
  },
  {
   "cell_type": "code",
   "execution_count": null,
   "id": "norwegian-limitation",
   "metadata": {},
   "outputs": [],
   "source": [
    "from sklearn.linear_model import LinearRegression\n",
    "\n",
    "linear_regressor = LinearRegression()  # default parameters\n",
    "linear_regressor.fit(X_train, y_train)"
   ]
  },
  {
   "cell_type": "markdown",
   "id": "japanese-spending",
   "metadata": {},
   "source": [
    "### 6.3. Evaluating on the Training Set"
   ]
  },
  {
   "cell_type": "markdown",
   "id": "champion-dressing",
   "metadata": {},
   "source": [
    "### **Prediction**"
   ]
  },
  {
   "cell_type": "code",
   "execution_count": null,
   "id": "raised-hotel",
   "metadata": {},
   "outputs": [],
   "source": [
    "y_train_pred = linear_regressor.predict(X_train)"
   ]
  },
  {
   "cell_type": "markdown",
   "id": "romantic-verse",
   "metadata": {},
   "source": [
    "#### **Evaluation**"
   ]
  },
  {
   "cell_type": "code",
   "execution_count": null,
   "id": "allied-latex",
   "metadata": {},
   "outputs": [],
   "source": [
    "r2_score = linear_regressor.score(X_train, y_train)\n",
    "print(f'R² = {r2_score}')"
   ]
  },
  {
   "cell_type": "code",
   "execution_count": null,
   "id": "breathing-fifty",
   "metadata": {},
   "outputs": [],
   "source": [
    "from sklearn.metrics import mean_squared_error\n",
    "\n",
    "rmse = mean_squared_error(y_train, y_train_pred, squared=False)\n",
    "print(f'RMSE = {rmse}')"
   ]
  },
  {
   "cell_type": "markdown",
   "id": "intensive-opposition",
   "metadata": {},
   "source": [
    "Although the RMSE has decreased (\\\\$58,689) compared to the Sprint #1 (\\\\$69,050), the current model *is not necessarily better*. <br/>\n",
    "The reason is that we now have a _smaller dataset_ that has generated _different_ training and testing sets from Sprint #1.\n",
    "\n",
    "However, we still have a high error on the training set, which indicates **underfitting**."
   ]
  },
  {
   "cell_type": "markdown",
   "id": "existing-niagara",
   "metadata": {},
   "source": [
    "### **Visual Analysis**"
   ]
  },
  {
   "cell_type": "markdown",
   "id": "overhead-knock",
   "metadata": {},
   "source": [
    "##### **Prediction vs Real**"
   ]
  },
  {
   "cell_type": "code",
   "execution_count": null,
   "id": "least-rainbow",
   "metadata": {},
   "outputs": [],
   "source": [
    "sns.scatterplot(x=y_train_pred, y=y_train)\n",
    "plt.xlabel('Prediction')\n",
    "plt.ylabel('Real')\n",
    "plt.title('Median housing value - Prediction vs Real')"
   ]
  },
  {
   "cell_type": "markdown",
   "id": "grave-sudan",
   "metadata": {},
   "source": [
    "##### **Residual Analysis**\n",
    "Plot of Prediction vs Residual. This analysis is interesting because we can detect if we meet the assumption of **homoscedasticity**.\n",
    "\n",
    "<img src='./imgs/residual-analysis.png' width=600/>"
   ]
  },
  {
   "cell_type": "code",
   "execution_count": null,
   "id": "optional-central",
   "metadata": {},
   "outputs": [],
   "source": [
    "residual = y_train - y_train_pred"
   ]
  },
  {
   "cell_type": "code",
   "execution_count": null,
   "id": "electronic-butterfly",
   "metadata": {},
   "outputs": [],
   "source": [
    "sns.scatterplot(x=y_train_pred, y=residual)\n",
    "plt.xlabel('Prediction')\n",
    "plt.ylabel('Residual')\n",
    "plt.title('Median housing value - Prediction vs Residual')"
   ]
  },
  {
   "cell_type": "markdown",
   "id": "handled-dining",
   "metadata": {},
   "source": [
    "we have removed that diagonal top line in this plot. However, the model still **does not** meet the **homoscedasticity**."
   ]
  },
  {
   "cell_type": "code",
   "execution_count": null,
   "id": "historical-highlight",
   "metadata": {},
   "outputs": [],
   "source": [
    "sns.histplot(residual)"
   ]
  },
  {
   "cell_type": "markdown",
   "id": "surgical-complaint",
   "metadata": {},
   "source": [
    "The residual keeps roghly following a _normal distribution_."
   ]
  }
 ],
 "metadata": {
  "kernelspec": {
   "display_name": "Python 3 (ipykernel)",
   "language": "python",
   "name": "python3"
  },
  "language_info": {
   "codemirror_mode": {
    "name": "ipython",
    "version": 3
   },
   "file_extension": ".py",
   "mimetype": "text/x-python",
   "name": "python",
   "nbconvert_exporter": "python",
   "pygments_lexer": "ipython3",
   "version": "3.9.5"
  }
 },
 "nbformat": 4,
 "nbformat_minor": 5
}
