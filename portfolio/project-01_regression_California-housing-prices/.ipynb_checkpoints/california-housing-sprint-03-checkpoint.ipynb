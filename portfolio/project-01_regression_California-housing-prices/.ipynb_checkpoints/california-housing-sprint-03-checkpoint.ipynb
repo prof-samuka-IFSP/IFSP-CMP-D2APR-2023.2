{
 "cells": [
  {
   "cell_type": "markdown",
   "id": "spatial-aberdeen",
   "metadata": {},
   "source": [
    "### **D2APR: Aprendizado de Máquina e Reconhecimento de Padrões** (IFSP, Campinas) <br/>\n",
    "**Prof**: Samuel Martins (Samuka) <br/>\n",
    "\n",
    "<a rel=\"license\" href=\"http://creativecommons.org/licenses/by-nc-sa/4.0/\"><img alt=\"Creative Commons License\" style=\"border-width:0\" src=\"https://i.creativecommons.org/l/by-nc-sa/4.0/88x31.png\" /></a><br />This work is licensed under a <a rel=\"license\" href=\"http://creativecommons.org/licenses/by-nc-sa/4.0/\">Creative Commons Attribution-NonCommercial-ShareAlike 4.0 International License</a>. <br/><br/>"
   ]
  },
  {
   "cell_type": "markdown",
   "id": "addressed-telephone",
   "metadata": {},
   "source": [
    "#### Custom CSS style"
   ]
  },
  {
   "cell_type": "code",
   "execution_count": 1,
   "id": "applicable-norwegian",
   "metadata": {
    "tags": []
   },
   "outputs": [
    {
     "data": {
      "text/html": [
       "<style>\n",
       ".dashed-box {\n",
       "    border: 1px dashed black !important;\n",
       "#    font-size: var(--jp-content-font-size1) !important;\n",
       "}\n",
       "\n",
       ".dashed-box table {\n",
       "\n",
       "}\n",
       "\n",
       ".dashed-box tr {\n",
       "    background-color: white !important;\n",
       "}\n",
       "        \n",
       ".alt-tab {\n",
       "    background-color: black;\n",
       "    color: #ffc351;\n",
       "    padding: 4px;\n",
       "    font-size: 1em;\n",
       "    font-weight: bold;\n",
       "    font-family: monospace;\n",
       "}\n",
       "// add your CSS styling here\n",
       "</style>\n"
      ],
      "text/plain": [
       "<IPython.core.display.HTML object>"
      ]
     },
     "metadata": {},
     "output_type": "display_data"
    }
   ],
   "source": [
    "%%html\n",
    "<style>\n",
    ".dashed-box {\n",
    "    border: 1px dashed black !important;\n",
    "#    font-size: var(--jp-content-font-size1) !important;\n",
    "}\n",
    "\n",
    ".dashed-box table {\n",
    "\n",
    "}\n",
    "\n",
    ".dashed-box tr {\n",
    "    background-color: white !important;\n",
    "}\n",
    "        \n",
    ".alt-tab {\n",
    "    background-color: black;\n",
    "    color: #ffc351;\n",
    "    padding: 4px;\n",
    "    font-size: 1em;\n",
    "    font-weight: bold;\n",
    "    font-family: monospace;\n",
    "}\n",
    "// add your CSS styling here\n",
    "</style>"
   ]
  },
  {
   "cell_type": "markdown",
   "id": "minute-shift",
   "metadata": {},
   "source": [
    "<span style='font-size: 2.5em'><b>California Housing 🏡</b></span><br/>\n",
    "<span style='font-size: 1.5em'>Predict the median housing price in California districts</span>\n",
    "\n",
    "<span style=\"background-color: #ffc351; padding: 4px; font-size: 1em;\"><b>Sprint #3</b></span>\n",
    "\n",
    "<img src=\"./imgs/california-flag.png\" width=300/>\n",
    "\n",
    "---\n",
    "\n"
   ]
  },
  {
   "cell_type": "markdown",
   "id": "honest-seminar",
   "metadata": {},
   "source": [
    "## Before starting this notebook\n",
    "This jupyter notebook is designed for **experimental and teaching purposes**. <br/>\n",
    "Although it is (relatively) well organized, it aims at solving the _target problem_ by evaluating (and documenting) _different solutions_ for somes steps of the **machine learning pipeline** — see the ***Machine Learning Project Checklist by xavecoding***. <br/>\n",
    "We tried to make this notebook as literally a _notebook_. Thus, it contains notes, drafts, comments, etc.<br/>\n",
    "\n",
    "For teaching purposes, some parts of the notebook may be _overcommented_. Moreover, to simulate a real development scenario, we will divide our solution and experiments into **\"sprints\"** in which each sprint has some goals (e.g., perform _feature selection_, train more ML models, ...). <br/>\n",
    "The **sprint goal** will be stated at the beginning of the notebook.\n",
    "\n",
    "A ***final notebook*** (or any other kind of presentation) that compiles and summarizes all sprints — the target problem, solutions, and findings — should be created later.\n",
    "\n",
    "#### Conventions\n",
    "\n",
    "<ul>\n",
    "    <li>💡 indicates a tip. </li>\n",
    "    <li> ⚠️ indicates a warning message. </li>\n",
    "    <li><span class='alt-tab'>alt tab</span> indicates and an extra content (<i>e.g.</i>, slides) to explain a given concept.</li>\n",
    "</ul>\n",
    "\n",
    "---"
   ]
  },
  {
   "cell_type": "markdown",
   "id": "cooperative-engineering",
   "metadata": {},
   "source": [
    "## 🎯 Sprint Goals\n",
    "- Add new features\n",
    "- Normalize the data\n",
    "- Add a new model: Decision Tree Regression\n",
    "---"
   ]
  },
  {
   "cell_type": "markdown",
   "id": "august-wiring",
   "metadata": {},
   "source": [
    "### 0. Imports and default settings for plotting"
   ]
  },
  {
   "cell_type": "code",
   "execution_count": 2,
   "id": "reflected-shock",
   "metadata": {},
   "outputs": [],
   "source": [
    "import numpy as np\n",
    "import pandas as pd\n",
    "import matplotlib.pyplot as plt\n",
    "import seaborn as sns\n",
    "\n",
    "sns.set_theme(style=\"whitegrid\")\n",
    "\n",
    "params = {'legend.fontsize': 'x-large',\n",
    "          'figure.figsize': (15, 5),\n",
    "         'axes.labelsize': 'x-large',\n",
    "         'axes.titlesize':'x-large',\n",
    "         'xtick.labelsize':'x-large',\n",
    "         'ytick.labelsize':'x-large'}\n",
    "plt.rcParams.update(params)"
   ]
  },
  {
   "cell_type": "markdown",
   "id": "accredited-offense",
   "metadata": {},
   "source": [
    "## 💽 2. Get the Data\n",
    "In the previous sprint, we have removed outliers from the entire dataset, split it into training and testing set, and preprocessed the training set (by fillin in missing values for `total_bedrooms`.) <br/>\n",
    "Both preprocessed training set and (raw) testing set were _saved to disk_. Let's use them here."
   ]
  },
  {
   "cell_type": "markdown",
   "id": "sorted-firewall",
   "metadata": {},
   "source": [
    "### 2.2. Load the Data"
   ]
  },
  {
   "cell_type": "code",
   "execution_count": 3,
   "id": "apparent-primary",
   "metadata": {},
   "outputs": [],
   "source": [
    "import pandas as pd\n",
    "\n",
    "housing_train_pre = pd.read_csv('./datasets/housing_train_pre_sprint-2.csv')  # preprocessed train set\n",
    "housing_test = pd.read_csv('./datasets/housing_test_sprint-2.csv')"
   ]
  },
  {
   "cell_type": "code",
   "execution_count": 4,
   "id": "spectacular-albert",
   "metadata": {},
   "outputs": [
    {
     "data": {
      "text/html": [
       "<div>\n",
       "<style scoped>\n",
       "    .dataframe tbody tr th:only-of-type {\n",
       "        vertical-align: middle;\n",
       "    }\n",
       "\n",
       "    .dataframe tbody tr th {\n",
       "        vertical-align: top;\n",
       "    }\n",
       "\n",
       "    .dataframe thead th {\n",
       "        text-align: right;\n",
       "    }\n",
       "</style>\n",
       "<table border=\"1\" class=\"dataframe\">\n",
       "  <thead>\n",
       "    <tr style=\"text-align: right;\">\n",
       "      <th></th>\n",
       "      <th>longitude</th>\n",
       "      <th>latitude</th>\n",
       "      <th>housing_median_age</th>\n",
       "      <th>total_rooms</th>\n",
       "      <th>total_bedrooms</th>\n",
       "      <th>population</th>\n",
       "      <th>households</th>\n",
       "      <th>median_income</th>\n",
       "      <th>ocean_proximity_&lt;1H OCEAN</th>\n",
       "      <th>ocean_proximity_INLAND</th>\n",
       "      <th>ocean_proximity_ISLAND</th>\n",
       "      <th>ocean_proximity_NEAR BAY</th>\n",
       "      <th>ocean_proximity_NEAR OCEAN</th>\n",
       "      <th>median_house_value</th>\n",
       "    </tr>\n",
       "  </thead>\n",
       "  <tbody>\n",
       "    <tr>\n",
       "      <th>0</th>\n",
       "      <td>-121.37</td>\n",
       "      <td>37.06</td>\n",
       "      <td>25.0</td>\n",
       "      <td>474.0</td>\n",
       "      <td>92.0</td>\n",
       "      <td>300.0</td>\n",
       "      <td>104.0</td>\n",
       "      <td>3.8062</td>\n",
       "      <td>0</td>\n",
       "      <td>1</td>\n",
       "      <td>0</td>\n",
       "      <td>0</td>\n",
       "      <td>0</td>\n",
       "      <td>340900.0</td>\n",
       "    </tr>\n",
       "    <tr>\n",
       "      <th>1</th>\n",
       "      <td>-118.39</td>\n",
       "      <td>34.14</td>\n",
       "      <td>19.0</td>\n",
       "      <td>5076.0</td>\n",
       "      <td>1034.0</td>\n",
       "      <td>2021.0</td>\n",
       "      <td>960.0</td>\n",
       "      <td>5.5683</td>\n",
       "      <td>1</td>\n",
       "      <td>0</td>\n",
       "      <td>0</td>\n",
       "      <td>0</td>\n",
       "      <td>0</td>\n",
       "      <td>309200.0</td>\n",
       "    </tr>\n",
       "    <tr>\n",
       "      <th>2</th>\n",
       "      <td>-122.07</td>\n",
       "      <td>37.41</td>\n",
       "      <td>26.0</td>\n",
       "      <td>1184.0</td>\n",
       "      <td>225.0</td>\n",
       "      <td>815.0</td>\n",
       "      <td>218.0</td>\n",
       "      <td>5.7657</td>\n",
       "      <td>0</td>\n",
       "      <td>0</td>\n",
       "      <td>0</td>\n",
       "      <td>1</td>\n",
       "      <td>0</td>\n",
       "      <td>322300.0</td>\n",
       "    </tr>\n",
       "    <tr>\n",
       "      <th>3</th>\n",
       "      <td>-121.92</td>\n",
       "      <td>36.57</td>\n",
       "      <td>42.0</td>\n",
       "      <td>3944.0</td>\n",
       "      <td>738.0</td>\n",
       "      <td>1374.0</td>\n",
       "      <td>598.0</td>\n",
       "      <td>4.1740</td>\n",
       "      <td>0</td>\n",
       "      <td>0</td>\n",
       "      <td>0</td>\n",
       "      <td>0</td>\n",
       "      <td>1</td>\n",
       "      <td>394400.0</td>\n",
       "    </tr>\n",
       "    <tr>\n",
       "      <th>4</th>\n",
       "      <td>-118.36</td>\n",
       "      <td>33.82</td>\n",
       "      <td>36.0</td>\n",
       "      <td>1083.0</td>\n",
       "      <td>187.0</td>\n",
       "      <td>522.0</td>\n",
       "      <td>187.0</td>\n",
       "      <td>5.7765</td>\n",
       "      <td>1</td>\n",
       "      <td>0</td>\n",
       "      <td>0</td>\n",
       "      <td>0</td>\n",
       "      <td>0</td>\n",
       "      <td>339500.0</td>\n",
       "    </tr>\n",
       "  </tbody>\n",
       "</table>\n",
       "</div>"
      ],
      "text/plain": [
       "   longitude  latitude  housing_median_age  total_rooms  total_bedrooms  \\\n",
       "0    -121.37     37.06                25.0        474.0            92.0   \n",
       "1    -118.39     34.14                19.0       5076.0          1034.0   \n",
       "2    -122.07     37.41                26.0       1184.0           225.0   \n",
       "3    -121.92     36.57                42.0       3944.0           738.0   \n",
       "4    -118.36     33.82                36.0       1083.0           187.0   \n",
       "\n",
       "   population  households  median_income  ocean_proximity_<1H OCEAN  \\\n",
       "0       300.0       104.0         3.8062                          0   \n",
       "1      2021.0       960.0         5.5683                          1   \n",
       "2       815.0       218.0         5.7657                          0   \n",
       "3      1374.0       598.0         4.1740                          0   \n",
       "4       522.0       187.0         5.7765                          1   \n",
       "\n",
       "   ocean_proximity_INLAND  ocean_proximity_ISLAND  ocean_proximity_NEAR BAY  \\\n",
       "0                       1                       0                         0   \n",
       "1                       0                       0                         0   \n",
       "2                       0                       0                         1   \n",
       "3                       0                       0                         0   \n",
       "4                       0                       0                         0   \n",
       "\n",
       "   ocean_proximity_NEAR OCEAN  median_house_value  \n",
       "0                           0            340900.0  \n",
       "1                           0            309200.0  \n",
       "2                           0            322300.0  \n",
       "3                           1            394400.0  \n",
       "4                           0            339500.0  "
      ]
     },
     "execution_count": 4,
     "metadata": {},
     "output_type": "execute_result"
    }
   ],
   "source": [
    "housing_train_pre.head()"
   ]
  },
  {
   "cell_type": "code",
   "execution_count": 5,
   "id": "dress-indication",
   "metadata": {},
   "outputs": [
    {
     "data": {
      "text/html": [
       "<div>\n",
       "<style scoped>\n",
       "    .dataframe tbody tr th:only-of-type {\n",
       "        vertical-align: middle;\n",
       "    }\n",
       "\n",
       "    .dataframe tbody tr th {\n",
       "        vertical-align: top;\n",
       "    }\n",
       "\n",
       "    .dataframe thead th {\n",
       "        text-align: right;\n",
       "    }\n",
       "</style>\n",
       "<table border=\"1\" class=\"dataframe\">\n",
       "  <thead>\n",
       "    <tr style=\"text-align: right;\">\n",
       "      <th></th>\n",
       "      <th>longitude</th>\n",
       "      <th>latitude</th>\n",
       "      <th>housing_median_age</th>\n",
       "      <th>total_rooms</th>\n",
       "      <th>total_bedrooms</th>\n",
       "      <th>population</th>\n",
       "      <th>households</th>\n",
       "      <th>median_income</th>\n",
       "      <th>median_house_value</th>\n",
       "      <th>ocean_proximity</th>\n",
       "    </tr>\n",
       "  </thead>\n",
       "  <tbody>\n",
       "    <tr>\n",
       "      <th>0</th>\n",
       "      <td>-118.25</td>\n",
       "      <td>34.00</td>\n",
       "      <td>41.0</td>\n",
       "      <td>1768.0</td>\n",
       "      <td>475.0</td>\n",
       "      <td>1721.0</td>\n",
       "      <td>474.0</td>\n",
       "      <td>1.3030</td>\n",
       "      <td>90400.0</td>\n",
       "      <td>&lt;1H OCEAN</td>\n",
       "    </tr>\n",
       "    <tr>\n",
       "      <th>1</th>\n",
       "      <td>-118.20</td>\n",
       "      <td>33.99</td>\n",
       "      <td>35.0</td>\n",
       "      <td>1705.0</td>\n",
       "      <td>523.0</td>\n",
       "      <td>2252.0</td>\n",
       "      <td>508.0</td>\n",
       "      <td>2.3421</td>\n",
       "      <td>154200.0</td>\n",
       "      <td>&lt;1H OCEAN</td>\n",
       "    </tr>\n",
       "    <tr>\n",
       "      <th>2</th>\n",
       "      <td>-121.39</td>\n",
       "      <td>39.61</td>\n",
       "      <td>22.0</td>\n",
       "      <td>2828.0</td>\n",
       "      <td>610.0</td>\n",
       "      <td>986.0</td>\n",
       "      <td>391.0</td>\n",
       "      <td>2.8871</td>\n",
       "      <td>94700.0</td>\n",
       "      <td>INLAND</td>\n",
       "    </tr>\n",
       "    <tr>\n",
       "      <th>3</th>\n",
       "      <td>-118.46</td>\n",
       "      <td>34.00</td>\n",
       "      <td>39.0</td>\n",
       "      <td>4098.0</td>\n",
       "      <td>1100.0</td>\n",
       "      <td>2054.0</td>\n",
       "      <td>1053.0</td>\n",
       "      <td>2.9180</td>\n",
       "      <td>345600.0</td>\n",
       "      <td>&lt;1H OCEAN</td>\n",
       "    </tr>\n",
       "    <tr>\n",
       "      <th>4</th>\n",
       "      <td>-121.03</td>\n",
       "      <td>39.14</td>\n",
       "      <td>10.0</td>\n",
       "      <td>3138.0</td>\n",
       "      <td>524.0</td>\n",
       "      <td>1275.0</td>\n",
       "      <td>511.0</td>\n",
       "      <td>4.0775</td>\n",
       "      <td>164500.0</td>\n",
       "      <td>INLAND</td>\n",
       "    </tr>\n",
       "  </tbody>\n",
       "</table>\n",
       "</div>"
      ],
      "text/plain": [
       "   longitude  latitude  housing_median_age  total_rooms  total_bedrooms  \\\n",
       "0    -118.25     34.00                41.0       1768.0           475.0   \n",
       "1    -118.20     33.99                35.0       1705.0           523.0   \n",
       "2    -121.39     39.61                22.0       2828.0           610.0   \n",
       "3    -118.46     34.00                39.0       4098.0          1100.0   \n",
       "4    -121.03     39.14                10.0       3138.0           524.0   \n",
       "\n",
       "   population  households  median_income  median_house_value ocean_proximity  \n",
       "0      1721.0       474.0         1.3030             90400.0       <1H OCEAN  \n",
       "1      2252.0       508.0         2.3421            154200.0       <1H OCEAN  \n",
       "2       986.0       391.0         2.8871             94700.0          INLAND  \n",
       "3      2054.0      1053.0         2.9180            345600.0       <1H OCEAN  \n",
       "4      1275.0       511.0         4.0775            164500.0          INLAND  "
      ]
     },
     "execution_count": 5,
     "metadata": {},
     "output_type": "execute_result"
    }
   ],
   "source": [
    "housing_test.head()"
   ]
  },
  {
   "cell_type": "code",
   "execution_count": 6,
   "id": "illegal-sequence",
   "metadata": {},
   "outputs": [
    {
     "data": {
      "text/html": [
       "<div>\n",
       "<style scoped>\n",
       "    .dataframe tbody tr th:only-of-type {\n",
       "        vertical-align: middle;\n",
       "    }\n",
       "\n",
       "    .dataframe tbody tr th {\n",
       "        vertical-align: top;\n",
       "    }\n",
       "\n",
       "    .dataframe thead th {\n",
       "        text-align: right;\n",
       "    }\n",
       "</style>\n",
       "<table border=\"1\" class=\"dataframe\">\n",
       "  <thead>\n",
       "    <tr style=\"text-align: right;\">\n",
       "      <th></th>\n",
       "      <th>longitude</th>\n",
       "      <th>latitude</th>\n",
       "      <th>housing_median_age</th>\n",
       "      <th>total_rooms</th>\n",
       "      <th>total_bedrooms</th>\n",
       "      <th>population</th>\n",
       "      <th>households</th>\n",
       "      <th>median_income</th>\n",
       "      <th>ocean_proximity_&lt;1H OCEAN</th>\n",
       "      <th>ocean_proximity_INLAND</th>\n",
       "      <th>ocean_proximity_ISLAND</th>\n",
       "      <th>ocean_proximity_NEAR BAY</th>\n",
       "      <th>ocean_proximity_NEAR OCEAN</th>\n",
       "      <th>median_house_value</th>\n",
       "    </tr>\n",
       "  </thead>\n",
       "  <tbody>\n",
       "    <tr>\n",
       "      <th>6071</th>\n",
       "      <td>-122.20</td>\n",
       "      <td>38.04</td>\n",
       "      <td>31.0</td>\n",
       "      <td>3029.0</td>\n",
       "      <td>500.0</td>\n",
       "      <td>1236.0</td>\n",
       "      <td>487.0</td>\n",
       "      <td>5.6022</td>\n",
       "      <td>0</td>\n",
       "      <td>0</td>\n",
       "      <td>0</td>\n",
       "      <td>1</td>\n",
       "      <td>0</td>\n",
       "      <td>197000.0</td>\n",
       "    </tr>\n",
       "    <tr>\n",
       "      <th>14709</th>\n",
       "      <td>-118.22</td>\n",
       "      <td>34.09</td>\n",
       "      <td>45.0</td>\n",
       "      <td>1072.0</td>\n",
       "      <td>275.0</td>\n",
       "      <td>996.0</td>\n",
       "      <td>243.0</td>\n",
       "      <td>2.8194</td>\n",
       "      <td>1</td>\n",
       "      <td>0</td>\n",
       "      <td>0</td>\n",
       "      <td>0</td>\n",
       "      <td>0</td>\n",
       "      <td>165000.0</td>\n",
       "    </tr>\n",
       "    <tr>\n",
       "      <th>11041</th>\n",
       "      <td>-118.31</td>\n",
       "      <td>33.93</td>\n",
       "      <td>37.0</td>\n",
       "      <td>1282.0</td>\n",
       "      <td>244.0</td>\n",
       "      <td>852.0</td>\n",
       "      <td>249.0</td>\n",
       "      <td>4.2917</td>\n",
       "      <td>1</td>\n",
       "      <td>0</td>\n",
       "      <td>0</td>\n",
       "      <td>0</td>\n",
       "      <td>0</td>\n",
       "      <td>127900.0</td>\n",
       "    </tr>\n",
       "    <tr>\n",
       "      <th>1060</th>\n",
       "      <td>-122.42</td>\n",
       "      <td>38.27</td>\n",
       "      <td>25.0</td>\n",
       "      <td>3282.0</td>\n",
       "      <td>566.0</td>\n",
       "      <td>1244.0</td>\n",
       "      <td>483.0</td>\n",
       "      <td>4.5313</td>\n",
       "      <td>0</td>\n",
       "      <td>0</td>\n",
       "      <td>0</td>\n",
       "      <td>1</td>\n",
       "      <td>0</td>\n",
       "      <td>308400.0</td>\n",
       "    </tr>\n",
       "  </tbody>\n",
       "</table>\n",
       "</div>"
      ],
      "text/plain": [
       "       longitude  latitude  housing_median_age  total_rooms  total_bedrooms  \\\n",
       "6071     -122.20     38.04                31.0       3029.0           500.0   \n",
       "14709    -118.22     34.09                45.0       1072.0           275.0   \n",
       "11041    -118.31     33.93                37.0       1282.0           244.0   \n",
       "1060     -122.42     38.27                25.0       3282.0           566.0   \n",
       "\n",
       "       population  households  median_income  ocean_proximity_<1H OCEAN  \\\n",
       "6071       1236.0       487.0         5.6022                          0   \n",
       "14709       996.0       243.0         2.8194                          1   \n",
       "11041       852.0       249.0         4.2917                          1   \n",
       "1060       1244.0       483.0         4.5313                          0   \n",
       "\n",
       "       ocean_proximity_INLAND  ocean_proximity_ISLAND  \\\n",
       "6071                        0                       0   \n",
       "14709                       0                       0   \n",
       "11041                       0                       0   \n",
       "1060                        0                       0   \n",
       "\n",
       "       ocean_proximity_NEAR BAY  ocean_proximity_NEAR OCEAN  \\\n",
       "6071                          1                           0   \n",
       "14709                         0                           0   \n",
       "11041                         0                           0   \n",
       "1060                          1                           0   \n",
       "\n",
       "       median_house_value  \n",
       "6071             197000.0  \n",
       "14709            165000.0  \n",
       "11041            127900.0  \n",
       "1060             308400.0  "
      ]
     },
     "execution_count": 6,
     "metadata": {},
     "output_type": "execute_result"
    }
   ],
   "source": [
    "housing_train_pre.sample(4)"
   ]
  },
  {
   "cell_type": "markdown",
   "id": "positive-burlington",
   "metadata": {},
   "source": [
    "## 🛠️ 5. Prepare the Data"
   ]
  },
  {
   "cell_type": "markdown",
   "id": "attached-morgan",
   "metadata": {},
   "source": [
    "### 5.1. Adding new features (_independent variables_) and the target outcome (_dependent variable_)"
   ]
  },
  {
   "cell_type": "markdown",
   "id": "objective-protein",
   "metadata": {},
   "source": [
    "The _total number of rooms_ in a district _is not very useful_ if you don’t know how many households there are. What you really want is **the number of rooms per household**. <br/>\n",
    "Similarly, the _total number of bedrooms_ by itself _is not very useful_: you probably want to compare it to the number of rooms. </br>\n",
    "And the **population per household** also seems like an interesting attribute combination to look at.\n",
    "\n",
    "Let’s create these new attributes:"
   ]
  },
  {
   "cell_type": "code",
   "execution_count": 7,
   "id": "tough-schema",
   "metadata": {},
   "outputs": [],
   "source": [
    "housing_train_pre['rooms_per_household'] = housing_train_pre['total_rooms'] / housing_train_pre['households']\n",
    "housing_train_pre['bedrooms_per_room'] = housing_train_pre['total_bedrooms'] / housing_train_pre['total_rooms']\n",
    "housing_train_pre['population_per_household'] = housing_train_pre['population'] / housing_train_pre['households']"
   ]
  },
  {
   "cell_type": "code",
   "execution_count": 8,
   "id": "choice-radiation",
   "metadata": {},
   "outputs": [
    {
     "data": {
      "text/html": [
       "<div>\n",
       "<style scoped>\n",
       "    .dataframe tbody tr th:only-of-type {\n",
       "        vertical-align: middle;\n",
       "    }\n",
       "\n",
       "    .dataframe tbody tr th {\n",
       "        vertical-align: top;\n",
       "    }\n",
       "\n",
       "    .dataframe thead th {\n",
       "        text-align: right;\n",
       "    }\n",
       "</style>\n",
       "<table border=\"1\" class=\"dataframe\">\n",
       "  <thead>\n",
       "    <tr style=\"text-align: right;\">\n",
       "      <th></th>\n",
       "      <th>longitude</th>\n",
       "      <th>latitude</th>\n",
       "      <th>housing_median_age</th>\n",
       "      <th>total_rooms</th>\n",
       "      <th>total_bedrooms</th>\n",
       "      <th>population</th>\n",
       "      <th>households</th>\n",
       "      <th>median_income</th>\n",
       "      <th>ocean_proximity_&lt;1H OCEAN</th>\n",
       "      <th>ocean_proximity_INLAND</th>\n",
       "      <th>ocean_proximity_ISLAND</th>\n",
       "      <th>ocean_proximity_NEAR BAY</th>\n",
       "      <th>ocean_proximity_NEAR OCEAN</th>\n",
       "      <th>median_house_value</th>\n",
       "      <th>rooms_per_household</th>\n",
       "      <th>bedrooms_per_room</th>\n",
       "      <th>population_per_household</th>\n",
       "    </tr>\n",
       "  </thead>\n",
       "  <tbody>\n",
       "    <tr>\n",
       "      <th>0</th>\n",
       "      <td>-121.37</td>\n",
       "      <td>37.06</td>\n",
       "      <td>25.0</td>\n",
       "      <td>474.0</td>\n",
       "      <td>92.0</td>\n",
       "      <td>300.0</td>\n",
       "      <td>104.0</td>\n",
       "      <td>3.8062</td>\n",
       "      <td>0</td>\n",
       "      <td>1</td>\n",
       "      <td>0</td>\n",
       "      <td>0</td>\n",
       "      <td>0</td>\n",
       "      <td>340900.0</td>\n",
       "      <td>4.557692</td>\n",
       "      <td>0.194093</td>\n",
       "      <td>2.884615</td>\n",
       "    </tr>\n",
       "    <tr>\n",
       "      <th>1</th>\n",
       "      <td>-118.39</td>\n",
       "      <td>34.14</td>\n",
       "      <td>19.0</td>\n",
       "      <td>5076.0</td>\n",
       "      <td>1034.0</td>\n",
       "      <td>2021.0</td>\n",
       "      <td>960.0</td>\n",
       "      <td>5.5683</td>\n",
       "      <td>1</td>\n",
       "      <td>0</td>\n",
       "      <td>0</td>\n",
       "      <td>0</td>\n",
       "      <td>0</td>\n",
       "      <td>309200.0</td>\n",
       "      <td>5.287500</td>\n",
       "      <td>0.203704</td>\n",
       "      <td>2.105208</td>\n",
       "    </tr>\n",
       "    <tr>\n",
       "      <th>2</th>\n",
       "      <td>-122.07</td>\n",
       "      <td>37.41</td>\n",
       "      <td>26.0</td>\n",
       "      <td>1184.0</td>\n",
       "      <td>225.0</td>\n",
       "      <td>815.0</td>\n",
       "      <td>218.0</td>\n",
       "      <td>5.7657</td>\n",
       "      <td>0</td>\n",
       "      <td>0</td>\n",
       "      <td>0</td>\n",
       "      <td>1</td>\n",
       "      <td>0</td>\n",
       "      <td>322300.0</td>\n",
       "      <td>5.431193</td>\n",
       "      <td>0.190034</td>\n",
       "      <td>3.738532</td>\n",
       "    </tr>\n",
       "    <tr>\n",
       "      <th>3</th>\n",
       "      <td>-121.92</td>\n",
       "      <td>36.57</td>\n",
       "      <td>42.0</td>\n",
       "      <td>3944.0</td>\n",
       "      <td>738.0</td>\n",
       "      <td>1374.0</td>\n",
       "      <td>598.0</td>\n",
       "      <td>4.1740</td>\n",
       "      <td>0</td>\n",
       "      <td>0</td>\n",
       "      <td>0</td>\n",
       "      <td>0</td>\n",
       "      <td>1</td>\n",
       "      <td>394400.0</td>\n",
       "      <td>6.595318</td>\n",
       "      <td>0.187120</td>\n",
       "      <td>2.297659</td>\n",
       "    </tr>\n",
       "    <tr>\n",
       "      <th>4</th>\n",
       "      <td>-118.36</td>\n",
       "      <td>33.82</td>\n",
       "      <td>36.0</td>\n",
       "      <td>1083.0</td>\n",
       "      <td>187.0</td>\n",
       "      <td>522.0</td>\n",
       "      <td>187.0</td>\n",
       "      <td>5.7765</td>\n",
       "      <td>1</td>\n",
       "      <td>0</td>\n",
       "      <td>0</td>\n",
       "      <td>0</td>\n",
       "      <td>0</td>\n",
       "      <td>339500.0</td>\n",
       "      <td>5.791444</td>\n",
       "      <td>0.172669</td>\n",
       "      <td>2.791444</td>\n",
       "    </tr>\n",
       "  </tbody>\n",
       "</table>\n",
       "</div>"
      ],
      "text/plain": [
       "   longitude  latitude  housing_median_age  total_rooms  total_bedrooms  \\\n",
       "0    -121.37     37.06                25.0        474.0            92.0   \n",
       "1    -118.39     34.14                19.0       5076.0          1034.0   \n",
       "2    -122.07     37.41                26.0       1184.0           225.0   \n",
       "3    -121.92     36.57                42.0       3944.0           738.0   \n",
       "4    -118.36     33.82                36.0       1083.0           187.0   \n",
       "\n",
       "   population  households  median_income  ocean_proximity_<1H OCEAN  \\\n",
       "0       300.0       104.0         3.8062                          0   \n",
       "1      2021.0       960.0         5.5683                          1   \n",
       "2       815.0       218.0         5.7657                          0   \n",
       "3      1374.0       598.0         4.1740                          0   \n",
       "4       522.0       187.0         5.7765                          1   \n",
       "\n",
       "   ocean_proximity_INLAND  ocean_proximity_ISLAND  ocean_proximity_NEAR BAY  \\\n",
       "0                       1                       0                         0   \n",
       "1                       0                       0                         0   \n",
       "2                       0                       0                         1   \n",
       "3                       0                       0                         0   \n",
       "4                       0                       0                         0   \n",
       "\n",
       "   ocean_proximity_NEAR OCEAN  median_house_value  rooms_per_household  \\\n",
       "0                           0            340900.0             4.557692   \n",
       "1                           0            309200.0             5.287500   \n",
       "2                           0            322300.0             5.431193   \n",
       "3                           1            394400.0             6.595318   \n",
       "4                           0            339500.0             5.791444   \n",
       "\n",
       "   bedrooms_per_room  population_per_household  \n",
       "0           0.194093                  2.884615  \n",
       "1           0.203704                  2.105208  \n",
       "2           0.190034                  3.738532  \n",
       "3           0.187120                  2.297659  \n",
       "4           0.172669                  2.791444  "
      ]
     },
     "execution_count": 8,
     "metadata": {},
     "output_type": "execute_result"
    }
   ],
   "source": [
    "housing_train_pre.head()"
   ]
  },
  {
   "cell_type": "markdown",
   "id": "expressed-environment",
   "metadata": {},
   "source": [
    "<br/>\n",
    "\n",
    "We could perform the EDA on the training set again but now considering these new features. <br/>\n",
    "For now, let's just check the **correlation** between these _new features_ with the _target outcome_.\n",
    "\n",
    "#### **Correlation**"
   ]
  },
  {
   "cell_type": "code",
   "execution_count": 12,
   "id": "periodic-indonesian",
   "metadata": {},
   "outputs": [
    {
     "data": {
      "text/plain": [
       "median_house_value            1.000000\n",
       "median_income                 0.663135\n",
       "ocean_proximity_<1H OCEAN     0.308020\n",
       "ocean_proximity_NEAR OCEAN    0.152543\n",
       "total_rooms                   0.151353\n",
       "ocean_proximity_NEAR BAY      0.116876\n",
       "rooms_per_household           0.115246\n",
       "households                    0.095126\n",
       "total_bedrooms                0.073440\n",
       "ocean_proximity_ISLAND        0.021708\n",
       "housing_median_age            0.017499\n",
       "population                    0.013621\n",
       "population_per_household     -0.019132\n",
       "longitude                    -0.022043\n",
       "latitude                     -0.171698\n",
       "bedrooms_per_room            -0.218127\n",
       "ocean_proximity_INLAND       -0.499287\n",
       "Name: median_house_value, dtype: float64"
      ]
     },
     "execution_count": 12,
     "metadata": {},
     "output_type": "execute_result"
    }
   ],
   "source": [
    "housing_train_pre.corr()['median_house_value'].sort_values(ascending=False)"
   ]
  },
  {
   "cell_type": "markdown",
   "id": "valid-invalid",
   "metadata": {},
   "source": [
    "Hey, not bad! The new `bedrooms_per_room` attribute is much more correlated with the `median house value` than the `total number of rooms or bedrooms`. <br/>\n",
    "Apparently, houses with a <i>lower bedroom/room ratio</i> tend to be <b>more expensive</b>. <br/>\n",
    "The `number of rooms per household` is also <b>more informative</b> than the `total number of rooms` in a district — obviously the larger the houses, the more expensive they are.\n",
    "\n",
    "Another interesting point is the correlation between the <i>dummy variables</i> with the `median house value` -- not done in previous sprints. </br>\n",
    "The dummy variable `ocean_proximity_INLAND` has <i>strong negative correlation</i> with the `median house value` whereas `ocean_proximity_<1H OCEAN` has a <i>postive one</i>."
   ]
  },
  {
   "cell_type": "markdown",
   "id": "composed-throat",
   "metadata": {},
   "source": [
    "<table align=\"left\" class=\"dashed-box\">\n",
    "<tr>\n",
    "    <td>💡</td>\n",
    "    <td>This round of exploration does not have to be absolutely thorough; the point is to quickly gain insights that helps you ot improve our models.</i></td>\n",
    "</tr>\n",
    "<tr>\n",
    "    <td></td>\n",
    "    <td>But this is an <i>iterative process</i>: once you get a prototype up and running, you can analyze its output to gain more insights and come back to this exploration step.</td>\n",
    "</tr>\n",
    "</table><br/><br/>"
   ]
  },
  {
   "cell_type": "markdown",
   "id": "orange-period",
   "metadata": {},
   "source": [
    "### 5.2. Separating the independent variables (features) and the _dependent variable_ (target outcome)"
   ]
  },
  {
   "cell_type": "code",
   "execution_count": 13,
   "id": "southeast-repository",
   "metadata": {},
   "outputs": [],
   "source": [
    "housing_train_target = housing_train_pre['median_house_value'].copy()\n",
    "housing_train_pre = housing_train_pre.drop(columns=['median_house_value'])"
   ]
  },
  {
   "cell_type": "markdown",
   "id": "dietary-crossing",
   "metadata": {},
   "source": [
    "### 5.3. Feature Scaling"
   ]
  },
  {
   "cell_type": "markdown",
   "id": "extended-discussion",
   "metadata": {},
   "source": [
    "With few exceptions, ML algorithms **don’t perform well** when the _input numerical attributes_ have **very different scales**. </br>\n",
    "For example, compare the scale of the attributes: `median_income` and `median_house_value`.\n",
    "\n",
    "Although **feature scaling** _is not_ necessarily for the [`LinearRegression()`](https://scikit-learn.org/stable/modules/generated/sklearn.linear_model.LinearRegression.html) implementation from sklearn, we intend to evaluate other regression methods soon that may need that. So, we will perform it."
   ]
  },
  {
   "cell_type": "markdown",
   "id": "editorial-loading",
   "metadata": {},
   "source": [
    "<table align=\"left\" class=\"dashed-box\">\n",
    "<tr>\n",
    "    <td><span class='alt-tab'>alt tab</span></td>\n",
    "    <td><b>Slides:</b> Feature Scaling</td>\n",
    "</tr>\n",
    "</table><br/><br/>"
   ]
  },
  {
   "cell_type": "markdown",
   "id": "designing-deployment",
   "metadata": {},
   "source": [
    "<table align=\"left\" class=\"dashed-box\">\n",
    "<tr>\n",
    "    <td>⚠️</td>\n",
    "    <td>Note that <i>scaling</i> the <b>target outcome</b> is generally <b>not required</b>.</i></td>\n",
    "</tr>\n",
    "</table><br/><br/>"
   ]
  },
  {
   "cell_type": "markdown",
   "id": "arbitrary-luther",
   "metadata": {},
   "source": [
    "<table align=\"left\" class=\"dashed-box\">\n",
    "<tr>\n",
    "    <td>⚠️</td>\n",
    "    <td>We <b>do not</b> need to scale the <i>(binary) dummy variables</i>.</i></td>\n",
    "</tr>\n",
    "</table><br/><br/>"
   ]
  },
  {
   "cell_type": "markdown",
   "id": "cloudy-japan",
   "metadata": {},
   "source": [
    "<table align=\"left\" class=\"dashed-box\">\n",
    "<tr>\n",
    "    <td>⚠️</td>\n",
    "    <td>As with all the transformations, it is important <i>to fit the scalers</i> to the <b>training data <i>only</i></b>, <b>not</b> to the <i>full dataset</i> (including the <i>test set</i>).</i></td>\n",
    "</tr>\n",
    "<tr>\n",
    "    <td></td>\n",
    "    <td>Only then can you use them to transform the training set and the test set (and new data) --> <b>no data snooping bias</b>.</td>\n",
    "</tr>\n",
    "</table><br/><br/>"
   ]
  },
  {
   "cell_type": "markdown",
   "id": "informative-alabama",
   "metadata": {},
   "source": [
    "Since most of our training features have many _outliers_, let's use the **RobustScaler**. <br/>\n",
    "https://scikit-learn.org/stable/modules/generated/sklearn.preprocessing.RobustScaler.html"
   ]
  },
  {
   "cell_type": "code",
   "execution_count": 14,
   "id": "dated-million",
   "metadata": {},
   "outputs": [
    {
     "data": {
      "text/html": [
       "<div>\n",
       "<style scoped>\n",
       "    .dataframe tbody tr th:only-of-type {\n",
       "        vertical-align: middle;\n",
       "    }\n",
       "\n",
       "    .dataframe tbody tr th {\n",
       "        vertical-align: top;\n",
       "    }\n",
       "\n",
       "    .dataframe thead th {\n",
       "        text-align: right;\n",
       "    }\n",
       "</style>\n",
       "<table border=\"1\" class=\"dataframe\">\n",
       "  <thead>\n",
       "    <tr style=\"text-align: right;\">\n",
       "      <th></th>\n",
       "      <th>longitude</th>\n",
       "      <th>latitude</th>\n",
       "      <th>housing_median_age</th>\n",
       "      <th>total_rooms</th>\n",
       "      <th>total_bedrooms</th>\n",
       "      <th>population</th>\n",
       "      <th>households</th>\n",
       "      <th>median_income</th>\n",
       "      <th>ocean_proximity_&lt;1H OCEAN</th>\n",
       "      <th>ocean_proximity_INLAND</th>\n",
       "      <th>ocean_proximity_ISLAND</th>\n",
       "      <th>ocean_proximity_NEAR BAY</th>\n",
       "      <th>ocean_proximity_NEAR OCEAN</th>\n",
       "      <th>rooms_per_household</th>\n",
       "      <th>bedrooms_per_room</th>\n",
       "      <th>population_per_household</th>\n",
       "    </tr>\n",
       "  </thead>\n",
       "  <tbody>\n",
       "    <tr>\n",
       "      <th>0</th>\n",
       "      <td>-121.37</td>\n",
       "      <td>37.06</td>\n",
       "      <td>25.0</td>\n",
       "      <td>474.0</td>\n",
       "      <td>92.0</td>\n",
       "      <td>300.0</td>\n",
       "      <td>104.0</td>\n",
       "      <td>3.8062</td>\n",
       "      <td>0</td>\n",
       "      <td>1</td>\n",
       "      <td>0</td>\n",
       "      <td>0</td>\n",
       "      <td>0</td>\n",
       "      <td>4.557692</td>\n",
       "      <td>0.194093</td>\n",
       "      <td>2.884615</td>\n",
       "    </tr>\n",
       "    <tr>\n",
       "      <th>1</th>\n",
       "      <td>-118.39</td>\n",
       "      <td>34.14</td>\n",
       "      <td>19.0</td>\n",
       "      <td>5076.0</td>\n",
       "      <td>1034.0</td>\n",
       "      <td>2021.0</td>\n",
       "      <td>960.0</td>\n",
       "      <td>5.5683</td>\n",
       "      <td>1</td>\n",
       "      <td>0</td>\n",
       "      <td>0</td>\n",
       "      <td>0</td>\n",
       "      <td>0</td>\n",
       "      <td>5.287500</td>\n",
       "      <td>0.203704</td>\n",
       "      <td>2.105208</td>\n",
       "    </tr>\n",
       "    <tr>\n",
       "      <th>2</th>\n",
       "      <td>-122.07</td>\n",
       "      <td>37.41</td>\n",
       "      <td>26.0</td>\n",
       "      <td>1184.0</td>\n",
       "      <td>225.0</td>\n",
       "      <td>815.0</td>\n",
       "      <td>218.0</td>\n",
       "      <td>5.7657</td>\n",
       "      <td>0</td>\n",
       "      <td>0</td>\n",
       "      <td>0</td>\n",
       "      <td>1</td>\n",
       "      <td>0</td>\n",
       "      <td>5.431193</td>\n",
       "      <td>0.190034</td>\n",
       "      <td>3.738532</td>\n",
       "    </tr>\n",
       "    <tr>\n",
       "      <th>3</th>\n",
       "      <td>-121.92</td>\n",
       "      <td>36.57</td>\n",
       "      <td>42.0</td>\n",
       "      <td>3944.0</td>\n",
       "      <td>738.0</td>\n",
       "      <td>1374.0</td>\n",
       "      <td>598.0</td>\n",
       "      <td>4.1740</td>\n",
       "      <td>0</td>\n",
       "      <td>0</td>\n",
       "      <td>0</td>\n",
       "      <td>0</td>\n",
       "      <td>1</td>\n",
       "      <td>6.595318</td>\n",
       "      <td>0.187120</td>\n",
       "      <td>2.297659</td>\n",
       "    </tr>\n",
       "    <tr>\n",
       "      <th>4</th>\n",
       "      <td>-118.36</td>\n",
       "      <td>33.82</td>\n",
       "      <td>36.0</td>\n",
       "      <td>1083.0</td>\n",
       "      <td>187.0</td>\n",
       "      <td>522.0</td>\n",
       "      <td>187.0</td>\n",
       "      <td>5.7765</td>\n",
       "      <td>1</td>\n",
       "      <td>0</td>\n",
       "      <td>0</td>\n",
       "      <td>0</td>\n",
       "      <td>0</td>\n",
       "      <td>5.791444</td>\n",
       "      <td>0.172669</td>\n",
       "      <td>2.791444</td>\n",
       "    </tr>\n",
       "  </tbody>\n",
       "</table>\n",
       "</div>"
      ],
      "text/plain": [
       "   longitude  latitude  housing_median_age  total_rooms  total_bedrooms  \\\n",
       "0    -121.37     37.06                25.0        474.0            92.0   \n",
       "1    -118.39     34.14                19.0       5076.0          1034.0   \n",
       "2    -122.07     37.41                26.0       1184.0           225.0   \n",
       "3    -121.92     36.57                42.0       3944.0           738.0   \n",
       "4    -118.36     33.82                36.0       1083.0           187.0   \n",
       "\n",
       "   population  households  median_income  ocean_proximity_<1H OCEAN  \\\n",
       "0       300.0       104.0         3.8062                          0   \n",
       "1      2021.0       960.0         5.5683                          1   \n",
       "2       815.0       218.0         5.7657                          0   \n",
       "3      1374.0       598.0         4.1740                          0   \n",
       "4       522.0       187.0         5.7765                          1   \n",
       "\n",
       "   ocean_proximity_INLAND  ocean_proximity_ISLAND  ocean_proximity_NEAR BAY  \\\n",
       "0                       1                       0                         0   \n",
       "1                       0                       0                         0   \n",
       "2                       0                       0                         1   \n",
       "3                       0                       0                         0   \n",
       "4                       0                       0                         0   \n",
       "\n",
       "   ocean_proximity_NEAR OCEAN  rooms_per_household  bedrooms_per_room  \\\n",
       "0                           0             4.557692           0.194093   \n",
       "1                           0             5.287500           0.203704   \n",
       "2                           0             5.431193           0.190034   \n",
       "3                           1             6.595318           0.187120   \n",
       "4                           0             5.791444           0.172669   \n",
       "\n",
       "   population_per_household  \n",
       "0                  2.884615  \n",
       "1                  2.105208  \n",
       "2                  3.738532  \n",
       "3                  2.297659  \n",
       "4                  2.791444  "
      ]
     },
     "execution_count": 14,
     "metadata": {},
     "output_type": "execute_result"
    }
   ],
   "source": [
    "housing_train_pre.head()"
   ]
  },
  {
   "cell_type": "code",
   "execution_count": 15,
   "id": "tired-destruction",
   "metadata": {},
   "outputs": [
    {
     "data": {
      "text/plain": [
       "Index(['longitude', 'latitude', 'housing_median_age', 'total_rooms',\n",
       "       'total_bedrooms', 'population', 'households', 'median_income',\n",
       "       'ocean_proximity_<1H OCEAN', 'ocean_proximity_INLAND',\n",
       "       'ocean_proximity_ISLAND', 'ocean_proximity_NEAR BAY',\n",
       "       'ocean_proximity_NEAR OCEAN', 'rooms_per_household',\n",
       "       'bedrooms_per_room', 'population_per_household'],\n",
       "      dtype='object')"
      ]
     },
     "execution_count": 15,
     "metadata": {},
     "output_type": "execute_result"
    }
   ],
   "source": [
    "housing_train_pre.columns"
   ]
  },
  {
   "cell_type": "code",
   "execution_count": 16,
   "id": "technological-amber",
   "metadata": {},
   "outputs": [],
   "source": [
    "numeric_variables = ['longitude', 'latitude', 'housing_median_age', 'total_rooms', 'total_bedrooms', 'population', 'households', 'median_income', 'rooms_per_household', 'bedrooms_per_room', 'population_per_household']\n",
    "dummy_variables = ['ocean_proximity_<1H OCEAN', 'ocean_proximity_INLAND', 'ocean_proximity_ISLAND', 'ocean_proximity_NEAR BAY', 'ocean_proximity_NEAR OCEAN']"
   ]
  },
  {
   "cell_type": "code",
   "execution_count": 17,
   "id": "seasonal-retailer",
   "metadata": {},
   "outputs": [
    {
     "data": {
      "text/html": [
       "<div>\n",
       "<style scoped>\n",
       "    .dataframe tbody tr th:only-of-type {\n",
       "        vertical-align: middle;\n",
       "    }\n",
       "\n",
       "    .dataframe tbody tr th {\n",
       "        vertical-align: top;\n",
       "    }\n",
       "\n",
       "    .dataframe thead th {\n",
       "        text-align: right;\n",
       "    }\n",
       "</style>\n",
       "<table border=\"1\" class=\"dataframe\">\n",
       "  <thead>\n",
       "    <tr style=\"text-align: right;\">\n",
       "      <th></th>\n",
       "      <th>longitude</th>\n",
       "      <th>latitude</th>\n",
       "      <th>housing_median_age</th>\n",
       "      <th>total_rooms</th>\n",
       "      <th>total_bedrooms</th>\n",
       "      <th>population</th>\n",
       "      <th>households</th>\n",
       "      <th>median_income</th>\n",
       "      <th>rooms_per_household</th>\n",
       "      <th>bedrooms_per_room</th>\n",
       "      <th>population_per_household</th>\n",
       "    </tr>\n",
       "  </thead>\n",
       "  <tbody>\n",
       "    <tr>\n",
       "      <th>0</th>\n",
       "      <td>-121.37</td>\n",
       "      <td>37.06</td>\n",
       "      <td>25.0</td>\n",
       "      <td>474.0</td>\n",
       "      <td>92.0</td>\n",
       "      <td>300.0</td>\n",
       "      <td>104.0</td>\n",
       "      <td>3.8062</td>\n",
       "      <td>4.557692</td>\n",
       "      <td>0.194093</td>\n",
       "      <td>2.884615</td>\n",
       "    </tr>\n",
       "    <tr>\n",
       "      <th>1</th>\n",
       "      <td>-118.39</td>\n",
       "      <td>34.14</td>\n",
       "      <td>19.0</td>\n",
       "      <td>5076.0</td>\n",
       "      <td>1034.0</td>\n",
       "      <td>2021.0</td>\n",
       "      <td>960.0</td>\n",
       "      <td>5.5683</td>\n",
       "      <td>5.287500</td>\n",
       "      <td>0.203704</td>\n",
       "      <td>2.105208</td>\n",
       "    </tr>\n",
       "    <tr>\n",
       "      <th>2</th>\n",
       "      <td>-122.07</td>\n",
       "      <td>37.41</td>\n",
       "      <td>26.0</td>\n",
       "      <td>1184.0</td>\n",
       "      <td>225.0</td>\n",
       "      <td>815.0</td>\n",
       "      <td>218.0</td>\n",
       "      <td>5.7657</td>\n",
       "      <td>5.431193</td>\n",
       "      <td>0.190034</td>\n",
       "      <td>3.738532</td>\n",
       "    </tr>\n",
       "    <tr>\n",
       "      <th>3</th>\n",
       "      <td>-121.92</td>\n",
       "      <td>36.57</td>\n",
       "      <td>42.0</td>\n",
       "      <td>3944.0</td>\n",
       "      <td>738.0</td>\n",
       "      <td>1374.0</td>\n",
       "      <td>598.0</td>\n",
       "      <td>4.1740</td>\n",
       "      <td>6.595318</td>\n",
       "      <td>0.187120</td>\n",
       "      <td>2.297659</td>\n",
       "    </tr>\n",
       "    <tr>\n",
       "      <th>4</th>\n",
       "      <td>-118.36</td>\n",
       "      <td>33.82</td>\n",
       "      <td>36.0</td>\n",
       "      <td>1083.0</td>\n",
       "      <td>187.0</td>\n",
       "      <td>522.0</td>\n",
       "      <td>187.0</td>\n",
       "      <td>5.7765</td>\n",
       "      <td>5.791444</td>\n",
       "      <td>0.172669</td>\n",
       "      <td>2.791444</td>\n",
       "    </tr>\n",
       "    <tr>\n",
       "      <th>...</th>\n",
       "      <td>...</td>\n",
       "      <td>...</td>\n",
       "      <td>...</td>\n",
       "      <td>...</td>\n",
       "      <td>...</td>\n",
       "      <td>...</td>\n",
       "      <td>...</td>\n",
       "      <td>...</td>\n",
       "      <td>...</td>\n",
       "      <td>...</td>\n",
       "      <td>...</td>\n",
       "    </tr>\n",
       "    <tr>\n",
       "      <th>14852</th>\n",
       "      <td>-124.14</td>\n",
       "      <td>41.06</td>\n",
       "      <td>32.0</td>\n",
       "      <td>1020.0</td>\n",
       "      <td>215.0</td>\n",
       "      <td>421.0</td>\n",
       "      <td>198.0</td>\n",
       "      <td>3.0208</td>\n",
       "      <td>5.151515</td>\n",
       "      <td>0.210784</td>\n",
       "      <td>2.126263</td>\n",
       "    </tr>\n",
       "    <tr>\n",
       "      <th>14853</th>\n",
       "      <td>-118.22</td>\n",
       "      <td>33.98</td>\n",
       "      <td>32.0</td>\n",
       "      <td>2643.0</td>\n",
       "      <td>737.0</td>\n",
       "      <td>2784.0</td>\n",
       "      <td>711.0</td>\n",
       "      <td>2.5352</td>\n",
       "      <td>3.717300</td>\n",
       "      <td>0.278850</td>\n",
       "      <td>3.915612</td>\n",
       "    </tr>\n",
       "    <tr>\n",
       "      <th>14854</th>\n",
       "      <td>-121.86</td>\n",
       "      <td>37.31</td>\n",
       "      <td>24.0</td>\n",
       "      <td>1939.0</td>\n",
       "      <td>652.0</td>\n",
       "      <td>1808.0</td>\n",
       "      <td>625.0</td>\n",
       "      <td>2.2259</td>\n",
       "      <td>3.102400</td>\n",
       "      <td>0.336256</td>\n",
       "      <td>2.892800</td>\n",
       "    </tr>\n",
       "    <tr>\n",
       "      <th>14855</th>\n",
       "      <td>-121.32</td>\n",
       "      <td>37.96</td>\n",
       "      <td>46.0</td>\n",
       "      <td>1832.0</td>\n",
       "      <td>365.0</td>\n",
       "      <td>975.0</td>\n",
       "      <td>373.0</td>\n",
       "      <td>2.0398</td>\n",
       "      <td>4.911528</td>\n",
       "      <td>0.199236</td>\n",
       "      <td>2.613941</td>\n",
       "    </tr>\n",
       "    <tr>\n",
       "      <th>14856</th>\n",
       "      <td>-117.30</td>\n",
       "      <td>34.14</td>\n",
       "      <td>39.0</td>\n",
       "      <td>1781.0</td>\n",
       "      <td>335.0</td>\n",
       "      <td>841.0</td>\n",
       "      <td>320.0</td>\n",
       "      <td>1.9432</td>\n",
       "      <td>5.565625</td>\n",
       "      <td>0.188097</td>\n",
       "      <td>2.628125</td>\n",
       "    </tr>\n",
       "  </tbody>\n",
       "</table>\n",
       "<p>14857 rows × 11 columns</p>\n",
       "</div>"
      ],
      "text/plain": [
       "       longitude  latitude  housing_median_age  total_rooms  total_bedrooms  \\\n",
       "0        -121.37     37.06                25.0        474.0            92.0   \n",
       "1        -118.39     34.14                19.0       5076.0          1034.0   \n",
       "2        -122.07     37.41                26.0       1184.0           225.0   \n",
       "3        -121.92     36.57                42.0       3944.0           738.0   \n",
       "4        -118.36     33.82                36.0       1083.0           187.0   \n",
       "...          ...       ...                 ...          ...             ...   \n",
       "14852    -124.14     41.06                32.0       1020.0           215.0   \n",
       "14853    -118.22     33.98                32.0       2643.0           737.0   \n",
       "14854    -121.86     37.31                24.0       1939.0           652.0   \n",
       "14855    -121.32     37.96                46.0       1832.0           365.0   \n",
       "14856    -117.30     34.14                39.0       1781.0           335.0   \n",
       "\n",
       "       population  households  median_income  rooms_per_household  \\\n",
       "0           300.0       104.0         3.8062             4.557692   \n",
       "1          2021.0       960.0         5.5683             5.287500   \n",
       "2           815.0       218.0         5.7657             5.431193   \n",
       "3          1374.0       598.0         4.1740             6.595318   \n",
       "4           522.0       187.0         5.7765             5.791444   \n",
       "...           ...         ...            ...                  ...   \n",
       "14852       421.0       198.0         3.0208             5.151515   \n",
       "14853      2784.0       711.0         2.5352             3.717300   \n",
       "14854      1808.0       625.0         2.2259             3.102400   \n",
       "14855       975.0       373.0         2.0398             4.911528   \n",
       "14856       841.0       320.0         1.9432             5.565625   \n",
       "\n",
       "       bedrooms_per_room  population_per_household  \n",
       "0               0.194093                  2.884615  \n",
       "1               0.203704                  2.105208  \n",
       "2               0.190034                  3.738532  \n",
       "3               0.187120                  2.297659  \n",
       "4               0.172669                  2.791444  \n",
       "...                  ...                       ...  \n",
       "14852           0.210784                  2.126263  \n",
       "14853           0.278850                  3.915612  \n",
       "14854           0.336256                  2.892800  \n",
       "14855           0.199236                  2.613941  \n",
       "14856           0.188097                  2.628125  \n",
       "\n",
       "[14857 rows x 11 columns]"
      ]
     },
     "execution_count": 17,
     "metadata": {},
     "output_type": "execute_result"
    }
   ],
   "source": [
    "X_train_numeric = housing_train_pre[numeric_variables].values\n",
    "X_train_dummy = housing_train_pre[dummy_variables].values"
   ]
  },
  {
   "cell_type": "code",
   "execution_count": null,
   "id": "bridal-gothic",
   "metadata": {},
   "outputs": [],
   "source": [
    "X_train_dummy = housing_train_pre[dummy_variables].values"
   ]
  },
  {
   "cell_type": "code",
   "execution_count": null,
   "id": "stupid-champagne",
   "metadata": {},
   "outputs": [],
   "source": []
  },
  {
   "cell_type": "code",
   "execution_count": null,
   "id": "applicable-processing",
   "metadata": {},
   "outputs": [],
   "source": []
  },
  {
   "cell_type": "code",
   "execution_count": null,
   "id": "unusual-conviction",
   "metadata": {},
   "outputs": [],
   "source": []
  },
  {
   "cell_type": "code",
   "execution_count": null,
   "id": "aggressive-intermediate",
   "metadata": {},
   "outputs": [],
   "source": []
  },
  {
   "cell_type": "code",
   "execution_count": null,
   "id": "italian-material",
   "metadata": {},
   "outputs": [],
   "source": []
  },
  {
   "cell_type": "markdown",
   "id": "efficient-halifax",
   "metadata": {},
   "source": [
    "## 🏋️‍♀️ 6. Train ML Algorithms"
   ]
  },
  {
   "cell_type": "markdown",
   "id": "twenty-heavy",
   "metadata": {},
   "source": [
    "### 6.1. Getting the independent (features) and dependent variables (outcome)"
   ]
  },
  {
   "cell_type": "code",
   "execution_count": null,
   "id": "arbitrary-velvet",
   "metadata": {},
   "outputs": [],
   "source": [
    "# we already have X_train\n",
    "y_train = housing_train_target.values"
   ]
  },
  {
   "cell_type": "markdown",
   "id": "elect-channel",
   "metadata": {},
   "source": [
    "### 6.2. Training the Models"
   ]
  },
  {
   "cell_type": "markdown",
   "id": "insured-athletics",
   "metadata": {},
   "source": [
    "#### **→ Linear Regression**"
   ]
  },
  {
   "cell_type": "code",
   "execution_count": null,
   "id": "configured-lyric",
   "metadata": {},
   "outputs": [],
   "source": [
    "from sklearn.linear_model import LinearRegression\n",
    "\n",
    "lin_reg = LinearRegression()  # default parameters\n",
    "lin_reg.fit(X_train, y_train)"
   ]
  },
  {
   "cell_type": "markdown",
   "id": "unlike-aurora",
   "metadata": {},
   "source": [
    "#### **→ Decision Tree Regression**\n",
    "This is a powerful model, capable of finding complex nonlinear relationships in the data. <br/>\n",
    "https://scikit-learn.org/stable/modules/generated/sklearn.tree.DecisionTreeRegressor.html"
   ]
  },
  {
   "cell_type": "code",
   "execution_count": null,
   "id": "adaptive-kelly",
   "metadata": {},
   "outputs": [],
   "source": []
  },
  {
   "cell_type": "markdown",
   "id": "improved-croatia",
   "metadata": {},
   "source": [
    "### 6.3. Evaluating on the Training Set"
   ]
  },
  {
   "cell_type": "markdown",
   "id": "legal-smoke",
   "metadata": {},
   "source": [
    "#### **→ Linear Regression**"
   ]
  },
  {
   "cell_type": "markdown",
   "id": "backed-finance",
   "metadata": {},
   "source": [
    "##### **Prediction**"
   ]
  },
  {
   "cell_type": "code",
   "execution_count": null,
   "id": "falling-conservation",
   "metadata": {},
   "outputs": [],
   "source": [
    "y_train_pred_lin_reg = lin_reg.predict(X_train)"
   ]
  },
  {
   "cell_type": "markdown",
   "id": "political-gender",
   "metadata": {},
   "source": [
    "##### **Evaluation**"
   ]
  },
  {
   "cell_type": "code",
   "execution_count": null,
   "id": "realistic-priest",
   "metadata": {},
   "outputs": [],
   "source": [
    "from sklearn.metrics import r2_score\n",
    "\n",
    "lin_reg_r2 = r2_score(y_train, y_train_pred_lin_reg)\n",
    "print(f'R² linear regression = {lin_reg_r2}')"
   ]
  },
  {
   "cell_type": "code",
   "execution_count": null,
   "id": "controversial-fusion",
   "metadata": {},
   "outputs": [],
   "source": [
    "from sklearn.metrics import mean_squared_error\n",
    "\n",
    "lin_reg_rmse = mean_squared_error(y_train, y_train_pred_lin_reg, squared=False)\n",
    "print(f'RMSE = {lin_reg_rmse}')"
   ]
  },
  {
   "cell_type": "markdown",
   "id": "sophisticated-beach",
   "metadata": {},
   "source": [
    "The RMSE (\\\\$58,146) has slightly decreased compared to Sprint #2 (\\\\$58,689)."
   ]
  },
  {
   "cell_type": "markdown",
   "id": "cutting-ready",
   "metadata": {},
   "source": [
    "#### **Visual Analysis**"
   ]
  },
  {
   "cell_type": "code",
   "execution_count": null,
   "id": "hispanic-woman",
   "metadata": {},
   "outputs": [],
   "source": [
    "sns.scatterplot(x=y_train_pred_lin_reg, y=y_train)\n",
    "plt.xlabel('Prediction')\n",
    "plt.ylabel('Real')\n",
    "plt.title('Median housing value - Prediction vs Real - Linear Regression')"
   ]
  },
  {
   "cell_type": "code",
   "execution_count": null,
   "id": "optimum-leonard",
   "metadata": {},
   "outputs": [],
   "source": [
    "residual_lin_reg = y_train - y_train_pred_lin_reg\n",
    "\n",
    "sns.scatterplot(x=y_train_pred_lin_reg, y=residual_lin_reg)\n",
    "plt.xlabel('Prediction')\n",
    "plt.ylabel('Residual')\n",
    "plt.title('Median housing value - Prediction vs Residual - Linear Regression')"
   ]
  },
  {
   "cell_type": "markdown",
   "id": "physical-thumb",
   "metadata": {},
   "source": [
    "<br/><br/>\n",
    "\n",
    "#### **→ Decision Tree**"
   ]
  },
  {
   "cell_type": "markdown",
   "id": "quiet-prophet",
   "metadata": {},
   "source": [
    "##### **Prediction**"
   ]
  },
  {
   "cell_type": "code",
   "execution_count": null,
   "id": "catholic-equipment",
   "metadata": {},
   "outputs": [],
   "source": []
  },
  {
   "cell_type": "markdown",
   "id": "final-lebanon",
   "metadata": {},
   "source": [
    "##### **Evaluation**"
   ]
  },
  {
   "cell_type": "code",
   "execution_count": null,
   "id": "pharmaceutical-belief",
   "metadata": {},
   "outputs": [],
   "source": [
    "from sklearn.metrics import r2_score\n",
    "\n",
    "tree_reg_r2 = r2_score(y_train, y_train_pred_tree_reg)\n",
    "print(f'R² decision tree regression = {tree_reg_r2}')"
   ]
  },
  {
   "cell_type": "code",
   "execution_count": null,
   "id": "altered-bristol",
   "metadata": {},
   "outputs": [],
   "source": [
    "from sklearn.metrics import mean_squared_error\n",
    "\n",
    "tree_reg_rmse = mean_squared_error(y_train, y_train_pred_tree_reg, squared=False)\n",
    "print(f'RMSE = {tree_reg_rmse}')"
   ]
  },
  {
   "cell_type": "markdown",
   "id": "unavailable-hunter",
   "metadata": {},
   "source": [
    "Wait, what!? No error at all? Could this model really be absolutely perfect? <br/>\n",
    "Of course, it is much more likely that the model has badly <b>overfit</b> the data.\n",
    "\n",
    "We'd better evaluate it by using <b style=\"color: #ff5757 !important\">Cross-Validation</b>."
   ]
  },
  {
   "cell_type": "markdown",
   "id": "legislative-redhead",
   "metadata": {},
   "source": [
    "#### **Visual Analysis**"
   ]
  },
  {
   "cell_type": "code",
   "execution_count": null,
   "id": "featured-brooklyn",
   "metadata": {},
   "outputs": [],
   "source": [
    "sns.scatterplot(x=y_train_pred_tree_reg, y=y_train)\n",
    "plt.xlabel('Prediction')\n",
    "plt.ylabel('Real')\n",
    "plt.title('Median housing value - Prediction vs Real - Decision Tree Regression')"
   ]
  },
  {
   "cell_type": "code",
   "execution_count": null,
   "id": "encouraging-testimony",
   "metadata": {},
   "outputs": [],
   "source": [
    "residual_tree_reg = y_train - y_train_pred_tree_reg\n",
    "\n",
    "sns.scatterplot(x=y_train_pred_lin_reg, y=residual_tree_reg)\n",
    "plt.xlabel('Prediction')\n",
    "plt.ylabel('Residual')\n",
    "plt.title('Median housing value - Prediction vs Residual |')"
   ]
  },
  {
   "cell_type": "markdown",
   "id": "animated-clearance",
   "metadata": {},
   "source": [
    "<h3 style=\"color: #ff5757 !important\"><b>Cross-validation</b></h3>"
   ]
  },
  {
   "cell_type": "markdown",
   "id": "coastal-field",
   "metadata": {},
   "source": [
    "<table align=\"left\" class=\"dashed-box\">\n",
    "<tr>\n",
    "    <td><span class='alt-tab'>alt tab</span></td>\n",
    "    <td><b>Slides:</b> Model Validation</td>\n",
    "</tr>\n",
    "</table><br/><br/>"
   ]
  },
  {
   "cell_type": "markdown",
   "id": "virgin-alloy",
   "metadata": {},
   "source": [
    "`sklearn.model_selection.cross_val_score` <br/>\n",
    "https://scikit-learn.org/stable/modules/generated/sklearn.model_selection.cross_val_score.html"
   ]
  },
  {
   "cell_type": "markdown",
   "id": "intimate-metro",
   "metadata": {},
   "source": [
    "#### **→ Decision Tree**"
   ]
  },
  {
   "cell_type": "markdown",
   "id": "posted-gravity",
   "metadata": {},
   "source": [
    "The following code ***randomly splits*** (_no stratification_) the _training set_ into **10 folds**, then it trains and evaluates the Decision Tree model 10 times, picking a different fold (**validation set**) for evaluation every time and training on the other 9 folds (**train-dev set**). <br/>\n",
    "The result is an _array_ containing the 10 evaluation scores."
   ]
  },
  {
   "cell_type": "markdown",
   "id": "sporting-trail",
   "metadata": {},
   "source": [
    "<table align=\"left\" class=\"dashed-box\">\n",
    "<tr>\n",
    "    <td>⚠️</td>\n",
    "    <td>Scikit-Learn’s cross-validation features expect a <i>utility function</i> (<b>greater is better</b>) rather than a <i>cost function</i> (<i>lower is better</i>), so the <i>scoring function</i> is actually the <b>opposite of the MSE</b> (i.e., a negative value), which is why the preceding code computes <code>-scores</code> before calculating the square root.</td>\n",
    "</tr>\n",
    "</table><br/><br/>"
   ]
  },
  {
   "cell_type": "code",
   "execution_count": null,
   "id": "exceptional-naples",
   "metadata": {},
   "outputs": [],
   "source": []
  },
  {
   "cell_type": "code",
   "execution_count": null,
   "id": "abandoned-minutes",
   "metadata": {},
   "outputs": [],
   "source": [
    "# printing function\n",
    "def display_scores(scores):\n",
    "    print(\"Scores:\", scores)\n",
    "    print(\"Mean:\", scores.mean())\n",
    "    print(\"Standard deviation:\", scores.std())"
   ]
  },
  {
   "cell_type": "code",
   "execution_count": null,
   "id": "educated-fiber",
   "metadata": {},
   "outputs": [],
   "source": [
    "display_scores(tree_rmse_scores)"
   ]
  },
  {
   "cell_type": "markdown",
   "id": "innovative-consumption",
   "metadata": {},
   "source": [
    "Now the Decision Tree **doesn’t look as good as it did earlier**. In fact, it seems to perform **worse than the Linear Regression model**: mean cross-validation RMSE: \\\\$63,548 against \\\\$58,146 (linear regression).\n",
    "\n",
    "Notice that cross-validation allows you to get not only an estimate of the performance of your model, but also _a measure of_ **how precise this estimate is** (i.e., its **standard deviation**). <br/>\n",
    "The Decision Tree has a score of approximately \\\\$63,548, generally ± \\$2,497. <br/>\n",
    "We _would not_ have this information if we just used **one validation set (hold-out strategy)**.\n",
    "\n",
    "But cross-validation comes at the **cost of training the model several times**, so it is not always possible."
   ]
  },
  {
   "cell_type": "markdown",
   "id": "sensitive-heater",
   "metadata": {},
   "source": [
    "#### **→ Linear Regression**\n",
    "Let's do the same with Linear regression and compare it with Decision Tree."
   ]
  },
  {
   "cell_type": "code",
   "execution_count": null,
   "id": "black-structure",
   "metadata": {},
   "outputs": [],
   "source": []
  },
  {
   "cell_type": "code",
   "execution_count": null,
   "id": "southeast-difference",
   "metadata": {},
   "outputs": [],
   "source": [
    "display_scores(lin_rmse_scores)"
   ]
  },
  {
   "cell_type": "markdown",
   "id": "technical-density",
   "metadata": {},
   "source": [
    "<br/>\n",
    "\n",
    "That’s right: the Decision Tree model is **overfitting** so badly that it performs worse than the Linear Regression model:\n",
    "- **Linear Regression:** \\\\$58,371 ± \\$1,757\n",
    "- **Decision Tree:** \\\\$63,548 ± \\$2,497"
   ]
  },
  {
   "cell_type": "markdown",
   "id": "convenient-female",
   "metadata": {},
   "source": [
    "<table align=\"left\" class=\"dashed-box\">\n",
    "<tr>\n",
    "    <td>⚠️</td>\n",
    "    <td>Before using the <b>mean cross-validate score</b> to compare both method, we <b>MUST</b> guarantee that they are using <b><i>exactly</i> the same folds</b> during the cross-validation.</td>\n",
    "</tr>\n",
    "<tr>\n",
    "    <td></td>\n",
    "    <td>This is true for the example above. When passing <i>the same integer number</i> to the <code>cross_val_score</code> without proving a target array <code>y</code> with <b>label/class</b>, the function will use <code>KFold</code> for cross-validation.</td>\n",
    "<tr>\n",
    "    <td></td>\n",
    "    <td>Both executions of <code>KFold</code> generates the same folds.</td>\n",
    "</tr>\n",
    "</table><br/><br/>"
   ]
  },
  {
   "cell_type": "markdown",
   "id": "after-insulation",
   "metadata": {},
   "source": [
    "<table align=\"left\" class=\"dashed-box\">\n",
    "<tr>\n",
    "    <td>⚠️</td>\n",
    "    <td>Since we performed <b>stratified sampling</b> to build our training and testing set, it should be more indicated to consider the <b>Stratified k-Fold</b>.</td>\n",
    "</tr>\n",
    "<tr>\n",
    "    <td></td>\n",
    "    <td>However, as <code>cross_val_score</code> only consider <b>Stratified k-Fold</b> if the target target array <code>y</code> contains <b>labels/classes</b>, we should create our own cross-validation function capable of stratifying our training set by using a different variable from <code>y</code> --> <code>mean_income_group</code>.</td>\n",
    "</tr>\n",
    "</table><br/><br/>"
   ]
  },
  {
   "cell_type": "code",
   "execution_count": null,
   "id": "common-scroll",
   "metadata": {},
   "outputs": [],
   "source": []
  }
 ],
 "metadata": {
  "kernelspec": {
   "display_name": "Python 3",
   "language": "python",
   "name": "python3"
  },
  "language_info": {
   "codemirror_mode": {
    "name": "ipython",
    "version": 3
   },
   "file_extension": ".py",
   "mimetype": "text/x-python",
   "name": "python",
   "nbconvert_exporter": "python",
   "pygments_lexer": "ipython3",
   "version": "3.9.5"
  }
 },
 "nbformat": 4,
 "nbformat_minor": 5
}
