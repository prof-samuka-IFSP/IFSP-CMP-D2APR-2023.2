{
 "cells": [
  {
   "cell_type": "markdown",
   "id": "diverse-modeling",
   "metadata": {},
   "source": [
    "### **D2APR: Aprendizado de Máquina e Reconhecimento de Padrões** (IFSP, Campinas) <br/>\n",
    "**Prof**: Samuel Martins (Samuka) <br/>\n",
    "\n",
    "<a rel=\"license\" href=\"http://creativecommons.org/licenses/by-nc-sa/4.0/\"><img alt=\"Creative Commons License\" style=\"border-width:0\" src=\"https://i.creativecommons.org/l/by-nc-sa/4.0/88x31.png\" /></a><br />This work is licensed under a <a rel=\"license\" href=\"http://creativecommons.org/licenses/by-nc-sa/4.0/\">Creative Commons Attribution-NonCommercial-ShareAlike 4.0 International License</a>. <br/><br/>"
   ]
  },
  {
   "cell_type": "markdown",
   "id": "every-enough",
   "metadata": {},
   "source": [
    "### Custom CSS style"
   ]
  },
  {
   "cell_type": "code",
   "execution_count": 1,
   "id": "relative-commodity",
   "metadata": {
    "tags": []
   },
   "outputs": [
    {
     "data": {
      "text/html": [
       "<style>\n",
       ".dashed-box {\n",
       "    border: 1px dashed black !important;\n",
       "}\n",
       ".dashed-box tr {\n",
       "  background-color: white !important;  \n",
       "}\n",
       ".alt-tab {\n",
       "    background-color: black;\n",
       "    color: #ffc351;\n",
       "    padding: 4px;\n",
       "    font-size: 1em;\n",
       "    font-weight: bold;\n",
       "    font-family: monospace;\n",
       "}\n",
       "// add your CSS styling here\n",
       "</style>\n"
      ],
      "text/plain": [
       "<IPython.core.display.HTML object>"
      ]
     },
     "metadata": {},
     "output_type": "display_data"
    }
   ],
   "source": [
    "%%html\n",
    "<style>\n",
    ".dashed-box {\n",
    "    border: 1px dashed black !important;\n",
    "}\n",
    ".dashed-box tr {\n",
    "  background-color: white !important;  \n",
    "}\n",
    ".alt-tab {\n",
    "    background-color: black;\n",
    "    color: #ffc351;\n",
    "    padding: 4px;\n",
    "    font-size: 1em;\n",
    "    font-weight: bold;\n",
    "    font-family: monospace;\n",
    "}\n",
    "// add your CSS styling here\n",
    "</style>"
   ]
  },
  {
   "cell_type": "markdown",
   "id": "worst-simpson",
   "metadata": {},
   "source": [
    "<span style='font-size: 2.5em'><b>California Housing 🏡</b></span><br/>\n",
    "<span style='font-size: 1.5em'>Predict the median housing price in California districts</span>\n",
    "\n",
    "<span style=\"background-color: #ffc351; padding: 4px; font-size: 1em;\"><b>Sprint 4</b></span>\n",
    "\n",
    "<img src=\"./imgs/california-flag.png\" width=300/>\n",
    "\n",
    "---\n",
    "\n"
   ]
  },
  {
   "cell_type": "markdown",
   "id": "appreciated-belief",
   "metadata": {},
   "source": [
    "## Before starting this notebook\n",
    "This jupyter notebook is designed for **experimental and teaching purposes**. <br/>\n",
    "Although it is (relatively) well organized, it aims at solving the _target problem_ by evaluating (and documenting) _different solutions_ for somes steps of the **machine learning pipeline** — see the ***Machine Learning Project Checklist by xavecoding***. <br/>\n",
    "We tried to make this notebook as literally a _notebook_. Thus, it contains notes, drafts, comments, etc.<br/>\n",
    "\n",
    "For teaching purposes, some parts of the notebook may be _overcommented_. Moreover, to simulate a real development scenario, we will divide our solution and experiments into **\"sprints\"** in which each sprint has some goals (e.g., perform _feature selection_, train more ML models, ...). <br/>\n",
    "The **sprint goal** will be stated at the beginning of the notebook.\n",
    "\n",
    "A ***final notebook*** (or any other kind of presentation) that compiles and summarizes all sprints — the target problem, solutions, and findings — should be created later.\n",
    "\n",
    "#### Conventions\n",
    "\n",
    "<ul>\n",
    "    <li>💡 indicates a tip. </li>\n",
    "    <li> ⚠️ indicates a warning message. </li>\n",
    "    <li><span class='alt-tab'>alt tab</span> indicates and an extra content (<i>e.g.</i>, slides) to explain a given concept.</li>\n",
    "</ul>\n",
    "\n",
    "---"
   ]
  },
  {
   "cell_type": "markdown",
   "id": "dangerous-storage",
   "metadata": {},
   "source": [
    "## 🎯 Sprint Goals\n",
    "- Refactor our codes by using the sklearn Pipelines\n",
    "- Evaluate the models in the Test Set\n",
    "- Compare the models with the baseline\n",
    "---"
   ]
  },
  {
   "cell_type": "markdown",
   "id": "attempted-rapid",
   "metadata": {},
   "source": [
    "### 0. Imports and default settings for plotting"
   ]
  },
  {
   "cell_type": "code",
   "execution_count": 2,
   "id": "adult-bryan",
   "metadata": {},
   "outputs": [],
   "source": [
    "import numpy as np\n",
    "import pandas as pd\n",
    "import matplotlib.pyplot as plt\n",
    "import seaborn as sns\n",
    "\n",
    "sns.set_theme(style=\"whitegrid\")\n",
    "\n",
    "params = {'legend.fontsize': 'x-large',\n",
    "          'figure.figsize': (15, 5),\n",
    "         'axes.labelsize': 'x-large',\n",
    "         'axes.titlesize':'x-large',\n",
    "         'xtick.labelsize':'x-large',\n",
    "         'ytick.labelsize':'x-large'}\n",
    "plt.rcParams.update(params)"
   ]
  },
  {
   "cell_type": "markdown",
   "id": "assured-personal",
   "metadata": {},
   "source": [
    "## 🛠️ 5. Prepare the Data"
   ]
  },
  {
   "cell_type": "markdown",
   "id": "micro-addiction",
   "metadata": {},
   "source": [
    "#### **Preprocessing tasks**\n",
    "- Fill in missing values (imputation)\n",
    "- Add new features\n",
    "- Feature Scaling\n",
    "- One-Hot Encoding"
   ]
  },
  {
   "cell_type": "markdown",
   "id": "aerial-fishing",
   "metadata": {},
   "source": [
    "<table align=\"left\" class=\"dashed-box\">\n",
    "<tr>\n",
    "    <td><span class='alt-tab'>alt tab</span></td>\n",
    "    <td><b>Slides:</b> Scikit-Learn Design Principles - Hyperparameters vs Parameters<br/>\n",
    "        <b>Slides:</b> Scikit-Learn Design Principles - Main APIs</td>\n",
    "</tr>\n",
    "</table><br/><br/>"
   ]
  },
  {
   "cell_type": "markdown",
   "id": "sound-bahrain",
   "metadata": {},
   "source": [
    "### 5.1. Load the cleaned training set"
   ]
  },
  {
   "cell_type": "markdown",
   "id": "relative-secondary",
   "metadata": {},
   "source": [
    "Let's consider the training and testing sets already cleaned (sprint #2):\n",
    "- Drop duplicated instances (not found)\n",
    "- Drop instances with `housing_median_age` capped at 52\n",
    "- Drop instances with `median_house_value` capped at 500001.0"
   ]
  },
  {
   "cell_type": "code",
   "execution_count": 3,
   "id": "extended-transformation",
   "metadata": {},
   "outputs": [],
   "source": [
    "# load the cleaned training set\n",
    "housing_train = pd.read_csv('./datasets/housing_train_sprint-2.csv')"
   ]
  },
  {
   "cell_type": "code",
   "execution_count": 4,
   "id": "sought-temple",
   "metadata": {},
   "outputs": [
    {
     "data": {
      "text/html": [
       "<div>\n",
       "<style scoped>\n",
       "    .dataframe tbody tr th:only-of-type {\n",
       "        vertical-align: middle;\n",
       "    }\n",
       "\n",
       "    .dataframe tbody tr th {\n",
       "        vertical-align: top;\n",
       "    }\n",
       "\n",
       "    .dataframe thead th {\n",
       "        text-align: right;\n",
       "    }\n",
       "</style>\n",
       "<table border=\"1\" class=\"dataframe\">\n",
       "  <thead>\n",
       "    <tr style=\"text-align: right;\">\n",
       "      <th></th>\n",
       "      <th>longitude</th>\n",
       "      <th>latitude</th>\n",
       "      <th>housing_median_age</th>\n",
       "      <th>total_rooms</th>\n",
       "      <th>total_bedrooms</th>\n",
       "      <th>population</th>\n",
       "      <th>households</th>\n",
       "      <th>median_income</th>\n",
       "      <th>median_house_value</th>\n",
       "      <th>ocean_proximity</th>\n",
       "    </tr>\n",
       "  </thead>\n",
       "  <tbody>\n",
       "    <tr>\n",
       "      <th>0</th>\n",
       "      <td>-121.37</td>\n",
       "      <td>37.06</td>\n",
       "      <td>25.0</td>\n",
       "      <td>474.0</td>\n",
       "      <td>92.0</td>\n",
       "      <td>300.0</td>\n",
       "      <td>104.0</td>\n",
       "      <td>3.8062</td>\n",
       "      <td>340900.0</td>\n",
       "      <td>INLAND</td>\n",
       "    </tr>\n",
       "    <tr>\n",
       "      <th>1</th>\n",
       "      <td>-118.39</td>\n",
       "      <td>34.14</td>\n",
       "      <td>19.0</td>\n",
       "      <td>5076.0</td>\n",
       "      <td>1034.0</td>\n",
       "      <td>2021.0</td>\n",
       "      <td>960.0</td>\n",
       "      <td>5.5683</td>\n",
       "      <td>309200.0</td>\n",
       "      <td>&lt;1H OCEAN</td>\n",
       "    </tr>\n",
       "    <tr>\n",
       "      <th>2</th>\n",
       "      <td>-122.07</td>\n",
       "      <td>37.41</td>\n",
       "      <td>26.0</td>\n",
       "      <td>1184.0</td>\n",
       "      <td>225.0</td>\n",
       "      <td>815.0</td>\n",
       "      <td>218.0</td>\n",
       "      <td>5.7657</td>\n",
       "      <td>322300.0</td>\n",
       "      <td>NEAR BAY</td>\n",
       "    </tr>\n",
       "    <tr>\n",
       "      <th>3</th>\n",
       "      <td>-121.92</td>\n",
       "      <td>36.57</td>\n",
       "      <td>42.0</td>\n",
       "      <td>3944.0</td>\n",
       "      <td>738.0</td>\n",
       "      <td>1374.0</td>\n",
       "      <td>598.0</td>\n",
       "      <td>4.1740</td>\n",
       "      <td>394400.0</td>\n",
       "      <td>NEAR OCEAN</td>\n",
       "    </tr>\n",
       "    <tr>\n",
       "      <th>4</th>\n",
       "      <td>-118.36</td>\n",
       "      <td>33.82</td>\n",
       "      <td>36.0</td>\n",
       "      <td>1083.0</td>\n",
       "      <td>187.0</td>\n",
       "      <td>522.0</td>\n",
       "      <td>187.0</td>\n",
       "      <td>5.7765</td>\n",
       "      <td>339500.0</td>\n",
       "      <td>&lt;1H OCEAN</td>\n",
       "    </tr>\n",
       "  </tbody>\n",
       "</table>\n",
       "</div>"
      ],
      "text/plain": [
       "   longitude  latitude  housing_median_age  total_rooms  total_bedrooms  \\\n",
       "0    -121.37     37.06                25.0        474.0            92.0   \n",
       "1    -118.39     34.14                19.0       5076.0          1034.0   \n",
       "2    -122.07     37.41                26.0       1184.0           225.0   \n",
       "3    -121.92     36.57                42.0       3944.0           738.0   \n",
       "4    -118.36     33.82                36.0       1083.0           187.0   \n",
       "\n",
       "   population  households  median_income  median_house_value ocean_proximity  \n",
       "0       300.0       104.0         3.8062            340900.0          INLAND  \n",
       "1      2021.0       960.0         5.5683            309200.0       <1H OCEAN  \n",
       "2       815.0       218.0         5.7657            322300.0        NEAR BAY  \n",
       "3      1374.0       598.0         4.1740            394400.0      NEAR OCEAN  \n",
       "4       522.0       187.0         5.7765            339500.0       <1H OCEAN  "
      ]
     },
     "execution_count": 4,
     "metadata": {},
     "output_type": "execute_result"
    }
   ],
   "source": [
    "housing_train.head()"
   ]
  },
  {
   "cell_type": "code",
   "execution_count": 5,
   "id": "clear-honolulu",
   "metadata": {},
   "outputs": [
    {
     "data": {
      "text/plain": [
       "(14857, 10)"
      ]
     },
     "execution_count": 5,
     "metadata": {},
     "output_type": "execute_result"
    }
   ],
   "source": [
    "housing_train.shape"
   ]
  },
  {
   "cell_type": "markdown",
   "id": "boxed-aluminum",
   "metadata": {},
   "source": [
    "### 5.2. Separate the _features_ and the _target outcome_"
   ]
  },
  {
   "cell_type": "code",
   "execution_count": 6,
   "id": "informative-cleaning",
   "metadata": {},
   "outputs": [
    {
     "data": {
      "text/plain": [
       "Index(['longitude', 'latitude', 'housing_median_age', 'total_rooms',\n",
       "       'total_bedrooms', 'population', 'households', 'median_income',\n",
       "       'median_house_value', 'ocean_proximity'],\n",
       "      dtype='object')"
      ]
     },
     "execution_count": 6,
     "metadata": {},
     "output_type": "execute_result"
    }
   ],
   "source": [
    "housing_train.columns"
   ]
  },
  {
   "cell_type": "code",
   "execution_count": 7,
   "id": "happy-kingdom",
   "metadata": {},
   "outputs": [],
   "source": [
    "# store the target outcome into a numpy array\n",
    "y_train = housing_train['median_house_value'].values"
   ]
  },
  {
   "cell_type": "code",
   "execution_count": 8,
   "id": "copyrighted-technology",
   "metadata": {},
   "outputs": [
    {
     "data": {
      "text/plain": [
       "array([340900., 309200., 322300., ..., 112500.,  88100.,  89000.])"
      ]
     },
     "execution_count": 8,
     "metadata": {},
     "output_type": "execute_result"
    }
   ],
   "source": [
    "y_train"
   ]
  },
  {
   "cell_type": "code",
   "execution_count": 9,
   "id": "finished-humidity",
   "metadata": {},
   "outputs": [
    {
     "data": {
      "text/plain": [
       "(14857,)"
      ]
     },
     "execution_count": 9,
     "metadata": {},
     "output_type": "execute_result"
    }
   ],
   "source": [
    "y_train.shape"
   ]
  },
  {
   "cell_type": "code",
   "execution_count": 10,
   "id": "hispanic-halifax",
   "metadata": {},
   "outputs": [],
   "source": [
    "# overwrite the dataframe with only the features  \n",
    "housing_train = housing_train.drop(columns=['median_house_value'])"
   ]
  },
  {
   "cell_type": "code",
   "execution_count": 11,
   "id": "aging-department",
   "metadata": {},
   "outputs": [
    {
     "data": {
      "text/html": [
       "<div>\n",
       "<style scoped>\n",
       "    .dataframe tbody tr th:only-of-type {\n",
       "        vertical-align: middle;\n",
       "    }\n",
       "\n",
       "    .dataframe tbody tr th {\n",
       "        vertical-align: top;\n",
       "    }\n",
       "\n",
       "    .dataframe thead th {\n",
       "        text-align: right;\n",
       "    }\n",
       "</style>\n",
       "<table border=\"1\" class=\"dataframe\">\n",
       "  <thead>\n",
       "    <tr style=\"text-align: right;\">\n",
       "      <th></th>\n",
       "      <th>longitude</th>\n",
       "      <th>latitude</th>\n",
       "      <th>housing_median_age</th>\n",
       "      <th>total_rooms</th>\n",
       "      <th>total_bedrooms</th>\n",
       "      <th>population</th>\n",
       "      <th>households</th>\n",
       "      <th>median_income</th>\n",
       "      <th>ocean_proximity</th>\n",
       "    </tr>\n",
       "  </thead>\n",
       "  <tbody>\n",
       "    <tr>\n",
       "      <th>0</th>\n",
       "      <td>-121.37</td>\n",
       "      <td>37.06</td>\n",
       "      <td>25.0</td>\n",
       "      <td>474.0</td>\n",
       "      <td>92.0</td>\n",
       "      <td>300.0</td>\n",
       "      <td>104.0</td>\n",
       "      <td>3.8062</td>\n",
       "      <td>INLAND</td>\n",
       "    </tr>\n",
       "    <tr>\n",
       "      <th>1</th>\n",
       "      <td>-118.39</td>\n",
       "      <td>34.14</td>\n",
       "      <td>19.0</td>\n",
       "      <td>5076.0</td>\n",
       "      <td>1034.0</td>\n",
       "      <td>2021.0</td>\n",
       "      <td>960.0</td>\n",
       "      <td>5.5683</td>\n",
       "      <td>&lt;1H OCEAN</td>\n",
       "    </tr>\n",
       "    <tr>\n",
       "      <th>2</th>\n",
       "      <td>-122.07</td>\n",
       "      <td>37.41</td>\n",
       "      <td>26.0</td>\n",
       "      <td>1184.0</td>\n",
       "      <td>225.0</td>\n",
       "      <td>815.0</td>\n",
       "      <td>218.0</td>\n",
       "      <td>5.7657</td>\n",
       "      <td>NEAR BAY</td>\n",
       "    </tr>\n",
       "    <tr>\n",
       "      <th>3</th>\n",
       "      <td>-121.92</td>\n",
       "      <td>36.57</td>\n",
       "      <td>42.0</td>\n",
       "      <td>3944.0</td>\n",
       "      <td>738.0</td>\n",
       "      <td>1374.0</td>\n",
       "      <td>598.0</td>\n",
       "      <td>4.1740</td>\n",
       "      <td>NEAR OCEAN</td>\n",
       "    </tr>\n",
       "    <tr>\n",
       "      <th>4</th>\n",
       "      <td>-118.36</td>\n",
       "      <td>33.82</td>\n",
       "      <td>36.0</td>\n",
       "      <td>1083.0</td>\n",
       "      <td>187.0</td>\n",
       "      <td>522.0</td>\n",
       "      <td>187.0</td>\n",
       "      <td>5.7765</td>\n",
       "      <td>&lt;1H OCEAN</td>\n",
       "    </tr>\n",
       "  </tbody>\n",
       "</table>\n",
       "</div>"
      ],
      "text/plain": [
       "   longitude  latitude  housing_median_age  total_rooms  total_bedrooms  \\\n",
       "0    -121.37     37.06                25.0        474.0            92.0   \n",
       "1    -118.39     34.14                19.0       5076.0          1034.0   \n",
       "2    -122.07     37.41                26.0       1184.0           225.0   \n",
       "3    -121.92     36.57                42.0       3944.0           738.0   \n",
       "4    -118.36     33.82                36.0       1083.0           187.0   \n",
       "\n",
       "   population  households  median_income ocean_proximity  \n",
       "0       300.0       104.0         3.8062          INLAND  \n",
       "1      2021.0       960.0         5.5683       <1H OCEAN  \n",
       "2       815.0       218.0         5.7657        NEAR BAY  \n",
       "3      1374.0       598.0         4.1740      NEAR OCEAN  \n",
       "4       522.0       187.0         5.7765       <1H OCEAN  "
      ]
     },
     "execution_count": 11,
     "metadata": {},
     "output_type": "execute_result"
    }
   ],
   "source": [
    "housing_train.head()"
   ]
  },
  {
   "cell_type": "code",
   "execution_count": 12,
   "id": "fancy-steam",
   "metadata": {},
   "outputs": [
    {
     "data": {
      "text/plain": [
       "(14857, 9)"
      ]
     },
     "execution_count": 12,
     "metadata": {},
     "output_type": "execute_result"
    }
   ],
   "source": [
    "housing_train.shape"
   ]
  },
  {
   "cell_type": "markdown",
   "id": "rough-patrol",
   "metadata": {},
   "source": [
    "### 5.3. Separate the _numerical_ and _categorical_ features\n",
    "Since we perform different preprocessing tasks (transformations) to _numerical_ features and _categorical_ ones, let's split them into two different dataframes."
   ]
  },
  {
   "cell_type": "code",
   "execution_count": 13,
   "id": "boolean-torture",
   "metadata": {},
   "outputs": [
    {
     "data": {
      "text/plain": [
       "Index(['longitude', 'latitude', 'housing_median_age', 'total_rooms',\n",
       "       'total_bedrooms', 'population', 'households', 'median_income',\n",
       "       'ocean_proximity'],\n",
       "      dtype='object')"
      ]
     },
     "execution_count": 13,
     "metadata": {},
     "output_type": "execute_result"
    }
   ],
   "source": [
    "housing_train.columns"
   ]
  },
  {
   "cell_type": "code",
   "execution_count": 14,
   "id": "suffering-basics",
   "metadata": {},
   "outputs": [
    {
     "data": {
      "text/plain": [
       "Index(['longitude', 'latitude', 'housing_median_age', 'total_rooms',\n",
       "       'total_bedrooms', 'population', 'households', 'median_income'],\n",
       "      dtype='object')"
      ]
     },
     "execution_count": 14,
     "metadata": {},
     "output_type": "execute_result"
    }
   ],
   "source": [
    "# numerical atributes\n",
    "num_attributes = housing_train.columns.drop('ocean_proximity')\n",
    "num_attributes"
   ]
  },
  {
   "cell_type": "code",
   "execution_count": 15,
   "id": "circular-pressing",
   "metadata": {},
   "outputs": [
    {
     "data": {
      "text/plain": [
       "['ocean_proximity']"
      ]
     },
     "execution_count": 15,
     "metadata": {},
     "output_type": "execute_result"
    }
   ],
   "source": [
    "# categorical attributes\n",
    "cat_attributes = ['ocean_proximity']\n",
    "cat_attributes"
   ]
  },
  {
   "cell_type": "code",
   "execution_count": 16,
   "id": "pretty-methodology",
   "metadata": {},
   "outputs": [],
   "source": [
    "# separating the features\n",
    "housing_train_num = housing_train[num_attributes]\n",
    "housing_train_cat = housing_train[cat_attributes]"
   ]
  },
  {
   "cell_type": "code",
   "execution_count": 17,
   "id": "taken-warehouse",
   "metadata": {},
   "outputs": [
    {
     "data": {
      "text/html": [
       "<div>\n",
       "<style scoped>\n",
       "    .dataframe tbody tr th:only-of-type {\n",
       "        vertical-align: middle;\n",
       "    }\n",
       "\n",
       "    .dataframe tbody tr th {\n",
       "        vertical-align: top;\n",
       "    }\n",
       "\n",
       "    .dataframe thead th {\n",
       "        text-align: right;\n",
       "    }\n",
       "</style>\n",
       "<table border=\"1\" class=\"dataframe\">\n",
       "  <thead>\n",
       "    <tr style=\"text-align: right;\">\n",
       "      <th></th>\n",
       "      <th>longitude</th>\n",
       "      <th>latitude</th>\n",
       "      <th>housing_median_age</th>\n",
       "      <th>total_rooms</th>\n",
       "      <th>total_bedrooms</th>\n",
       "      <th>population</th>\n",
       "      <th>households</th>\n",
       "      <th>median_income</th>\n",
       "    </tr>\n",
       "  </thead>\n",
       "  <tbody>\n",
       "    <tr>\n",
       "      <th>0</th>\n",
       "      <td>-121.37</td>\n",
       "      <td>37.06</td>\n",
       "      <td>25.0</td>\n",
       "      <td>474.0</td>\n",
       "      <td>92.0</td>\n",
       "      <td>300.0</td>\n",
       "      <td>104.0</td>\n",
       "      <td>3.8062</td>\n",
       "    </tr>\n",
       "    <tr>\n",
       "      <th>1</th>\n",
       "      <td>-118.39</td>\n",
       "      <td>34.14</td>\n",
       "      <td>19.0</td>\n",
       "      <td>5076.0</td>\n",
       "      <td>1034.0</td>\n",
       "      <td>2021.0</td>\n",
       "      <td>960.0</td>\n",
       "      <td>5.5683</td>\n",
       "    </tr>\n",
       "    <tr>\n",
       "      <th>2</th>\n",
       "      <td>-122.07</td>\n",
       "      <td>37.41</td>\n",
       "      <td>26.0</td>\n",
       "      <td>1184.0</td>\n",
       "      <td>225.0</td>\n",
       "      <td>815.0</td>\n",
       "      <td>218.0</td>\n",
       "      <td>5.7657</td>\n",
       "    </tr>\n",
       "    <tr>\n",
       "      <th>3</th>\n",
       "      <td>-121.92</td>\n",
       "      <td>36.57</td>\n",
       "      <td>42.0</td>\n",
       "      <td>3944.0</td>\n",
       "      <td>738.0</td>\n",
       "      <td>1374.0</td>\n",
       "      <td>598.0</td>\n",
       "      <td>4.1740</td>\n",
       "    </tr>\n",
       "    <tr>\n",
       "      <th>4</th>\n",
       "      <td>-118.36</td>\n",
       "      <td>33.82</td>\n",
       "      <td>36.0</td>\n",
       "      <td>1083.0</td>\n",
       "      <td>187.0</td>\n",
       "      <td>522.0</td>\n",
       "      <td>187.0</td>\n",
       "      <td>5.7765</td>\n",
       "    </tr>\n",
       "  </tbody>\n",
       "</table>\n",
       "</div>"
      ],
      "text/plain": [
       "   longitude  latitude  housing_median_age  total_rooms  total_bedrooms  \\\n",
       "0    -121.37     37.06                25.0        474.0            92.0   \n",
       "1    -118.39     34.14                19.0       5076.0          1034.0   \n",
       "2    -122.07     37.41                26.0       1184.0           225.0   \n",
       "3    -121.92     36.57                42.0       3944.0           738.0   \n",
       "4    -118.36     33.82                36.0       1083.0           187.0   \n",
       "\n",
       "   population  households  median_income  \n",
       "0       300.0       104.0         3.8062  \n",
       "1      2021.0       960.0         5.5683  \n",
       "2       815.0       218.0         5.7657  \n",
       "3      1374.0       598.0         4.1740  \n",
       "4       522.0       187.0         5.7765  "
      ]
     },
     "execution_count": 17,
     "metadata": {},
     "output_type": "execute_result"
    }
   ],
   "source": [
    "housing_train_num.head()"
   ]
  },
  {
   "cell_type": "code",
   "execution_count": 18,
   "id": "fresh-fight",
   "metadata": {},
   "outputs": [
    {
     "data": {
      "text/html": [
       "<div>\n",
       "<style scoped>\n",
       "    .dataframe tbody tr th:only-of-type {\n",
       "        vertical-align: middle;\n",
       "    }\n",
       "\n",
       "    .dataframe tbody tr th {\n",
       "        vertical-align: top;\n",
       "    }\n",
       "\n",
       "    .dataframe thead th {\n",
       "        text-align: right;\n",
       "    }\n",
       "</style>\n",
       "<table border=\"1\" class=\"dataframe\">\n",
       "  <thead>\n",
       "    <tr style=\"text-align: right;\">\n",
       "      <th></th>\n",
       "      <th>ocean_proximity</th>\n",
       "    </tr>\n",
       "  </thead>\n",
       "  <tbody>\n",
       "    <tr>\n",
       "      <th>0</th>\n",
       "      <td>INLAND</td>\n",
       "    </tr>\n",
       "    <tr>\n",
       "      <th>1</th>\n",
       "      <td>&lt;1H OCEAN</td>\n",
       "    </tr>\n",
       "    <tr>\n",
       "      <th>2</th>\n",
       "      <td>NEAR BAY</td>\n",
       "    </tr>\n",
       "    <tr>\n",
       "      <th>3</th>\n",
       "      <td>NEAR OCEAN</td>\n",
       "    </tr>\n",
       "    <tr>\n",
       "      <th>4</th>\n",
       "      <td>&lt;1H OCEAN</td>\n",
       "    </tr>\n",
       "  </tbody>\n",
       "</table>\n",
       "</div>"
      ],
      "text/plain": [
       "  ocean_proximity\n",
       "0          INLAND\n",
       "1       <1H OCEAN\n",
       "2        NEAR BAY\n",
       "3      NEAR OCEAN\n",
       "4       <1H OCEAN"
      ]
     },
     "execution_count": 18,
     "metadata": {},
     "output_type": "execute_result"
    }
   ],
   "source": [
    "housing_train_cat.head()"
   ]
  },
  {
   "cell_type": "markdown",
   "id": "posted-cleveland",
   "metadata": {
    "tags": []
   },
   "source": [
    "### 5.4. Filling in missing values"
   ]
  },
  {
   "cell_type": "markdown",
   "id": "decent-equity",
   "metadata": {},
   "source": [
    "`sklearn.impute.SimpleImputer` <br/>\n",
    "https://scikit-learn.org/stable/modules/generated/sklearn.impute.SimpleImputer.html"
   ]
  },
  {
   "cell_type": "code",
   "execution_count": 19,
   "id": "complicated-today",
   "metadata": {},
   "outputs": [
    {
     "data": {
      "text/plain": [
       "SimpleImputer(strategy='median')"
      ]
     },
     "execution_count": 19,
     "metadata": {},
     "output_type": "execute_result"
    }
   ],
   "source": [
    "from sklearn.impute import SimpleImputer\n",
    "\n",
    "imputer = SimpleImputer(strategy='median')\n",
    "imputer.fit(housing_train_num)"
   ]
  },
  {
   "cell_type": "code",
   "execution_count": 20,
   "id": "emotional-depth",
   "metadata": {},
   "outputs": [
    {
     "data": {
      "text/plain": [
       "array([-118.45  ,   34.24  ,   27.    , 2142.    ,  441.    , 1207.    ,\n",
       "        416.    ,    3.4559])"
      ]
     },
     "execution_count": 20,
     "metadata": {},
     "output_type": "execute_result"
    }
   ],
   "source": [
    "imputer.statistics_  # computed medians"
   ]
  },
  {
   "cell_type": "code",
   "execution_count": 21,
   "id": "manual-spotlight",
   "metadata": {},
   "outputs": [
    {
     "data": {
      "text/plain": [
       "longitude             -118.4500\n",
       "latitude                34.2400\n",
       "housing_median_age      27.0000\n",
       "total_rooms           2142.0000\n",
       "total_bedrooms         441.0000\n",
       "population            1207.0000\n",
       "households             416.0000\n",
       "median_income            3.4559\n",
       "dtype: float64"
      ]
     },
     "execution_count": 21,
     "metadata": {},
     "output_type": "execute_result"
    }
   ],
   "source": [
    "housing_train_num.median()"
   ]
  },
  {
   "cell_type": "markdown",
   "id": "colored-cooling",
   "metadata": {},
   "source": [
    "<table align=\"left\" class=\"dashed-box\">\n",
    "<tr>\n",
    "    <td>💡</td>\n",
    "    <td>The <code>SimpleImputer</code> finds out the <i>statistic for imputation</i> <b>for ALL features</b>.</td>\n",
    "</tr>\n",
    "<tr>\n",
    "    <td></td>\n",
    "    <td>We can save this <i>transformer</i> on the disk for future transfomations.</td>\n",
    "</tr>\n",
    "</table><br/><br/>"
   ]
  },
  {
   "cell_type": "code",
   "execution_count": 22,
   "id": "designing-citizen",
   "metadata": {},
   "outputs": [
    {
     "data": {
      "text/plain": [
       "array([[-1.2137e+02,  3.7060e+01,  2.5000e+01, ...,  3.0000e+02,\n",
       "         1.0400e+02,  3.8062e+00],\n",
       "       [-1.1839e+02,  3.4140e+01,  1.9000e+01, ...,  2.0210e+03,\n",
       "         9.6000e+02,  5.5683e+00],\n",
       "       [-1.2207e+02,  3.7410e+01,  2.6000e+01, ...,  8.1500e+02,\n",
       "         2.1800e+02,  5.7657e+00],\n",
       "       ...,\n",
       "       [-1.2186e+02,  3.7310e+01,  2.4000e+01, ...,  1.8080e+03,\n",
       "         6.2500e+02,  2.2259e+00],\n",
       "       [-1.2132e+02,  3.7960e+01,  4.6000e+01, ...,  9.7500e+02,\n",
       "         3.7300e+02,  2.0398e+00],\n",
       "       [-1.1730e+02,  3.4140e+01,  3.9000e+01, ...,  8.4100e+02,\n",
       "         3.2000e+02,  1.9432e+00]])"
      ]
     },
     "execution_count": 22,
     "metadata": {},
     "output_type": "execute_result"
    }
   ],
   "source": [
    "# filling in the missing values FOR ALL attributes\n",
    "# it generates a numpy array\n",
    "housing_train_num_imputed = imputer.transform(housing_train_num)\n",
    "housing_train_num_imputed"
   ]
  },
  {
   "cell_type": "markdown",
   "id": "civilian-royalty",
   "metadata": {},
   "source": [
    "### 5.5. Adding new features\n",
    "To _automate data preprocessing_ via sklearn, we will need _to create_ our **own transformer** to add the new features considered."
   ]
  },
  {
   "cell_type": "code",
   "execution_count": 23,
   "id": "intended-order",
   "metadata": {},
   "outputs": [],
   "source": [
    "# template to create an own estimation\n",
    "from sklearn.base import BaseEstimator, TransformerMixin\n",
    "\n",
    "\n",
    "class NameOfYourTransformer(BaseEstimator, TransformerMixin):\n",
    "    def __init__(self):\n",
    "        pass\n",
    "    \n",
    "    def fit(self, X, y=None):\n",
    "        return self  # nothing else to do\n",
    "    \n",
    "    def transform(self, X):\n",
    "        return None  # return the transformed data instead of None\n"
   ]
  },
  {
   "cell_type": "markdown",
   "id": "indirect-processing",
   "metadata": {},
   "source": [
    "Since our custom transformer can be executed before other transformation, we will consider that the input is a **numpy 2D array**, not a _dataframe_. <br/>\n",
    "\n",
    "This transformer will create 3 new features, based on the current ones:\n",
    "- `total_rooms`\n",
    "- `total_bedrooms`\n",
    "- `population`\n",
    "- `households`\n",
    "\n",
    "\n",
    "Thus, we need to find their column indices first because our input will be a **numpy 2D array**."
   ]
  },
  {
   "cell_type": "code",
   "execution_count": 24,
   "id": "offshore-centre",
   "metadata": {},
   "outputs": [
    {
     "name": "stdout",
     "output_type": "stream",
     "text": [
      "0 = longitude\n",
      "1 = latitude\n",
      "2 = housing_median_age\n",
      "3 = total_rooms\n",
      "4 = total_bedrooms\n",
      "5 = population\n",
      "6 = households\n",
      "7 = median_income\n"
     ]
    }
   ],
   "source": [
    "# get the integer index of each attribute/column:\n",
    "for index, column_name in enumerate(housing_train_num.columns):\n",
    "    print(f'{index} = {column_name}')"
   ]
  },
  {
   "cell_type": "code",
   "execution_count": 25,
   "id": "aboriginal-heavy",
   "metadata": {},
   "outputs": [],
   "source": [
    "import numpy as np\n",
    "from sklearn.base import BaseEstimator, TransformerMixin\n",
    "\n",
    "total_rooms_col_idx = 3\n",
    "total_bedrooms_col_idx = 4\n",
    "population_col_idx = 5\n",
    "households_col_idx = 6\n",
    "\n",
    "\n",
    "class HousingFeatEngineering(BaseEstimator, TransformerMixin):\n",
    "    def __init__(self):\n",
    "        pass\n",
    "    \n",
    "    def fit(self, X, y=None):\n",
    "        return self  # nothing else to do\n",
    "    \n",
    "    def transform(self, X):\n",
    "        n_rows = X.shape[0]\n",
    "        \n",
    "        # creating the new features\n",
    "        rooms_per_household = X[:, total_rooms_col_idx] / X[:, households_col_idx]\n",
    "        bedrooms_per_room = X[:, total_bedrooms_col_idx] / X[:, total_rooms_col_idx]\n",
    "        population_per_household = X[:, population_col_idx] / X[:, households_col_idx]\n",
    "        \n",
    "        # to concatenate the new arrays as columns in our feature matrix, we need to reshape first\n",
    "        rooms_per_household = rooms_per_household.reshape((n_rows, 1))\n",
    "        bedrooms_per_room = bedrooms_per_room.reshape((n_rows, 1))\n",
    "        population_per_household = population_per_household.reshape((n_rows, 1))\n",
    "        \n",
    "        # concatenating the new features into the feature matrix X\n",
    "        X_out = np.hstack((X, rooms_per_household, bedrooms_per_room, population_per_household))\n",
    "        \n",
    "        return X_out\n"
   ]
  },
  {
   "cell_type": "code",
   "execution_count": 26,
   "id": "saving-frederick",
   "metadata": {},
   "outputs": [
    {
     "data": {
      "text/plain": [
       "array([[-121.37      ,   37.06      ,   25.        , ...,    4.55769231,\n",
       "           0.19409283,    2.88461538],\n",
       "       [-118.39      ,   34.14      ,   19.        , ...,    5.2875    ,\n",
       "           0.2037037 ,    2.10520833],\n",
       "       [-122.07      ,   37.41      ,   26.        , ...,    5.43119266,\n",
       "           0.19003378,    3.73853211],\n",
       "       ...,\n",
       "       [-121.86      ,   37.31      ,   24.        , ...,    3.1024    ,\n",
       "           0.3362558 ,    2.8928    ],\n",
       "       [-121.32      ,   37.96      ,   46.        , ...,    4.91152815,\n",
       "           0.19923581,    2.61394102],\n",
       "       [-117.3       ,   34.14      ,   39.        , ...,    5.565625  ,\n",
       "           0.18809657,    2.628125  ]])"
      ]
     },
     "execution_count": 26,
     "metadata": {},
     "output_type": "execute_result"
    }
   ],
   "source": [
    "feat_engineer = HousingFeatEngineering()\n",
    "\n",
    "housing_train_num_new_feats = feat_engineer.transform(housing_train_num.values)  # we need to convert it to numpy first\n",
    "housing_train_num_new_feats"
   ]
  },
  {
   "cell_type": "code",
   "execution_count": 27,
   "id": "elder-effects",
   "metadata": {},
   "outputs": [
    {
     "data": {
      "text/plain": [
       "(14857, 11)"
      ]
     },
     "execution_count": 27,
     "metadata": {},
     "output_type": "execute_result"
    }
   ],
   "source": [
    "housing_train_num_new_feats.shape"
   ]
  },
  {
   "cell_type": "code",
   "execution_count": 28,
   "id": "peaceful-coating",
   "metadata": {},
   "outputs": [
    {
     "data": {
      "text/plain": [
       "array([[4.55769231, 0.19409283, 2.88461538],\n",
       "       [5.2875    , 0.2037037 , 2.10520833],\n",
       "       [5.43119266, 0.19003378, 3.73853211],\n",
       "       ...,\n",
       "       [3.1024    , 0.3362558 , 2.8928    ],\n",
       "       [4.91152815, 0.19923581, 2.61394102],\n",
       "       [5.565625  , 0.18809657, 2.628125  ]])"
      ]
     },
     "execution_count": 28,
     "metadata": {},
     "output_type": "execute_result"
    }
   ],
   "source": [
    "# show the new feats\n",
    "housing_train_num_new_feats[:, -3:]"
   ]
  },
  {
   "cell_type": "markdown",
   "id": "missing-voluntary",
   "metadata": {},
   "source": [
    "### 5.6. Feature Scaling\n",
    "Exactly as performed in the previous sprint: **RobustScaler**. <br/>\n",
    "https://scikit-learn.org/stable/modules/generated/sklearn.preprocessing.RobustScaler.html"
   ]
  },
  {
   "cell_type": "code",
   "execution_count": 29,
   "id": "intelligent-microphone",
   "metadata": {},
   "outputs": [
    {
     "data": {
      "text/plain": [
       "RobustScaler()"
      ]
     },
     "execution_count": 29,
     "metadata": {},
     "output_type": "execute_result"
    }
   ],
   "source": [
    "from sklearn.preprocessing import RobustScaler\n",
    "\n",
    "scaler = RobustScaler()\n",
    "scaler.fit(housing_train_num)"
   ]
  },
  {
   "cell_type": "code",
   "execution_count": 30,
   "id": "banned-execution",
   "metadata": {},
   "outputs": [
    {
     "data": {
      "text/plain": [
       "array([[-0.81337047,  0.752     , -0.11111111, ..., -0.93989637,\n",
       "        -0.94545455,  0.1689414 ],\n",
       "       [ 0.01671309, -0.02666667, -0.44444444, ...,  0.84352332,\n",
       "         1.64848485,  1.01876055],\n",
       "       [-1.00835655,  0.84533333, -0.05555556, ..., -0.40621762,\n",
       "        -0.6       ,  1.1139619 ],\n",
       "       ...,\n",
       "       [-0.94986072,  0.81866667, -0.16666667, ...,  0.62279793,\n",
       "         0.63333333, -0.5931999 ],\n",
       "       [-0.7994429 ,  0.992     ,  1.05555556, ..., -0.24041451,\n",
       "        -0.13030303, -0.68295153],\n",
       "       [ 0.32033426, -0.02666667,  0.66666667, ..., -0.37927461,\n",
       "        -0.29090909, -0.72953943]])"
      ]
     },
     "execution_count": 30,
     "metadata": {},
     "output_type": "execute_result"
    }
   ],
   "source": [
    "housing_train_num_scaled = scaler.transform(housing_train_num)\n",
    "housing_train_num_scaled"
   ]
  },
  {
   "cell_type": "markdown",
   "id": "acquired-kuwait",
   "metadata": {},
   "source": [
    "### 5.7. Categorical Variable Encoding\n",
    "Instead of using the method `.get_dummies()` from _pandas_, let's use a method from _sklearn_.\n",
    "\n",
    "`sklearn.preprocessing.OneHotEncoder` <br/>\n",
    "https://scikit-learn.org/stable/modules/generated/sklearn.preprocessing.OneHotEncoder.html"
   ]
  },
  {
   "cell_type": "code",
   "execution_count": 31,
   "id": "seasonal-directory",
   "metadata": {},
   "outputs": [
    {
     "data": {
      "text/html": [
       "<div>\n",
       "<style scoped>\n",
       "    .dataframe tbody tr th:only-of-type {\n",
       "        vertical-align: middle;\n",
       "    }\n",
       "\n",
       "    .dataframe tbody tr th {\n",
       "        vertical-align: top;\n",
       "    }\n",
       "\n",
       "    .dataframe thead th {\n",
       "        text-align: right;\n",
       "    }\n",
       "</style>\n",
       "<table border=\"1\" class=\"dataframe\">\n",
       "  <thead>\n",
       "    <tr style=\"text-align: right;\">\n",
       "      <th></th>\n",
       "      <th>ocean_proximity</th>\n",
       "    </tr>\n",
       "  </thead>\n",
       "  <tbody>\n",
       "    <tr>\n",
       "      <th>0</th>\n",
       "      <td>INLAND</td>\n",
       "    </tr>\n",
       "    <tr>\n",
       "      <th>1</th>\n",
       "      <td>&lt;1H OCEAN</td>\n",
       "    </tr>\n",
       "    <tr>\n",
       "      <th>2</th>\n",
       "      <td>NEAR BAY</td>\n",
       "    </tr>\n",
       "    <tr>\n",
       "      <th>3</th>\n",
       "      <td>NEAR OCEAN</td>\n",
       "    </tr>\n",
       "    <tr>\n",
       "      <th>4</th>\n",
       "      <td>&lt;1H OCEAN</td>\n",
       "    </tr>\n",
       "    <tr>\n",
       "      <th>...</th>\n",
       "      <td>...</td>\n",
       "    </tr>\n",
       "    <tr>\n",
       "      <th>14852</th>\n",
       "      <td>NEAR OCEAN</td>\n",
       "    </tr>\n",
       "    <tr>\n",
       "      <th>14853</th>\n",
       "      <td>&lt;1H OCEAN</td>\n",
       "    </tr>\n",
       "    <tr>\n",
       "      <th>14854</th>\n",
       "      <td>&lt;1H OCEAN</td>\n",
       "    </tr>\n",
       "    <tr>\n",
       "      <th>14855</th>\n",
       "      <td>INLAND</td>\n",
       "    </tr>\n",
       "    <tr>\n",
       "      <th>14856</th>\n",
       "      <td>INLAND</td>\n",
       "    </tr>\n",
       "  </tbody>\n",
       "</table>\n",
       "<p>14857 rows × 1 columns</p>\n",
       "</div>"
      ],
      "text/plain": [
       "      ocean_proximity\n",
       "0              INLAND\n",
       "1           <1H OCEAN\n",
       "2            NEAR BAY\n",
       "3          NEAR OCEAN\n",
       "4           <1H OCEAN\n",
       "...               ...\n",
       "14852      NEAR OCEAN\n",
       "14853       <1H OCEAN\n",
       "14854       <1H OCEAN\n",
       "14855          INLAND\n",
       "14856          INLAND\n",
       "\n",
       "[14857 rows x 1 columns]"
      ]
     },
     "execution_count": 31,
     "metadata": {},
     "output_type": "execute_result"
    }
   ],
   "source": [
    "housing_train_cat"
   ]
  },
  {
   "cell_type": "code",
   "execution_count": 32,
   "id": "surprised-category",
   "metadata": {},
   "outputs": [],
   "source": [
    "from sklearn.preprocessing import OneHotEncoder\n",
    "\n",
    "encoder = OneHotEncoder(handle_unknown='ignore')\n",
    "housing_train_cat_1hot = encoder.fit_transform(housing_train_cat)"
   ]
  },
  {
   "cell_type": "code",
   "execution_count": 33,
   "id": "found-blade",
   "metadata": {},
   "outputs": [
    {
     "data": {
      "text/html": [
       "<div>\n",
       "<style scoped>\n",
       "    .dataframe tbody tr th:only-of-type {\n",
       "        vertical-align: middle;\n",
       "    }\n",
       "\n",
       "    .dataframe tbody tr th {\n",
       "        vertical-align: top;\n",
       "    }\n",
       "\n",
       "    .dataframe thead th {\n",
       "        text-align: right;\n",
       "    }\n",
       "</style>\n",
       "<table border=\"1\" class=\"dataframe\">\n",
       "  <thead>\n",
       "    <tr style=\"text-align: right;\">\n",
       "      <th></th>\n",
       "      <th>ocean_proximity</th>\n",
       "    </tr>\n",
       "  </thead>\n",
       "  <tbody>\n",
       "    <tr>\n",
       "      <th>0</th>\n",
       "      <td>INLAND</td>\n",
       "    </tr>\n",
       "    <tr>\n",
       "      <th>1</th>\n",
       "      <td>&lt;1H OCEAN</td>\n",
       "    </tr>\n",
       "    <tr>\n",
       "      <th>2</th>\n",
       "      <td>NEAR BAY</td>\n",
       "    </tr>\n",
       "    <tr>\n",
       "      <th>3</th>\n",
       "      <td>NEAR OCEAN</td>\n",
       "    </tr>\n",
       "    <tr>\n",
       "      <th>4</th>\n",
       "      <td>&lt;1H OCEAN</td>\n",
       "    </tr>\n",
       "    <tr>\n",
       "      <th>...</th>\n",
       "      <td>...</td>\n",
       "    </tr>\n",
       "    <tr>\n",
       "      <th>14852</th>\n",
       "      <td>NEAR OCEAN</td>\n",
       "    </tr>\n",
       "    <tr>\n",
       "      <th>14853</th>\n",
       "      <td>&lt;1H OCEAN</td>\n",
       "    </tr>\n",
       "    <tr>\n",
       "      <th>14854</th>\n",
       "      <td>&lt;1H OCEAN</td>\n",
       "    </tr>\n",
       "    <tr>\n",
       "      <th>14855</th>\n",
       "      <td>INLAND</td>\n",
       "    </tr>\n",
       "    <tr>\n",
       "      <th>14856</th>\n",
       "      <td>INLAND</td>\n",
       "    </tr>\n",
       "  </tbody>\n",
       "</table>\n",
       "<p>14857 rows × 1 columns</p>\n",
       "</div>"
      ],
      "text/plain": [
       "      ocean_proximity\n",
       "0              INLAND\n",
       "1           <1H OCEAN\n",
       "2            NEAR BAY\n",
       "3          NEAR OCEAN\n",
       "4           <1H OCEAN\n",
       "...               ...\n",
       "14852      NEAR OCEAN\n",
       "14853       <1H OCEAN\n",
       "14854       <1H OCEAN\n",
       "14855          INLAND\n",
       "14856          INLAND\n",
       "\n",
       "[14857 rows x 1 columns]"
      ]
     },
     "execution_count": 33,
     "metadata": {},
     "output_type": "execute_result"
    }
   ],
   "source": [
    "housing_train_cat"
   ]
  },
  {
   "cell_type": "code",
   "execution_count": 34,
   "id": "developed-training",
   "metadata": {},
   "outputs": [
    {
     "data": {
      "text/plain": [
       "<14857x5 sparse matrix of type '<class 'numpy.float64'>'\n",
       "\twith 14857 stored elements in Compressed Sparse Row format>"
      ]
     },
     "execution_count": 34,
     "metadata": {},
     "output_type": "execute_result"
    }
   ],
   "source": [
    "housing_train_cat_1hot"
   ]
  },
  {
   "cell_type": "markdown",
   "id": "textile-hybrid",
   "metadata": {},
   "source": [
    "<table align=\"left\" class=\"dashed-box\">\n",
    "<tr>\n",
    "    <td>💡</td>\n",
    "    <td>Notice that the output is a <i>SciPy sparse matrix</i>, instead of a <i>NumPy array</i>. This is very useful when you have categorical attributes with <b>thousands of categories</b>.</td>\n",
    "</tr>\n",
    "<tr>\n",
    "    <td></td>\n",
    "    <td>After one-hot encoding, we get a matrix with thousands of columns, and the matrix is <i>full of 0s</i> except for <i>a single <b>1</b> per row</i>.</td>\n",
    "</tr>\n",
    "<tr>\n",
    "    <td></td>\n",
    "    <td>Using up tons of memory mostly to store zeros would be very wasteful, so instead a sparse matrix only stores the location of the nonzero elements.</td>\n",
    "</tr>\n",
    "</table><br/><br/>\n"
   ]
  },
  {
   "cell_type": "code",
   "execution_count": 35,
   "id": "fleet-divide",
   "metadata": {},
   "outputs": [
    {
     "data": {
      "text/plain": [
       "array([[0., 1., 0., 0., 0.],\n",
       "       [1., 0., 0., 0., 0.],\n",
       "       [0., 0., 0., 1., 0.],\n",
       "       ...,\n",
       "       [1., 0., 0., 0., 0.],\n",
       "       [0., 1., 0., 0., 0.],\n",
       "       [0., 1., 0., 0., 0.]])"
      ]
     },
     "execution_count": 35,
     "metadata": {},
     "output_type": "execute_result"
    }
   ],
   "source": [
    "# converting to NumPy array\n",
    "housing_train_cat_1hot.toarray()"
   ]
  },
  {
   "cell_type": "code",
   "execution_count": 36,
   "id": "silent-memorabilia",
   "metadata": {},
   "outputs": [
    {
     "data": {
      "text/plain": [
       "[array(['<1H OCEAN', 'INLAND', 'ISLAND', 'NEAR BAY', 'NEAR OCEAN'],\n",
       "       dtype=object)]"
      ]
     },
     "execution_count": 36,
     "metadata": {},
     "output_type": "execute_result"
    }
   ],
   "source": [
    "# getting the list of categories\n",
    "encoder.categories_"
   ]
  },
  {
   "cell_type": "markdown",
   "id": "normal-firewall",
   "metadata": {},
   "source": [
    "### 5.8. Creating Preprocessing `Pipelines`\n",
    "https://scikit-learn.org/stable/modules/generated/sklearn.pipeline.Pipeline.html"
   ]
  },
  {
   "cell_type": "markdown",
   "id": "thermal-garlic",
   "metadata": {},
   "source": [
    "<table align=\"left\" class=\"dashed-box\">\n",
    "<tr>\n",
    "    <td><span class='alt-tab'>alt tab</span></td>\n",
    "    <td><b>Slides:</b> Scikit-Learn Design Principles - Pipelines<br/></td>\n",
    "</tr>\n",
    "</table><br/><br/>"
   ]
  },
  {
   "cell_type": "markdown",
   "id": "illegal-reason",
   "metadata": {},
   "source": [
    "Let's create a **Preprocessing `Pipeline`**."
   ]
  },
  {
   "cell_type": "code",
   "execution_count": 37,
   "id": "damaged-manner",
   "metadata": {},
   "outputs": [],
   "source": [
    "from sklearn.pipeline import Pipeline"
   ]
  },
  {
   "cell_type": "markdown",
   "id": "occasional-coalition",
   "metadata": {},
   "source": [
    "#### Pipeline for numerical data"
   ]
  },
  {
   "cell_type": "code",
   "execution_count": 38,
   "id": "legislative-football",
   "metadata": {},
   "outputs": [],
   "source": [
    "from sklearn.impute import SimpleImputer\n",
    "from sklearn.preprocessing import RobustScaler\n",
    "\n",
    "num_pipeline = Pipeline([\n",
    "    ('imputer', SimpleImputer(strategy='median')),\n",
    "    ('feat_engineering', HousingFeatEngineering()),\n",
    "    ('robust_scaler', RobustScaler())\n",
    "])"
   ]
  },
  {
   "cell_type": "code",
   "execution_count": 39,
   "id": "unlikely-subsection",
   "metadata": {},
   "outputs": [],
   "source": [
    "housing_train_num_preprocessed = num_pipeline.fit_transform(housing_train_num)"
   ]
  },
  {
   "cell_type": "code",
   "execution_count": 40,
   "id": "metric-butler",
   "metadata": {},
   "outputs": [
    {
     "data": {
      "text/plain": [
       "array([[-0.81337047,  0.752     , -0.11111111, ..., -0.41720345,\n",
       "        -0.15307229,  0.03593627],\n",
       "       [ 0.01671309, -0.02666667, -0.44444444, ...,  0.05044793,\n",
       "        -0.00235622, -0.88393775],\n",
       "       [-1.00835655,  0.84533333, -0.05555556, ...,  0.14252434,\n",
       "        -0.21672549,  1.04374832],\n",
       "       ...,\n",
       "       [-0.94986072,  0.81866667, -0.16666667, ..., -1.34973604,\n",
       "         2.07630238,  0.04559594],\n",
       "       [-0.7994429 ,  0.992     ,  1.05555556, ..., -0.19046999,\n",
       "        -0.07242097, -0.2835198 ],\n",
       "       [ 0.32033426, -0.02666667,  0.66666667, ...,  0.22866686,\n",
       "        -0.24710446, -0.26677954]])"
      ]
     },
     "execution_count": 40,
     "metadata": {},
     "output_type": "execute_result"
    }
   ],
   "source": [
    "housing_train_num_preprocessed"
   ]
  },
  {
   "cell_type": "code",
   "execution_count": 41,
   "id": "curious-accreditation",
   "metadata": {},
   "outputs": [
    {
     "data": {
      "text/plain": [
       "(14857, 11)"
      ]
     },
     "execution_count": 41,
     "metadata": {},
     "output_type": "execute_result"
    }
   ],
   "source": [
    "housing_train_num_preprocessed.shape"
   ]
  },
  {
   "cell_type": "markdown",
   "id": "confident-poland",
   "metadata": {},
   "source": [
    "#### Pipeline for categorical data"
   ]
  },
  {
   "cell_type": "code",
   "execution_count": 42,
   "id": "necessary-briefing",
   "metadata": {},
   "outputs": [],
   "source": [
    "from sklearn.preprocessing import OneHotEncoder\n",
    "\n",
    "cat_pipeline = Pipeline([\n",
    "    ('one-hot-encoding', OneHotEncoder(handle_unknown='ignore'))\n",
    "])"
   ]
  },
  {
   "cell_type": "code",
   "execution_count": 43,
   "id": "north-adjustment",
   "metadata": {},
   "outputs": [],
   "source": [
    "housing_train_cat_preprocessed = cat_pipeline.fit_transform(housing_train_cat)"
   ]
  },
  {
   "cell_type": "code",
   "execution_count": 44,
   "id": "assured-transition",
   "metadata": {},
   "outputs": [
    {
     "data": {
      "text/plain": [
       "array([[0., 1., 0., 0., 0.],\n",
       "       [1., 0., 0., 0., 0.],\n",
       "       [0., 0., 0., 1., 0.],\n",
       "       ...,\n",
       "       [1., 0., 0., 0., 0.],\n",
       "       [0., 1., 0., 0., 0.],\n",
       "       [0., 1., 0., 0., 0.]])"
      ]
     },
     "execution_count": 44,
     "metadata": {},
     "output_type": "execute_result"
    }
   ],
   "source": [
    "housing_train_cat_preprocessed.toarray()"
   ]
  },
  {
   "cell_type": "code",
   "execution_count": 45,
   "id": "better-pierre",
   "metadata": {},
   "outputs": [
    {
     "data": {
      "text/plain": [
       "<14857x5 sparse matrix of type '<class 'numpy.float64'>'\n",
       "\twith 14857 stored elements in Compressed Sparse Row format>"
      ]
     },
     "execution_count": 45,
     "metadata": {},
     "output_type": "execute_result"
    }
   ],
   "source": [
    "housing_train_cat_1hot"
   ]
  },
  {
   "cell_type": "code",
   "execution_count": 46,
   "id": "developmental-surfing",
   "metadata": {},
   "outputs": [
    {
     "data": {
      "text/plain": [
       "True"
      ]
     },
     "execution_count": 46,
     "metadata": {},
     "output_type": "execute_result"
    }
   ],
   "source": [
    "np.all(housing_train_cat_preprocessed.toarray() == housing_train_cat_1hot)"
   ]
  },
  {
   "cell_type": "markdown",
   "id": "practical-photography",
   "metadata": {},
   "source": [
    "### 5.9. Putting it all by `ColumnTransformer`\n",
    "https://scikit-learn.org/stable/modules/generated/sklearn.compose.ColumnTransformer.html"
   ]
  },
  {
   "cell_type": "markdown",
   "id": "initial-courage",
   "metadata": {},
   "source": [
    "Applies _transformers_ to **columns** of an array or pandas DataFrame. <br/>\n",
    "This **estimator** allows _different columns_ or _column subsets_ of the input to be **transformed *separately*** and the _features generated_ by each transformer will be _concatenated_ to form a **single feature space**. <br/>\n",
    "\n",
    "This is useful for _heterogeneous or columnar data_, to combine several feature extraction mechanisms or transformations into a single transformer."
   ]
  },
  {
   "cell_type": "code",
   "execution_count": 47,
   "id": "intense-charge",
   "metadata": {},
   "outputs": [
    {
     "data": {
      "text/html": [
       "<div>\n",
       "<style scoped>\n",
       "    .dataframe tbody tr th:only-of-type {\n",
       "        vertical-align: middle;\n",
       "    }\n",
       "\n",
       "    .dataframe tbody tr th {\n",
       "        vertical-align: top;\n",
       "    }\n",
       "\n",
       "    .dataframe thead th {\n",
       "        text-align: right;\n",
       "    }\n",
       "</style>\n",
       "<table border=\"1\" class=\"dataframe\">\n",
       "  <thead>\n",
       "    <tr style=\"text-align: right;\">\n",
       "      <th></th>\n",
       "      <th>longitude</th>\n",
       "      <th>latitude</th>\n",
       "      <th>housing_median_age</th>\n",
       "      <th>total_rooms</th>\n",
       "      <th>total_bedrooms</th>\n",
       "      <th>population</th>\n",
       "      <th>households</th>\n",
       "      <th>median_income</th>\n",
       "      <th>ocean_proximity</th>\n",
       "    </tr>\n",
       "  </thead>\n",
       "  <tbody>\n",
       "    <tr>\n",
       "      <th>0</th>\n",
       "      <td>-121.37</td>\n",
       "      <td>37.06</td>\n",
       "      <td>25.0</td>\n",
       "      <td>474.0</td>\n",
       "      <td>92.0</td>\n",
       "      <td>300.0</td>\n",
       "      <td>104.0</td>\n",
       "      <td>3.8062</td>\n",
       "      <td>INLAND</td>\n",
       "    </tr>\n",
       "    <tr>\n",
       "      <th>1</th>\n",
       "      <td>-118.39</td>\n",
       "      <td>34.14</td>\n",
       "      <td>19.0</td>\n",
       "      <td>5076.0</td>\n",
       "      <td>1034.0</td>\n",
       "      <td>2021.0</td>\n",
       "      <td>960.0</td>\n",
       "      <td>5.5683</td>\n",
       "      <td>&lt;1H OCEAN</td>\n",
       "    </tr>\n",
       "    <tr>\n",
       "      <th>2</th>\n",
       "      <td>-122.07</td>\n",
       "      <td>37.41</td>\n",
       "      <td>26.0</td>\n",
       "      <td>1184.0</td>\n",
       "      <td>225.0</td>\n",
       "      <td>815.0</td>\n",
       "      <td>218.0</td>\n",
       "      <td>5.7657</td>\n",
       "      <td>NEAR BAY</td>\n",
       "    </tr>\n",
       "    <tr>\n",
       "      <th>3</th>\n",
       "      <td>-121.92</td>\n",
       "      <td>36.57</td>\n",
       "      <td>42.0</td>\n",
       "      <td>3944.0</td>\n",
       "      <td>738.0</td>\n",
       "      <td>1374.0</td>\n",
       "      <td>598.0</td>\n",
       "      <td>4.1740</td>\n",
       "      <td>NEAR OCEAN</td>\n",
       "    </tr>\n",
       "    <tr>\n",
       "      <th>4</th>\n",
       "      <td>-118.36</td>\n",
       "      <td>33.82</td>\n",
       "      <td>36.0</td>\n",
       "      <td>1083.0</td>\n",
       "      <td>187.0</td>\n",
       "      <td>522.0</td>\n",
       "      <td>187.0</td>\n",
       "      <td>5.7765</td>\n",
       "      <td>&lt;1H OCEAN</td>\n",
       "    </tr>\n",
       "    <tr>\n",
       "      <th>...</th>\n",
       "      <td>...</td>\n",
       "      <td>...</td>\n",
       "      <td>...</td>\n",
       "      <td>...</td>\n",
       "      <td>...</td>\n",
       "      <td>...</td>\n",
       "      <td>...</td>\n",
       "      <td>...</td>\n",
       "      <td>...</td>\n",
       "    </tr>\n",
       "    <tr>\n",
       "      <th>14852</th>\n",
       "      <td>-124.14</td>\n",
       "      <td>41.06</td>\n",
       "      <td>32.0</td>\n",
       "      <td>1020.0</td>\n",
       "      <td>215.0</td>\n",
       "      <td>421.0</td>\n",
       "      <td>198.0</td>\n",
       "      <td>3.0208</td>\n",
       "      <td>NEAR OCEAN</td>\n",
       "    </tr>\n",
       "    <tr>\n",
       "      <th>14853</th>\n",
       "      <td>-118.22</td>\n",
       "      <td>33.98</td>\n",
       "      <td>32.0</td>\n",
       "      <td>2643.0</td>\n",
       "      <td>737.0</td>\n",
       "      <td>2784.0</td>\n",
       "      <td>711.0</td>\n",
       "      <td>2.5352</td>\n",
       "      <td>&lt;1H OCEAN</td>\n",
       "    </tr>\n",
       "    <tr>\n",
       "      <th>14854</th>\n",
       "      <td>-121.86</td>\n",
       "      <td>37.31</td>\n",
       "      <td>24.0</td>\n",
       "      <td>1939.0</td>\n",
       "      <td>652.0</td>\n",
       "      <td>1808.0</td>\n",
       "      <td>625.0</td>\n",
       "      <td>2.2259</td>\n",
       "      <td>&lt;1H OCEAN</td>\n",
       "    </tr>\n",
       "    <tr>\n",
       "      <th>14855</th>\n",
       "      <td>-121.32</td>\n",
       "      <td>37.96</td>\n",
       "      <td>46.0</td>\n",
       "      <td>1832.0</td>\n",
       "      <td>365.0</td>\n",
       "      <td>975.0</td>\n",
       "      <td>373.0</td>\n",
       "      <td>2.0398</td>\n",
       "      <td>INLAND</td>\n",
       "    </tr>\n",
       "    <tr>\n",
       "      <th>14856</th>\n",
       "      <td>-117.30</td>\n",
       "      <td>34.14</td>\n",
       "      <td>39.0</td>\n",
       "      <td>1781.0</td>\n",
       "      <td>335.0</td>\n",
       "      <td>841.0</td>\n",
       "      <td>320.0</td>\n",
       "      <td>1.9432</td>\n",
       "      <td>INLAND</td>\n",
       "    </tr>\n",
       "  </tbody>\n",
       "</table>\n",
       "<p>14857 rows × 9 columns</p>\n",
       "</div>"
      ],
      "text/plain": [
       "       longitude  latitude  housing_median_age  total_rooms  total_bedrooms  \\\n",
       "0        -121.37     37.06                25.0        474.0            92.0   \n",
       "1        -118.39     34.14                19.0       5076.0          1034.0   \n",
       "2        -122.07     37.41                26.0       1184.0           225.0   \n",
       "3        -121.92     36.57                42.0       3944.0           738.0   \n",
       "4        -118.36     33.82                36.0       1083.0           187.0   \n",
       "...          ...       ...                 ...          ...             ...   \n",
       "14852    -124.14     41.06                32.0       1020.0           215.0   \n",
       "14853    -118.22     33.98                32.0       2643.0           737.0   \n",
       "14854    -121.86     37.31                24.0       1939.0           652.0   \n",
       "14855    -121.32     37.96                46.0       1832.0           365.0   \n",
       "14856    -117.30     34.14                39.0       1781.0           335.0   \n",
       "\n",
       "       population  households  median_income ocean_proximity  \n",
       "0           300.0       104.0         3.8062          INLAND  \n",
       "1          2021.0       960.0         5.5683       <1H OCEAN  \n",
       "2           815.0       218.0         5.7657        NEAR BAY  \n",
       "3          1374.0       598.0         4.1740      NEAR OCEAN  \n",
       "4           522.0       187.0         5.7765       <1H OCEAN  \n",
       "...           ...         ...            ...             ...  \n",
       "14852       421.0       198.0         3.0208      NEAR OCEAN  \n",
       "14853      2784.0       711.0         2.5352       <1H OCEAN  \n",
       "14854      1808.0       625.0         2.2259       <1H OCEAN  \n",
       "14855       975.0       373.0         2.0398          INLAND  \n",
       "14856       841.0       320.0         1.9432          INLAND  \n",
       "\n",
       "[14857 rows x 9 columns]"
      ]
     },
     "execution_count": 47,
     "metadata": {},
     "output_type": "execute_result"
    }
   ],
   "source": [
    "housing_train"
   ]
  },
  {
   "cell_type": "code",
   "execution_count": 48,
   "id": "annual-geology",
   "metadata": {},
   "outputs": [
    {
     "data": {
      "text/plain": [
       "Index(['longitude', 'latitude', 'housing_median_age', 'total_rooms',\n",
       "       'total_bedrooms', 'population', 'households', 'median_income'],\n",
       "      dtype='object')"
      ]
     },
     "execution_count": 48,
     "metadata": {},
     "output_type": "execute_result"
    }
   ],
   "source": [
    "num_attributes"
   ]
  },
  {
   "cell_type": "code",
   "execution_count": 49,
   "id": "dirty-matrix",
   "metadata": {},
   "outputs": [
    {
     "data": {
      "text/plain": [
       "['ocean_proximity']"
      ]
     },
     "execution_count": 49,
     "metadata": {},
     "output_type": "execute_result"
    }
   ],
   "source": [
    "cat_attributes"
   ]
  },
  {
   "cell_type": "code",
   "execution_count": 50,
   "id": "explicit-colleague",
   "metadata": {},
   "outputs": [
    {
     "data": {
      "text/html": [
       "<div>\n",
       "<style scoped>\n",
       "    .dataframe tbody tr th:only-of-type {\n",
       "        vertical-align: middle;\n",
       "    }\n",
       "\n",
       "    .dataframe tbody tr th {\n",
       "        vertical-align: top;\n",
       "    }\n",
       "\n",
       "    .dataframe thead th {\n",
       "        text-align: right;\n",
       "    }\n",
       "</style>\n",
       "<table border=\"1\" class=\"dataframe\">\n",
       "  <thead>\n",
       "    <tr style=\"text-align: right;\">\n",
       "      <th></th>\n",
       "      <th>longitude</th>\n",
       "      <th>latitude</th>\n",
       "      <th>housing_median_age</th>\n",
       "      <th>total_rooms</th>\n",
       "      <th>total_bedrooms</th>\n",
       "      <th>population</th>\n",
       "      <th>households</th>\n",
       "      <th>median_income</th>\n",
       "      <th>ocean_proximity</th>\n",
       "    </tr>\n",
       "  </thead>\n",
       "  <tbody>\n",
       "    <tr>\n",
       "      <th>0</th>\n",
       "      <td>-121.37</td>\n",
       "      <td>37.06</td>\n",
       "      <td>25.0</td>\n",
       "      <td>474.0</td>\n",
       "      <td>92.0</td>\n",
       "      <td>300.0</td>\n",
       "      <td>104.0</td>\n",
       "      <td>3.8062</td>\n",
       "      <td>INLAND</td>\n",
       "    </tr>\n",
       "    <tr>\n",
       "      <th>1</th>\n",
       "      <td>-118.39</td>\n",
       "      <td>34.14</td>\n",
       "      <td>19.0</td>\n",
       "      <td>5076.0</td>\n",
       "      <td>1034.0</td>\n",
       "      <td>2021.0</td>\n",
       "      <td>960.0</td>\n",
       "      <td>5.5683</td>\n",
       "      <td>&lt;1H OCEAN</td>\n",
       "    </tr>\n",
       "    <tr>\n",
       "      <th>2</th>\n",
       "      <td>-122.07</td>\n",
       "      <td>37.41</td>\n",
       "      <td>26.0</td>\n",
       "      <td>1184.0</td>\n",
       "      <td>225.0</td>\n",
       "      <td>815.0</td>\n",
       "      <td>218.0</td>\n",
       "      <td>5.7657</td>\n",
       "      <td>NEAR BAY</td>\n",
       "    </tr>\n",
       "    <tr>\n",
       "      <th>3</th>\n",
       "      <td>-121.92</td>\n",
       "      <td>36.57</td>\n",
       "      <td>42.0</td>\n",
       "      <td>3944.0</td>\n",
       "      <td>738.0</td>\n",
       "      <td>1374.0</td>\n",
       "      <td>598.0</td>\n",
       "      <td>4.1740</td>\n",
       "      <td>NEAR OCEAN</td>\n",
       "    </tr>\n",
       "    <tr>\n",
       "      <th>4</th>\n",
       "      <td>-118.36</td>\n",
       "      <td>33.82</td>\n",
       "      <td>36.0</td>\n",
       "      <td>1083.0</td>\n",
       "      <td>187.0</td>\n",
       "      <td>522.0</td>\n",
       "      <td>187.0</td>\n",
       "      <td>5.7765</td>\n",
       "      <td>&lt;1H OCEAN</td>\n",
       "    </tr>\n",
       "  </tbody>\n",
       "</table>\n",
       "</div>"
      ],
      "text/plain": [
       "   longitude  latitude  housing_median_age  total_rooms  total_bedrooms  \\\n",
       "0    -121.37     37.06                25.0        474.0            92.0   \n",
       "1    -118.39     34.14                19.0       5076.0          1034.0   \n",
       "2    -122.07     37.41                26.0       1184.0           225.0   \n",
       "3    -121.92     36.57                42.0       3944.0           738.0   \n",
       "4    -118.36     33.82                36.0       1083.0           187.0   \n",
       "\n",
       "   population  households  median_income ocean_proximity  \n",
       "0       300.0       104.0         3.8062          INLAND  \n",
       "1      2021.0       960.0         5.5683       <1H OCEAN  \n",
       "2       815.0       218.0         5.7657        NEAR BAY  \n",
       "3      1374.0       598.0         4.1740      NEAR OCEAN  \n",
       "4       522.0       187.0         5.7765       <1H OCEAN  "
      ]
     },
     "execution_count": 50,
     "metadata": {},
     "output_type": "execute_result"
    }
   ],
   "source": [
    "housing_train.head()"
   ]
  },
  {
   "cell_type": "code",
   "execution_count": 51,
   "id": "earlier-brush",
   "metadata": {},
   "outputs": [],
   "source": [
    "from sklearn.impute import SimpleImputer\n",
    "from sklearn.preprocessing import RobustScaler\n",
    "from sklearn.preprocessing import OneHotEncoder\n",
    "\n",
    "from sklearn.pipeline import Pipeline\n",
    "from sklearn.compose import ColumnTransformer\n",
    "\n",
    "num_pipeline = Pipeline([\n",
    "    ('imputer', SimpleImputer(strategy='median')),\n",
    "    ('feat_engineering', HousingFeatEngineering()),\n",
    "    ('robust_scaler', RobustScaler())\n",
    "])\n",
    "\n",
    "cat_pipeline = Pipeline([\n",
    "    ('one-hot-encoding', OneHotEncoder(handle_unknown='ignore'))\n",
    "])\n",
    "\n",
    "\n",
    "# (name, transformer, columns)\n",
    "preprocessed_pipeline = ColumnTransformer([\n",
    "    ('numerical', num_pipeline, num_attributes),\n",
    "    ('categorical', cat_pipeline, cat_attributes)\n",
    "])"
   ]
  },
  {
   "cell_type": "markdown",
   "id": "sound-immune",
   "metadata": {},
   "source": [
    "<table align=\"left\" class=\"dashed-box\">\n",
    "<tr>\n",
    "    <td>⚠️</td>\n",
    "    <td><b>BE CAREFUL</b>.</td>\n",
    "</tr>\n",
    "<tr>\n",
    "    <td></td>\n",
    "    <td>When performing the pipeline <i>\"numerical\"</i>, <code>ColumnTransformer</code> first <i>selects/filters</i> the columns passed by the list <code>num_attributes</code>. We then have a <i>new dataframe</i> with <b>new indices</b> that will be processed.</td>\n",
    "</tr>\n",
    "<tr>\n",
    "    <td></td>\n",
    "    <td>When generating new features, our custom transformer <code>HousingFeatEngineering()</code> assumes a given values for the indices of <code>total_rooms</code>, <code>total_bedrooms</code>, etc.</td>\n",
    "</tr>\n",
    "<tr>\n",
    "    <td></td>\n",
    "    <td>These considered indices <b>MUST MATCH EXACTLY</b> with the <i>corresponding columns</i> of the numpy array or dataframe passed as input. For our case, this matching is true.</td>\n",
    "</tr>\n",
    "<tr>\n",
    "    <td></td>\n",
    "    <td>But, <b>BE CAREFUL!!!</b></td>\n",
    "</tr>\n",
    "</table><br/><br/>"
   ]
  },
  {
   "cell_type": "code",
   "execution_count": 52,
   "id": "funky-wealth",
   "metadata": {},
   "outputs": [],
   "source": [
    "housing_train_pre_npy = preprocessed_pipeline.fit_transform(housing_train)"
   ]
  },
  {
   "cell_type": "code",
   "execution_count": 53,
   "id": "alleged-express",
   "metadata": {},
   "outputs": [
    {
     "data": {
      "text/plain": [
       "array([[-0.81337047,  0.752     , -0.11111111, ...,  0.        ,\n",
       "         0.        ,  0.        ],\n",
       "       [ 0.01671309, -0.02666667, -0.44444444, ...,  0.        ,\n",
       "         0.        ,  0.        ],\n",
       "       [-1.00835655,  0.84533333, -0.05555556, ...,  0.        ,\n",
       "         1.        ,  0.        ],\n",
       "       ...,\n",
       "       [-0.94986072,  0.81866667, -0.16666667, ...,  0.        ,\n",
       "         0.        ,  0.        ],\n",
       "       [-0.7994429 ,  0.992     ,  1.05555556, ...,  0.        ,\n",
       "         0.        ,  0.        ],\n",
       "       [ 0.32033426, -0.02666667,  0.66666667, ...,  0.        ,\n",
       "         0.        ,  0.        ]])"
      ]
     },
     "execution_count": 53,
     "metadata": {},
     "output_type": "execute_result"
    }
   ],
   "source": [
    "housing_train_pre_npy"
   ]
  },
  {
   "cell_type": "code",
   "execution_count": 54,
   "id": "material-protein",
   "metadata": {},
   "outputs": [
    {
     "data": {
      "text/plain": [
       "(14857, 16)"
      ]
     },
     "execution_count": 54,
     "metadata": {},
     "output_type": "execute_result"
    }
   ],
   "source": [
    "housing_train_pre_npy.shape"
   ]
  },
  {
   "cell_type": "code",
   "execution_count": 55,
   "id": "tribal-andrew",
   "metadata": {},
   "outputs": [
    {
     "data": {
      "text/plain": [
       "{'numerical': Pipeline(steps=[('imputer', SimpleImputer(strategy='median')),\n",
       "                 ('feat_engineering', HousingFeatEngineering()),\n",
       "                 ('robust_scaler', RobustScaler())]),\n",
       " 'categorical': Pipeline(steps=[('one-hot-encoding', OneHotEncoder(handle_unknown='ignore'))])}"
      ]
     },
     "execution_count": 55,
     "metadata": {},
     "output_type": "execute_result"
    }
   ],
   "source": [
    "preprocessed_pipeline.named_transformers_"
   ]
  },
  {
   "cell_type": "code",
   "execution_count": 56,
   "id": "commercial-tragedy",
   "metadata": {},
   "outputs": [
    {
     "data": {
      "text/plain": [
       "[('numerical',\n",
       "  Pipeline(steps=[('imputer', SimpleImputer(strategy='median')),\n",
       "                  ('feat_engineering', HousingFeatEngineering()),\n",
       "                  ('robust_scaler', RobustScaler())]),\n",
       "  Index(['longitude', 'latitude', 'housing_median_age', 'total_rooms',\n",
       "         'total_bedrooms', 'population', 'households', 'median_income'],\n",
       "        dtype='object')),\n",
       " ('categorical',\n",
       "  Pipeline(steps=[('one-hot-encoding', OneHotEncoder(handle_unknown='ignore'))]),\n",
       "  ['ocean_proximity'])]"
      ]
     },
     "execution_count": 56,
     "metadata": {},
     "output_type": "execute_result"
    }
   ],
   "source": [
    "preprocessed_pipeline.transformers_"
   ]
  },
  {
   "cell_type": "markdown",
   "id": "continued-element",
   "metadata": {},
   "source": [
    "### 5.10. Saving the Preprocessed Pipeline"
   ]
  },
  {
   "cell_type": "code",
   "execution_count": 57,
   "id": "rotary-teaching",
   "metadata": {},
   "outputs": [
    {
     "data": {
      "text/plain": [
       "['./models/preprocessed_pipeline.pkl']"
      ]
     },
     "execution_count": 57,
     "metadata": {},
     "output_type": "execute_result"
    }
   ],
   "source": [
    "import joblib\n",
    "\n",
    "joblib.dump(preprocessed_pipeline, './models/preprocessed_pipeline.pkl')"
   ]
  },
  {
   "cell_type": "code",
   "execution_count": 58,
   "id": "planned-posting",
   "metadata": {},
   "outputs": [],
   "source": [
    "# to load the pipeline\n",
    "loaded_preprocessed_pipeline = joblib.load('./models/preprocessed_pipeline.pkl')"
   ]
  },
  {
   "cell_type": "code",
   "execution_count": 59,
   "id": "wound-funds",
   "metadata": {},
   "outputs": [
    {
     "data": {
      "text/plain": [
       "array([[-0.81337047,  0.752     , -0.11111111, ...,  0.        ,\n",
       "         0.        ,  0.        ],\n",
       "       [ 0.01671309, -0.02666667, -0.44444444, ...,  0.        ,\n",
       "         0.        ,  0.        ],\n",
       "       [-1.00835655,  0.84533333, -0.05555556, ...,  0.        ,\n",
       "         1.        ,  0.        ],\n",
       "       ...,\n",
       "       [-0.94986072,  0.81866667, -0.16666667, ...,  0.        ,\n",
       "         0.        ,  0.        ],\n",
       "       [-0.7994429 ,  0.992     ,  1.05555556, ...,  0.        ,\n",
       "         0.        ,  0.        ],\n",
       "       [ 0.32033426, -0.02666667,  0.66666667, ...,  0.        ,\n",
       "         0.        ,  0.        ]])"
      ]
     },
     "execution_count": 59,
     "metadata": {},
     "output_type": "execute_result"
    }
   ],
   "source": [
    "housing_train_pre_npy_2 = loaded_preprocessed_pipeline.transform(housing_train)\n",
    "housing_train_pre_npy_2"
   ]
  },
  {
   "cell_type": "code",
   "execution_count": 60,
   "id": "guided-elephant",
   "metadata": {},
   "outputs": [
    {
     "data": {
      "text/plain": [
       "True"
      ]
     },
     "execution_count": 60,
     "metadata": {},
     "output_type": "execute_result"
    }
   ],
   "source": [
    "np.all(housing_train_pre_npy == housing_train_pre_npy_2)"
   ]
  },
  {
   "cell_type": "markdown",
   "id": "orange-integral",
   "metadata": {},
   "source": [
    "### 5.11. Saving the Preprocessed Training Set"
   ]
  },
  {
   "cell_type": "code",
   "execution_count": 61,
   "id": "recorded-stylus",
   "metadata": {},
   "outputs": [],
   "source": [
    "np.save('./datasets/housing_train_pre_numpy_sprint-4.npy', housing_train_pre_npy)"
   ]
  },
  {
   "cell_type": "markdown",
   "id": "brave-client",
   "metadata": {},
   "source": [
    "## 🏋️‍♀️ 6. Train ML Algorithms"
   ]
  },
  {
   "cell_type": "markdown",
   "id": "hawaiian-right",
   "metadata": {},
   "source": [
    "### 6.1. Getting the independent (features) and dependent variables (outcome)"
   ]
  },
  {
   "cell_type": "code",
   "execution_count": 62,
   "id": "stretch-damage",
   "metadata": {},
   "outputs": [],
   "source": [
    "X_train = housing_train_pre_npy\n",
    "# we already have y_train"
   ]
  },
  {
   "cell_type": "code",
   "execution_count": 63,
   "id": "unique-inspiration",
   "metadata": {},
   "outputs": [
    {
     "data": {
      "text/plain": [
       "(14857, 16)"
      ]
     },
     "execution_count": 63,
     "metadata": {},
     "output_type": "execute_result"
    }
   ],
   "source": [
    "X_train.shape"
   ]
  },
  {
   "cell_type": "code",
   "execution_count": 64,
   "id": "latest-dynamics",
   "metadata": {},
   "outputs": [
    {
     "data": {
      "text/plain": [
       "(14857,)"
      ]
     },
     "execution_count": 64,
     "metadata": {},
     "output_type": "execute_result"
    }
   ],
   "source": [
    "y_train.shape"
   ]
  },
  {
   "cell_type": "markdown",
   "id": "concrete-gilbert",
   "metadata": {},
   "source": [
    "### 6.2. Training the Models"
   ]
  },
  {
   "cell_type": "markdown",
   "id": "resident-penguin",
   "metadata": {},
   "source": [
    "<h3 style=\"color: #ff5757 !important\"><b>Cross-validation</b></h3>"
   ]
  },
  {
   "cell_type": "markdown",
   "id": "fundamental-midwest",
   "metadata": {},
   "source": [
    "#### **→ Linear Regression**"
   ]
  },
  {
   "cell_type": "code",
   "execution_count": 65,
   "id": "printable-angola",
   "metadata": {},
   "outputs": [],
   "source": [
    "from sklearn.model_selection import cross_val_score\n",
    "from sklearn.linear_model import LinearRegression\n",
    "\n",
    "lin_reg = LinearRegression()  # default parameters\n",
    "lin_scores = cross_val_score(lin_reg, X_train, y_train, scoring=\"neg_mean_squared_error\", cv=10)\n",
    "\n",
    "lin_rmse_scores = np.sqrt(-lin_scores)"
   ]
  },
  {
   "cell_type": "code",
   "execution_count": 66,
   "id": "suspended-crystal",
   "metadata": {},
   "outputs": [],
   "source": [
    "# printing function\n",
    "def display_scores(scores):\n",
    "    print(\"Scores:\", scores)\n",
    "    print(\"Mean:\", scores.mean())\n",
    "    print(\"Standard deviation:\", scores.std())"
   ]
  },
  {
   "cell_type": "code",
   "execution_count": 67,
   "id": "completed-formation",
   "metadata": {},
   "outputs": [
    {
     "name": "stdout",
     "output_type": "stream",
     "text": [
      "Scores: [58883.49218279 55293.5735956  55181.52250607 57775.16025404\n",
      " 60155.15922657 59588.9688012  57781.68607191 59995.21362185\n",
      " 59923.51235138 59132.12479715]\n",
      "Mean: 58371.04134085788\n",
      "Standard deviation: 1757.914437100754\n"
     ]
    }
   ],
   "source": [
    "display_scores(lin_rmse_scores)"
   ]
  },
  {
   "cell_type": "markdown",
   "id": "minute-egypt",
   "metadata": {},
   "source": [
    "<br/>\n",
    "\n",
    "We have exactly the results of Sprint #3.\n",
    "- **Linear Regression:** \\\\$58,371.04 ± \\$1,757.91"
   ]
  },
  {
   "cell_type": "markdown",
   "id": "advance-webmaster",
   "metadata": {},
   "source": [
    "#### Training the final model\n",
    "After cross-validation, we can train our models by using the **entire** _training set_."
   ]
  },
  {
   "cell_type": "code",
   "execution_count": 68,
   "id": "secondary-commonwealth",
   "metadata": {},
   "outputs": [
    {
     "data": {
      "text/plain": [
       "LinearRegression()"
      ]
     },
     "execution_count": 68,
     "metadata": {},
     "output_type": "execute_result"
    }
   ],
   "source": [
    "lin_reg = LinearRegression()\n",
    "lin_reg.fit(X_train, y_train)"
   ]
  },
  {
   "cell_type": "code",
   "execution_count": 69,
   "id": "featured-direction",
   "metadata": {},
   "outputs": [
    {
     "data": {
      "text/plain": [
       "['./models/linear_regression_sprint-04.pkl']"
      ]
     },
     "execution_count": 69,
     "metadata": {},
     "output_type": "execute_result"
    }
   ],
   "source": [
    "### saving the model\n",
    "import joblib\n",
    "joblib.dump(lin_reg, './models/linear_regression_sprint-04.pkl')"
   ]
  },
  {
   "cell_type": "markdown",
   "id": "guilty-madison",
   "metadata": {},
   "source": [
    "## 🔬🧪 7. Evaluation on the Test Set"
   ]
  },
  {
   "cell_type": "markdown",
   "id": "normal-departure",
   "metadata": {},
   "source": [
    "<table align=\"left\" class=\"dashed-box\">\n",
    "<tr>\n",
    "    <td>⚠️</td>\n",
    "    <td>We should to evaluate <b>many other</b> <i>quick-and-dirty models</i> before any evaluation on the test set.</td>\n",
    "</tr>\n",
    "<tr>\n",
    "    <td></td>\n",
    "    <td>The strategy is to select the <i>most promising models</i> and <i>fine-tune them</i> (e.g., perform grid-search to find the best hyperparameters and/or try ensemble methods. The selected models could then be evaluated in the test set.</td>\n",
    "</tr>\n",
    "<tr>\n",
    "    <td></td>\n",
    "    <td>We opted for evaluating our single linear regression model just to complete the end-to-end pipeline in these early sprints. We will perform the above strategy in the next sprints.</td>\n",
    "</tr>\n",
    "</table><br/><br/>"
   ]
  },
  {
   "cell_type": "markdown",
   "id": "accomplished-suicide",
   "metadata": {},
   "source": [
    "### 7.1. Prepare the Data"
   ]
  },
  {
   "cell_type": "code",
   "execution_count": 70,
   "id": "dressed-equilibrium",
   "metadata": {},
   "outputs": [
    {
     "data": {
      "text/html": [
       "<div>\n",
       "<style scoped>\n",
       "    .dataframe tbody tr th:only-of-type {\n",
       "        vertical-align: middle;\n",
       "    }\n",
       "\n",
       "    .dataframe tbody tr th {\n",
       "        vertical-align: top;\n",
       "    }\n",
       "\n",
       "    .dataframe thead th {\n",
       "        text-align: right;\n",
       "    }\n",
       "</style>\n",
       "<table border=\"1\" class=\"dataframe\">\n",
       "  <thead>\n",
       "    <tr style=\"text-align: right;\">\n",
       "      <th></th>\n",
       "      <th>longitude</th>\n",
       "      <th>latitude</th>\n",
       "      <th>housing_median_age</th>\n",
       "      <th>total_rooms</th>\n",
       "      <th>total_bedrooms</th>\n",
       "      <th>population</th>\n",
       "      <th>households</th>\n",
       "      <th>median_income</th>\n",
       "      <th>median_house_value</th>\n",
       "      <th>ocean_proximity</th>\n",
       "    </tr>\n",
       "  </thead>\n",
       "  <tbody>\n",
       "    <tr>\n",
       "      <th>0</th>\n",
       "      <td>-118.25</td>\n",
       "      <td>34.00</td>\n",
       "      <td>41.0</td>\n",
       "      <td>1768.0</td>\n",
       "      <td>475.0</td>\n",
       "      <td>1721.0</td>\n",
       "      <td>474.0</td>\n",
       "      <td>1.3030</td>\n",
       "      <td>90400.0</td>\n",
       "      <td>&lt;1H OCEAN</td>\n",
       "    </tr>\n",
       "    <tr>\n",
       "      <th>1</th>\n",
       "      <td>-118.20</td>\n",
       "      <td>33.99</td>\n",
       "      <td>35.0</td>\n",
       "      <td>1705.0</td>\n",
       "      <td>523.0</td>\n",
       "      <td>2252.0</td>\n",
       "      <td>508.0</td>\n",
       "      <td>2.3421</td>\n",
       "      <td>154200.0</td>\n",
       "      <td>&lt;1H OCEAN</td>\n",
       "    </tr>\n",
       "    <tr>\n",
       "      <th>2</th>\n",
       "      <td>-121.39</td>\n",
       "      <td>39.61</td>\n",
       "      <td>22.0</td>\n",
       "      <td>2828.0</td>\n",
       "      <td>610.0</td>\n",
       "      <td>986.0</td>\n",
       "      <td>391.0</td>\n",
       "      <td>2.8871</td>\n",
       "      <td>94700.0</td>\n",
       "      <td>INLAND</td>\n",
       "    </tr>\n",
       "    <tr>\n",
       "      <th>3</th>\n",
       "      <td>-118.46</td>\n",
       "      <td>34.00</td>\n",
       "      <td>39.0</td>\n",
       "      <td>4098.0</td>\n",
       "      <td>1100.0</td>\n",
       "      <td>2054.0</td>\n",
       "      <td>1053.0</td>\n",
       "      <td>2.9180</td>\n",
       "      <td>345600.0</td>\n",
       "      <td>&lt;1H OCEAN</td>\n",
       "    </tr>\n",
       "    <tr>\n",
       "      <th>4</th>\n",
       "      <td>-121.03</td>\n",
       "      <td>39.14</td>\n",
       "      <td>10.0</td>\n",
       "      <td>3138.0</td>\n",
       "      <td>524.0</td>\n",
       "      <td>1275.0</td>\n",
       "      <td>511.0</td>\n",
       "      <td>4.0775</td>\n",
       "      <td>164500.0</td>\n",
       "      <td>INLAND</td>\n",
       "    </tr>\n",
       "    <tr>\n",
       "      <th>...</th>\n",
       "      <td>...</td>\n",
       "      <td>...</td>\n",
       "      <td>...</td>\n",
       "      <td>...</td>\n",
       "      <td>...</td>\n",
       "      <td>...</td>\n",
       "      <td>...</td>\n",
       "      <td>...</td>\n",
       "      <td>...</td>\n",
       "      <td>...</td>\n",
       "    </tr>\n",
       "    <tr>\n",
       "      <th>3710</th>\n",
       "      <td>-122.05</td>\n",
       "      <td>37.36</td>\n",
       "      <td>34.0</td>\n",
       "      <td>2400.0</td>\n",
       "      <td>419.0</td>\n",
       "      <td>1017.0</td>\n",
       "      <td>384.0</td>\n",
       "      <td>4.1369</td>\n",
       "      <td>316900.0</td>\n",
       "      <td>&lt;1H OCEAN</td>\n",
       "    </tr>\n",
       "    <tr>\n",
       "      <th>3711</th>\n",
       "      <td>-118.16</td>\n",
       "      <td>34.02</td>\n",
       "      <td>42.0</td>\n",
       "      <td>814.0</td>\n",
       "      <td>216.0</td>\n",
       "      <td>773.0</td>\n",
       "      <td>208.0</td>\n",
       "      <td>2.5313</td>\n",
       "      <td>156900.0</td>\n",
       "      <td>&lt;1H OCEAN</td>\n",
       "    </tr>\n",
       "    <tr>\n",
       "      <th>3712</th>\n",
       "      <td>-120.65</td>\n",
       "      <td>35.27</td>\n",
       "      <td>15.0</td>\n",
       "      <td>2365.0</td>\n",
       "      <td>538.0</td>\n",
       "      <td>1446.0</td>\n",
       "      <td>490.0</td>\n",
       "      <td>2.5129</td>\n",
       "      <td>225900.0</td>\n",
       "      <td>NEAR OCEAN</td>\n",
       "    </tr>\n",
       "    <tr>\n",
       "      <th>3713</th>\n",
       "      <td>-118.32</td>\n",
       "      <td>33.94</td>\n",
       "      <td>37.0</td>\n",
       "      <td>2740.0</td>\n",
       "      <td>504.0</td>\n",
       "      <td>1468.0</td>\n",
       "      <td>479.0</td>\n",
       "      <td>4.5368</td>\n",
       "      <td>168800.0</td>\n",
       "      <td>&lt;1H OCEAN</td>\n",
       "    </tr>\n",
       "    <tr>\n",
       "      <th>3714</th>\n",
       "      <td>-118.53</td>\n",
       "      <td>34.45</td>\n",
       "      <td>10.0</td>\n",
       "      <td>5509.0</td>\n",
       "      <td>969.0</td>\n",
       "      <td>3002.0</td>\n",
       "      <td>959.0</td>\n",
       "      <td>5.5981</td>\n",
       "      <td>220100.0</td>\n",
       "      <td>&lt;1H OCEAN</td>\n",
       "    </tr>\n",
       "  </tbody>\n",
       "</table>\n",
       "<p>3715 rows × 10 columns</p>\n",
       "</div>"
      ],
      "text/plain": [
       "      longitude  latitude  housing_median_age  total_rooms  total_bedrooms  \\\n",
       "0       -118.25     34.00                41.0       1768.0           475.0   \n",
       "1       -118.20     33.99                35.0       1705.0           523.0   \n",
       "2       -121.39     39.61                22.0       2828.0           610.0   \n",
       "3       -118.46     34.00                39.0       4098.0          1100.0   \n",
       "4       -121.03     39.14                10.0       3138.0           524.0   \n",
       "...         ...       ...                 ...          ...             ...   \n",
       "3710    -122.05     37.36                34.0       2400.0           419.0   \n",
       "3711    -118.16     34.02                42.0        814.0           216.0   \n",
       "3712    -120.65     35.27                15.0       2365.0           538.0   \n",
       "3713    -118.32     33.94                37.0       2740.0           504.0   \n",
       "3714    -118.53     34.45                10.0       5509.0           969.0   \n",
       "\n",
       "      population  households  median_income  median_house_value  \\\n",
       "0         1721.0       474.0         1.3030             90400.0   \n",
       "1         2252.0       508.0         2.3421            154200.0   \n",
       "2          986.0       391.0         2.8871             94700.0   \n",
       "3         2054.0      1053.0         2.9180            345600.0   \n",
       "4         1275.0       511.0         4.0775            164500.0   \n",
       "...          ...         ...            ...                 ...   \n",
       "3710      1017.0       384.0         4.1369            316900.0   \n",
       "3711       773.0       208.0         2.5313            156900.0   \n",
       "3712      1446.0       490.0         2.5129            225900.0   \n",
       "3713      1468.0       479.0         4.5368            168800.0   \n",
       "3714      3002.0       959.0         5.5981            220100.0   \n",
       "\n",
       "     ocean_proximity  \n",
       "0          <1H OCEAN  \n",
       "1          <1H OCEAN  \n",
       "2             INLAND  \n",
       "3          <1H OCEAN  \n",
       "4             INLAND  \n",
       "...              ...  \n",
       "3710       <1H OCEAN  \n",
       "3711       <1H OCEAN  \n",
       "3712      NEAR OCEAN  \n",
       "3713       <1H OCEAN  \n",
       "3714       <1H OCEAN  \n",
       "\n",
       "[3715 rows x 10 columns]"
      ]
     },
     "execution_count": 70,
     "metadata": {},
     "output_type": "execute_result"
    }
   ],
   "source": [
    "### Load the testing set\n",
    "housing_test = pd.read_csv('./datasets/housing_test_sprint-2.csv')\n",
    "housing_test"
   ]
  },
  {
   "cell_type": "code",
   "execution_count": 71,
   "id": "round-connection",
   "metadata": {},
   "outputs": [
    {
     "data": {
      "text/plain": [
       "array([ 90400., 154200.,  94700., ..., 225900., 168800., 220100.])"
      ]
     },
     "execution_count": 71,
     "metadata": {},
     "output_type": "execute_result"
    }
   ],
   "source": [
    "### Separate the _features_ and the _target outcome_\n",
    "y_test = housing_test['median_house_value'].values\n",
    "y_test"
   ]
  },
  {
   "cell_type": "code",
   "execution_count": 72,
   "id": "mature-homeless",
   "metadata": {},
   "outputs": [
    {
     "data": {
      "text/html": [
       "<div>\n",
       "<style scoped>\n",
       "    .dataframe tbody tr th:only-of-type {\n",
       "        vertical-align: middle;\n",
       "    }\n",
       "\n",
       "    .dataframe tbody tr th {\n",
       "        vertical-align: top;\n",
       "    }\n",
       "\n",
       "    .dataframe thead th {\n",
       "        text-align: right;\n",
       "    }\n",
       "</style>\n",
       "<table border=\"1\" class=\"dataframe\">\n",
       "  <thead>\n",
       "    <tr style=\"text-align: right;\">\n",
       "      <th></th>\n",
       "      <th>longitude</th>\n",
       "      <th>latitude</th>\n",
       "      <th>housing_median_age</th>\n",
       "      <th>total_rooms</th>\n",
       "      <th>total_bedrooms</th>\n",
       "      <th>population</th>\n",
       "      <th>households</th>\n",
       "      <th>median_income</th>\n",
       "      <th>ocean_proximity</th>\n",
       "    </tr>\n",
       "  </thead>\n",
       "  <tbody>\n",
       "    <tr>\n",
       "      <th>0</th>\n",
       "      <td>-118.25</td>\n",
       "      <td>34.00</td>\n",
       "      <td>41.0</td>\n",
       "      <td>1768.0</td>\n",
       "      <td>475.0</td>\n",
       "      <td>1721.0</td>\n",
       "      <td>474.0</td>\n",
       "      <td>1.3030</td>\n",
       "      <td>&lt;1H OCEAN</td>\n",
       "    </tr>\n",
       "    <tr>\n",
       "      <th>1</th>\n",
       "      <td>-118.20</td>\n",
       "      <td>33.99</td>\n",
       "      <td>35.0</td>\n",
       "      <td>1705.0</td>\n",
       "      <td>523.0</td>\n",
       "      <td>2252.0</td>\n",
       "      <td>508.0</td>\n",
       "      <td>2.3421</td>\n",
       "      <td>&lt;1H OCEAN</td>\n",
       "    </tr>\n",
       "    <tr>\n",
       "      <th>2</th>\n",
       "      <td>-121.39</td>\n",
       "      <td>39.61</td>\n",
       "      <td>22.0</td>\n",
       "      <td>2828.0</td>\n",
       "      <td>610.0</td>\n",
       "      <td>986.0</td>\n",
       "      <td>391.0</td>\n",
       "      <td>2.8871</td>\n",
       "      <td>INLAND</td>\n",
       "    </tr>\n",
       "    <tr>\n",
       "      <th>3</th>\n",
       "      <td>-118.46</td>\n",
       "      <td>34.00</td>\n",
       "      <td>39.0</td>\n",
       "      <td>4098.0</td>\n",
       "      <td>1100.0</td>\n",
       "      <td>2054.0</td>\n",
       "      <td>1053.0</td>\n",
       "      <td>2.9180</td>\n",
       "      <td>&lt;1H OCEAN</td>\n",
       "    </tr>\n",
       "    <tr>\n",
       "      <th>4</th>\n",
       "      <td>-121.03</td>\n",
       "      <td>39.14</td>\n",
       "      <td>10.0</td>\n",
       "      <td>3138.0</td>\n",
       "      <td>524.0</td>\n",
       "      <td>1275.0</td>\n",
       "      <td>511.0</td>\n",
       "      <td>4.0775</td>\n",
       "      <td>INLAND</td>\n",
       "    </tr>\n",
       "    <tr>\n",
       "      <th>...</th>\n",
       "      <td>...</td>\n",
       "      <td>...</td>\n",
       "      <td>...</td>\n",
       "      <td>...</td>\n",
       "      <td>...</td>\n",
       "      <td>...</td>\n",
       "      <td>...</td>\n",
       "      <td>...</td>\n",
       "      <td>...</td>\n",
       "    </tr>\n",
       "    <tr>\n",
       "      <th>3710</th>\n",
       "      <td>-122.05</td>\n",
       "      <td>37.36</td>\n",
       "      <td>34.0</td>\n",
       "      <td>2400.0</td>\n",
       "      <td>419.0</td>\n",
       "      <td>1017.0</td>\n",
       "      <td>384.0</td>\n",
       "      <td>4.1369</td>\n",
       "      <td>&lt;1H OCEAN</td>\n",
       "    </tr>\n",
       "    <tr>\n",
       "      <th>3711</th>\n",
       "      <td>-118.16</td>\n",
       "      <td>34.02</td>\n",
       "      <td>42.0</td>\n",
       "      <td>814.0</td>\n",
       "      <td>216.0</td>\n",
       "      <td>773.0</td>\n",
       "      <td>208.0</td>\n",
       "      <td>2.5313</td>\n",
       "      <td>&lt;1H OCEAN</td>\n",
       "    </tr>\n",
       "    <tr>\n",
       "      <th>3712</th>\n",
       "      <td>-120.65</td>\n",
       "      <td>35.27</td>\n",
       "      <td>15.0</td>\n",
       "      <td>2365.0</td>\n",
       "      <td>538.0</td>\n",
       "      <td>1446.0</td>\n",
       "      <td>490.0</td>\n",
       "      <td>2.5129</td>\n",
       "      <td>NEAR OCEAN</td>\n",
       "    </tr>\n",
       "    <tr>\n",
       "      <th>3713</th>\n",
       "      <td>-118.32</td>\n",
       "      <td>33.94</td>\n",
       "      <td>37.0</td>\n",
       "      <td>2740.0</td>\n",
       "      <td>504.0</td>\n",
       "      <td>1468.0</td>\n",
       "      <td>479.0</td>\n",
       "      <td>4.5368</td>\n",
       "      <td>&lt;1H OCEAN</td>\n",
       "    </tr>\n",
       "    <tr>\n",
       "      <th>3714</th>\n",
       "      <td>-118.53</td>\n",
       "      <td>34.45</td>\n",
       "      <td>10.0</td>\n",
       "      <td>5509.0</td>\n",
       "      <td>969.0</td>\n",
       "      <td>3002.0</td>\n",
       "      <td>959.0</td>\n",
       "      <td>5.5981</td>\n",
       "      <td>&lt;1H OCEAN</td>\n",
       "    </tr>\n",
       "  </tbody>\n",
       "</table>\n",
       "<p>3715 rows × 9 columns</p>\n",
       "</div>"
      ],
      "text/plain": [
       "      longitude  latitude  housing_median_age  total_rooms  total_bedrooms  \\\n",
       "0       -118.25     34.00                41.0       1768.0           475.0   \n",
       "1       -118.20     33.99                35.0       1705.0           523.0   \n",
       "2       -121.39     39.61                22.0       2828.0           610.0   \n",
       "3       -118.46     34.00                39.0       4098.0          1100.0   \n",
       "4       -121.03     39.14                10.0       3138.0           524.0   \n",
       "...         ...       ...                 ...          ...             ...   \n",
       "3710    -122.05     37.36                34.0       2400.0           419.0   \n",
       "3711    -118.16     34.02                42.0        814.0           216.0   \n",
       "3712    -120.65     35.27                15.0       2365.0           538.0   \n",
       "3713    -118.32     33.94                37.0       2740.0           504.0   \n",
       "3714    -118.53     34.45                10.0       5509.0           969.0   \n",
       "\n",
       "      population  households  median_income ocean_proximity  \n",
       "0         1721.0       474.0         1.3030       <1H OCEAN  \n",
       "1         2252.0       508.0         2.3421       <1H OCEAN  \n",
       "2          986.0       391.0         2.8871          INLAND  \n",
       "3         2054.0      1053.0         2.9180       <1H OCEAN  \n",
       "4         1275.0       511.0         4.0775          INLAND  \n",
       "...          ...         ...            ...             ...  \n",
       "3710      1017.0       384.0         4.1369       <1H OCEAN  \n",
       "3711       773.0       208.0         2.5313       <1H OCEAN  \n",
       "3712      1446.0       490.0         2.5129      NEAR OCEAN  \n",
       "3713      1468.0       479.0         4.5368       <1H OCEAN  \n",
       "3714      3002.0       959.0         5.5981       <1H OCEAN  \n",
       "\n",
       "[3715 rows x 9 columns]"
      ]
     },
     "execution_count": 72,
     "metadata": {},
     "output_type": "execute_result"
    }
   ],
   "source": [
    "housing_test = housing_test.drop(columns=['median_house_value'])\n",
    "housing_test"
   ]
  },
  {
   "cell_type": "code",
   "execution_count": 73,
   "id": "liquid-discretion",
   "metadata": {},
   "outputs": [],
   "source": [
    "### Preprocess the Test Set\n",
    "import joblib\n",
    "preprocessed_pipeline = joblib.load('./models/preprocessed_pipeline.pkl')\n",
    "\n",
    "# preprocess the test set\n",
    "X_test = preprocessed_pipeline.transform(housing_test)"
   ]
  },
  {
   "cell_type": "code",
   "execution_count": 74,
   "id": "scientific-judgment",
   "metadata": {},
   "outputs": [
    {
     "data": {
      "text/plain": [
       "array([[ 0.05571031, -0.064     ,  0.77777778, ...,  0.        ,\n",
       "         0.        ,  0.        ],\n",
       "       [ 0.06963788, -0.06666667,  0.44444444, ...,  0.        ,\n",
       "         0.        ,  0.        ],\n",
       "       [-0.8189415 ,  1.432     , -0.27777778, ...,  0.        ,\n",
       "         0.        ,  0.        ],\n",
       "       ...,\n",
       "       [-0.61281337,  0.27466667, -0.66666667, ...,  0.        ,\n",
       "         0.        ,  1.        ],\n",
       "       [ 0.0362117 , -0.08      ,  0.55555556, ...,  0.        ,\n",
       "         0.        ,  0.        ],\n",
       "       [-0.02228412,  0.056     , -0.94444444, ...,  0.        ,\n",
       "         0.        ,  0.        ]])"
      ]
     },
     "execution_count": 74,
     "metadata": {},
     "output_type": "execute_result"
    }
   ],
   "source": [
    "X_test"
   ]
  },
  {
   "cell_type": "markdown",
   "id": "insured-writer",
   "metadata": {},
   "source": [
    "### 7.2. Prediction"
   ]
  },
  {
   "cell_type": "code",
   "execution_count": 75,
   "id": "sacred-procedure",
   "metadata": {},
   "outputs": [],
   "source": [
    "### loading the trained model\n",
    "lin_reg = joblib.load('./models/linear_regression_sprint-04.pkl')"
   ]
  },
  {
   "cell_type": "code",
   "execution_count": 76,
   "id": "actual-outdoors",
   "metadata": {},
   "outputs": [],
   "source": [
    "### evaluation\n",
    "y_test_pred = lin_reg.predict(X_test)"
   ]
  },
  {
   "cell_type": "markdown",
   "id": "worst-cooking",
   "metadata": {},
   "source": [
    "### 7.3. Prediction"
   ]
  },
  {
   "cell_type": "markdown",
   "id": "diagnostic-latvia",
   "metadata": {},
   "source": [
    "#### RMSE"
   ]
  },
  {
   "cell_type": "code",
   "execution_count": 77,
   "id": "automotive-feeding",
   "metadata": {},
   "outputs": [
    {
     "name": "stdout",
     "output_type": "stream",
     "text": [
      "RMSE Lin. Reg. in the Test Set: 59439.637136249235\n"
     ]
    }
   ],
   "source": [
    "### computing the final score\n",
    "from sklearn.metrics import mean_squared_error\n",
    "\n",
    "lin_rmse_test = mean_squared_error(y_test, y_test_pred, squared=False)\n",
    "print(f'RMSE Lin. Reg. in the Test Set: {lin_rmse_test}')"
   ]
  },
  {
   "cell_type": "markdown",
   "id": "ruled-shore",
   "metadata": {},
   "source": [
    "By using our linear regression, the **RMSE** for the Test Set -- which has never been seen/used before -- is **\\\\$ 59,439.63**. <br/>\n",
    "This error is _slightly higher_ than the _cross-validation error score_ **\\\\$58,371.04 ± \\$1,757.91**, which tends to be common specially when fine-tunning the hyperparameters.\n",
    "\n",
    "We need now to compare solution with the _current baseline_."
   ]
  },
  {
   "cell_type": "markdown",
   "id": "widespread-likelihood",
   "metadata": {},
   "source": [
    "#### Confidence Interval for Squared Errors\n",
    "In some cases, such a _point estimate_ of the **generalization error** will not be quite enough to convince you to launch: what if it is just _0.1%_ better than the model currently in production? <br/>\n",
    "You might want to have an idea of how precise this estimate is.\n",
    "\n",
    "For this, you can compute a ***95% confidence interval*** for the generalization error."
   ]
  },
  {
   "cell_type": "markdown",
   "id": "automotive-messaging",
   "metadata": {},
   "source": [
    "https://github.com/xavecoding/IFSP-CMP-D1AED-2021.1/blob/main/data_distributions/data_distributions.ipynb"
   ]
  },
  {
   "cell_type": "markdown",
   "id": "forbidden-warrant",
   "metadata": {},
   "source": [
    "<img src='./imgs/confidence_interval.png' />"
   ]
  },
  {
   "cell_type": "code",
   "execution_count": 78,
   "id": "collectible-python",
   "metadata": {},
   "outputs": [],
   "source": [
    "confidence_level = 0.95\n",
    "n = len(y_test)  # the number of testing examples/instances"
   ]
  },
  {
   "cell_type": "code",
   "execution_count": 79,
   "id": "russian-custody",
   "metadata": {},
   "outputs": [
    {
     "data": {
      "text/plain": [
       "array([7.28223723e+08, 9.24591190e+07, 2.47612106e+06, ...,\n",
       "       1.47810096e+09, 5.52327814e+09, 1.45189841e+09])"
      ]
     },
     "execution_count": 79,
     "metadata": {},
     "output_type": "execute_result"
    }
   ],
   "source": [
    "squared_errors = (y_test_pred - y_test) ** 2\n",
    "squared_errors"
   ]
  },
  {
   "cell_type": "code",
   "execution_count": 80,
   "id": "controversial-witness",
   "metadata": {},
   "outputs": [
    {
     "data": {
      "text/plain": [
       "186474509.66524717"
      ]
     },
     "execution_count": 80,
     "metadata": {},
     "output_type": "execute_result"
    }
   ],
   "source": [
    "standard_error = squared_errors.std() / np.sqrt(n)\n",
    "standard_error"
   ]
  },
  {
   "cell_type": "code",
   "execution_count": 81,
   "id": "endangered-denver",
   "metadata": {},
   "outputs": [
    {
     "data": {
      "text/plain": [
       "186474509.66524717"
      ]
     },
     "execution_count": 81,
     "metadata": {},
     "output_type": "execute_result"
    }
   ],
   "source": [
    "## alternatively\n",
    "from scipy import stats\n",
    "stats.sem(squared_errors, ddof=0)"
   ]
  },
  {
   "cell_type": "code",
   "execution_count": 82,
   "id": "married-consolidation",
   "metadata": {},
   "outputs": [
    {
     "data": {
      "text/plain": [
       "(3167587139.910329, 3898553785.86763)"
      ]
     },
     "execution_count": 82,
     "metadata": {},
     "output_type": "execute_result"
    }
   ],
   "source": [
    "from scipy.stats import norm\n",
    "\n",
    "# alpha ==> confidence level\n",
    "# loc ==> sample mean\n",
    "# scale ==> standard error\n",
    "\n",
    "confidence_interval_squared_errors = norm.interval(alpha=confidence_level, loc=squared_errors.mean(), scale=standard_error)\n",
    "confidence_interval_squared_errors"
   ]
  },
  {
   "cell_type": "code",
   "execution_count": 83,
   "id": "suspended-liberal",
   "metadata": {},
   "outputs": [
    {
     "data": {
      "text/plain": [
       "array([56281.32141226, 62438.39993039])"
      ]
     },
     "execution_count": 83,
     "metadata": {},
     "output_type": "execute_result"
    }
   ],
   "source": [
    "# using the sqrt to keep the erros in the same units\n",
    "np.sqrt(confidence_interval_squared_errors)"
   ]
  },
  {
   "cell_type": "markdown",
   "id": "apart-waste",
   "metadata": {},
   "source": [
    "Therefore, we have 95% of confidence that the interval \\[\\\\$56,281.32, \\\\$62,438.39]\\] contains the population generalization error mean."
   ]
  },
  {
   "cell_type": "markdown",
   "id": "valued-princeton",
   "metadata": {},
   "source": [
    "### 7.4. Comparing our model with the Baseline\n",
    "Let's first recover the description of the **baseline** from Sprint #1."
   ]
  },
  {
   "cell_type": "markdown",
   "id": "dried-canal",
   "metadata": {},
   "source": [
    "#### **Baseline:**\n",
    "Currently, the **district housing prices** are estimated ***manually by experts***: a team gathers up-to-date information about a district and finds out the _median housing price_. \n",
    "This is _costly_ and _time-consuming_, and their **estimates are not great**; they often realize that **their estimates were off by more than 20%**."
   ]
  },
  {
   "cell_type": "markdown",
   "id": "balanced-married",
   "metadata": {},
   "source": [
    "Note that this description is a bit vague. We only have an approximation: their estimates were off by more than 20%. <br/>\n",
    "We do not have a concrete **error** for the baseline. <br/>\n",
    "\n",
    "To overcome this, we will consider that the baseline estimates final housing prices between **20% and 25% more** than they actually are. "
   ]
  },
  {
   "cell_type": "code",
   "execution_count": 84,
   "id": "opponent-trinity",
   "metadata": {},
   "outputs": [],
   "source": [
    "np.random.seed(42)"
   ]
  },
  {
   "cell_type": "code",
   "execution_count": 85,
   "id": "curious-layout",
   "metadata": {},
   "outputs": [],
   "source": [
    "y_test_pred_baseline = []\n",
    "\n",
    "for true_housing_price in y_test:\n",
    "    error_rate = 1 + np.random.randint(20, 26) / 100\n",
    "    y_test_pred_baseline.append(true_housing_price * error_rate)"
   ]
  },
  {
   "cell_type": "markdown",
   "id": "single-roads",
   "metadata": {},
   "source": [
    "#### RMSE"
   ]
  },
  {
   "cell_type": "code",
   "execution_count": 86,
   "id": "descending-structure",
   "metadata": {},
   "outputs": [
    {
     "name": "stdout",
     "output_type": "stream",
     "text": [
      "RMSE Baseline in the Test Set: 47911.00494166016\n"
     ]
    }
   ],
   "source": [
    "baseline_rmse_test = mean_squared_error(y_test, y_test_pred_baseline, squared=False)\n",
    "print(f'RMSE Baseline in the Test Set: {baseline_rmse_test}')"
   ]
  },
  {
   "cell_type": "markdown",
   "id": "recorded-attitude",
   "metadata": {},
   "source": [
    "### Discussion"
   ]
  },
  {
   "cell_type": "markdown",
   "id": "martial-commissioner",
   "metadata": {},
   "source": [
    "The final performance of our linear regression model (**\\\\$ 59,439.63**) is not better than the experts’ price estimates (**\\\\$47,911.00**), which were often off by about 20%. Therefore, it is not prepared to launch in production. We need to find a better model.\n",
    "\n",
    "We may follow some strategies to find a better model than our current one:\n",
    "- Evaluate many other different models/algorithms (_e.g.,_ Polynomial regression, KNN regression, SVM regression, ...)\n",
    "- Apply some feature selection method;\n",
    "- Perform fine-tunning to find the best hyperparaments\n",
    "- Try ensemble methods\n",
    "\n",
    "After all, a model with a score similar to the baseline might be enough. Even though it is not more accurate (or with a lower error) than the baseline, the fact that the model is automatic will frees up some time for the experts so they can work on more interesting and productive tasks."
   ]
  }
 ],
 "metadata": {
  "kernelspec": {
   "display_name": "Python 3",
   "language": "python",
   "name": "python3"
  },
  "language_info": {
   "codemirror_mode": {
    "name": "ipython",
    "version": 3
   },
   "file_extension": ".py",
   "mimetype": "text/x-python",
   "name": "python",
   "nbconvert_exporter": "python",
   "pygments_lexer": "ipython3",
   "version": "3.8.5"
  }
 },
 "nbformat": 4,
 "nbformat_minor": 5
}
