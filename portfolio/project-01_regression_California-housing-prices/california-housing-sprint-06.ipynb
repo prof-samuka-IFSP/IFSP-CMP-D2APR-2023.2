{
 "cells": [
  {
   "cell_type": "markdown",
   "id": "connected-jerusalem",
   "metadata": {},
   "source": [
    "### **D2APR: Aprendizado de Máquina e Reconhecimento de Padrões** (IFSP, Campinas) <br/>\n",
    "**Prof. Dr.**: Samuel Martins (Samuka) <br/>\n",
    "\n",
    "<a rel=\"license\" href=\"http://creativecommons.org/licenses/by-nc-sa/4.0/\"><img alt=\"Creative Commons License\" style=\"border-width:0\" src=\"https://i.creativecommons.org/l/by-nc-sa/4.0/88x31.png\" /></a><br />This work is licensed under a <a rel=\"license\" href=\"http://creativecommons.org/licenses/by-nc-sa/4.0/\">Creative Commons Attribution-NonCommercial-ShareAlike 4.0 International License</a>. <br/><br/>"
   ]
  },
  {
   "cell_type": "markdown",
   "id": "removable-tragedy",
   "metadata": {},
   "source": [
    "### Custom CSS style"
   ]
  },
  {
   "cell_type": "code",
   "execution_count": 1,
   "id": "selective-terrain",
   "metadata": {
    "tags": []
   },
   "outputs": [
    {
     "data": {
      "text/html": [
       "<style>\n",
       ".dashed-box {\n",
       "    border: 1px dashed black !important;\n",
       "}\n",
       ".dashed-box tr {\n",
       "  background-color: white !important;  \n",
       "}\n",
       ".alt-tab {\n",
       "    background-color: black;\n",
       "    color: #ffc351;\n",
       "    padding: 4px;\n",
       "    font-size: 1em;\n",
       "    font-weight: bold;\n",
       "    font-family: monospace;\n",
       "}\n",
       "// add your CSS styling here\n",
       "</style>\n"
      ],
      "text/plain": [
       "<IPython.core.display.HTML object>"
      ]
     },
     "metadata": {},
     "output_type": "display_data"
    }
   ],
   "source": [
    "%%html\n",
    "<style>\n",
    ".dashed-box {\n",
    "    border: 1px dashed black !important;\n",
    "}\n",
    ".dashed-box tr {\n",
    "  background-color: white !important;  \n",
    "}\n",
    ".alt-tab {\n",
    "    background-color: black;\n",
    "    color: #ffc351;\n",
    "    padding: 4px;\n",
    "    font-size: 1em;\n",
    "    font-weight: bold;\n",
    "    font-family: monospace;\n",
    "}\n",
    "// add your CSS styling here\n",
    "</style>"
   ]
  },
  {
   "cell_type": "markdown",
   "id": "american-cradle",
   "metadata": {},
   "source": [
    "<span style='font-size: 2.5em'><b>California Housing 🏡</b></span><br/>\n",
    "<span style='font-size: 1.5em'>Predict the median housing price in California districts</span>\n",
    "\n",
    "<span style=\"background-color: #ffc351; padding: 4px; font-size: 1em;\"><b>Sprint 6</b></span>\n",
    "\n",
    "<img src=\"./imgs/california-flag.png\" width=300/>\n",
    "\n",
    "---\n",
    "\n"
   ]
  },
  {
   "cell_type": "markdown",
   "id": "united-chart",
   "metadata": {},
   "source": [
    "## Before starting this notebook\n",
    "This jupyter notebook is designed for **experimental and teaching purposes**. <br/>\n",
    "Although it is (relatively) well organized, it aims at solving the _target problem_ by evaluating (and documenting) _different solutions_ for somes steps of the **machine learning pipeline** — see the ***Machine Learning Project Checklist by xavecoding***. <br/>\n",
    "We tried to make this notebook as literally a _notebook_. Thus, it contains notes, drafts, comments, etc.<br/>\n",
    "\n",
    "For teaching purposes, some parts of the notebook may be _overcommented_. Moreover, to simulate a real development scenario, we will divide our solution and experiments into **\"sprints\"** in which each sprint has some goals (e.g., perform _feature selection_, train more ML models, ...). <br/>\n",
    "The **sprint goal** will be stated at the beginning of the notebook.\n",
    "\n",
    "A ***final notebook*** (or any other kind of presentation) that compiles and summarizes all sprints — the target problem, solutions, and findings — should be created later.\n",
    "\n",
    "#### Conventions\n",
    "\n",
    "<ul>\n",
    "    <li>💡 indicates a tip. </li>\n",
    "    <li> ⚠️ indicates a warning message. </li>\n",
    "    <li><span class='alt-tab'>alt tab</span> indicates and an extra content (<i>e.g.</i>, slides) to explain a given concept.</li>\n",
    "</ul>\n",
    "\n",
    "---"
   ]
  },
  {
   "cell_type": "markdown",
   "id": "relevant-karaoke",
   "metadata": {},
   "source": [
    "## 🎯 Sprint Goals\n",
    "- Fine-tune the _hyperparameters_ of the Polynomial Regression models form Sprint #5.\n",
    "---"
   ]
  },
  {
   "cell_type": "markdown",
   "id": "vocational-national",
   "metadata": {},
   "source": [
    "### 0. Imports and default settings for plotting"
   ]
  },
  {
   "cell_type": "code",
   "execution_count": 2,
   "id": "progressive-causing",
   "metadata": {},
   "outputs": [],
   "source": [
    "import numpy as np\n",
    "import pandas as pd\n",
    "import matplotlib.pyplot as plt\n",
    "import seaborn as sns\n",
    "\n",
    "sns.set_theme(style=\"whitegrid\")\n",
    "\n",
    "params = {'legend.fontsize': 'x-large',\n",
    "          'figure.figsize': (15, 5),\n",
    "         'axes.labelsize': 'x-large',\n",
    "         'axes.titlesize':'x-large',\n",
    "         'xtick.labelsize':'x-large',\n",
    "         'ytick.labelsize':'x-large'}\n",
    "plt.rcParams.update(params)"
   ]
  },
  {
   "cell_type": "markdown",
   "id": "assisted-payday",
   "metadata": {},
   "source": [
    "## 🛠️ 5. Prepare the Data"
   ]
  },
  {
   "cell_type": "markdown",
   "id": "abroad-sixth",
   "metadata": {},
   "source": [
    "We will consider the same two scenarios for **Polynomial Regression** from Sprint #5 in this sprint:\n",
    "1. Use _only_ the `median_income`.\n",
    "2. Use _all features_ except those that generated the aggregate features (`total_rooms`, `total_bedrooms`, `population`, `household`)."
   ]
  },
  {
   "cell_type": "markdown",
   "id": "settled-illinois",
   "metadata": {},
   "source": [
    "### 5.1. Load the cleaned training set"
   ]
  },
  {
   "cell_type": "markdown",
   "id": "suffering-prevention",
   "metadata": {},
   "source": [
    "Let's consider the training and testing sets already cleaned (sprint #2):\n",
    "- Drop duplicated instances (no found)\n",
    "- Drop instances with `housing_median_age` capped at 52\n",
    "- Drop instances with `median_house_value` capped at 500001.0"
   ]
  },
  {
   "cell_type": "code",
   "execution_count": 3,
   "id": "hollywood-notice",
   "metadata": {},
   "outputs": [],
   "source": [
    "# load the cleaned training set\n",
    "housing_train = pd.read_csv('./datasets/housing_train_sprint-2.csv')"
   ]
  },
  {
   "cell_type": "code",
   "execution_count": 4,
   "id": "australian-selection",
   "metadata": {},
   "outputs": [
    {
     "data": {
      "text/html": [
       "<div>\n",
       "<style scoped>\n",
       "    .dataframe tbody tr th:only-of-type {\n",
       "        vertical-align: middle;\n",
       "    }\n",
       "\n",
       "    .dataframe tbody tr th {\n",
       "        vertical-align: top;\n",
       "    }\n",
       "\n",
       "    .dataframe thead th {\n",
       "        text-align: right;\n",
       "    }\n",
       "</style>\n",
       "<table border=\"1\" class=\"dataframe\">\n",
       "  <thead>\n",
       "    <tr style=\"text-align: right;\">\n",
       "      <th></th>\n",
       "      <th>longitude</th>\n",
       "      <th>latitude</th>\n",
       "      <th>housing_median_age</th>\n",
       "      <th>total_rooms</th>\n",
       "      <th>total_bedrooms</th>\n",
       "      <th>population</th>\n",
       "      <th>households</th>\n",
       "      <th>median_income</th>\n",
       "      <th>median_house_value</th>\n",
       "      <th>ocean_proximity</th>\n",
       "    </tr>\n",
       "  </thead>\n",
       "  <tbody>\n",
       "    <tr>\n",
       "      <th>0</th>\n",
       "      <td>-121.37</td>\n",
       "      <td>37.06</td>\n",
       "      <td>25.0</td>\n",
       "      <td>474.0</td>\n",
       "      <td>92.0</td>\n",
       "      <td>300.0</td>\n",
       "      <td>104.0</td>\n",
       "      <td>3.8062</td>\n",
       "      <td>340900.0</td>\n",
       "      <td>INLAND</td>\n",
       "    </tr>\n",
       "    <tr>\n",
       "      <th>1</th>\n",
       "      <td>-118.39</td>\n",
       "      <td>34.14</td>\n",
       "      <td>19.0</td>\n",
       "      <td>5076.0</td>\n",
       "      <td>1034.0</td>\n",
       "      <td>2021.0</td>\n",
       "      <td>960.0</td>\n",
       "      <td>5.5683</td>\n",
       "      <td>309200.0</td>\n",
       "      <td>&lt;1H OCEAN</td>\n",
       "    </tr>\n",
       "    <tr>\n",
       "      <th>2</th>\n",
       "      <td>-122.07</td>\n",
       "      <td>37.41</td>\n",
       "      <td>26.0</td>\n",
       "      <td>1184.0</td>\n",
       "      <td>225.0</td>\n",
       "      <td>815.0</td>\n",
       "      <td>218.0</td>\n",
       "      <td>5.7657</td>\n",
       "      <td>322300.0</td>\n",
       "      <td>NEAR BAY</td>\n",
       "    </tr>\n",
       "    <tr>\n",
       "      <th>3</th>\n",
       "      <td>-121.92</td>\n",
       "      <td>36.57</td>\n",
       "      <td>42.0</td>\n",
       "      <td>3944.0</td>\n",
       "      <td>738.0</td>\n",
       "      <td>1374.0</td>\n",
       "      <td>598.0</td>\n",
       "      <td>4.1740</td>\n",
       "      <td>394400.0</td>\n",
       "      <td>NEAR OCEAN</td>\n",
       "    </tr>\n",
       "    <tr>\n",
       "      <th>4</th>\n",
       "      <td>-118.36</td>\n",
       "      <td>33.82</td>\n",
       "      <td>36.0</td>\n",
       "      <td>1083.0</td>\n",
       "      <td>187.0</td>\n",
       "      <td>522.0</td>\n",
       "      <td>187.0</td>\n",
       "      <td>5.7765</td>\n",
       "      <td>339500.0</td>\n",
       "      <td>&lt;1H OCEAN</td>\n",
       "    </tr>\n",
       "  </tbody>\n",
       "</table>\n",
       "</div>"
      ],
      "text/plain": [
       "   longitude  latitude  housing_median_age  total_rooms  total_bedrooms  \\\n",
       "0    -121.37     37.06                25.0        474.0            92.0   \n",
       "1    -118.39     34.14                19.0       5076.0          1034.0   \n",
       "2    -122.07     37.41                26.0       1184.0           225.0   \n",
       "3    -121.92     36.57                42.0       3944.0           738.0   \n",
       "4    -118.36     33.82                36.0       1083.0           187.0   \n",
       "\n",
       "   population  households  median_income  median_house_value ocean_proximity  \n",
       "0       300.0       104.0         3.8062            340900.0          INLAND  \n",
       "1      2021.0       960.0         5.5683            309200.0       <1H OCEAN  \n",
       "2       815.0       218.0         5.7657            322300.0        NEAR BAY  \n",
       "3      1374.0       598.0         4.1740            394400.0      NEAR OCEAN  \n",
       "4       522.0       187.0         5.7765            339500.0       <1H OCEAN  "
      ]
     },
     "execution_count": 4,
     "metadata": {},
     "output_type": "execute_result"
    }
   ],
   "source": [
    "housing_train.head()"
   ]
  },
  {
   "cell_type": "code",
   "execution_count": 5,
   "id": "literary-oasis",
   "metadata": {},
   "outputs": [
    {
     "data": {
      "text/plain": [
       "(14857, 10)"
      ]
     },
     "execution_count": 5,
     "metadata": {},
     "output_type": "execute_result"
    }
   ],
   "source": [
    "housing_train.shape"
   ]
  },
  {
   "cell_type": "markdown",
   "id": "potential-doctor",
   "metadata": {},
   "source": [
    "### 5.2. Separate the _features_ and the _target outcome_"
   ]
  },
  {
   "cell_type": "code",
   "execution_count": 6,
   "id": "pretty-latex",
   "metadata": {},
   "outputs": [],
   "source": [
    "# store the target outcome into a numpy array\n",
    "y_train = housing_train['median_house_value'].values\n",
    "\n",
    "# overwrite the dataframe with only the features  \n",
    "housing_train = housing_train.drop(columns=['median_house_value'])"
   ]
  },
  {
   "cell_type": "markdown",
   "id": "becoming-praise",
   "metadata": {},
   "source": [
    "### 5.3. Pipelines"
   ]
  },
  {
   "cell_type": "markdown",
   "id": "tested-catholic",
   "metadata": {},
   "source": [
    "For the sake of simplicity, let's include the **Polynomial Regression** objects (`PolynomialFeatures()` + `LinearRegression()`) into our **pipeline**. So, it is no longer _just_ dedicated to preprocessing."
   ]
  },
  {
   "cell_type": "markdown",
   "id": "caroline-archives",
   "metadata": {},
   "source": [
    "#### **Scenario 1**"
   ]
  },
  {
   "cell_type": "code",
   "execution_count": 7,
   "id": "chief-compilation",
   "metadata": {},
   "outputs": [],
   "source": [
    "# pipeline for numerical\n",
    "from sklearn.pipeline import Pipeline\n",
    "from sklearn.compose import ColumnTransformer\n",
    "\n",
    "from sklearn.impute import SimpleImputer\n",
    "from sklearn.preprocessing import RobustScaler\n",
    "from sklearn.preprocessing import PolynomialFeatures\n",
    "from sklearn.linear_model import LinearRegression\n",
    "\n",
    "attributes_scenario_1 = ['median_income']\n",
    "\n",
    "pipeline_scenario_1 = Pipeline([\n",
    "    ('imputer', SimpleImputer()),   # let's evaluate the mean and median inputation\n",
    "    ('poly', PolynomialFeatures()), \n",
    "    ('scaler', RobustScaler())\n",
    "])\n",
    "\n",
    "# we will just use the ColumnTransformer because it automaticaly filters the required columns for us before performing the pipeline.\n",
    "# (name, transformer, columns)\n",
    "preprocessed_pipeline_scenario_1 = ColumnTransformer([\n",
    "    (\"numerical\", pipeline_scenario_1, attributes_scenario_1)\n",
    "])\n",
    "\n",
    "\n",
    "# full pipeline: preprocessing + model training/prediction\n",
    "full_pipeline_scenario_1 = Pipeline([\n",
    "        ('preprocessing', preprocessed_pipeline_scenario_1),\n",
    "        ('lin_regression', LinearRegression())\n",
    "])"
   ]
  },
  {
   "cell_type": "markdown",
   "id": "important-georgia",
   "metadata": {},
   "source": [
    "#### **Scenario 2**"
   ]
  },
  {
   "cell_type": "code",
   "execution_count": 8,
   "id": "wireless-investor",
   "metadata": {},
   "outputs": [],
   "source": [
    "#### feature engineering method from the Sprint #4\n",
    "import numpy as np\n",
    "from sklearn.base import BaseEstimator, TransformerMixin\n",
    "\n",
    "# our 3 new features are based on some the features: totalrooms, \n",
    "# column index\n",
    "rooms_col_idx, bedrooms_col_idx, population_col_idx, households_col_idx = 3, 4, 5, 6\n",
    "\n",
    "class HousingFeatEngineering(BaseEstimator, TransformerMixin):\n",
    "    def __init__(self):\n",
    "        pass\n",
    "    \n",
    "    def fit(self, X, y=None):\n",
    "        return self  # nothing else to do\n",
    "    \n",
    "    def transform(self, X):\n",
    "        n_rows = X.shape[0]\n",
    "        \n",
    "        # creating the new features\n",
    "        rooms_per_household = X[:, rooms_col_idx] / X[:, households_col_idx]\n",
    "        population_per_household = X[:, population_col_idx] / X[:, households_col_idx]\n",
    "        bedrooms_per_room = X[:, bedrooms_col_idx] / X[:, rooms_col_idx]\n",
    "                \n",
    "        # to concatenate the new array as columns in our feature matrix, we need to reshape them first\n",
    "        rooms_per_household = rooms_per_household.reshape((n_rows, 1))\n",
    "        population_per_household = population_per_household.reshape((n_rows, 1))\n",
    "        bedrooms_per_room = bedrooms_per_room.reshape((n_rows, 1))\n",
    "        \n",
    "        # concatenating the new features into the feature matrix\n",
    "        X_out = np.hstack((X, rooms_per_household, population_per_household, bedrooms_per_room))\n",
    "        \n",
    "        return X_out"
   ]
  },
  {
   "cell_type": "code",
   "execution_count": 9,
   "id": "electric-hepatitis",
   "metadata": {},
   "outputs": [],
   "source": [
    "import numpy as np\n",
    "from sklearn.base import BaseEstimator, TransformerMixin\n",
    "\n",
    "# our 3 new features are based on some the features: totalrooms, \n",
    "# column index\n",
    "rooms_col_idx, bedrooms_col_idx, population_col_idx, households_col_idx = 3, 4, 5, 6\n",
    "\n",
    "class DropFeatures(BaseEstimator, TransformerMixin):\n",
    "    def __init__(self, verbose=False):\n",
    "        self.verbose = verbose\n",
    "    \n",
    "    def fit(self, X, y=None):\n",
    "        return self  # nothing else to do\n",
    "    \n",
    "    def transform(self, X):\n",
    "        X_out = np.delete(X, [rooms_col_idx, bedrooms_col_idx, population_col_idx, households_col_idx], axis=1)\n",
    "        \n",
    "        # for debugging\n",
    "        if self.verbose:\n",
    "            np.set_printoptions(suppress=True)\n",
    "            print('X[:5]')\n",
    "            print(X[:5])\n",
    "            print('\\nX_out[:5]')\n",
    "            print(X_out[:5])\n",
    "        \n",
    "        return X_out"
   ]
  },
  {
   "cell_type": "code",
   "execution_count": 10,
   "id": "occupational-rochester",
   "metadata": {},
   "outputs": [],
   "source": [
    "# pipeline for numerical\n",
    "from sklearn.pipeline import Pipeline\n",
    "from sklearn.compose import ColumnTransformer\n",
    "\n",
    "from sklearn.impute import SimpleImputer\n",
    "from sklearn.preprocessing import RobustScaler\n",
    "from sklearn.preprocessing import PolynomialFeatures\n",
    "from sklearn.linear_model import LinearRegression\n",
    "\n",
    "attributes_scenario_2 = housing_train.columns.drop('ocean_proximity')\n",
    "\n",
    "pipeline_scenario_2 = Pipeline([\n",
    "    ('imputer', SimpleImputer()),  # let's evaluate the mean and median inputation\n",
    "    ('feat_engineering', HousingFeatEngineering()),\n",
    "    ('drop_features', DropFeatures(verbose=False)),\n",
    "    ('poly', PolynomialFeatures()),\n",
    "    ('scaler', RobustScaler())\n",
    "])\n",
    "\n",
    "# we will just use the ColumnTransformer because it automaticaly filters the required columns for us before performing the pipeline.\n",
    "# (name, transformer, columns)\n",
    "preprocessed_pipeline_scenario_2 = ColumnTransformer([\n",
    "    (\"numerical\", pipeline_scenario_2, attributes_scenario_2)\n",
    "])\n",
    "\n",
    "# full pipeline: preprocessing + model training/prediction\n",
    "full_pipeline_scenario_2 = Pipeline([\n",
    "        ('preprocessing', preprocessed_pipeline_scenario_2),\n",
    "        ('lin_regression', LinearRegression())\n",
    "])"
   ]
  },
  {
   "cell_type": "markdown",
   "id": "listed-permission",
   "metadata": {},
   "source": [
    "## 🏋️‍♀️ 6. Train ML Algorithms"
   ]
  },
  {
   "cell_type": "markdown",
   "id": "active-cradle",
   "metadata": {},
   "source": [
    "### 6.1. Grid-Search (fine-tunning)\n",
    "https://scikit-learn.org/stable/modules/generated/sklearn.model_selection.GridSearchCV.html"
   ]
  },
  {
   "cell_type": "markdown",
   "id": "better-rescue",
   "metadata": {},
   "source": [
    "### **Scenario 1**"
   ]
  },
  {
   "cell_type": "markdown",
   "id": "soviet-staff",
   "metadata": {},
   "source": [
    "#### **Finding out the hyperparameter key names**"
   ]
  },
  {
   "cell_type": "code",
   "execution_count": 11,
   "id": "foreign-demonstration",
   "metadata": {},
   "outputs": [
    {
     "data": {
      "text/plain": [
       "{'memory': None,\n",
       " 'steps': [('preprocessing',\n",
       "   ColumnTransformer(transformers=[('numerical',\n",
       "                                    Pipeline(steps=[('imputer', SimpleImputer()),\n",
       "                                                    ('poly', PolynomialFeatures()),\n",
       "                                                    ('scaler', RobustScaler())]),\n",
       "                                    ['median_income'])])),\n",
       "  ('lin_regression', LinearRegression())],\n",
       " 'verbose': False,\n",
       " 'preprocessing': ColumnTransformer(transformers=[('numerical',\n",
       "                                  Pipeline(steps=[('imputer', SimpleImputer()),\n",
       "                                                  ('poly', PolynomialFeatures()),\n",
       "                                                  ('scaler', RobustScaler())]),\n",
       "                                  ['median_income'])]),\n",
       " 'lin_regression': LinearRegression(),\n",
       " 'preprocessing__n_jobs': None,\n",
       " 'preprocessing__remainder': 'drop',\n",
       " 'preprocessing__sparse_threshold': 0.3,\n",
       " 'preprocessing__transformer_weights': None,\n",
       " 'preprocessing__transformers': [('numerical',\n",
       "   Pipeline(steps=[('imputer', SimpleImputer()), ('poly', PolynomialFeatures()),\n",
       "                   ('scaler', RobustScaler())]),\n",
       "   ['median_income'])],\n",
       " 'preprocessing__verbose': False,\n",
       " 'preprocessing__numerical': Pipeline(steps=[('imputer', SimpleImputer()), ('poly', PolynomialFeatures()),\n",
       "                 ('scaler', RobustScaler())]),\n",
       " 'preprocessing__numerical__memory': None,\n",
       " 'preprocessing__numerical__steps': [('imputer', SimpleImputer()),\n",
       "  ('poly', PolynomialFeatures()),\n",
       "  ('scaler', RobustScaler())],\n",
       " 'preprocessing__numerical__verbose': False,\n",
       " 'preprocessing__numerical__imputer': SimpleImputer(),\n",
       " 'preprocessing__numerical__poly': PolynomialFeatures(),\n",
       " 'preprocessing__numerical__scaler': RobustScaler(),\n",
       " 'preprocessing__numerical__imputer__add_indicator': False,\n",
       " 'preprocessing__numerical__imputer__copy': True,\n",
       " 'preprocessing__numerical__imputer__fill_value': None,\n",
       " 'preprocessing__numerical__imputer__missing_values': nan,\n",
       " 'preprocessing__numerical__imputer__strategy': 'mean',\n",
       " 'preprocessing__numerical__imputer__verbose': 0,\n",
       " 'preprocessing__numerical__poly__degree': 2,\n",
       " 'preprocessing__numerical__poly__include_bias': True,\n",
       " 'preprocessing__numerical__poly__interaction_only': False,\n",
       " 'preprocessing__numerical__poly__order': 'C',\n",
       " 'preprocessing__numerical__scaler__copy': True,\n",
       " 'preprocessing__numerical__scaler__quantile_range': (25.0, 75.0),\n",
       " 'preprocessing__numerical__scaler__unit_variance': False,\n",
       " 'preprocessing__numerical__scaler__with_centering': True,\n",
       " 'preprocessing__numerical__scaler__with_scaling': True,\n",
       " 'lin_regression__copy_X': True,\n",
       " 'lin_regression__fit_intercept': True,\n",
       " 'lin_regression__n_jobs': None,\n",
       " 'lin_regression__normalize': False,\n",
       " 'lin_regression__positive': False}"
      ]
     },
     "execution_count": 11,
     "metadata": {},
     "output_type": "execute_result"
    }
   ],
   "source": [
    "full_pipeline_scenario_1.get_params()"
   ]
  },
  {
   "cell_type": "markdown",
   "id": "legislative-president",
   "metadata": {},
   "source": [
    "#### **Grid-search**"
   ]
  },
  {
   "cell_type": "code",
   "execution_count": 12,
   "id": "personal-session",
   "metadata": {},
   "outputs": [
    {
     "name": "stdout",
     "output_type": "stream",
     "text": [
      "Fitting 5 folds for each of 40 candidates, totalling 200 fits\n"
     ]
    },
    {
     "data": {
      "text/plain": [
       "GridSearchCV(cv=5,\n",
       "             estimator=Pipeline(steps=[('preprocessing',\n",
       "                                        ColumnTransformer(transformers=[('numerical',\n",
       "                                                                         Pipeline(steps=[('imputer',\n",
       "                                                                                          SimpleImputer()),\n",
       "                                                                                         ('poly',\n",
       "                                                                                          PolynomialFeatures()),\n",
       "                                                                                         ('scaler',\n",
       "                                                                                          RobustScaler())]),\n",
       "                                                                         ['median_income'])])),\n",
       "                                       ('lin_regression', LinearRegression())]),\n",
       "             param_grid=[{'preprocessing__numerical__imputer__strategy': ['mean',\n",
       "                                                                          'median'],\n",
       "                          'preprocessing__numerical__poly__degree': [2, 3, 10,\n",
       "                                                                     20, 30],\n",
       "                          'preprocessing__numerical__poly__include_bias': [False,\n",
       "                                                                           True],\n",
       "                          'preprocessing__numerical__poly__interaction_only': [False,\n",
       "                                                                               True]}],\n",
       "             return_train_score=True, scoring='neg_mean_squared_error',\n",
       "             verbose=1)"
      ]
     },
     "execution_count": 12,
     "metadata": {},
     "output_type": "execute_result"
    }
   ],
   "source": [
    "from sklearn.model_selection import GridSearchCV\n",
    "\n",
    "# search space\n",
    "param_grid_scenario_1 = [\n",
    "    {\n",
    "    'preprocessing__numerical__imputer__strategy': ['mean', 'median'],\n",
    "    'preprocessing__numerical__poly__degree': [2, 3, 10, 20, 30],\n",
    "    'preprocessing__numerical__poly__include_bias': [False, True],\n",
    "    'preprocessing__numerical__poly__interaction_only': [False, True]\n",
    "    }\n",
    "]\n",
    "\n",
    "grid_search_scenario_1 = GridSearchCV(full_pipeline_scenario_1, param_grid_scenario_1, cv=5, scoring='neg_mean_squared_error', return_train_score=True, verbose=1)\n",
    "grid_search_scenario_1.fit(housing_train, y_train)"
   ]
  },
  {
   "cell_type": "code",
   "execution_count": 13,
   "id": "lucky-ivory",
   "metadata": {},
   "outputs": [
    {
     "name": "stdout",
     "output_type": "stream",
     "text": [
      "71691.10772210758 {'preprocessing__numerical__imputer__strategy': 'mean', 'preprocessing__numerical__poly__degree': 2, 'preprocessing__numerical__poly__include_bias': False, 'preprocessing__numerical__poly__interaction_only': False}\n",
      "71676.82921015851 {'preprocessing__numerical__imputer__strategy': 'mean', 'preprocessing__numerical__poly__degree': 2, 'preprocessing__numerical__poly__include_bias': False, 'preprocessing__numerical__poly__interaction_only': True}\n",
      "71691.10772210758 {'preprocessing__numerical__imputer__strategy': 'mean', 'preprocessing__numerical__poly__degree': 2, 'preprocessing__numerical__poly__include_bias': True, 'preprocessing__numerical__poly__interaction_only': False}\n",
      "71676.82921015852 {'preprocessing__numerical__imputer__strategy': 'mean', 'preprocessing__numerical__poly__degree': 2, 'preprocessing__numerical__poly__include_bias': True, 'preprocessing__numerical__poly__interaction_only': True}\n",
      "71456.56128983348 {'preprocessing__numerical__imputer__strategy': 'mean', 'preprocessing__numerical__poly__degree': 3, 'preprocessing__numerical__poly__include_bias': False, 'preprocessing__numerical__poly__interaction_only': False}\n",
      "71676.82921015851 {'preprocessing__numerical__imputer__strategy': 'mean', 'preprocessing__numerical__poly__degree': 3, 'preprocessing__numerical__poly__include_bias': False, 'preprocessing__numerical__poly__interaction_only': True}\n",
      "71456.56128983348 {'preprocessing__numerical__imputer__strategy': 'mean', 'preprocessing__numerical__poly__degree': 3, 'preprocessing__numerical__poly__include_bias': True, 'preprocessing__numerical__poly__interaction_only': False}\n",
      "71676.82921015852 {'preprocessing__numerical__imputer__strategy': 'mean', 'preprocessing__numerical__poly__degree': 3, 'preprocessing__numerical__poly__include_bias': True, 'preprocessing__numerical__poly__interaction_only': True}\n",
      "71298.70981488981 {'preprocessing__numerical__imputer__strategy': 'mean', 'preprocessing__numerical__poly__degree': 10, 'preprocessing__numerical__poly__include_bias': False, 'preprocessing__numerical__poly__interaction_only': False}\n",
      "71676.82921015851 {'preprocessing__numerical__imputer__strategy': 'mean', 'preprocessing__numerical__poly__degree': 10, 'preprocessing__numerical__poly__include_bias': False, 'preprocessing__numerical__poly__interaction_only': True}\n",
      "71298.7098148913 {'preprocessing__numerical__imputer__strategy': 'mean', 'preprocessing__numerical__poly__degree': 10, 'preprocessing__numerical__poly__include_bias': True, 'preprocessing__numerical__poly__interaction_only': False}\n",
      "71676.82921015852 {'preprocessing__numerical__imputer__strategy': 'mean', 'preprocessing__numerical__poly__degree': 10, 'preprocessing__numerical__poly__include_bias': True, 'preprocessing__numerical__poly__interaction_only': True}\n",
      "72655.1190863201 {'preprocessing__numerical__imputer__strategy': 'mean', 'preprocessing__numerical__poly__degree': 20, 'preprocessing__numerical__poly__include_bias': False, 'preprocessing__numerical__poly__interaction_only': False}\n",
      "71676.82921015851 {'preprocessing__numerical__imputer__strategy': 'mean', 'preprocessing__numerical__poly__degree': 20, 'preprocessing__numerical__poly__include_bias': False, 'preprocessing__numerical__poly__interaction_only': True}\n",
      "72654.8097363325 {'preprocessing__numerical__imputer__strategy': 'mean', 'preprocessing__numerical__poly__degree': 20, 'preprocessing__numerical__poly__include_bias': True, 'preprocessing__numerical__poly__interaction_only': False}\n",
      "71676.82921015852 {'preprocessing__numerical__imputer__strategy': 'mean', 'preprocessing__numerical__poly__degree': 20, 'preprocessing__numerical__poly__include_bias': True, 'preprocessing__numerical__poly__interaction_only': True}\n",
      "80396.81884992568 {'preprocessing__numerical__imputer__strategy': 'mean', 'preprocessing__numerical__poly__degree': 30, 'preprocessing__numerical__poly__include_bias': False, 'preprocessing__numerical__poly__interaction_only': False}\n",
      "71676.82921015851 {'preprocessing__numerical__imputer__strategy': 'mean', 'preprocessing__numerical__poly__degree': 30, 'preprocessing__numerical__poly__include_bias': False, 'preprocessing__numerical__poly__interaction_only': True}\n",
      "77358.2032737083 {'preprocessing__numerical__imputer__strategy': 'mean', 'preprocessing__numerical__poly__degree': 30, 'preprocessing__numerical__poly__include_bias': True, 'preprocessing__numerical__poly__interaction_only': False}\n",
      "71676.82921015852 {'preprocessing__numerical__imputer__strategy': 'mean', 'preprocessing__numerical__poly__degree': 30, 'preprocessing__numerical__poly__include_bias': True, 'preprocessing__numerical__poly__interaction_only': True}\n",
      "71691.10772210758 {'preprocessing__numerical__imputer__strategy': 'median', 'preprocessing__numerical__poly__degree': 2, 'preprocessing__numerical__poly__include_bias': False, 'preprocessing__numerical__poly__interaction_only': False}\n",
      "71676.82921015851 {'preprocessing__numerical__imputer__strategy': 'median', 'preprocessing__numerical__poly__degree': 2, 'preprocessing__numerical__poly__include_bias': False, 'preprocessing__numerical__poly__interaction_only': True}\n",
      "71691.10772210758 {'preprocessing__numerical__imputer__strategy': 'median', 'preprocessing__numerical__poly__degree': 2, 'preprocessing__numerical__poly__include_bias': True, 'preprocessing__numerical__poly__interaction_only': False}\n",
      "71676.82921015852 {'preprocessing__numerical__imputer__strategy': 'median', 'preprocessing__numerical__poly__degree': 2, 'preprocessing__numerical__poly__include_bias': True, 'preprocessing__numerical__poly__interaction_only': True}\n",
      "71456.56128983348 {'preprocessing__numerical__imputer__strategy': 'median', 'preprocessing__numerical__poly__degree': 3, 'preprocessing__numerical__poly__include_bias': False, 'preprocessing__numerical__poly__interaction_only': False}\n",
      "71676.82921015851 {'preprocessing__numerical__imputer__strategy': 'median', 'preprocessing__numerical__poly__degree': 3, 'preprocessing__numerical__poly__include_bias': False, 'preprocessing__numerical__poly__interaction_only': True}\n",
      "71456.56128983348 {'preprocessing__numerical__imputer__strategy': 'median', 'preprocessing__numerical__poly__degree': 3, 'preprocessing__numerical__poly__include_bias': True, 'preprocessing__numerical__poly__interaction_only': False}\n",
      "71676.82921015852 {'preprocessing__numerical__imputer__strategy': 'median', 'preprocessing__numerical__poly__degree': 3, 'preprocessing__numerical__poly__include_bias': True, 'preprocessing__numerical__poly__interaction_only': True}\n",
      "71298.70981488981 {'preprocessing__numerical__imputer__strategy': 'median', 'preprocessing__numerical__poly__degree': 10, 'preprocessing__numerical__poly__include_bias': False, 'preprocessing__numerical__poly__interaction_only': False}\n",
      "71676.82921015851 {'preprocessing__numerical__imputer__strategy': 'median', 'preprocessing__numerical__poly__degree': 10, 'preprocessing__numerical__poly__include_bias': False, 'preprocessing__numerical__poly__interaction_only': True}\n",
      "71298.7098148913 {'preprocessing__numerical__imputer__strategy': 'median', 'preprocessing__numerical__poly__degree': 10, 'preprocessing__numerical__poly__include_bias': True, 'preprocessing__numerical__poly__interaction_only': False}\n",
      "71676.82921015852 {'preprocessing__numerical__imputer__strategy': 'median', 'preprocessing__numerical__poly__degree': 10, 'preprocessing__numerical__poly__include_bias': True, 'preprocessing__numerical__poly__interaction_only': True}\n",
      "72655.1190863201 {'preprocessing__numerical__imputer__strategy': 'median', 'preprocessing__numerical__poly__degree': 20, 'preprocessing__numerical__poly__include_bias': False, 'preprocessing__numerical__poly__interaction_only': False}\n",
      "71676.82921015851 {'preprocessing__numerical__imputer__strategy': 'median', 'preprocessing__numerical__poly__degree': 20, 'preprocessing__numerical__poly__include_bias': False, 'preprocessing__numerical__poly__interaction_only': True}\n",
      "72654.8097363325 {'preprocessing__numerical__imputer__strategy': 'median', 'preprocessing__numerical__poly__degree': 20, 'preprocessing__numerical__poly__include_bias': True, 'preprocessing__numerical__poly__interaction_only': False}\n",
      "71676.82921015852 {'preprocessing__numerical__imputer__strategy': 'median', 'preprocessing__numerical__poly__degree': 20, 'preprocessing__numerical__poly__include_bias': True, 'preprocessing__numerical__poly__interaction_only': True}\n",
      "80396.81884992568 {'preprocessing__numerical__imputer__strategy': 'median', 'preprocessing__numerical__poly__degree': 30, 'preprocessing__numerical__poly__include_bias': False, 'preprocessing__numerical__poly__interaction_only': False}\n",
      "71676.82921015851 {'preprocessing__numerical__imputer__strategy': 'median', 'preprocessing__numerical__poly__degree': 30, 'preprocessing__numerical__poly__include_bias': False, 'preprocessing__numerical__poly__interaction_only': True}\n",
      "77358.2032737083 {'preprocessing__numerical__imputer__strategy': 'median', 'preprocessing__numerical__poly__degree': 30, 'preprocessing__numerical__poly__include_bias': True, 'preprocessing__numerical__poly__interaction_only': False}\n",
      "71676.82921015852 {'preprocessing__numerical__imputer__strategy': 'median', 'preprocessing__numerical__poly__degree': 30, 'preprocessing__numerical__poly__include_bias': True, 'preprocessing__numerical__poly__interaction_only': True}\n"
     ]
    }
   ],
   "source": [
    "cvres = grid_search_scenario_1.cv_results_\n",
    "\n",
    "# (approximated) RMSE\n",
    "for mean_score, params in zip(cvres[\"mean_test_score\"], cvres[\"params\"]):\n",
    "    print(np.sqrt(-mean_score), params)"
   ]
  },
  {
   "cell_type": "code",
   "execution_count": 14,
   "id": "balanced-starter",
   "metadata": {},
   "outputs": [
    {
     "data": {
      "text/plain": [
       "{'preprocessing__numerical__imputer__strategy': 'mean',\n",
       " 'preprocessing__numerical__poly__degree': 10,\n",
       " 'preprocessing__numerical__poly__include_bias': False,\n",
       " 'preprocessing__numerical__poly__interaction_only': False}"
      ]
     },
     "execution_count": 14,
     "metadata": {},
     "output_type": "execute_result"
    }
   ],
   "source": [
    "# best params\n",
    "grid_search_scenario_1.best_params_"
   ]
  },
  {
   "cell_type": "code",
   "execution_count": 15,
   "id": "sorted-plasma",
   "metadata": {},
   "outputs": [
    {
     "data": {
      "text/plain": [
       "Pipeline(steps=[('preprocessing',\n",
       "                 ColumnTransformer(transformers=[('numerical',\n",
       "                                                  Pipeline(steps=[('imputer',\n",
       "                                                                   SimpleImputer()),\n",
       "                                                                  ('poly',\n",
       "                                                                   PolynomialFeatures(degree=10,\n",
       "                                                                                      include_bias=False)),\n",
       "                                                                  ('scaler',\n",
       "                                                                   RobustScaler())]),\n",
       "                                                  ['median_income'])])),\n",
       "                ('lin_regression', LinearRegression())])"
      ]
     },
     "execution_count": 15,
     "metadata": {},
     "output_type": "execute_result"
    }
   ],
   "source": [
    "# best estimator\n",
    "# if refit=True, it returns a model trained with the full training set with the best hyperparameters\n",
    "best_model = grid_search_scenario_1.best_estimator_\n",
    "best_model"
   ]
  },
  {
   "cell_type": "code",
   "execution_count": 16,
   "id": "union-battery",
   "metadata": {},
   "outputs": [
    {
     "data": {
      "text/plain": [
       "71298.70981488981"
      ]
     },
     "execution_count": 16,
     "metadata": {},
     "output_type": "execute_result"
    }
   ],
   "source": [
    "# get the (approximated) RMSE\n",
    "np.sqrt(-grid_search_scenario_1.best_score_)"
   ]
  },
  {
   "cell_type": "code",
   "execution_count": 17,
   "id": "recorded-locking",
   "metadata": {},
   "outputs": [
    {
     "name": "stdout",
     "output_type": "stream",
     "text": [
      "Best score: 71298.70981488981 +- 11036.55480104328\n"
     ]
    }
   ],
   "source": [
    "# get the approximated RMSE and its standard deviation\n",
    "best_index = grid_search_scenario_1.best_index_\n",
    "best_score = np.sqrt(-grid_search_scenario_1.cv_results_['mean_test_score'][best_index])\n",
    "best_score_std = np.sqrt(grid_search_scenario_1.cv_results_['std_test_score'][best_index])\n",
    "\n",
    "print(f'Best score: {best_score} +- {best_score_std}')"
   ]
  },
  {
   "cell_type": "markdown",
   "id": "photographic-wright",
   "metadata": {},
   "source": [
    "<br/>\n",
    "\n",
    "The **cross validation score** from **the best model** (\\\\$71,298.70 ± \\\\$11,036.55) is _slightly better_ than the score of Scenario 1 without fine-tunning (\\\\$71,671.86 ± \\$1,479.30) from Sprint #5, its results are more unstable (see its _standard deviation_). <br/>\n",
    "Moreover, its **cross validation score** keeps being _considerably higher_ than that of `Linear Regression` from the previous Sprint (\\\\$58,371.04 ± \\$1,757.91)."
   ]
  },
  {
   "cell_type": "markdown",
   "id": "completed-salad",
   "metadata": {},
   "source": [
    "<table align=\"left\" class=\"dashed-box\">\n",
    "<tr>\n",
    "    <td>💡</td>\n",
    "    <td>Mathematically, the correct way to estimate the <b>cross-validation RMSE</b> and its <b>standard deviation</b> is to apply the <i>square root</i> for the each split <i>negative MSE score</i>, and then compute the <i>mean</i> and <i>std</i> with these new scores.</td>\n",
    "</tr>\n",
    "<tr>\n",
    "    <td></td>\n",
    "    <td>For that, we need to 'debug' the _cross validation results.</td>\n",
    "</tr>\n",
    "</table><br/><br/>"
   ]
  },
  {
   "cell_type": "code",
   "execution_count": 18,
   "id": "changing-executive",
   "metadata": {},
   "outputs": [
    {
     "data": {
      "text/plain": [
       "{'mean_fit_time': array([0.01887522, 0.0094492 , 0.00991473, 0.01025591, 0.01390386,\n",
       "        0.01003895, 0.01409917, 0.01014118, 0.01996737, 0.01102452,\n",
       "        0.02211404, 0.01221519, 0.03636308, 0.0101171 , 0.033359  ,\n",
       "        0.01285214, 0.04814892, 0.0117455 , 0.04784751, 0.01231089,\n",
       "        0.01181126, 0.00959897, 0.01091461, 0.01017919, 0.01351895,\n",
       "        0.00950961, 0.01344018, 0.0112464 , 0.02205029, 0.01144061,\n",
       "        0.02214503, 0.01309052, 0.04201412, 0.01209021, 0.04594536,\n",
       "        0.01328597, 0.04784422, 0.01263294, 0.04693222, 0.01277361]),\n",
       " 'std_fit_time': array([0.00306254, 0.00147188, 0.00059162, 0.00081139, 0.00206498,\n",
       "        0.00197489, 0.00128092, 0.00131696, 0.00153409, 0.00047527,\n",
       "        0.00095572, 0.00066597, 0.00206565, 0.00020597, 0.00272837,\n",
       "        0.00068374, 0.00365625, 0.00205953, 0.00321318, 0.00097735,\n",
       "        0.00085682, 0.00073027, 0.00043163, 0.00048236, 0.00191204,\n",
       "        0.00091917, 0.00098501, 0.00108267, 0.00116167, 0.00019569,\n",
       "        0.00124825, 0.00096253, 0.00577156, 0.00039927, 0.02304046,\n",
       "        0.0009351 , 0.00420397, 0.00199263, 0.00296244, 0.00078307]),\n",
       " 'mean_score_time': array([0.00570397, 0.00345335, 0.00312777, 0.00320621, 0.00400896,\n",
       "        0.00418229, 0.00413013, 0.00340056, 0.00461745, 0.00401359,\n",
       "        0.00476694, 0.00446711, 0.00612297, 0.0038506 , 0.00553102,\n",
       "        0.00444193, 0.00700006, 0.00399151, 0.00652666, 0.00409408,\n",
       "        0.00354991, 0.00310011, 0.00309014, 0.0030302 , 0.00379062,\n",
       "        0.00304561, 0.00336413, 0.00349522, 0.00434785, 0.00362964,\n",
       "        0.0047986 , 0.00413561, 0.00607657, 0.00400252, 0.00556216,\n",
       "        0.00416074, 0.00609217, 0.004214  , 0.0058507 , 0.00401831]),\n",
       " 'std_score_time': array([6.79056369e-04, 3.91521075e-04, 1.30600675e-04, 1.34114162e-04,\n",
       "        8.15413812e-04, 5.79592190e-04, 6.88568162e-04, 4.76095935e-04,\n",
       "        4.78556490e-04, 3.93228654e-04, 5.23743574e-04, 6.21713109e-04,\n",
       "        1.09104661e-03, 8.45903743e-05, 2.98041435e-04, 8.29808340e-04,\n",
       "        1.07934323e-03, 9.12287981e-04, 8.15805620e-04, 6.24397282e-04,\n",
       "        5.50843115e-04, 1.78281972e-04, 1.11692730e-04, 7.08929697e-05,\n",
       "        7.59666710e-04, 3.31754648e-04, 3.14783045e-04, 1.86954588e-04,\n",
       "        4.97673537e-04, 4.10743758e-04, 5.64068357e-04, 5.62624990e-04,\n",
       "        6.75494661e-04, 2.81233180e-04, 2.38118966e-04, 3.15719014e-04,\n",
       "        5.46585075e-04, 6.24731318e-04, 4.93056391e-04, 3.82382582e-04]),\n",
       " 'param_preprocessing__numerical__imputer__strategy': masked_array(data=['mean', 'mean', 'mean', 'mean', 'mean', 'mean', 'mean',\n",
       "                    'mean', 'mean', 'mean', 'mean', 'mean', 'mean', 'mean',\n",
       "                    'mean', 'mean', 'mean', 'mean', 'mean', 'mean',\n",
       "                    'median', 'median', 'median', 'median', 'median',\n",
       "                    'median', 'median', 'median', 'median', 'median',\n",
       "                    'median', 'median', 'median', 'median', 'median',\n",
       "                    'median', 'median', 'median', 'median', 'median'],\n",
       "              mask=[False, False, False, False, False, False, False, False,\n",
       "                    False, False, False, False, False, False, False, False,\n",
       "                    False, False, False, False, False, False, False, False,\n",
       "                    False, False, False, False, False, False, False, False,\n",
       "                    False, False, False, False, False, False, False, False],\n",
       "        fill_value='?',\n",
       "             dtype=object),\n",
       " 'param_preprocessing__numerical__poly__degree': masked_array(data=[2, 2, 2, 2, 3, 3, 3, 3, 10, 10, 10, 10, 20, 20, 20, 20,\n",
       "                    30, 30, 30, 30, 2, 2, 2, 2, 3, 3, 3, 3, 10, 10, 10, 10,\n",
       "                    20, 20, 20, 20, 30, 30, 30, 30],\n",
       "              mask=[False, False, False, False, False, False, False, False,\n",
       "                    False, False, False, False, False, False, False, False,\n",
       "                    False, False, False, False, False, False, False, False,\n",
       "                    False, False, False, False, False, False, False, False,\n",
       "                    False, False, False, False, False, False, False, False],\n",
       "        fill_value='?',\n",
       "             dtype=object),\n",
       " 'param_preprocessing__numerical__poly__include_bias': masked_array(data=[False, False, True, True, False, False, True, True,\n",
       "                    False, False, True, True, False, False, True, True,\n",
       "                    False, False, True, True, False, False, True, True,\n",
       "                    False, False, True, True, False, False, True, True,\n",
       "                    False, False, True, True, False, False, True, True],\n",
       "              mask=[False, False, False, False, False, False, False, False,\n",
       "                    False, False, False, False, False, False, False, False,\n",
       "                    False, False, False, False, False, False, False, False,\n",
       "                    False, False, False, False, False, False, False, False,\n",
       "                    False, False, False, False, False, False, False, False],\n",
       "        fill_value='?',\n",
       "             dtype=object),\n",
       " 'param_preprocessing__numerical__poly__interaction_only': masked_array(data=[False, True, False, True, False, True, False, True,\n",
       "                    False, True, False, True, False, True, False, True,\n",
       "                    False, True, False, True, False, True, False, True,\n",
       "                    False, True, False, True, False, True, False, True,\n",
       "                    False, True, False, True, False, True, False, True],\n",
       "              mask=[False, False, False, False, False, False, False, False,\n",
       "                    False, False, False, False, False, False, False, False,\n",
       "                    False, False, False, False, False, False, False, False,\n",
       "                    False, False, False, False, False, False, False, False,\n",
       "                    False, False, False, False, False, False, False, False],\n",
       "        fill_value='?',\n",
       "             dtype=object),\n",
       " 'params': [{'preprocessing__numerical__imputer__strategy': 'mean',\n",
       "   'preprocessing__numerical__poly__degree': 2,\n",
       "   'preprocessing__numerical__poly__include_bias': False,\n",
       "   'preprocessing__numerical__poly__interaction_only': False},\n",
       "  {'preprocessing__numerical__imputer__strategy': 'mean',\n",
       "   'preprocessing__numerical__poly__degree': 2,\n",
       "   'preprocessing__numerical__poly__include_bias': False,\n",
       "   'preprocessing__numerical__poly__interaction_only': True},\n",
       "  {'preprocessing__numerical__imputer__strategy': 'mean',\n",
       "   'preprocessing__numerical__poly__degree': 2,\n",
       "   'preprocessing__numerical__poly__include_bias': True,\n",
       "   'preprocessing__numerical__poly__interaction_only': False},\n",
       "  {'preprocessing__numerical__imputer__strategy': 'mean',\n",
       "   'preprocessing__numerical__poly__degree': 2,\n",
       "   'preprocessing__numerical__poly__include_bias': True,\n",
       "   'preprocessing__numerical__poly__interaction_only': True},\n",
       "  {'preprocessing__numerical__imputer__strategy': 'mean',\n",
       "   'preprocessing__numerical__poly__degree': 3,\n",
       "   'preprocessing__numerical__poly__include_bias': False,\n",
       "   'preprocessing__numerical__poly__interaction_only': False},\n",
       "  {'preprocessing__numerical__imputer__strategy': 'mean',\n",
       "   'preprocessing__numerical__poly__degree': 3,\n",
       "   'preprocessing__numerical__poly__include_bias': False,\n",
       "   'preprocessing__numerical__poly__interaction_only': True},\n",
       "  {'preprocessing__numerical__imputer__strategy': 'mean',\n",
       "   'preprocessing__numerical__poly__degree': 3,\n",
       "   'preprocessing__numerical__poly__include_bias': True,\n",
       "   'preprocessing__numerical__poly__interaction_only': False},\n",
       "  {'preprocessing__numerical__imputer__strategy': 'mean',\n",
       "   'preprocessing__numerical__poly__degree': 3,\n",
       "   'preprocessing__numerical__poly__include_bias': True,\n",
       "   'preprocessing__numerical__poly__interaction_only': True},\n",
       "  {'preprocessing__numerical__imputer__strategy': 'mean',\n",
       "   'preprocessing__numerical__poly__degree': 10,\n",
       "   'preprocessing__numerical__poly__include_bias': False,\n",
       "   'preprocessing__numerical__poly__interaction_only': False},\n",
       "  {'preprocessing__numerical__imputer__strategy': 'mean',\n",
       "   'preprocessing__numerical__poly__degree': 10,\n",
       "   'preprocessing__numerical__poly__include_bias': False,\n",
       "   'preprocessing__numerical__poly__interaction_only': True},\n",
       "  {'preprocessing__numerical__imputer__strategy': 'mean',\n",
       "   'preprocessing__numerical__poly__degree': 10,\n",
       "   'preprocessing__numerical__poly__include_bias': True,\n",
       "   'preprocessing__numerical__poly__interaction_only': False},\n",
       "  {'preprocessing__numerical__imputer__strategy': 'mean',\n",
       "   'preprocessing__numerical__poly__degree': 10,\n",
       "   'preprocessing__numerical__poly__include_bias': True,\n",
       "   'preprocessing__numerical__poly__interaction_only': True},\n",
       "  {'preprocessing__numerical__imputer__strategy': 'mean',\n",
       "   'preprocessing__numerical__poly__degree': 20,\n",
       "   'preprocessing__numerical__poly__include_bias': False,\n",
       "   'preprocessing__numerical__poly__interaction_only': False},\n",
       "  {'preprocessing__numerical__imputer__strategy': 'mean',\n",
       "   'preprocessing__numerical__poly__degree': 20,\n",
       "   'preprocessing__numerical__poly__include_bias': False,\n",
       "   'preprocessing__numerical__poly__interaction_only': True},\n",
       "  {'preprocessing__numerical__imputer__strategy': 'mean',\n",
       "   'preprocessing__numerical__poly__degree': 20,\n",
       "   'preprocessing__numerical__poly__include_bias': True,\n",
       "   'preprocessing__numerical__poly__interaction_only': False},\n",
       "  {'preprocessing__numerical__imputer__strategy': 'mean',\n",
       "   'preprocessing__numerical__poly__degree': 20,\n",
       "   'preprocessing__numerical__poly__include_bias': True,\n",
       "   'preprocessing__numerical__poly__interaction_only': True},\n",
       "  {'preprocessing__numerical__imputer__strategy': 'mean',\n",
       "   'preprocessing__numerical__poly__degree': 30,\n",
       "   'preprocessing__numerical__poly__include_bias': False,\n",
       "   'preprocessing__numerical__poly__interaction_only': False},\n",
       "  {'preprocessing__numerical__imputer__strategy': 'mean',\n",
       "   'preprocessing__numerical__poly__degree': 30,\n",
       "   'preprocessing__numerical__poly__include_bias': False,\n",
       "   'preprocessing__numerical__poly__interaction_only': True},\n",
       "  {'preprocessing__numerical__imputer__strategy': 'mean',\n",
       "   'preprocessing__numerical__poly__degree': 30,\n",
       "   'preprocessing__numerical__poly__include_bias': True,\n",
       "   'preprocessing__numerical__poly__interaction_only': False},\n",
       "  {'preprocessing__numerical__imputer__strategy': 'mean',\n",
       "   'preprocessing__numerical__poly__degree': 30,\n",
       "   'preprocessing__numerical__poly__include_bias': True,\n",
       "   'preprocessing__numerical__poly__interaction_only': True},\n",
       "  {'preprocessing__numerical__imputer__strategy': 'median',\n",
       "   'preprocessing__numerical__poly__degree': 2,\n",
       "   'preprocessing__numerical__poly__include_bias': False,\n",
       "   'preprocessing__numerical__poly__interaction_only': False},\n",
       "  {'preprocessing__numerical__imputer__strategy': 'median',\n",
       "   'preprocessing__numerical__poly__degree': 2,\n",
       "   'preprocessing__numerical__poly__include_bias': False,\n",
       "   'preprocessing__numerical__poly__interaction_only': True},\n",
       "  {'preprocessing__numerical__imputer__strategy': 'median',\n",
       "   'preprocessing__numerical__poly__degree': 2,\n",
       "   'preprocessing__numerical__poly__include_bias': True,\n",
       "   'preprocessing__numerical__poly__interaction_only': False},\n",
       "  {'preprocessing__numerical__imputer__strategy': 'median',\n",
       "   'preprocessing__numerical__poly__degree': 2,\n",
       "   'preprocessing__numerical__poly__include_bias': True,\n",
       "   'preprocessing__numerical__poly__interaction_only': True},\n",
       "  {'preprocessing__numerical__imputer__strategy': 'median',\n",
       "   'preprocessing__numerical__poly__degree': 3,\n",
       "   'preprocessing__numerical__poly__include_bias': False,\n",
       "   'preprocessing__numerical__poly__interaction_only': False},\n",
       "  {'preprocessing__numerical__imputer__strategy': 'median',\n",
       "   'preprocessing__numerical__poly__degree': 3,\n",
       "   'preprocessing__numerical__poly__include_bias': False,\n",
       "   'preprocessing__numerical__poly__interaction_only': True},\n",
       "  {'preprocessing__numerical__imputer__strategy': 'median',\n",
       "   'preprocessing__numerical__poly__degree': 3,\n",
       "   'preprocessing__numerical__poly__include_bias': True,\n",
       "   'preprocessing__numerical__poly__interaction_only': False},\n",
       "  {'preprocessing__numerical__imputer__strategy': 'median',\n",
       "   'preprocessing__numerical__poly__degree': 3,\n",
       "   'preprocessing__numerical__poly__include_bias': True,\n",
       "   'preprocessing__numerical__poly__interaction_only': True},\n",
       "  {'preprocessing__numerical__imputer__strategy': 'median',\n",
       "   'preprocessing__numerical__poly__degree': 10,\n",
       "   'preprocessing__numerical__poly__include_bias': False,\n",
       "   'preprocessing__numerical__poly__interaction_only': False},\n",
       "  {'preprocessing__numerical__imputer__strategy': 'median',\n",
       "   'preprocessing__numerical__poly__degree': 10,\n",
       "   'preprocessing__numerical__poly__include_bias': False,\n",
       "   'preprocessing__numerical__poly__interaction_only': True},\n",
       "  {'preprocessing__numerical__imputer__strategy': 'median',\n",
       "   'preprocessing__numerical__poly__degree': 10,\n",
       "   'preprocessing__numerical__poly__include_bias': True,\n",
       "   'preprocessing__numerical__poly__interaction_only': False},\n",
       "  {'preprocessing__numerical__imputer__strategy': 'median',\n",
       "   'preprocessing__numerical__poly__degree': 10,\n",
       "   'preprocessing__numerical__poly__include_bias': True,\n",
       "   'preprocessing__numerical__poly__interaction_only': True},\n",
       "  {'preprocessing__numerical__imputer__strategy': 'median',\n",
       "   'preprocessing__numerical__poly__degree': 20,\n",
       "   'preprocessing__numerical__poly__include_bias': False,\n",
       "   'preprocessing__numerical__poly__interaction_only': False},\n",
       "  {'preprocessing__numerical__imputer__strategy': 'median',\n",
       "   'preprocessing__numerical__poly__degree': 20,\n",
       "   'preprocessing__numerical__poly__include_bias': False,\n",
       "   'preprocessing__numerical__poly__interaction_only': True},\n",
       "  {'preprocessing__numerical__imputer__strategy': 'median',\n",
       "   'preprocessing__numerical__poly__degree': 20,\n",
       "   'preprocessing__numerical__poly__include_bias': True,\n",
       "   'preprocessing__numerical__poly__interaction_only': False},\n",
       "  {'preprocessing__numerical__imputer__strategy': 'median',\n",
       "   'preprocessing__numerical__poly__degree': 20,\n",
       "   'preprocessing__numerical__poly__include_bias': True,\n",
       "   'preprocessing__numerical__poly__interaction_only': True},\n",
       "  {'preprocessing__numerical__imputer__strategy': 'median',\n",
       "   'preprocessing__numerical__poly__degree': 30,\n",
       "   'preprocessing__numerical__poly__include_bias': False,\n",
       "   'preprocessing__numerical__poly__interaction_only': False},\n",
       "  {'preprocessing__numerical__imputer__strategy': 'median',\n",
       "   'preprocessing__numerical__poly__degree': 30,\n",
       "   'preprocessing__numerical__poly__include_bias': False,\n",
       "   'preprocessing__numerical__poly__interaction_only': True},\n",
       "  {'preprocessing__numerical__imputer__strategy': 'median',\n",
       "   'preprocessing__numerical__poly__degree': 30,\n",
       "   'preprocessing__numerical__poly__include_bias': True,\n",
       "   'preprocessing__numerical__poly__interaction_only': False},\n",
       "  {'preprocessing__numerical__imputer__strategy': 'median',\n",
       "   'preprocessing__numerical__poly__degree': 30,\n",
       "   'preprocessing__numerical__poly__include_bias': True,\n",
       "   'preprocessing__numerical__poly__interaction_only': True}],\n",
       " 'split0_test_score': array([-4.96125244e+09, -4.96091202e+09, -4.96125244e+09, -4.96091202e+09,\n",
       "        -4.96550851e+09, -4.96091202e+09, -4.96550851e+09, -4.96091202e+09,\n",
       "        -4.96231631e+09, -4.96091202e+09, -4.96231631e+09, -4.96091202e+09,\n",
       "        -4.96279379e+09, -4.96091202e+09, -4.96279427e+09, -4.96091202e+09,\n",
       "        -4.96383359e+09, -4.96091202e+09, -4.96331355e+09, -4.96091202e+09,\n",
       "        -4.96125244e+09, -4.96091202e+09, -4.96125244e+09, -4.96091202e+09,\n",
       "        -4.96550851e+09, -4.96091202e+09, -4.96550851e+09, -4.96091202e+09,\n",
       "        -4.96231631e+09, -4.96091202e+09, -4.96231631e+09, -4.96091202e+09,\n",
       "        -4.96279379e+09, -4.96091202e+09, -4.96279427e+09, -4.96091202e+09,\n",
       "        -4.96383359e+09, -4.96091202e+09, -4.96331355e+09, -4.96091202e+09]),\n",
       " 'split1_test_score': array([-5.00585958e+09, -5.00500511e+09, -5.00585958e+09, -5.00500511e+09,\n",
       "        -4.97023989e+09, -5.00500511e+09, -4.97023989e+09, -5.00500511e+09,\n",
       "        -4.93217821e+09, -5.00500511e+09, -4.93217821e+09, -5.00500511e+09,\n",
       "        -5.14310999e+09, -5.00500511e+09, -5.14308780e+09, -5.00500511e+09,\n",
       "        -1.16425255e+10, -5.00500511e+09, -8.99231843e+09, -5.00500511e+09,\n",
       "        -5.00585958e+09, -5.00500511e+09, -5.00585958e+09, -5.00500511e+09,\n",
       "        -4.97023989e+09, -5.00500511e+09, -4.97023989e+09, -5.00500511e+09,\n",
       "        -4.93217821e+09, -5.00500511e+09, -4.93217821e+09, -5.00500511e+09,\n",
       "        -5.14310999e+09, -5.00500511e+09, -5.14308780e+09, -5.00500511e+09,\n",
       "        -1.16425255e+10, -5.00500511e+09, -8.99231843e+09, -5.00500511e+09]),\n",
       " 'split2_test_score': array([-5.32941281e+09, -5.32020194e+09, -5.32941281e+09, -5.32020194e+09,\n",
       "        -5.26311520e+09, -5.32020194e+09, -5.26311520e+09, -5.32020194e+09,\n",
       "        -5.24247810e+09, -5.32020194e+09, -5.24247810e+09, -5.32020194e+09,\n",
       "        -5.26575032e+09, -5.32020194e+09, -5.26573458e+09, -5.32020194e+09,\n",
       "        -5.30047177e+09, -5.32020194e+09, -5.30115956e+09, -5.32020194e+09,\n",
       "        -5.32941281e+09, -5.32020194e+09, -5.32941281e+09, -5.32020194e+09,\n",
       "        -5.26311520e+09, -5.32020194e+09, -5.26311520e+09, -5.32020194e+09,\n",
       "        -5.24247810e+09, -5.32020194e+09, -5.24247810e+09, -5.32020194e+09,\n",
       "        -5.26575032e+09, -5.32020194e+09, -5.26573458e+09, -5.32020194e+09,\n",
       "        -5.30047177e+09, -5.32020194e+09, -5.30115956e+09, -5.32020194e+09]),\n",
       " 'split3_test_score': array([-5.12176521e+09, -5.12183260e+09, -5.12176521e+09, -5.12183260e+09,\n",
       "        -5.10500860e+09, -5.12183260e+09, -5.10500860e+09, -5.12183260e+09,\n",
       "        -5.09089509e+09, -5.12183260e+09, -5.09089509e+09, -5.12183260e+09,\n",
       "        -5.11182027e+09, -5.12183260e+09, -5.11179786e+09, -5.12183260e+09,\n",
       "        -5.16466351e+09, -5.12183260e+09, -5.15661353e+09, -5.12183260e+09,\n",
       "        -5.12176521e+09, -5.12183260e+09, -5.12176521e+09, -5.12183260e+09,\n",
       "        -5.10500860e+09, -5.12183260e+09, -5.10500860e+09, -5.12183260e+09,\n",
       "        -5.09089509e+09, -5.12183260e+09, -5.09089509e+09, -5.12183260e+09,\n",
       "        -5.11182027e+09, -5.12183260e+09, -5.11179786e+09, -5.12183260e+09,\n",
       "        -5.16466351e+09, -5.12183260e+09, -5.15661353e+09, -5.12183260e+09]),\n",
       " 'split4_test_score': array([-5.27978460e+09, -5.27988755e+09, -5.27978460e+09, -5.27988755e+09,\n",
       "        -5.22632855e+09, -5.27988755e+09, -5.22632855e+09, -5.27988755e+09,\n",
       "        -5.18966240e+09, -5.27988755e+09, -5.18966240e+09, -5.27988755e+09,\n",
       "        -5.91035728e+09, -5.27988755e+09, -5.91019238e+09, -5.27988755e+09,\n",
       "        -5.24674808e+09, -5.27988755e+09, -5.50805301e+09, -5.27988755e+09,\n",
       "        -5.27978460e+09, -5.27988755e+09, -5.27978460e+09, -5.27988755e+09,\n",
       "        -5.22632855e+09, -5.27988755e+09, -5.22632855e+09, -5.27988755e+09,\n",
       "        -5.18966240e+09, -5.27988755e+09, -5.18966240e+09, -5.27988755e+09,\n",
       "        -5.91035728e+09, -5.27988755e+09, -5.91019238e+09, -5.27988755e+09,\n",
       "        -5.24674808e+09, -5.27988755e+09, -5.50805301e+09, -5.27988755e+09]),\n",
       " 'mean_test_score': array([-5.13961493e+09, -5.13756785e+09, -5.13961493e+09, -5.13756785e+09,\n",
       "        -5.10604015e+09, -5.13756785e+09, -5.10604015e+09, -5.13756785e+09,\n",
       "        -5.08350602e+09, -5.13756785e+09, -5.08350602e+09, -5.13756785e+09,\n",
       "        -5.27876633e+09, -5.13756785e+09, -5.27872138e+09, -5.13756785e+09,\n",
       "        -6.46364848e+09, -5.13756785e+09, -5.98429161e+09, -5.13756785e+09,\n",
       "        -5.13961493e+09, -5.13756785e+09, -5.13961493e+09, -5.13756785e+09,\n",
       "        -5.10604015e+09, -5.13756785e+09, -5.10604015e+09, -5.13756785e+09,\n",
       "        -5.08350602e+09, -5.13756785e+09, -5.08350602e+09, -5.13756785e+09,\n",
       "        -5.27876633e+09, -5.13756785e+09, -5.27872138e+09, -5.13756785e+09,\n",
       "        -6.46364848e+09, -5.13756785e+09, -5.98429161e+09, -5.13756785e+09]),\n",
       " 'std_test_score': array([1.45391234e+08, 1.43274471e+08, 1.45391234e+08, 1.43274471e+08,\n",
       "        1.24365420e+08, 1.43274471e+08, 1.24365420e+08, 1.43274471e+08,\n",
       "        1.21805542e+08, 1.43274471e+08, 1.21805542e+08, 1.43274471e+08,\n",
       "        3.30208668e+08, 1.43274471e+08, 3.30149709e+08, 1.43274471e+08,\n",
       "        2.59196451e+09, 1.43274471e+08, 1.51453922e+09, 1.43274471e+08,\n",
       "        1.45391234e+08, 1.43274471e+08, 1.45391234e+08, 1.43274471e+08,\n",
       "        1.24365420e+08, 1.43274471e+08, 1.24365420e+08, 1.43274471e+08,\n",
       "        1.21805542e+08, 1.43274471e+08, 1.21805542e+08, 1.43274471e+08,\n",
       "        3.30208668e+08, 1.43274471e+08, 3.30149709e+08, 1.43274471e+08,\n",
       "        2.59196451e+09, 1.43274471e+08, 1.51453922e+09, 1.43274471e+08]),\n",
       " 'rank_test_score': array([29,  9, 29, 19,  5,  9,  5, 19,  1,  9,  3, 19, 35,  9, 33, 19, 39,\n",
       "         9, 37, 19, 29,  9, 29, 19,  5,  9,  5, 19,  1,  9,  3, 19, 35,  9,\n",
       "        33, 19, 39,  9, 37, 19], dtype=int32),\n",
       " 'split0_train_score': array([-5.18045396e+09, -5.18046632e+09, -5.18045396e+09, -5.18046632e+09,\n",
       "        -5.13566790e+09, -5.18046632e+09, -5.13566790e+09, -5.18046632e+09,\n",
       "        -5.10144975e+09, -5.18046632e+09, -5.10144975e+09, -5.18046632e+09,\n",
       "        -5.09984875e+09, -5.18046632e+09, -5.09984877e+09, -5.18046632e+09,\n",
       "        -5.09886046e+09, -5.18046632e+09, -5.09885122e+09, -5.18046632e+09,\n",
       "        -5.18045396e+09, -5.18046632e+09, -5.18045396e+09, -5.18046632e+09,\n",
       "        -5.13566790e+09, -5.18046632e+09, -5.13566790e+09, -5.18046632e+09,\n",
       "        -5.10144975e+09, -5.18046632e+09, -5.10144975e+09, -5.18046632e+09,\n",
       "        -5.09984875e+09, -5.18046632e+09, -5.09984877e+09, -5.18046632e+09,\n",
       "        -5.09886046e+09, -5.18046632e+09, -5.09885122e+09, -5.18046632e+09]),\n",
       " 'split1_train_score': array([-5.16967994e+09, -5.16972599e+09, -5.16967994e+09, -5.16972599e+09,\n",
       "        -5.13458433e+09, -5.16972599e+09, -5.13458433e+09, -5.16972599e+09,\n",
       "        -5.10919466e+09, -5.16972599e+09, -5.10919466e+09, -5.16972599e+09,\n",
       "        -5.10636148e+09, -5.16972599e+09, -5.10636106e+09, -5.16972599e+09,\n",
       "        -5.10700648e+09, -5.16972599e+09, -5.10701181e+09, -5.16972599e+09,\n",
       "        -5.16967994e+09, -5.16972599e+09, -5.16967994e+09, -5.16972599e+09,\n",
       "        -5.13458433e+09, -5.16972599e+09, -5.13458433e+09, -5.16972599e+09,\n",
       "        -5.10919466e+09, -5.16972599e+09, -5.10919466e+09, -5.16972599e+09,\n",
       "        -5.10636148e+09, -5.16972599e+09, -5.10636106e+09, -5.16972599e+09,\n",
       "        -5.10700648e+09, -5.16972599e+09, -5.10701181e+09, -5.16972599e+09]),\n",
       " 'split2_train_score': array([-5.08959723e+09, -5.09087507e+09, -5.08959723e+09, -5.09087507e+09,\n",
       "        -5.06278543e+09, -5.09087507e+09, -5.06278543e+09, -5.09087507e+09,\n",
       "        -5.03259707e+09, -5.09087507e+09, -5.03259707e+09, -5.09087507e+09,\n",
       "        -5.03131323e+09, -5.09087507e+09, -5.03131324e+09, -5.09087507e+09,\n",
       "        -5.03076541e+09, -5.09087507e+09, -5.03075900e+09, -5.09087507e+09,\n",
       "        -5.08959723e+09, -5.09087507e+09, -5.08959723e+09, -5.09087507e+09,\n",
       "        -5.06278543e+09, -5.09087507e+09, -5.06278543e+09, -5.09087507e+09,\n",
       "        -5.03259707e+09, -5.09087507e+09, -5.03259707e+09, -5.09087507e+09,\n",
       "        -5.03131323e+09, -5.09087507e+09, -5.03131324e+09, -5.09087507e+09,\n",
       "        -5.03076541e+09, -5.09087507e+09, -5.03075900e+09, -5.09087507e+09]),\n",
       " 'split3_train_score': array([-5.14035021e+09, -5.14038752e+09, -5.14035021e+09, -5.14038752e+09,\n",
       "        -5.10073968e+09, -5.14038752e+09, -5.10073968e+09, -5.14038752e+09,\n",
       "        -5.07006291e+09, -5.14038752e+09, -5.07006291e+09, -5.14038752e+09,\n",
       "        -5.06587939e+09, -5.14038752e+09, -5.06587955e+09, -5.14038752e+09,\n",
       "        -5.06781334e+09, -5.14038752e+09, -5.06780241e+09, -5.14038752e+09,\n",
       "        -5.14035021e+09, -5.14038752e+09, -5.14035021e+09, -5.14038752e+09,\n",
       "        -5.10073968e+09, -5.14038752e+09, -5.10073968e+09, -5.14038752e+09,\n",
       "        -5.07006291e+09, -5.14038752e+09, -5.07006291e+09, -5.14038752e+09,\n",
       "        -5.06587939e+09, -5.14038752e+09, -5.06587955e+09, -5.14038752e+09,\n",
       "        -5.06781334e+09, -5.14038752e+09, -5.06780241e+09, -5.14038752e+09]),\n",
       " 'split4_train_score': array([-5.10072307e+09, -5.10072766e+09, -5.10072307e+09, -5.10072766e+09,\n",
       "        -5.07051181e+09, -5.10072766e+09, -5.07051181e+09, -5.10072766e+09,\n",
       "        -5.04459491e+09, -5.10072766e+09, -5.04459491e+09, -5.10072766e+09,\n",
       "        -5.03869069e+09, -5.10072766e+09, -5.03869071e+09, -5.10072766e+09,\n",
       "        -5.03826668e+09, -5.10072766e+09, -5.03824339e+09, -5.10072766e+09,\n",
       "        -5.10072307e+09, -5.10072766e+09, -5.10072307e+09, -5.10072766e+09,\n",
       "        -5.07051181e+09, -5.10072766e+09, -5.07051181e+09, -5.10072766e+09,\n",
       "        -5.04459491e+09, -5.10072766e+09, -5.04459491e+09, -5.10072766e+09,\n",
       "        -5.03869069e+09, -5.10072766e+09, -5.03869071e+09, -5.10072766e+09,\n",
       "        -5.03826668e+09, -5.10072766e+09, -5.03824339e+09, -5.10072766e+09]),\n",
       " 'mean_train_score': array([-5.13616088e+09, -5.13643651e+09, -5.13616088e+09, -5.13643651e+09,\n",
       "        -5.10085783e+09, -5.13643651e+09, -5.10085783e+09, -5.13643651e+09,\n",
       "        -5.07157986e+09, -5.13643651e+09, -5.07157986e+09, -5.13643651e+09,\n",
       "        -5.06841871e+09, -5.13643651e+09, -5.06841866e+09, -5.13643651e+09,\n",
       "        -5.06854247e+09, -5.13643651e+09, -5.06853357e+09, -5.13643651e+09,\n",
       "        -5.13616088e+09, -5.13643651e+09, -5.13616088e+09, -5.13643651e+09,\n",
       "        -5.10085783e+09, -5.13643651e+09, -5.10085783e+09, -5.13643651e+09,\n",
       "        -5.07157986e+09, -5.13643651e+09, -5.07157986e+09, -5.13643651e+09,\n",
       "        -5.06841871e+09, -5.13643651e+09, -5.06841866e+09, -5.13643651e+09,\n",
       "        -5.06854247e+09, -5.13643651e+09, -5.06853357e+09, -5.13643651e+09]),\n",
       " 'std_train_score': array([36130228.2319528 , 35814497.64286621, 36130228.23195304,\n",
       "        35814497.64286606, 30723347.81786074, 35814497.64286621,\n",
       "        30723347.81786074, 35814497.64286606, 30190163.17318969,\n",
       "        35814497.64286621, 30190163.17324314, 35814497.64286606,\n",
       "        30641543.68680904, 35814497.64286621, 30641436.54409751,\n",
       "        35814497.64286606, 30799098.62696925, 35814497.64286621,\n",
       "        30804811.88482448, 35814497.64286606, 36130228.2319528 ,\n",
       "        35814497.64286621, 36130228.23195304, 35814497.64286606,\n",
       "        30723347.81786074, 35814497.64286621, 30723347.81786074,\n",
       "        35814497.64286606, 30190163.17318969, 35814497.64286621,\n",
       "        30190163.17324314, 35814497.64286606, 30641543.68680904,\n",
       "        35814497.64286621, 30641436.54409751, 35814497.64286606,\n",
       "        30799098.62696925, 35814497.64286621, 30804811.88482448,\n",
       "        35814497.64286606])}"
      ]
     },
     "execution_count": 18,
     "metadata": {},
     "output_type": "execute_result"
    }
   ],
   "source": [
    "grid_search_scenario_1.cv_results_"
   ]
  },
  {
   "cell_type": "code",
   "execution_count": 19,
   "id": "literary-cleanup",
   "metadata": {},
   "outputs": [
    {
     "name": "stdout",
     "output_type": "stream",
     "text": [
      "Best RMSE score: 71293.59154095282 +- 854.2988116844386\n"
     ]
    }
   ],
   "source": [
    "n_folds = 5\n",
    "split_keys = [f'split{i}_test_score' for i in range(n_folds)]\n",
    "best_index = grid_search_scenario_1.best_index_\n",
    "\n",
    "rmse_scores = []\n",
    "\n",
    "for key in split_keys:\n",
    "    neg_mse_score = grid_search_scenario_1.cv_results_[key][best_index]\n",
    "    rmse_scores.append(np.sqrt(-neg_mse_score))\n",
    "\n",
    "best_rmse = np.mean(rmse_scores)\n",
    "best_rmse_std = np.std(rmse_scores)\n",
    "\n",
    "\n",
    "print(f'Best RMSE score: {best_rmse} +- {best_rmse_std}')"
   ]
  },
  {
   "cell_type": "markdown",
   "id": "elect-season",
   "metadata": {},
   "source": [
    "By doing it in the _mathematically correct way_, we see that the **true mean RMSE** (\\\\$71,293.59) is very close from the approximated one (\\\\$71,298.70). <br/>\n",
    "However, the **true standard deviation for RMSE** (\\$854.29) is _considerably smaller_ than the approximated one (\\\\$11,036.55)."
   ]
  },
  {
   "cell_type": "markdown",
   "id": "material-vision",
   "metadata": {},
   "source": [
    "### **Scenario 2**"
   ]
  },
  {
   "cell_type": "code",
   "execution_count": 20,
   "id": "distributed-jurisdiction",
   "metadata": {},
   "outputs": [
    {
     "data": {
      "text/plain": [
       "{'memory': None,\n",
       " 'steps': [('preprocessing',\n",
       "   ColumnTransformer(transformers=[('numerical',\n",
       "                                    Pipeline(steps=[('imputer', SimpleImputer()),\n",
       "                                                    ('feat_engineering',\n",
       "                                                     HousingFeatEngineering()),\n",
       "                                                    ('drop_features',\n",
       "                                                     DropFeatures()),\n",
       "                                                    ('poly', PolynomialFeatures()),\n",
       "                                                    ('scaler', RobustScaler())]),\n",
       "                                    Index(['longitude', 'latitude', 'housing_median_age', 'total_rooms',\n",
       "          'total_bedrooms', 'population', 'households', 'median_income'],\n",
       "         dtype='object'))])),\n",
       "  ('lin_regression', LinearRegression())],\n",
       " 'verbose': False,\n",
       " 'preprocessing': ColumnTransformer(transformers=[('numerical',\n",
       "                                  Pipeline(steps=[('imputer', SimpleImputer()),\n",
       "                                                  ('feat_engineering',\n",
       "                                                   HousingFeatEngineering()),\n",
       "                                                  ('drop_features',\n",
       "                                                   DropFeatures()),\n",
       "                                                  ('poly', PolynomialFeatures()),\n",
       "                                                  ('scaler', RobustScaler())]),\n",
       "                                  Index(['longitude', 'latitude', 'housing_median_age', 'total_rooms',\n",
       "        'total_bedrooms', 'population', 'households', 'median_income'],\n",
       "       dtype='object'))]),\n",
       " 'lin_regression': LinearRegression(),\n",
       " 'preprocessing__n_jobs': None,\n",
       " 'preprocessing__remainder': 'drop',\n",
       " 'preprocessing__sparse_threshold': 0.3,\n",
       " 'preprocessing__transformer_weights': None,\n",
       " 'preprocessing__transformers': [('numerical',\n",
       "   Pipeline(steps=[('imputer', SimpleImputer()),\n",
       "                   ('feat_engineering', HousingFeatEngineering()),\n",
       "                   ('drop_features', DropFeatures()),\n",
       "                   ('poly', PolynomialFeatures()), ('scaler', RobustScaler())]),\n",
       "   Index(['longitude', 'latitude', 'housing_median_age', 'total_rooms',\n",
       "          'total_bedrooms', 'population', 'households', 'median_income'],\n",
       "         dtype='object'))],\n",
       " 'preprocessing__verbose': False,\n",
       " 'preprocessing__numerical': Pipeline(steps=[('imputer', SimpleImputer()),\n",
       "                 ('feat_engineering', HousingFeatEngineering()),\n",
       "                 ('drop_features', DropFeatures()),\n",
       "                 ('poly', PolynomialFeatures()), ('scaler', RobustScaler())]),\n",
       " 'preprocessing__numerical__memory': None,\n",
       " 'preprocessing__numerical__steps': [('imputer', SimpleImputer()),\n",
       "  ('feat_engineering', HousingFeatEngineering()),\n",
       "  ('drop_features', DropFeatures()),\n",
       "  ('poly', PolynomialFeatures()),\n",
       "  ('scaler', RobustScaler())],\n",
       " 'preprocessing__numerical__verbose': False,\n",
       " 'preprocessing__numerical__imputer': SimpleImputer(),\n",
       " 'preprocessing__numerical__feat_engineering': HousingFeatEngineering(),\n",
       " 'preprocessing__numerical__drop_features': DropFeatures(),\n",
       " 'preprocessing__numerical__poly': PolynomialFeatures(),\n",
       " 'preprocessing__numerical__scaler': RobustScaler(),\n",
       " 'preprocessing__numerical__imputer__add_indicator': False,\n",
       " 'preprocessing__numerical__imputer__copy': True,\n",
       " 'preprocessing__numerical__imputer__fill_value': None,\n",
       " 'preprocessing__numerical__imputer__missing_values': nan,\n",
       " 'preprocessing__numerical__imputer__strategy': 'mean',\n",
       " 'preprocessing__numerical__imputer__verbose': 0,\n",
       " 'preprocessing__numerical__drop_features__verbose': False,\n",
       " 'preprocessing__numerical__poly__degree': 2,\n",
       " 'preprocessing__numerical__poly__include_bias': True,\n",
       " 'preprocessing__numerical__poly__interaction_only': False,\n",
       " 'preprocessing__numerical__poly__order': 'C',\n",
       " 'preprocessing__numerical__scaler__copy': True,\n",
       " 'preprocessing__numerical__scaler__quantile_range': (25.0, 75.0),\n",
       " 'preprocessing__numerical__scaler__unit_variance': False,\n",
       " 'preprocessing__numerical__scaler__with_centering': True,\n",
       " 'preprocessing__numerical__scaler__with_scaling': True,\n",
       " 'lin_regression__copy_X': True,\n",
       " 'lin_regression__fit_intercept': True,\n",
       " 'lin_regression__n_jobs': None,\n",
       " 'lin_regression__normalize': False,\n",
       " 'lin_regression__positive': False}"
      ]
     },
     "execution_count": 20,
     "metadata": {},
     "output_type": "execute_result"
    }
   ],
   "source": [
    "full_pipeline_scenario_2.get_params()"
   ]
  },
  {
   "cell_type": "markdown",
   "id": "smaller-profit",
   "metadata": {},
   "source": [
    "Since our feature matrix has a considerable number of features, for computation time reasons, we decided to:\n",
    "- Consider a small number of hyperparameter combinations (small search space)\n",
    "- Low polynomial degrees"
   ]
  },
  {
   "cell_type": "code",
   "execution_count": 21,
   "id": "computational-strip",
   "metadata": {},
   "outputs": [
    {
     "name": "stdout",
     "output_type": "stream",
     "text": [
      "Fitting 5 folds for each of 16 candidates, totalling 80 fits\n"
     ]
    },
    {
     "data": {
      "text/plain": [
       "GridSearchCV(cv=5,\n",
       "             estimator=Pipeline(steps=[('preprocessing',\n",
       "                                        ColumnTransformer(transformers=[('numerical',\n",
       "                                                                         Pipeline(steps=[('imputer',\n",
       "                                                                                          SimpleImputer()),\n",
       "                                                                                         ('feat_engineering',\n",
       "                                                                                          HousingFeatEngineering()),\n",
       "                                                                                         ('drop_features',\n",
       "                                                                                          DropFeatures()),\n",
       "                                                                                         ('poly',\n",
       "                                                                                          PolynomialFeatures()),\n",
       "                                                                                         ('scaler',\n",
       "                                                                                          RobustScaler())]),\n",
       "                                                                         Index(['longitude', 'latitude', 'housing_median_age', 'total_rooms...\n",
       "                                       ('lin_regression', LinearRegression())]),\n",
       "             param_grid=[{'preprocessing__numerical__imputer__strategy': ['mean',\n",
       "                                                                          'median'],\n",
       "                          'preprocessing__numerical__poly__degree': [2, 3, 4,\n",
       "                                                                     5],\n",
       "                          'preprocessing__numerical__poly__include_bias': [False,\n",
       "                                                                           True],\n",
       "                          'preprocessing__numerical__poly__interaction_only': [False]}],\n",
       "             return_train_score=True, scoring='neg_mean_squared_error',\n",
       "             verbose=1)"
      ]
     },
     "execution_count": 21,
     "metadata": {},
     "output_type": "execute_result"
    }
   ],
   "source": [
    "from sklearn.model_selection import GridSearchCV\n",
    "\n",
    "param_grid_scenario_2 = [\n",
    "    {\n",
    "     'preprocessing__numerical__imputer__strategy': ['mean', 'median'],\n",
    "     'preprocessing__numerical__poly__degree': [2, 3, 4, 5],\n",
    "     'preprocessing__numerical__poly__include_bias': [False, True],\n",
    "     'preprocessing__numerical__poly__interaction_only': [False]\n",
    "    }\n",
    "]\n",
    "\n",
    "grid_search_scenario_2 = GridSearchCV(full_pipeline_scenario_2, param_grid_scenario_2, cv=5, scoring='neg_mean_squared_error', return_train_score=True, verbose=1)\n",
    "grid_search_scenario_2.fit(housing_train, y_train)"
   ]
  },
  {
   "cell_type": "code",
   "execution_count": 22,
   "id": "noble-degree",
   "metadata": {},
   "outputs": [
    {
     "name": "stdout",
     "output_type": "stream",
     "text": [
      "626165.2300283933 {'preprocessing__numerical__imputer__strategy': 'mean', 'preprocessing__numerical__poly__degree': 2, 'preprocessing__numerical__poly__include_bias': False, 'preprocessing__numerical__poly__interaction_only': False}\n",
      "626165.2300291593 {'preprocessing__numerical__imputer__strategy': 'mean', 'preprocessing__numerical__poly__degree': 2, 'preprocessing__numerical__poly__include_bias': True, 'preprocessing__numerical__poly__interaction_only': False}\n",
      "206771298.9577116 {'preprocessing__numerical__imputer__strategy': 'mean', 'preprocessing__numerical__poly__degree': 3, 'preprocessing__numerical__poly__include_bias': False, 'preprocessing__numerical__poly__interaction_only': False}\n",
      "206771298.9352535 {'preprocessing__numerical__imputer__strategy': 'mean', 'preprocessing__numerical__poly__degree': 3, 'preprocessing__numerical__poly__include_bias': True, 'preprocessing__numerical__poly__interaction_only': False}\n",
      "94247368586.192 {'preprocessing__numerical__imputer__strategy': 'mean', 'preprocessing__numerical__poly__degree': 4, 'preprocessing__numerical__poly__include_bias': False, 'preprocessing__numerical__poly__interaction_only': False}\n",
      "94689811325.4956 {'preprocessing__numerical__imputer__strategy': 'mean', 'preprocessing__numerical__poly__degree': 4, 'preprocessing__numerical__poly__include_bias': True, 'preprocessing__numerical__poly__interaction_only': False}\n",
      "10848160417606.584 {'preprocessing__numerical__imputer__strategy': 'mean', 'preprocessing__numerical__poly__degree': 5, 'preprocessing__numerical__poly__include_bias': False, 'preprocessing__numerical__poly__interaction_only': False}\n",
      "19528018000396.562 {'preprocessing__numerical__imputer__strategy': 'mean', 'preprocessing__numerical__poly__degree': 5, 'preprocessing__numerical__poly__include_bias': True, 'preprocessing__numerical__poly__interaction_only': False}\n",
      "646941.3162217676 {'preprocessing__numerical__imputer__strategy': 'median', 'preprocessing__numerical__poly__degree': 2, 'preprocessing__numerical__poly__include_bias': False, 'preprocessing__numerical__poly__interaction_only': False}\n",
      "646941.3162242683 {'preprocessing__numerical__imputer__strategy': 'median', 'preprocessing__numerical__poly__degree': 2, 'preprocessing__numerical__poly__include_bias': True, 'preprocessing__numerical__poly__interaction_only': False}\n",
      "210539327.34033114 {'preprocessing__numerical__imputer__strategy': 'median', 'preprocessing__numerical__poly__degree': 3, 'preprocessing__numerical__poly__include_bias': False, 'preprocessing__numerical__poly__interaction_only': False}\n",
      "210539327.36767107 {'preprocessing__numerical__imputer__strategy': 'median', 'preprocessing__numerical__poly__degree': 3, 'preprocessing__numerical__poly__include_bias': True, 'preprocessing__numerical__poly__interaction_only': False}\n",
      "97565588781.70148 {'preprocessing__numerical__imputer__strategy': 'median', 'preprocessing__numerical__poly__degree': 4, 'preprocessing__numerical__poly__include_bias': False, 'preprocessing__numerical__poly__interaction_only': False}\n",
      "98599075122.48067 {'preprocessing__numerical__imputer__strategy': 'median', 'preprocessing__numerical__poly__degree': 4, 'preprocessing__numerical__poly__include_bias': True, 'preprocessing__numerical__poly__interaction_only': False}\n",
      "23379943130317.17 {'preprocessing__numerical__imputer__strategy': 'median', 'preprocessing__numerical__poly__degree': 5, 'preprocessing__numerical__poly__include_bias': False, 'preprocessing__numerical__poly__interaction_only': False}\n",
      "35776713945831.66 {'preprocessing__numerical__imputer__strategy': 'median', 'preprocessing__numerical__poly__degree': 5, 'preprocessing__numerical__poly__include_bias': True, 'preprocessing__numerical__poly__interaction_only': False}\n"
     ]
    }
   ],
   "source": [
    "cvres = grid_search_scenario_2.cv_results_\n",
    "\n",
    "for mean_score, params in zip(cvres[\"mean_test_score\"], cvres[\"params\"]):\n",
    "    print(np.sqrt(-mean_score), params)"
   ]
  },
  {
   "cell_type": "code",
   "execution_count": 23,
   "id": "ethical-advance",
   "metadata": {},
   "outputs": [
    {
     "data": {
      "text/plain": [
       "{'preprocessing__numerical__imputer__strategy': 'mean',\n",
       " 'preprocessing__numerical__poly__degree': 2,\n",
       " 'preprocessing__numerical__poly__include_bias': False,\n",
       " 'preprocessing__numerical__poly__interaction_only': False}"
      ]
     },
     "execution_count": 23,
     "metadata": {},
     "output_type": "execute_result"
    }
   ],
   "source": [
    "grid_search_scenario_2.best_params_"
   ]
  },
  {
   "cell_type": "code",
   "execution_count": 24,
   "id": "standing-details",
   "metadata": {},
   "outputs": [
    {
     "data": {
      "text/plain": [
       "Pipeline(steps=[('preprocessing',\n",
       "                 ColumnTransformer(transformers=[('numerical',\n",
       "                                                  Pipeline(steps=[('imputer',\n",
       "                                                                   SimpleImputer()),\n",
       "                                                                  ('feat_engineering',\n",
       "                                                                   HousingFeatEngineering()),\n",
       "                                                                  ('drop_features',\n",
       "                                                                   DropFeatures()),\n",
       "                                                                  ('poly',\n",
       "                                                                   PolynomialFeatures(include_bias=False)),\n",
       "                                                                  ('scaler',\n",
       "                                                                   RobustScaler())]),\n",
       "                                                  Index(['longitude', 'latitude', 'housing_median_age', 'total_rooms',\n",
       "       'total_bedrooms', 'population', 'households', 'median_income'],\n",
       "      dtype='object'))])),\n",
       "                ('lin_regression', LinearRegression())])"
      ]
     },
     "execution_count": 24,
     "metadata": {},
     "output_type": "execute_result"
    }
   ],
   "source": [
    "# if refit=True, it returns a model trained with the full training set with the best hyperparameters\n",
    "best_model = grid_search_scenario_2.best_estimator_\n",
    "best_model"
   ]
  },
  {
   "cell_type": "code",
   "execution_count": 25,
   "id": "absolute-court",
   "metadata": {},
   "outputs": [
    {
     "data": {
      "text/plain": [
       "626165.2300283933"
      ]
     },
     "execution_count": 25,
     "metadata": {},
     "output_type": "execute_result"
    }
   ],
   "source": [
    "# best approximated RMSE\n",
    "np.sqrt(-grid_search_scenario_2.best_score_)"
   ]
  },
  {
   "cell_type": "code",
   "execution_count": 26,
   "id": "august-parking",
   "metadata": {},
   "outputs": [
    {
     "name": "stdout",
     "output_type": "stream",
     "text": [
      "Best score: 626165.2300283933 +- 874997.3364957358\n"
     ]
    }
   ],
   "source": [
    "# get the approximated RMSE and its standard deviation\n",
    "best_index = grid_search_scenario_2.best_index_\n",
    "best_score = np.sqrt(-grid_search_scenario_2.cv_results_['mean_test_score'][best_index])\n",
    "best_score_std = np.sqrt(grid_search_scenario_2.cv_results_['std_test_score'][best_index])\n",
    "\n",
    "print(f'Best score: {best_score} +- {best_score_std}')"
   ]
  },
  {
   "cell_type": "code",
   "execution_count": 27,
   "id": "atmospheric-council",
   "metadata": {},
   "outputs": [
    {
     "name": "stdout",
     "output_type": "stream",
     "text": [
      "Best RMSE score: 345172.7167522515 +- 522435.34614953154\n"
     ]
    }
   ],
   "source": [
    "n_folds = 5\n",
    "split_keys = [f'split{i}_test_score' for i in range(n_folds)]\n",
    "best_index = grid_search_scenario_2.best_index_\n",
    "\n",
    "rmse_scores = []\n",
    "\n",
    "for key in split_keys:\n",
    "    neg_mse_score = grid_search_scenario_2.cv_results_[key][best_index]\n",
    "    rmse_scores.append(np.sqrt(-neg_mse_score))\n",
    "\n",
    "best_rmse = np.mean(rmse_scores)\n",
    "best_rmse_std = np.std(rmse_scores)\n",
    "\n",
    "\n",
    "print(f'Best RMSE score: {best_rmse} +- {best_rmse_std}')"
   ]
  },
  {
   "cell_type": "markdown",
   "id": "temporal-water",
   "metadata": {},
   "source": [
    "<br/>\n",
    "\n",
    "The large **best true RMSE** (\\\\$345,172.71) -- even larger for the approximated one (\\\\$626,165.23) -- shows that (i) this model is not suitable for the problem, and/or (ii) the considered _search space_ is insufficient to get better models. <br/>\n",
    "\n",
    "We'd better throw this model away."
   ]
  },
  {
   "cell_type": "code",
   "execution_count": null,
   "id": "approximate-grace",
   "metadata": {},
   "outputs": [],
   "source": []
  }
 ],
 "metadata": {
  "kernelspec": {
   "display_name": "Python 3",
   "language": "python",
   "name": "python3"
  },
  "language_info": {
   "codemirror_mode": {
    "name": "ipython",
    "version": 3
   },
   "file_extension": ".py",
   "mimetype": "text/x-python",
   "name": "python",
   "nbconvert_exporter": "python",
   "pygments_lexer": "ipython3",
   "version": "3.8.5"
  }
 },
 "nbformat": 4,
 "nbformat_minor": 5
}
