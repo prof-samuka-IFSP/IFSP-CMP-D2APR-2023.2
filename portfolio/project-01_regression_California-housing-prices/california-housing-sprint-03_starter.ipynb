{
 "cells": [
  {
   "cell_type": "markdown",
   "id": "spatial-aberdeen",
   "metadata": {},
   "source": [
    "### **D2APR: Aprendizado de Máquina e Reconhecimento de Padrões** (IFSP, Campinas) <br/>\n",
    "**Prof**: Samuel Martins (Samuka) <br/>\n",
    "\n",
    "<a rel=\"license\" href=\"http://creativecommons.org/licenses/by-nc-sa/4.0/\"><img alt=\"Creative Commons License\" style=\"border-width:0\" src=\"https://i.creativecommons.org/l/by-nc-sa/4.0/88x31.png\" /></a><br />This work is licensed under a <a rel=\"license\" href=\"http://creativecommons.org/licenses/by-nc-sa/4.0/\">Creative Commons Attribution-NonCommercial-ShareAlike 4.0 International License</a>. <br/><br/>"
   ]
  },
  {
   "cell_type": "markdown",
   "id": "addressed-telephone",
   "metadata": {},
   "source": [
    "#### Custom CSS style"
   ]
  },
  {
   "cell_type": "code",
   "execution_count": null,
   "id": "applicable-norwegian",
   "metadata": {
    "tags": []
   },
   "outputs": [],
   "source": [
    "%%html\n",
    "<style>\n",
    ".dashed-box {\n",
    "    border: 1px dashed black !important;\n",
    "#    font-size: var(--jp-content-font-size1) !important;\n",
    "}\n",
    "\n",
    ".dashed-box table {\n",
    "\n",
    "}\n",
    "\n",
    ".dashed-box tr {\n",
    "    background-color: white !important;\n",
    "}\n",
    "        \n",
    ".alt-tab {\n",
    "    background-color: black;\n",
    "    color: #ffc351;\n",
    "    padding: 4px;\n",
    "    font-size: 1em;\n",
    "    font-weight: bold;\n",
    "    font-family: monospace;\n",
    "}\n",
    "// add your CSS styling here\n",
    "</style>"
   ]
  },
  {
   "cell_type": "markdown",
   "id": "minute-shift",
   "metadata": {},
   "source": [
    "<span style='font-size: 2.5em'><b>California Housing 🏡</b></span><br/>\n",
    "<span style='font-size: 1.5em'>Predict the median housing price in California districts</span>\n",
    "\n",
    "<span style=\"background-color: #ffc351; padding: 4px; font-size: 1em;\"><b>Sprint #3</b></span>\n",
    "\n",
    "<img src=\"./imgs/california-flag.png\" width=300/>\n",
    "\n",
    "---\n",
    "\n"
   ]
  },
  {
   "cell_type": "markdown",
   "id": "honest-seminar",
   "metadata": {},
   "source": [
    "## Before starting this notebook\n",
    "This jupyter notebook is designed for **experimental and teaching purposes**. <br/>\n",
    "Although it is (relatively) well organized, it aims at solving the _target problem_ by evaluating (and documenting) _different solutions_ for somes steps of the **machine learning pipeline** — see the ***Machine Learning Project Checklist by xavecoding***. <br/>\n",
    "We tried to make this notebook as literally a _notebook_. Thus, it contains notes, drafts, comments, etc.<br/>\n",
    "\n",
    "For teaching purposes, some parts of the notebook may be _overcommented_. Moreover, to simulate a real development scenario, we will divide our solution and experiments into **\"sprints\"** in which each sprint has some goals (e.g., perform _feature selection_, train more ML models, ...). <br/>\n",
    "The **sprint goal** will be stated at the beginning of the notebook.\n",
    "\n",
    "A ***final notebook*** (or any other kind of presentation) that compiles and summarizes all sprints — the target problem, solutions, and findings — should be created later.\n",
    "\n",
    "#### Conventions\n",
    "\n",
    "<ul>\n",
    "    <li>💡 indicates a tip. </li>\n",
    "    <li> ⚠️ indicates a warning message. </li>\n",
    "    <li><span class='alt-tab'>alt tab</span> indicates and an extra content (<i>e.g.</i>, slides) to explain a given concept.</li>\n",
    "</ul>\n",
    "\n",
    "---"
   ]
  },
  {
   "cell_type": "markdown",
   "id": "cooperative-engineering",
   "metadata": {},
   "source": [
    "## 🎯 Sprint Goals\n",
    "- Add new features\n",
    "- Normalize the data\n",
    "- Add a new model: Decision Tree Regression\n",
    "---"
   ]
  },
  {
   "cell_type": "markdown",
   "id": "august-wiring",
   "metadata": {},
   "source": [
    "### 0. Imports and default settings for plotting"
   ]
  },
  {
   "cell_type": "code",
   "execution_count": null,
   "id": "reflected-shock",
   "metadata": {},
   "outputs": [],
   "source": [
    "import numpy as np\n",
    "import pandas as pd\n",
    "import matplotlib.pyplot as plt\n",
    "import seaborn as sns\n",
    "\n",
    "sns.set_theme(style=\"whitegrid\")\n",
    "\n",
    "params = {'legend.fontsize': 'x-large',\n",
    "          'figure.figsize': (15, 5),\n",
    "         'axes.labelsize': 'x-large',\n",
    "         'axes.titlesize':'x-large',\n",
    "         'xtick.labelsize':'x-large',\n",
    "         'ytick.labelsize':'x-large'}\n",
    "plt.rcParams.update(params)"
   ]
  },
  {
   "cell_type": "markdown",
   "id": "accredited-offense",
   "metadata": {},
   "source": [
    "## 💽 2. Get the Data\n",
    "In the previous sprint, we have removed outliers from the entire dataset, split it into training and testing set, and preprocessed the training set (by fillin in missing values for `total_bedrooms`.) <br/>\n",
    "Both preprocessed training set and (raw) testing set were _saved to disk_. Let's use them here."
   ]
  },
  {
   "cell_type": "markdown",
   "id": "sorted-firewall",
   "metadata": {},
   "source": [
    "### 2.2. Load the Data"
   ]
  },
  {
   "cell_type": "code",
   "execution_count": null,
   "id": "apparent-primary",
   "metadata": {},
   "outputs": [],
   "source": [
    "import pandas as pd\n",
    "\n",
    "housing_train_pre = pd.read_csv('./datasets/housing_train_pre_sprint-2.csv')  # preprocessed train set\n",
    "housing_test = pd.read_csv('./datasets/housing_test_sprint-2.csv')"
   ]
  },
  {
   "cell_type": "code",
   "execution_count": null,
   "id": "spectacular-albert",
   "metadata": {},
   "outputs": [],
   "source": [
    "housing_train_pre.head()"
   ]
  },
  {
   "cell_type": "code",
   "execution_count": null,
   "id": "dress-indication",
   "metadata": {},
   "outputs": [],
   "source": [
    "housing_test.head()"
   ]
  },
  {
   "cell_type": "code",
   "execution_count": null,
   "id": "illegal-sequence",
   "metadata": {},
   "outputs": [],
   "source": [
    "housing_train_pre.sample(4)"
   ]
  },
  {
   "cell_type": "markdown",
   "id": "positive-burlington",
   "metadata": {},
   "source": [
    "## 🛠️ 5. Prepare the Data"
   ]
  },
  {
   "cell_type": "markdown",
   "id": "attached-morgan",
   "metadata": {},
   "source": [
    "### 5.1. Adding new features (_dependent variable_) and the target outcome (_dependent variable_)"
   ]
  },
  {
   "cell_type": "markdown",
   "id": "objective-protein",
   "metadata": {},
   "source": [
    "The _total number of rooms_ in a district _is not very useful_ if you don’t know how many households there are. What you really want is **the number of rooms per household**. <br/>\n",
    "Similarly, the _total number of bedrooms_ by itself _is not very useful_: you probably want to compare it to the number of rooms. </br>\n",
    "And the **population per household** also seems like an interesting attribute combination to look at.\n",
    "\n",
    "Let’s create these new attributes:"
   ]
  },
  {
   "cell_type": "code",
   "execution_count": null,
   "id": "tough-schema",
   "metadata": {},
   "outputs": [],
   "source": []
  },
  {
   "cell_type": "code",
   "execution_count": null,
   "id": "choice-radiation",
   "metadata": {},
   "outputs": [],
   "source": [
    "housing_train_pre.head()"
   ]
  },
  {
   "cell_type": "code",
   "execution_count": null,
   "id": "proved-apparatus",
   "metadata": {},
   "outputs": [],
   "source": []
  },
  {
   "cell_type": "code",
   "execution_count": null,
   "id": "visible-recommendation",
   "metadata": {},
   "outputs": [],
   "source": [
    "# testing set\n",
    "housing_test.head()"
   ]
  },
  {
   "cell_type": "markdown",
   "id": "expressed-environment",
   "metadata": {},
   "source": [
    "<br/>\n",
    "\n",
    "We could perform the EDA on the training set again but now considering these new features. <br/>\n",
    "For now, let's just check the **correlation** between these _new features_ with the _target outcome_.\n",
    "\n",
    "#### **Correlation**"
   ]
  },
  {
   "cell_type": "code",
   "execution_count": null,
   "id": "periodic-indonesian",
   "metadata": {},
   "outputs": [],
   "source": []
  },
  {
   "cell_type": "markdown",
   "id": "valid-invalid",
   "metadata": {},
   "source": [
    "Hey, not bad! The new `bedrooms_per_room` attribute is much more correlated with the `median house value` than the `total number of rooms or bedrooms`. <br/>\n",
    "Apparently, houses with a <i>lower bedroom/room ratio</i> tend to be <b>more expensive</b>. <br/>\n",
    "The `number of rooms per household` is also <b>more informative</b> than the `total number of rooms` in a district — obviously the larger the houses, the more expensive they are.\n",
    "\n",
    "Another interesting point is the correlation between the <i>dummy variables</i> with the `median house value` -- not done in previous sprints. </br>\n",
    "The dummy variable `ocean_proximity_INLAND` has <i>strong negative correlation</i> with the `median house value` whereas `ocean_proximity_<1H OCEAN` has a <i>postive one</i>."
   ]
  },
  {
   "cell_type": "markdown",
   "id": "composed-throat",
   "metadata": {},
   "source": [
    "<table align=\"left\" class=\"dashed-box\">\n",
    "<tr>\n",
    "    <td>💡</td>\n",
    "    <td>This round of exploration does not have to be absolutely thorough; the point is to quickly gain insights that helps you ot improve our models.</i></td>\n",
    "</tr>\n",
    "<tr>\n",
    "    <td></td>\n",
    "    <td>But this is an <i>iterative process</i>: once you get a prototype up and running, you can analyze its output to gain more insights and come back to this exploration step.</td>\n",
    "</tr>\n",
    "</table><br/><br/>"
   ]
  },
  {
   "cell_type": "markdown",
   "id": "orange-period",
   "metadata": {},
   "source": [
    "### 5.2. Separating the independent variables (features) and the _dependent variable_ (target outcome)"
   ]
  },
  {
   "cell_type": "code",
   "execution_count": null,
   "id": "southeast-repository",
   "metadata": {},
   "outputs": [],
   "source": [
    "housing_train_target = housing_train_pre['median_house_value'].copy()\n",
    "housing_train_pre = housing_train_pre.drop(columns=['median_house_value'])"
   ]
  },
  {
   "cell_type": "markdown",
   "id": "dietary-crossing",
   "metadata": {},
   "source": [
    "### 5.3. Feature Scaling"
   ]
  },
  {
   "cell_type": "markdown",
   "id": "extended-discussion",
   "metadata": {},
   "source": [
    "With few exceptions, ML algorithms **don’t perform well** when the _input numerical attributes_ have **very different scales**. </br>\n",
    "For example, compare the scale of the attributes: `median_income` and `median_house_value`.\n",
    "\n",
    "Although **feature scaling** _is not_ necessarily for the [`LinearRegression()`](https://scikit-learn.org/stable/modules/generated/sklearn.linear_model.LinearRegression.html) implementation from sklearn, we intend to evaluate other regression methods soon that may need that. So, we will perform it."
   ]
  },
  {
   "cell_type": "markdown",
   "id": "editorial-loading",
   "metadata": {},
   "source": [
    "<table align=\"left\" class=\"dashed-box\">\n",
    "<tr>\n",
    "    <td><span class='alt-tab'>alt tab</span></td>\n",
    "    <td><b>Slides:</b> Feature Scaling</td>\n",
    "</tr>\n",
    "</table><br/><br/>"
   ]
  },
  {
   "cell_type": "markdown",
   "id": "designing-deployment",
   "metadata": {},
   "source": [
    "<table align=\"left\" class=\"dashed-box\">\n",
    "<tr>\n",
    "    <td>⚠️</td>\n",
    "    <td>Note that <i>scaling</i> the <b>target outcome</b> is generally <b>not required</b>.</i></td>\n",
    "</tr>\n",
    "</table><br/><br/>"
   ]
  },
  {
   "cell_type": "markdown",
   "id": "arbitrary-luther",
   "metadata": {},
   "source": [
    "<table align=\"left\" class=\"dashed-box\">\n",
    "<tr>\n",
    "    <td>⚠️</td>\n",
    "    <td>We <b>do not</b> need to scale the <i>(binary) dummy variables</i>.</i></td>\n",
    "</tr>\n",
    "</table><br/><br/>"
   ]
  },
  {
   "cell_type": "markdown",
   "id": "cloudy-japan",
   "metadata": {},
   "source": [
    "<table align=\"left\" class=\"dashed-box\">\n",
    "<tr>\n",
    "    <td>⚠️</td>\n",
    "    <td>As with all the transformations, it is important <i>to fit the scalers</i> to the <b>training data <i>only</i></b>, <b>not</b> to the <i>full dataset</i> (including the <i>test set</i>).</i></td>\n",
    "</tr>\n",
    "<tr>\n",
    "    <td></td>\n",
    "    <td>Only then can you use them to transform the training set and the test set (and new data) --> <b>no data snooping bias</b>.</td>\n",
    "</tr>\n",
    "</table><br/><br/>"
   ]
  },
  {
   "cell_type": "markdown",
   "id": "informative-alabama",
   "metadata": {},
   "source": [
    "Since most of our training features have many _outliers_, let's use the **RobustScaler**. <br/>\n",
    "https://scikit-learn.org/stable/modules/generated/sklearn.preprocessing.RobustScaler.html"
   ]
  },
  {
   "cell_type": "code",
   "execution_count": null,
   "id": "dated-million",
   "metadata": {},
   "outputs": [],
   "source": [
    "housing_train_pre.head()"
   ]
  },
  {
   "cell_type": "code",
   "execution_count": null,
   "id": "tired-destruction",
   "metadata": {},
   "outputs": [],
   "source": [
    "housing_train_pre.columns"
   ]
  },
  {
   "cell_type": "code",
   "execution_count": null,
   "id": "technological-amber",
   "metadata": {},
   "outputs": [],
   "source": [
    "numeric_variables = ['longitude', 'latitude', 'housing_median_age', 'total_rooms', 'total_bedrooms', 'population', 'households', 'median_income', 'rooms_per_household', 'bedrooms_per_room', 'population_per_household']\n",
    "dummy_variables = ['ocean_proximity_<1H OCEAN', 'ocean_proximity_INLAND', 'ocean_proximity_ISLAND', 'ocean_proximity_NEAR BAY', 'ocean_proximity_NEAR OCEAN']"
   ]
  },
  {
   "cell_type": "code",
   "execution_count": null,
   "id": "seasonal-retailer",
   "metadata": {},
   "outputs": [],
   "source": []
  },
  {
   "cell_type": "code",
   "execution_count": null,
   "id": "bridal-gothic",
   "metadata": {},
   "outputs": [],
   "source": []
  },
  {
   "cell_type": "code",
   "execution_count": null,
   "id": "stupid-champagne",
   "metadata": {},
   "outputs": [],
   "source": []
  },
  {
   "cell_type": "code",
   "execution_count": null,
   "id": "applicable-processing",
   "metadata": {},
   "outputs": [],
   "source": []
  },
  {
   "cell_type": "code",
   "execution_count": null,
   "id": "unusual-conviction",
   "metadata": {},
   "outputs": [],
   "source": []
  },
  {
   "cell_type": "code",
   "execution_count": null,
   "id": "aggressive-intermediate",
   "metadata": {},
   "outputs": [],
   "source": []
  },
  {
   "cell_type": "code",
   "execution_count": null,
   "id": "italian-material",
   "metadata": {},
   "outputs": [],
   "source": []
  },
  {
   "cell_type": "markdown",
   "id": "efficient-halifax",
   "metadata": {},
   "source": [
    "## 🏋️‍♀️ 6. Train ML Algorithms"
   ]
  },
  {
   "cell_type": "markdown",
   "id": "twenty-heavy",
   "metadata": {},
   "source": [
    "### 6.1. Getting the independent (features) and dependent variables (outcome)"
   ]
  },
  {
   "cell_type": "code",
   "execution_count": null,
   "id": "arbitrary-velvet",
   "metadata": {},
   "outputs": [],
   "source": [
    "# we already have X_train\n",
    "y_train = housing_train_target.values"
   ]
  },
  {
   "cell_type": "markdown",
   "id": "elect-channel",
   "metadata": {},
   "source": [
    "### 6.2. Training the Models"
   ]
  },
  {
   "cell_type": "markdown",
   "id": "insured-athletics",
   "metadata": {},
   "source": [
    "#### **→ Linear Regression**"
   ]
  },
  {
   "cell_type": "code",
   "execution_count": null,
   "id": "configured-lyric",
   "metadata": {},
   "outputs": [],
   "source": [
    "from sklearn.linear_model import LinearRegression\n",
    "\n",
    "lin_reg = LinearRegression()  # default parameters\n",
    "lin_reg.fit(X_train, y_train)"
   ]
  },
  {
   "cell_type": "markdown",
   "id": "unlike-aurora",
   "metadata": {},
   "source": [
    "#### **→ Decision Tree Regression**\n",
    "This is a powerful model, capable of finding complex nonlinear relationships in the data. <br/>\n",
    "https://scikit-learn.org/stable/modules/generated/sklearn.tree.DecisionTreeRegressor.html"
   ]
  },
  {
   "cell_type": "code",
   "execution_count": null,
   "id": "adaptive-kelly",
   "metadata": {},
   "outputs": [],
   "source": []
  },
  {
   "cell_type": "markdown",
   "id": "improved-croatia",
   "metadata": {},
   "source": [
    "### 6.3. Evaluating on the Training Set"
   ]
  },
  {
   "cell_type": "markdown",
   "id": "legal-smoke",
   "metadata": {},
   "source": [
    "#### **→ Linear Regression**"
   ]
  },
  {
   "cell_type": "markdown",
   "id": "backed-finance",
   "metadata": {},
   "source": [
    "##### **Prediction**"
   ]
  },
  {
   "cell_type": "code",
   "execution_count": null,
   "id": "falling-conservation",
   "metadata": {},
   "outputs": [],
   "source": [
    "y_train_pred_lin_reg = lin_reg.predict(X_train)"
   ]
  },
  {
   "cell_type": "markdown",
   "id": "political-gender",
   "metadata": {},
   "source": [
    "##### **Evaluation**"
   ]
  },
  {
   "cell_type": "code",
   "execution_count": null,
   "id": "realistic-priest",
   "metadata": {},
   "outputs": [],
   "source": [
    "from sklearn.metrics import r2_score\n",
    "\n",
    "lin_reg_r2 = r2_score(y_train, y_train_pred_lin_reg)\n",
    "print(f'R² linear regression = {lin_reg_r2}')"
   ]
  },
  {
   "cell_type": "code",
   "execution_count": null,
   "id": "controversial-fusion",
   "metadata": {},
   "outputs": [],
   "source": [
    "from sklearn.metrics import mean_squared_error\n",
    "\n",
    "lin_reg_rmse = mean_squared_error(y_train, y_train_pred_lin_reg, squared=False)\n",
    "print(f'RMSE = {lin_reg_rmse}')"
   ]
  },
  {
   "cell_type": "markdown",
   "id": "sophisticated-beach",
   "metadata": {},
   "source": [
    "The RMSE (\\\\$58,146) has slightly decreased compared to Sprint #2 (\\\\$58,689)."
   ]
  },
  {
   "cell_type": "markdown",
   "id": "cutting-ready",
   "metadata": {},
   "source": [
    "#### **Visual Analysis**"
   ]
  },
  {
   "cell_type": "code",
   "execution_count": null,
   "id": "hispanic-woman",
   "metadata": {},
   "outputs": [],
   "source": [
    "sns.scatterplot(x=y_train_pred_lin_reg, y=y_train)\n",
    "plt.xlabel('Prediction')\n",
    "plt.ylabel('Real')\n",
    "plt.title('Median housing value - Prediction vs Real - Linear Regression')"
   ]
  },
  {
   "cell_type": "code",
   "execution_count": null,
   "id": "optimum-leonard",
   "metadata": {},
   "outputs": [],
   "source": [
    "residual_lin_reg = y_train - y_train_pred_lin_reg\n",
    "\n",
    "sns.scatterplot(x=y_train_pred_lin_reg, y=residual_lin_reg)\n",
    "plt.xlabel('Prediction')\n",
    "plt.ylabel('Residual')\n",
    "plt.title('Median housing value - Prediction vs Residual - Linear Regression')"
   ]
  },
  {
   "cell_type": "markdown",
   "id": "physical-thumb",
   "metadata": {},
   "source": [
    "<br/><br/>\n",
    "\n",
    "#### **→ Decision Tree**"
   ]
  },
  {
   "cell_type": "markdown",
   "id": "quiet-prophet",
   "metadata": {},
   "source": [
    "##### **Prediction**"
   ]
  },
  {
   "cell_type": "code",
   "execution_count": null,
   "id": "catholic-equipment",
   "metadata": {},
   "outputs": [],
   "source": []
  },
  {
   "cell_type": "markdown",
   "id": "final-lebanon",
   "metadata": {},
   "source": [
    "##### **Evaluation**"
   ]
  },
  {
   "cell_type": "code",
   "execution_count": null,
   "id": "pharmaceutical-belief",
   "metadata": {},
   "outputs": [],
   "source": [
    "from sklearn.metrics import r2_score\n",
    "\n",
    "tree_reg_r2 = r2_score(y_train, y_train_pred_tree_reg)\n",
    "print(f'R² decision tree regression = {tree_reg_r2}')"
   ]
  },
  {
   "cell_type": "code",
   "execution_count": null,
   "id": "altered-bristol",
   "metadata": {},
   "outputs": [],
   "source": [
    "from sklearn.metrics import mean_squared_error\n",
    "\n",
    "tree_reg_rmse = mean_squared_error(y_train, y_train_pred_tree_reg, squared=False)\n",
    "print(f'RMSE = {tree_reg_rmse}')"
   ]
  },
  {
   "cell_type": "markdown",
   "id": "unavailable-hunter",
   "metadata": {},
   "source": [
    "Wait, what!? No error at all? Could this model really be absolutely perfect? <br/>\n",
    "Of course, it is much more likely that the model has badly <b>overfit</b> the data.\n",
    "\n",
    "We'd better evaluate it by using <b style=\"color: #ff5757 !important\">Cross-Validation</b>."
   ]
  },
  {
   "cell_type": "markdown",
   "id": "legislative-redhead",
   "metadata": {},
   "source": [
    "#### **Visual Analysis**"
   ]
  },
  {
   "cell_type": "code",
   "execution_count": null,
   "id": "featured-brooklyn",
   "metadata": {},
   "outputs": [],
   "source": [
    "sns.scatterplot(x=y_train_pred_tree_reg, y=y_train)\n",
    "plt.xlabel('Prediction')\n",
    "plt.ylabel('Real')\n",
    "plt.title('Median housing value - Prediction vs Real - Decision Tree Regression')"
   ]
  },
  {
   "cell_type": "code",
   "execution_count": null,
   "id": "encouraging-testimony",
   "metadata": {},
   "outputs": [],
   "source": [
    "residual_tree_reg = y_train - y_train_pred_tree_reg\n",
    "\n",
    "sns.scatterplot(x=y_train_pred_lin_reg, y=residual_tree_reg)\n",
    "plt.xlabel('Prediction')\n",
    "plt.ylabel('Residual')\n",
    "plt.title('Median housing value - Prediction vs Residual |')"
   ]
  },
  {
   "cell_type": "markdown",
   "id": "animated-clearance",
   "metadata": {},
   "source": [
    "<h3 style=\"color: #ff5757 !important\"><b>Cross-validation</b></h3>"
   ]
  },
  {
   "cell_type": "markdown",
   "id": "coastal-field",
   "metadata": {},
   "source": [
    "<table align=\"left\" class=\"dashed-box\">\n",
    "<tr>\n",
    "    <td><span class='alt-tab'>alt tab</span></td>\n",
    "    <td><b>Slides:</b> Model Validation</td>\n",
    "</tr>\n",
    "</table><br/><br/>"
   ]
  },
  {
   "cell_type": "markdown",
   "id": "virgin-alloy",
   "metadata": {},
   "source": [
    "`sklearn.model_selection.cross_val_score` <br/>\n",
    "https://scikit-learn.org/stable/modules/generated/sklearn.model_selection.cross_val_score.html"
   ]
  },
  {
   "cell_type": "markdown",
   "id": "intimate-metro",
   "metadata": {},
   "source": [
    "#### **→ Decision Tree**"
   ]
  },
  {
   "cell_type": "markdown",
   "id": "posted-gravity",
   "metadata": {},
   "source": [
    "The following code ***randomly splits*** (_no stratification_) the _training set_ into **10 folds**, then it trains and evaluates the Decision Tree model 10 times, picking a different fold (**validation set**) for evaluation every time and training on the other 9 folds (**train-dev set**). <br/>\n",
    "The result is an _array_ containing the 10 evaluation scores."
   ]
  },
  {
   "cell_type": "markdown",
   "id": "sporting-trail",
   "metadata": {},
   "source": [
    "<table align=\"left\" class=\"dashed-box\">\n",
    "<tr>\n",
    "    <td>⚠️</td>\n",
    "    <td>Scikit-Learn’s cross-validation features expect a <i>utility function</i> (<b>greater is better</b>) rather than a <i>cost function</i> (<i>lower is better</i>), so the <i>scoring function</i> is actually the <b>opposite of the MSE</b> (i.e., a negative value), which is why the preceding code computes <code>-scores</code> before calculating the square root.</td>\n",
    "</tr>\n",
    "</table><br/><br/>"
   ]
  },
  {
   "cell_type": "code",
   "execution_count": null,
   "id": "exceptional-naples",
   "metadata": {},
   "outputs": [],
   "source": []
  },
  {
   "cell_type": "code",
   "execution_count": null,
   "id": "abandoned-minutes",
   "metadata": {},
   "outputs": [],
   "source": [
    "# printing function\n",
    "def display_scores(scores):\n",
    "    print(\"Scores:\", scores)\n",
    "    print(\"Mean:\", scores.mean())\n",
    "    print(\"Standard deviation:\", scores.std())"
   ]
  },
  {
   "cell_type": "code",
   "execution_count": null,
   "id": "educated-fiber",
   "metadata": {},
   "outputs": [],
   "source": [
    "display_scores(tree_rmse_scores)"
   ]
  },
  {
   "cell_type": "markdown",
   "id": "innovative-consumption",
   "metadata": {},
   "source": [
    "Now the Decision Tree **doesn’t look as good as it did earlier**. In fact, it seems to perform **worse than the Linear Regression model**: mean cross-validation RMSE: \\\\$63,548 against \\\\$58,146 (linear regression).\n",
    "\n",
    "Notice that cross-validation allows you to get not only an estimate of the performance of your model, but also _a measure of_ **how precise this estimate is** (i.e., its **standard deviation**). <br/>\n",
    "The Decision Tree has a score of approximately \\\\$63,548, generally ± \\$2,497. <br/>\n",
    "We _would not_ have this information if we just used **one validation set (hold-out strategy)**.\n",
    "\n",
    "But cross-validation comes at the **cost of training the model several times**, so it is not always possible."
   ]
  },
  {
   "cell_type": "markdown",
   "id": "sensitive-heater",
   "metadata": {},
   "source": [
    "#### **→ Linear Regression**\n",
    "Let's do the same with Linear regression and compare it with Decision Tree."
   ]
  },
  {
   "cell_type": "code",
   "execution_count": null,
   "id": "black-structure",
   "metadata": {},
   "outputs": [],
   "source": []
  },
  {
   "cell_type": "code",
   "execution_count": null,
   "id": "southeast-difference",
   "metadata": {},
   "outputs": [],
   "source": [
    "display_scores(lin_rmse_scores)"
   ]
  },
  {
   "cell_type": "markdown",
   "id": "technical-density",
   "metadata": {},
   "source": [
    "<br/>\n",
    "\n",
    "That’s right: the Decision Tree model is **overfitting** so badly that it performs worse than the Linear Regression model:\n",
    "- **Linear Regression:** \\\\$58,371 ± \\$1,757\n",
    "- **Decision Tree:** \\\\$63,548 ± \\$2,497"
   ]
  },
  {
   "cell_type": "markdown",
   "id": "convenient-female",
   "metadata": {},
   "source": [
    "<table align=\"left\" class=\"dashed-box\">\n",
    "<tr>\n",
    "    <td>⚠️</td>\n",
    "    <td>Before using the <b>mean cross-validate score</b> to compare both method, we <b>MUST</b> guarantee that they are using <b><i>exactly</i> the same folds</b> during the cross-validation.</td>\n",
    "</tr>\n",
    "<tr>\n",
    "    <td></td>\n",
    "    <td>This is true for the example above. When passing <i>the same integer number</i> to the <code>cross_val_score</code> without proving a target array <code>y</code> with <b>label/class</b>, the function will use <code>KFold</code> for cross-validation.</td>\n",
    "<tr>\n",
    "    <td></td>\n",
    "    <td>Both executions of <code>KFold</code> generates the same folds.</td>\n",
    "</tr>\n",
    "</table><br/><br/>"
   ]
  },
  {
   "cell_type": "markdown",
   "id": "after-insulation",
   "metadata": {},
   "source": [
    "<table align=\"left\" class=\"dashed-box\">\n",
    "<tr>\n",
    "    <td>⚠️</td>\n",
    "    <td>Since we performed <b>stratified sampling</b> to build our training and testing set, it should be more indicated to consider the <b>Stratified k-Fold</b>.</td>\n",
    "</tr>\n",
    "<tr>\n",
    "    <td></td>\n",
    "    <td>However, as <code>cross_val_score</code> only consider <b>Stratified k-Fold</b> if the target target array <code>y</code> contains <b>labels/classes</b>, we should create our own cross-validation function capable of stratifying our training set by using a different variable from <code>y</code> --> <code>mean_income_group</code>.</td>\n",
    "</tr>\n",
    "</table><br/><br/>"
   ]
  },
  {
   "cell_type": "code",
   "execution_count": null,
   "id": "common-scroll",
   "metadata": {},
   "outputs": [],
   "source": []
  }
 ],
 "metadata": {
  "kernelspec": {
   "display_name": "Python 3",
   "language": "python",
   "name": "python3"
  },
  "language_info": {
   "codemirror_mode": {
    "name": "ipython",
    "version": 3
   },
   "file_extension": ".py",
   "mimetype": "text/x-python",
   "name": "python",
   "nbconvert_exporter": "python",
   "pygments_lexer": "ipython3",
   "version": "3.9.5"
  }
 },
 "nbformat": 4,
 "nbformat_minor": 5
}
