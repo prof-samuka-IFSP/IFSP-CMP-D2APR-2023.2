{
 "cells": [
  {
   "cell_type": "markdown",
   "id": "proof-garlic",
   "metadata": {},
   "source": [
    "### **D2APR: Aprendizado de Máquina e Reconhecimento de Padrões** (IFSP, Campinas) <br/>\n",
    "**Prof**: Samuel Martins (Samuka) <br/>\n",
    "\n",
    "<a rel=\"license\" href=\"http://creativecommons.org/licenses/by-nc-sa/4.0/\"><img alt=\"Creative Commons License\" style=\"border-width:0\" src=\"https://i.creativecommons.org/l/by-nc-sa/4.0/88x31.png\" /></a><br />This work is licensed under a <a rel=\"license\" href=\"http://creativecommons.org/licenses/by-nc-sa/4.0/\">Creative Commons Attribution-NonCommercial-ShareAlike 4.0 International License</a>. <br/><br/>"
   ]
  },
  {
   "cell_type": "markdown",
   "id": "israeli-cursor",
   "metadata": {},
   "source": [
    "#### Custom CSS style"
   ]
  },
  {
   "cell_type": "code",
   "execution_count": null,
   "id": "alive-nepal",
   "metadata": {
    "tags": []
   },
   "outputs": [],
   "source": [
    "%%html\n",
    "<style>\n",
    ".dashed-box {\n",
    "    border: 1px dashed black !important;\n",
    "#    font-size: var(--jp-content-font-size1) !important;\n",
    "}\n",
    "\n",
    ".dashed-box table {\n",
    "\n",
    "}\n",
    "\n",
    ".dashed-box tr {\n",
    "    background-color: white !important;\n",
    "}\n",
    "        \n",
    ".alt-tab {\n",
    "    background-color: black;\n",
    "    color: #ffc351;\n",
    "    padding: 4px;\n",
    "    font-size: 1em;\n",
    "    font-weight: bold;\n",
    "    font-family: monospace;\n",
    "}\n",
    "// add your CSS styling here\n",
    "</style>"
   ]
  },
  {
   "cell_type": "markdown",
   "id": "persistent-instrument",
   "metadata": {},
   "source": [
    "<span style='font-size: 2.5em'><b>Cardiovascular Disease 💔</b></span><br/>\n",
    "<span style='font-size: 1.5em'>Predict cardiovascular diseases</span>\n",
    "\n",
    "<span style=\"background-color: #ffc351; padding: 4px; font-size: 1em;\"><b>Sprint #1</b></span>\n",
    "\n",
    "<img src=\"./imgs/cardio.png\" width=300/>\n",
    "\n",
    "---\n",
    "\n"
   ]
  },
  {
   "cell_type": "markdown",
   "id": "analyzed-noise",
   "metadata": {},
   "source": [
    "## Before starting this notebook\n",
    "This jupyter notebook is designed for **experimental and teaching purposes**. <br/>\n",
    "Although it is (relatively) well organized, it aims at solving the _target problem_ by evaluating (and documenting) _different solutions_ for somes steps of the **machine learning pipeline** — see the [***Machine Learning Project Checklist by xavecoding***](https://github.com/xavecoding/IFSP-CMP-D2APR-2021.2/blob/main/cheat-sheets/machine-learning-project-checklist_by_xavecoding.pdf). <br/>\n",
    "We tried to make this notebook as literally a _notebook_. Thus, it contains notes, drafts, comments, etc.<br/>\n",
    "\n",
    "For teaching purposes, some parts of the notebook may be _overcommented_. Moreover, to simulate a real development scenario, we will divide our solution and experiments into **\"sprints\"** in which each sprint has some goals (e.g., perform _feature selection_, train more ML models, ...). <br/>\n",
    "The **sprint goal** will be stated at the beginning of the notebook.\n",
    "\n",
    "A ***final notebook*** (or any other kind of presentation) that compiles and summarizes all sprints — the target problem, solutions, and findings — should be created later.\n",
    "\n",
    "#### Conventions\n",
    "\n",
    "<ul>\n",
    "    <li>💡 indicates a tip. </li>\n",
    "    <li> ⚠️ indicates a warning message. </li>\n",
    "    <li><span class='alt-tab'>alt tab</span> indicates and an extra content (<i>e.g.</i>, slides) to explain a given concept.</li>\n",
    "</ul>\n",
    "\n",
    "---"
   ]
  },
  {
   "cell_type": "markdown",
   "id": "liquid-craps",
   "metadata": {},
   "source": [
    "## 🎯 Sprint Goals\n",
    "- Frame the problem\n",
    "- Get the data\n",
    "- Data cleaning\n",
    "---"
   ]
  },
  {
   "cell_type": "markdown",
   "id": "interim-thesaurus",
   "metadata": {},
   "source": [
    "### 0. Imports and default settings for plotting"
   ]
  },
  {
   "cell_type": "code",
   "execution_count": null,
   "id": "expired-cooling",
   "metadata": {},
   "outputs": [],
   "source": [
    "import numpy as np\n",
    "import pandas as pd\n",
    "import matplotlib.pyplot as plt\n",
    "import seaborn as sns\n",
    "\n",
    "sns.set_theme(style=\"whitegrid\")\n",
    "\n",
    "params = {'legend.fontsize': 'x-large',\n",
    "          'figure.figsize': (15, 5),\n",
    "         'axes.labelsize': 'x-large',\n",
    "         'axes.titlesize':'x-large',\n",
    "         'xtick.labelsize':'x-large',\n",
    "         'ytick.labelsize':'x-large'}\n",
    "plt.rcParams.update(params)"
   ]
  },
  {
   "cell_type": "markdown",
   "id": "executed-frame",
   "metadata": {},
   "source": [
    "## 🔲 1. Frame the Problem\n",
    "\n",
    "### 📄 1.1. Context\n",
    "    \n",
    "**Cardiovascular disease (CVD)** is the number one cause of death worldwide [1]. CVDs can refer to some conditions [2]:\n",
    "\n",
    "#### **1. Heart disease**\n",
    "Heart and blood vessel disease (also called heart disease) includes numerous problems, for example, a disorder of the blood vessels supplying the heart muscle.\n",
    "when the inner walls of arteries become narrower due\n",
    "to a buildup of plaque (usually caused by a diet high\n",
    "in fat, cigarette smoking, diabetes or hypertension). \n",
    "\n",
    "#### **2. Heart attack**\n",
    "It occurs when the blood flow to a part of the heart is blocked by a blood clot. If this clot cuts off the blood flow completely, the part of the heart muscle supplied by that artery begins to die.\n",
    "\n",
    "#### **3. Stroke**\n",
    "An _ischemic stroke_ (the most common type of stroke) occurs when a blood vessel that feeds the brain gets blocked, usually from a blood clot.<br/>\n",
    "A _hemorrhagic stroke_ occurs when a blood vessel within the brain bursts. This is most often caused by uncontrolled hypertension (**high blood pressure**).\n",
    "\n",
    "#### **4. Heart failure**\n",
    "The heart is not pumping blood as well as it should. It keeps working, but the body does not get all the blood and oxygen it needs.\n",
    "\n",
    "#### **5. Arrhythmia**\n",
    "Arrhythmia refers to an abnormal heart rhythm. There are various types of arrhythmias. The heart can beat too slow, too fast or irregularly.\n",
    "\n",
    "#### **6. Heart valve problems**\n",
    "When heart valves don’t open enough to allow the blood to flow through as it should, a condition called stenosis results. When the heart valves don’t close properly and thus allow blood to leak through, it’s called regurgitation. If the valve leaflets bulge or prolapse back into the upper chamber, it’s a condition called prolapse. <br/> <br/>\n",
    "\n",
    "According to the World Health Organization (WHO) [1, 3], CDVs are responsible for an estimated _17.9 million deaths in 2019_, representing 32% of all global deaths. Of these deaths, 85% were due to heart attack and stroke. Over three quarters of CVD deaths take place in low- and middle-income countries. Most cardiovascular diseases can be prevented by addressing behavioural risk factors such as **tobacco use**, **unhealthy diet** and **_obesity_**, **physical inactivity** and **harmful use of alcohol**.\n",
    "\n",
    "It is important **to detect cardiovascular** disease _as early as possible_ so that management with counselling and medicines can begin. <br/><br/>\n",
    "\n",
    "**References:** <br/>\n",
    "[1] World Health Organization, 2021 - https://www.who.int/news-room/fact-sheets/detail/cardiovascular-diseases-(cvds)#:~:text=Cardiovascular%20diseases%20(CVDs)%20are%20the,%2D%20and%20middle%2Dincome%20countries (accessed on 2021-10-12).<br/>\n",
    "[2] American Heart Association, 2021 - https://www.heart.org/en/health-topics/consumer-healthcare/what-is-cardiovascular-disease (accessed on 2021-10-12)<br/>\n",
    "[3] Kaptoge, Stephen, et al. \"World Health Organization cardiovascular disease risk charts: revised models to estimate risk in 21 global regions.\" The Lancet Global Health 7.10 (2019): e1332-e1345.\n"
   ]
  },
  {
   "cell_type": "markdown",
   "id": "proof-humanity",
   "metadata": {},
   "source": [
    "### 🧠 1.2. Challenge\n",
    "<table align=\"left\" class=\"dashed-box\">\n",
    "<tr>\n",
    "    <td>💡</td>\n",
    "    <td>An hypothetical business problem proposed by the blog: <a href=\"https://sejaumdatascientist.com/projeto-de-data-science-diagnostico-precoce-de-doencas-cardiovasculares\">Seja um Data Scientist</a>.</td>\n",
    "</tr>\n",
    "</table><br/><br/><br/>\n",
    "\n",
    "Cadio Catch Diseases is a company that specializes in **detecting early-stage heart disease**. Its business model relies on offering _early diagnosis of cardiovascular diseases_.\n",
    "\n",
    "#### **Baseline:**\n",
    "Currently, the provided diagnosis is made _manually_ by a team of specialists. Its current **accuracy** varies between **55% and 65%**, due to the complexity of the diagnosis and the fatigue of the physicians who take turns to minimize the risks. <br/>\n",
    "The **cost of each diagnosis**, including equipment and analysts' payroll, **is around R\\\\$ 1,000.00**.\n",
    "\n",
    "The cost that a patient pays for a diagnosis varies according to the accuracy achieved by the team of specialists according to the following rules:\n",
    "\n",
    "| Accuracy | Cost | Example |\n",
    "|----------|------|---------|\n",
    "| ≤ 50%    | R\\\\$ 0.00| -- |\n",
    "| > 50%    | R\\\\$ 500.00 <br/> for every 5% additional accuracy  | **Accuracy** = 65%, <br/>**Cost** = R\\\\$ 1,500.00 |\n",
    "\n",
    "The patient pays R\\\\$ 500.00 for each 5% accuracy above 50%. <br/>\n",
    "For example, the diagnosis costs R\\\\$ 500.00 for an **accuracy of 55%**, R\\\\$ 1000.00 for an **accuracy of 60%**  and so on. <br/>\n",
    "The patient _pays nothing_ for a diagnosis whose accuracy is _less than or equal to 50%_.\n",
    "\n",
    "<table align=\"left\" class=\"dashed-box\">\n",
    "<tr>\n",
    "    <td>💡</td>\n",
    "    <td>The <b>variation in accuracy</b> given by the current solution/baseline (physicians' diagnosis) make the company either have a <i>profitable operation</i> — revenue greater than the cost — or an <i>operation with a loss</i> — revenue less than the cost.</td>\n",
    "</tr>\n",
    "<tr>\n",
    "    <td></td>\n",
    "    <td>This <i>instability</i> during diagnosis hinders the company to have predict its cashflow.</td>\n",
    "</tr>\n",
    "</table><br/><br/><br/>"
   ]
  },
  {
   "cell_type": "markdown",
   "id": "organized-haiti",
   "metadata": {},
   "source": [
    "#### 🎯 **Objective:**\n",
    "**Build a machine learning solution to automatically predict cardiovascular diseases.** <br/>\n",
    "This solution provided _more accurated_ and _stable diagnoses_ than the current solution."
   ]
  },
  {
   "cell_type": "markdown",
   "id": "champion-president",
   "metadata": {},
   "source": [
    "#### **Solution Planning:**\n",
    "- **Classification problem**\n",
    "- Metrics:\n",
    "    - Accuracy\n",
    "    - Precision vs Recall\n",
    "    - Sensitivity vs Specificity\n",
    "    - ROC curve\n",
    "    - AUC\n",
    "    - F1 score\n",
    "- Data sources:\n",
    "    - [Cardiovascular Disease dataset](https://www.kaggle.com/sulianova/cardiovascular-disease-dataset)\n",
    "- No assumptions\n",
    "- Project deliverable:\n",
    "    - A simple exploratory data analysis\n",
    "    - **A ML system/model** launched in _production_ <br/><br/>"
   ]
  },
  {
   "cell_type": "markdown",
   "id": "wicked-wichita",
   "metadata": {},
   "source": [
    "## 💽 2. Get the Data\n",
    "We considered the [**Cardiovascular Disease dataset** from Kaggle.](https://www.kaggle.com/sulianova/cardiovascular-disease-dataset).\n",
    "\n",
    "This dataset does not have legal obligations and sensitive information."
   ]
  },
  {
   "cell_type": "markdown",
   "id": "finnish-energy",
   "metadata": {},
   "source": [
    "### 2.1. Download the Data\n",
    "We previously downloaded the dataset from [from Kaggle.](https://www.kaggle.com/sulianova/cardiovascular-disease-dataset) <br/>\n",
    "The dataset consists of a _single_ CSV file called _cardio\\_train.csv_. From this name, we suppose that there is a separated _testing set_ in somewhere to assess the final accuracies. However, we could not find it anywhere. "
   ]
  },
  {
   "cell_type": "markdown",
   "id": "champion-violence",
   "metadata": {},
   "source": [
    "### 2.2. Load the Data"
   ]
  },
  {
   "cell_type": "code",
   "execution_count": null,
   "id": "loved-luther",
   "metadata": {},
   "outputs": [],
   "source": [
    "import pandas as pd\n",
    "\n",
    "cardio = pd.read_csv('./datasets/cardio_train.csv', sep=';')"
   ]
  },
  {
   "cell_type": "code",
   "execution_count": null,
   "id": "agricultural-finance",
   "metadata": {},
   "outputs": [],
   "source": [
    "cardio.head()"
   ]
  },
  {
   "cell_type": "markdown",
   "id": "identical-interval",
   "metadata": {},
   "source": [
    "### 2.3. Take a quick look at the data structure\n",
    "Let's take a look at our data in order to support us during _data cleaning_. <br/>\n",
    "In this step, we are interested in _getting an overview about our data_ (e.g., how the features are distributed) as well as _finding inconsistencies_ in our data, such as outliers/noise."
   ]
  },
  {
   "cell_type": "code",
   "execution_count": null,
   "id": "streaming-newman",
   "metadata": {},
   "outputs": [],
   "source": [
    "cardio.info()"
   ]
  },
  {
   "cell_type": "markdown",
   "id": "expressed-insight",
   "metadata": {},
   "source": [
    "According to the dataset's website, it contains 3 types of input features:\n",
    "- **Objective:** factual information;\n",
    "- **Examination:** results of medical examination;\n",
    "- **Subjective:** information given by the patient.\n",
    "\n",
    "\n",
    "|Feature                                      |Type               |Feature Name|Data Type|\n",
    "|---------------------------------------------|-------------------|------------|------------------------------------------------|\n",
    "|Age                                          |Objective Feature  |age         |int (days)                                      |\n",
    "|Height                                       |Objective Feature  |height      |int (cm)                                        |\n",
    "|Weight                                       |Objective Feature  |weight      |float (kg)                                      |\n",
    "|Gender                                       |Objective Feature  |gender      |1 - women, 2 - men                              |\n",
    "|Systolic blood pressure                      |Examination Feature|ap_hi       |int                                             |\n",
    "|Diastolic blood pressure                     |Examination Feature|ap_lo       |int                                             |\n",
    "|Cholesterol                                  |Examination Feature|cholesterol |1: normal, 2: above normal, 3: well above normal|\n",
    "|Glucose                                      |Examination Feature|gluc        |1: normal, 2: above normal, 3: well above normal|\n",
    "|Smoking                                      |Subjective Feature |smoke       |binary                                          |\n",
    "|Alcohol intake                               |Subjective Feature |alco        |binary                                          |\n",
    "|Physical activity                            |Subjective Feature |active      |binary                                          |\n",
    "|Presence or absence of cardiovascular disease|Target Variable    |cardio      |binary                                          |\n",
    "\n",
    "For binary data:\n",
    "- 0: no\n",
    "- 1: yes\n",
    "\n",
    "The column _id_ is the patient's identifier number and does not contribute to our solution or analysis.\n",
    "\n",
    "All of the dataset values were collected at the moment of medical examination."
   ]
  },
  {
   "cell_type": "code",
   "execution_count": null,
   "id": "charming-charter",
   "metadata": {},
   "outputs": [],
   "source": [
    "# plot a histogram for each numeric attibute from the dataframe\n",
    "cardio.hist(bins=50, figsize=(20,15))\n",
    "display()  # just to avoid texts in the notebook output"
   ]
  },
  {
   "cell_type": "markdown",
   "id": "efficient-authorization",
   "metadata": {},
   "source": [
    "#### **Pandas Profiling**\n",
    "Generates profile reports from a pandas DataFrame.\n",
    "https://pandas-profiling.github.io/pandas-profiling/docs/master/rtd/\n",
    "\n",
    "**Installation** <br/>\n",
    "pip install pandas-profiling[notebook]"
   ]
  },
  {
   "cell_type": "code",
   "execution_count": null,
   "id": "skilled-referral",
   "metadata": {},
   "outputs": [],
   "source": []
  },
  {
   "cell_type": "code",
   "execution_count": null,
   "id": "prostate-roller",
   "metadata": {},
   "outputs": [],
   "source": []
  },
  {
   "cell_type": "markdown",
   "id": "disciplinary-evanescence",
   "metadata": {},
   "source": [
    "**Overview**\n",
    "- Number of variables: 13\n",
    "- Number of observations: 70000\n",
    "- Missing cells: 0\n",
    "- Duplicate rows: 0\n",
    "\n",
    "**Variable types**\n",
    "- Numeric: 6\n",
    "- Categorical: 7\n",
    "\n",
    "**Variables** <br/>\n",
    "- 🧹 `id` is useless for our analysis and ML solutions\n",
    "- `age` is expressed in **days**, so it is _hard_ to analyze it.\n",
    "    - 🥣 We should convert it to **years**\n",
    "    - The young people in our dataset is 10798 days old (29.58 years old)\n",
    "    - The oldest people in our dataset is 23713 days old (64.93 years old)\n",
    "- The _shortest 5 people_ is around 60 cm tall.\n",
    "    - 🧹 This seems to be **noise** since this is the close height of a newboarn.\n",
    "    - Or it is a cluster/group of [the smallest people (dwarfs) in the world](https://en.wikipedia.org/wiki/List_of_the_verified_shortest_people), which seems unlikely.\n",
    "- The _tallest person_ is 250 cm tall.\n",
    "    - 🧹 This seems to be **noise**, because it is close to the height of the tallest people in the world.\n",
    "    - Of course, we could have these people in our data. But since its probability is too low, we'd better consider him/her/them as outliers.\n",
    "- 🧹 The _thinnest person_ weighs 10 kg ==> the weight of a toddler (noise)\n",
    "- The _most obese person_ weighs 200 kg\n",
    "    - Although this weight is uncommon for most people (so, an _outlier_), it does not seem to be noise.\n",
    "    - It seems that indeed happens for the considered problem ==> so, let's keep it/them.\n",
    "- There are more men (65%) than women (35%)\n",
    "- 🔎 `genre` is highly correlated with `height` and `smoke`\n",
    "- 🔎🧹 The systolic blood pressure `ap_hi` have a _strange range_ with _suspicious extreme values_ (probably, noise)\n",
    "    - Negative and very high values\n",
    "- 🔎🧹 The same happens with the diastolic blood pressure `ap_lo`\n",
    "- 🔎 It is highly correlated with the diastolic blood pressure `ap_lo` \n",
    "- 🔎 `cholesterol` is categorical and most people/samples have a normal cholesterol (74.8%)\n",
    "- 🔎 `cholesterol` is highly correlated with `gluc` (glucose)\n",
    "- `gluc` is categorical and most people/samples have a normal cholesterol (85%)\n",
    "- Most people do not smoke (91.2%)\n",
    "- `smoke` is highly correlated with `gender` and `alco` (alcohol intake?)\n",
    "- Most people do not intake alcohol (94.6%)\n",
    "- Most people are physically active (80.4%)\n",
    "- The target classes `cardio` (has CVD or not) are balanced (~ 50%)\n",
    "    - So we do not have to deal with class imbalance here =D\n",
    "\n",
    "- The only variables somehow correlated with `cardio` are `age`, `weight`, and `cholesterol`.\n",
    "\n",
    "Note that _Smoking_, _Alcohol intake_, and _Physical activity_ are **subject**. <br/>\n",
    "For me, it is strange to have just a few people that intake alcohol, for example. <br/>\n",
    "But, that's the data we have. Just don't forget: \"Everybody lies\" (House, MD)\n",
    "\n"
   ]
  },
  {
   "cell_type": "code",
   "execution_count": null,
   "id": "diverse-vacuum",
   "metadata": {},
   "outputs": [],
   "source": []
  },
  {
   "cell_type": "markdown",
   "id": "aerial-absence",
   "metadata": {},
   "source": [
    "## 🧹 3. Data Cleaning"
   ]
  },
  {
   "cell_type": "markdown",
   "id": "artistic-tension",
   "metadata": {},
   "source": [
    "### 3.1. Missing values"
   ]
  },
  {
   "cell_type": "markdown",
   "id": "remarkable-freeware",
   "metadata": {},
   "source": [
    "We do not have missing values in our data."
   ]
  },
  {
   "cell_type": "markdown",
   "id": "animal-commission",
   "metadata": {},
   "source": [
    "### 3.3. Duplicated rows"
   ]
  },
  {
   "cell_type": "markdown",
   "id": "capable-disco",
   "metadata": {},
   "source": [
    "We do not have duplicated rows/samples in our data."
   ]
  },
  {
   "cell_type": "markdown",
   "id": "aquatic-maryland",
   "metadata": {},
   "source": [
    "### 3.3. Removing useless features/columns/variables\n",
    "⚠️ **Be careful** <br/>\n",
    "When _removing features/columns_ of our data, we are consider a **new standard input/format** for it. <br/>\n",
    "All our preprocessing, training, and models will consider this _new data format_. <br/>\n",
    "\n",
    "However, the **upcoming data in our _system in production_** keeps considering the **initial standard input/format**, i.e., that including the removed features/columns. <br/>\n",
    "In order for our model to work properly in _production_, we should include an additional step in our _preprocessing pipeline_ that **_filters or remove these columns_**. The simplest way is to inform the considered columns for the sklearn `ColumnTransformer` that will filter these columns during your pipeline."
   ]
  },
  {
   "cell_type": "code",
   "execution_count": null,
   "id": "massive-surgery",
   "metadata": {},
   "outputs": [],
   "source": []
  },
  {
   "cell_type": "code",
   "execution_count": null,
   "id": "serial-tumor",
   "metadata": {},
   "outputs": [],
   "source": [
    "cardio_clean.head()"
   ]
  },
  {
   "cell_type": "code",
   "execution_count": null,
   "id": "understanding-imagination",
   "metadata": {},
   "outputs": [],
   "source": [
    "cardio_clean.info()"
   ]
  },
  {
   "cell_type": "markdown",
   "id": "ethical-spectacular",
   "metadata": {},
   "source": [
    "### 3.4. Converting values/columns"
   ]
  },
  {
   "cell_type": "markdown",
   "id": "single-silicon",
   "metadata": {},
   "source": [
    "The column `age` is expressed in _days_ which hinders the analysis. We should convert it to _years_ to make our analysis and understanding about the data easier. <br/>\n",
    "However, we will create a **transformer** for that later. <br/>\n",
    "\n",
    "💡 What we could do is to create a _temporary column_ `age_years` with the age in years **during our _exploratory data analysis_** just to make this feature easier to interpret."
   ]
  },
  {
   "cell_type": "markdown",
   "id": "innovative-christianity",
   "metadata": {},
   "source": [
    "### 3.5. Removing outliers"
   ]
  },
  {
   "cell_type": "markdown",
   "id": "norwegian-average",
   "metadata": {},
   "source": [
    "#### **3.4.1. Height and Weight**"
   ]
  },
  {
   "cell_type": "code",
   "execution_count": null,
   "id": "congressional-chemical",
   "metadata": {},
   "outputs": [],
   "source": []
  },
  {
   "cell_type": "code",
   "execution_count": null,
   "id": "sized-partition",
   "metadata": {},
   "outputs": [],
   "source": [
    "# checking the relationship between age and height\n",
    "plt.figure(figsize=(10, 8))\n",
    "\n",
    "sns.scatterplot(data=cardio_clean, x='height', y='weight', hue='age_years', size='age_years', palette='rainbow', alpha=0.75)\n",
    "plt.yticks(np.arange(cardio_clean['weight'].min(), cardio_clean['weight'].max() + 0.1, 10))\n",
    "display()"
   ]
  },
  {
   "cell_type": "markdown",
   "id": "partial-hollywood",
   "metadata": {},
   "source": [
    "There are outliers in our data set:\n",
    "- Points up to 77 cm and 100 kg (this might be dwarfs)\n",
    "- Points up to 35 kg and heights ranging from 150 cm onwards\n",
    "- Points up to 125 cm and weights from 150 kg onwards\n",
    "- Point at 250 cm and ~90 kg"
   ]
  },
  {
   "cell_type": "markdown",
   "id": "informed-commissioner",
   "metadata": {},
   "source": [
    "By researching about [_dwarfism_](https://www.mayoclinic.org/diseases-conditions/dwarfism/symptoms-causes/syc-20371969#:~:text=Dwarfism%20is%20short%20stature%20that,4%20feet%20(122%20cm).), we can see that the average **adult height** among people with _dwarfism_ is 122 cm. <br/>\n",
    "[The smallest people (dwarfs) in the world](https://en.wikipedia.org/wiki/List_of_the_verified_shortest_people), like the ones in our data, which seems unlikely. <br/>\n",
    "\n",
    "Since our data has only **adults**, we decided to remove those with height less than 122 cm."
   ]
  },
  {
   "cell_type": "code",
   "execution_count": null,
   "id": "hawaiian-quest",
   "metadata": {},
   "outputs": [],
   "source": [
    "# removing outliers based on weight and height \n"
   ]
  },
  {
   "cell_type": "code",
   "execution_count": null,
   "id": "swiss-draft",
   "metadata": {},
   "outputs": [],
   "source": []
  },
  {
   "cell_type": "code",
   "execution_count": null,
   "id": "adopted-sword",
   "metadata": {},
   "outputs": [],
   "source": [
    "cardio_clean = cardio_clean[no_outlier_mask]"
   ]
  },
  {
   "cell_type": "code",
   "execution_count": null,
   "id": "sweet-contract",
   "metadata": {},
   "outputs": [],
   "source": [
    "cardio_clean.info()"
   ]
  },
  {
   "cell_type": "markdown",
   "id": "perfect-beginning",
   "metadata": {},
   "source": [
    "#### **3.4.2. Systolic (`ap_hi`) and Distolic Blood Pressure (`ap_lo`)**"
   ]
  },
  {
   "cell_type": "code",
   "execution_count": null,
   "id": "aerial-friday",
   "metadata": {},
   "outputs": [],
   "source": []
  },
  {
   "cell_type": "markdown",
   "id": "impossible-costs",
   "metadata": {},
   "source": [
    "<br/>\n",
    "\n",
    "As a first idea, we can use the **IQR method** for _outlier detection_."
   ]
  },
  {
   "cell_type": "code",
   "execution_count": null,
   "id": "weighted-analyst",
   "metadata": {},
   "outputs": [],
   "source": [
    "# systolic blood pressure (ap_hi)\n",
    "\n",
    "\n",
    "\n",
    "\n",
    "\n",
    "\n",
    "print(f'**** Systolic Blood Pressure (ap_hi) ****')\n",
    "print(f'Min: {cardio_clean[\"ap_hi\"].min()}')\n",
    "print(f'Max: {cardio_clean[\"ap_hi\"].max()}')\n",
    "print(f'IQR: {IQR_ap_hi}')\n",
    "print(f'Interval: [{lower_bound_ap_hi}, {upper_bound_ap_hi}]')"
   ]
  },
  {
   "cell_type": "code",
   "execution_count": null,
   "id": "limited-oakland",
   "metadata": {},
   "outputs": [],
   "source": [
    "# systolic blood pressure (ap_hi)\n",
    "\n",
    "\n",
    "\n",
    "\n",
    "\n",
    "print(f'**** Diastolic Blood Pressure (ap_lo) ****')\n",
    "print(f'Min: {cardio_clean[\"ap_lo\"].min()}')\n",
    "print(f'Max: {cardio_clean[\"ap_lo\"].max()}')\n",
    "print(f'IQR: {IQR_ap_lo}')\n",
    "print(f'Interval: [{lower_bound_ap_lo}, {upper_bound_ap_lo}]')"
   ]
  },
  {
   "cell_type": "markdown",
   "id": "foster-paintball",
   "metadata": {},
   "source": [
    "<br/>\n",
    "\n",
    "Any sample _out of these intervals_ is considered an _outlier_. <br/>\n",
    "\n",
    "Ok, but there is a **medical consensus about boundaries** for the _systolic and diastolic blood pressure_."
   ]
  },
  {
   "cell_type": "markdown",
   "id": "developmental-cruise",
   "metadata": {},
   "source": [
    "<img src=\"./imgs/blood_pressure_stages.png\" width=600/>\n",
    "\n",
    "https://morelifehealth.com/articles/blood-pressure"
   ]
  },
  {
   "cell_type": "markdown",
   "id": "vital-opinion",
   "metadata": {},
   "source": [
    "<img src=\"./imgs/hypotension.png\" width=400/>\n",
    "\n",
    "https://pharmeasy.in/blog/low-blood-pressure-precautions-and-ways-to-manage-it/"
   ]
  },
  {
   "cell_type": "markdown",
   "id": "mighty-theology",
   "metadata": {},
   "source": [
    "<br/>\n",
    "\n",
    "By analyzing these indicators and considering that CVDs are more associated with _high blood pressures_, let's consider the following **_intervals_ for _non-outlier_ systolic and diastolic blood pressures**. \n",
    "\n",
    "- **Systolic blood pressure (`ap_hi`)**: [90, 210]\n",
    "- **Diastolic blood pressure (`ap_lo`)**: [60, 150]"
   ]
  },
  {
   "cell_type": "code",
   "execution_count": null,
   "id": "composed-runner",
   "metadata": {},
   "outputs": [],
   "source": [
    "# systolic and diastolic outlier mask\n"
   ]
  },
  {
   "cell_type": "code",
   "execution_count": null,
   "id": "moved-guarantee",
   "metadata": {},
   "outputs": [],
   "source": [
    "cardio_clean = cardio_clean[no_outlier_mask]"
   ]
  },
  {
   "cell_type": "code",
   "execution_count": null,
   "id": "twenty-globe",
   "metadata": {},
   "outputs": [],
   "source": [
    "cardio_clean.info()"
   ]
  },
  {
   "cell_type": "code",
   "execution_count": null,
   "id": "extreme-draft",
   "metadata": {},
   "outputs": [],
   "source": [
    "fig, axes = plt.subplots(1, 3, figsize=(25, 6))\n",
    "\n",
    "sns.boxplot(data=cardio_clean, x='ap_hi', ax=axes[0])\n",
    "sns.boxplot(data=cardio_clean, x='ap_lo', ax=axes[1])\n",
    "sns.scatterplot(data=cardio_clean, x='ap_lo', y='ap_hi', alpha=0.75)"
   ]
  },
  {
   "cell_type": "code",
   "execution_count": null,
   "id": "narrative-cuisine",
   "metadata": {},
   "outputs": [],
   "source": [
    "removed_outlier_ratio = (1 - (cardio_clean.shape[0] / cardio.shape[0])) * 100\n",
    "\n",
    "print(f'Number of outliers removed from our data: {cardio.shape[0] - cardio_clean.shape[0]}')\n",
    "print(f'Ratio of removed outliers: {round(removed_outlier_ratio, 2)}%')"
   ]
  },
  {
   "cell_type": "markdown",
   "id": "induced-female",
   "metadata": {},
   "source": [
    "Therefore, we have removed _1600 outliers_, which corresponds to _2.29_% of our data. "
   ]
  },
  {
   "cell_type": "markdown",
   "id": "friendly-country",
   "metadata": {},
   "source": [
    "### 3.5. Create a Test Set"
   ]
  },
  {
   "cell_type": "code",
   "execution_count": null,
   "id": "comfortable-blackberry",
   "metadata": {},
   "outputs": [],
   "source": [
    "# stratified sampling\n"
   ]
  },
  {
   "cell_type": "code",
   "execution_count": null,
   "id": "tracked-animation",
   "metadata": {},
   "outputs": [],
   "source": [
    "print(f'**** Training set ****\\n')\n",
    "print(f'{cardio_train.info()}')\n",
    "print(f'{cardio_train.shape}')"
   ]
  },
  {
   "cell_type": "code",
   "execution_count": null,
   "id": "least-insider",
   "metadata": {},
   "outputs": [],
   "source": [
    "cardio_train.head()"
   ]
  },
  {
   "cell_type": "code",
   "execution_count": null,
   "id": "horizontal-result",
   "metadata": {},
   "outputs": [],
   "source": [
    "print(f'**** Testing set ****\\n')\n",
    "print(f'{cardio_test.info()}')\n",
    "print(f'{cardio_test.shape}')"
   ]
  },
  {
   "cell_type": "code",
   "execution_count": null,
   "id": "romance-boost",
   "metadata": {},
   "outputs": [],
   "source": [
    "cardio_test.head()"
   ]
  },
  {
   "cell_type": "markdown",
   "id": "aging-helena",
   "metadata": {},
   "source": [
    "#### **Saving the datasets**"
   ]
  },
  {
   "cell_type": "code",
   "execution_count": null,
   "id": "unknown-regular",
   "metadata": {},
   "outputs": [],
   "source": [
    "# if you want to keep the reference for the row indices from the original dataset, remove the index=False\n",
    "cardio_train.to_csv('./datasets/cardio_clean_train.csv', index=False)\n",
    "cardio_test.to_csv('./datasets/cardio_clean_test.csv', index=False)"
   ]
  },
  {
   "cell_type": "markdown",
   "id": "assumed-preliminary",
   "metadata": {},
   "source": [
    "## 📊 4. Explore the Data\n",
    "Our simple data exploration in Section 2.3. gave us some insights to explore our data. <br/>\n",
    "Let's explore it deeper."
   ]
  },
  {
   "cell_type": "markdown",
   "id": "meaningful-strip",
   "metadata": {},
   "source": [
    "## 4.1. Correlation"
   ]
  },
  {
   "cell_type": "markdown",
   "id": "inappropriate-handbook",
   "metadata": {},
   "source": []
  },
  {
   "cell_type": "code",
   "execution_count": null,
   "id": "personal-garden",
   "metadata": {},
   "outputs": [],
   "source": [
    "cardio_train.columns"
   ]
  },
  {
   "cell_type": "code",
   "execution_count": null,
   "id": "rising-triple",
   "metadata": {},
   "outputs": [],
   "source": [
    "sns.pairplot(data=cardio_train, hue='cardio')"
   ]
  },
  {
   "cell_type": "markdown",
   "id": "dental-smooth",
   "metadata": {},
   "source": [
    "<br/>\n",
    "\n",
    "Just looking at the correlation between pair of features colored by the target classes, we can see that the combination of a given **blood pressure feature** (`ap_hi` or `ap_lo`) with another feature (e.g., `gender`, `weight`, `active`) give us, apparently, a **certain separability** between the classes.\n",
    "\n",
    "E.g., see the plot of `ap_lo` vs `active`."
   ]
  },
  {
   "cell_type": "code",
   "execution_count": null,
   "id": "sublime-climate",
   "metadata": {},
   "outputs": [],
   "source": [
    "# ap_lo vs active\n",
    "sns.scatterplot(data=cardio_train, x='ap_lo', y='active', hue='cardio', alpha=0.75)"
   ]
  },
  {
   "cell_type": "code",
   "execution_count": null,
   "id": "guilty-distinction",
   "metadata": {},
   "outputs": [],
   "source": [
    "# ap_hi vs ap_lo\n",
    "sns.scatterplot(data=cardio_train, x='ap_hi', y='ap_lo', hue='cardio', alpha=0.75)"
   ]
  },
  {
   "cell_type": "markdown",
   "id": "communist-doctrine",
   "metadata": {},
   "source": [
    "### Exercise"
   ]
  },
  {
   "cell_type": "markdown",
   "id": "continued-colleague",
   "metadata": {},
   "source": [
    "Formulate a list of hypothesis and perform an Exploratory Data Analysis (EDA) <br/>\n",
    "As inspiration, we refer to this [EDA performed on the same dataset](https://garagemdosdados.com.br/?p=191)."
   ]
  },
  {
   "cell_type": "code",
   "execution_count": null,
   "id": "lesbian-complex",
   "metadata": {},
   "outputs": [],
   "source": []
  }
 ],
 "metadata": {
  "kernelspec": {
   "display_name": "Python 3",
   "language": "python",
   "name": "python3"
  },
  "language_info": {
   "codemirror_mode": {
    "name": "ipython",
    "version": 3
   },
   "file_extension": ".py",
   "mimetype": "text/x-python",
   "name": "python",
   "nbconvert_exporter": "python",
   "pygments_lexer": "ipython3",
   "version": "3.9.5"
  }
 },
 "nbformat": 4,
 "nbformat_minor": 5
}
